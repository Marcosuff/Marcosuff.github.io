{
  "nbformat": 4,
  "nbformat_minor": 0,
  "metadata": {
    "colab": {
      "name": "LSTM-generative.ipynb",
      "provenance": [],
      "collapsed_sections": [
        "IkNDIpHVYFOi",
        "ONGkoRN-Dr5p",
        "b5Ww4v0CGwIb",
        "4Ig71a7qfGNt",
        "IzaTgKtMDkUZ",
        "WW10Htj6Ol90"
      ],
      "toc_visible": true,
      "authorship_tag": "ABX9TyNmIDBOq9kfkfHlDGt/UcWF",
      "include_colab_link": true
    },
    "kernelspec": {
      "name": "python3",
      "display_name": "Python 3"
    }
  },
  "cells": [
    {
      "cell_type": "markdown",
      "metadata": {
        "id": "view-in-github",
        "colab_type": "text"
      },
      "source": [
        "<a href=\"https://colab.research.google.com/github/Marcosuff/Marcosuff.github.io/blob/master/papers/generative_covid/nb/LSTM_generative.ipynb\" target=\"_parent\"><img src=\"https://colab.research.google.com/assets/colab-badge.svg\" alt=\"Open In Colab\"/></a>"
      ]
    },
    {
      "cell_type": "markdown",
      "metadata": {
        "id": "htG-tDU-uP-X",
        "colab_type": "text"
      },
      "source": [
        "# **Import modules**"
      ]
    },
    {
      "cell_type": "code",
      "metadata": {
        "id": "4Yx9UeY5tiRF",
        "colab_type": "code",
        "cellView": "both",
        "colab": {
          "base_uri": "https://localhost:8080/",
          "height": 72
        },
        "outputId": "f7e35892-16b6-41c5-ef08-a55393c4abe0"
      },
      "source": [
        "%reload_ext autoreload\n",
        "%autoreload 2\n",
        "%matplotlib inline\n",
        "import time\n",
        "import pandas as pd\n",
        "import sys\n",
        "import seaborn as sns\n",
        "import matplotlib.pyplot as plt\n",
        "\n",
        "import umap\n",
        "from torch.utils.data import WeightedRandomSampler\n",
        "import random\n",
        "import numpy as np\n",
        "from google.colab import drive\n",
        "\n",
        "from fastai.callbacks import *\n",
        "from fastai.text import *\n",
        "from fastai.metrics import *\n",
        "\n",
        "from sklearn.model_selection import StratifiedShuffleSplit,train_test_split\n",
        "from sklearn.metrics import roc_auc_score, recall_score, precision_score,balanced_accuracy_score,average_precision_score,confusion_matrix,plot_confusion_matrix, plot_precision_recall_curve,recall_score, precision_score, matthews_corrcoef, make_scorer, precision_recall_curve"
      ],
      "execution_count": null,
      "outputs": [
        {
          "output_type": "stream",
          "text": [
            "/usr/local/lib/python3.6/dist-packages/statsmodels/tools/_testing.py:19: FutureWarning: pandas.util.testing is deprecated. Use the functions in the public API at pandas.testing instead.\n",
            "  import pandas.util.testing as tm\n"
          ],
          "name": "stderr"
        }
      ]
    },
    {
      "cell_type": "code",
      "metadata": {
        "id": "pseoEc5tujcb",
        "colab_type": "code",
        "cellView": "both",
        "colab": {}
      },
      "source": [
        "from rdkit import Chem\n",
        "from rdkit import rdBase\n",
        "from rdkit.Chem import Draw, AllChem\n",
        "from IPython.display import display,Image, SVG\n",
        "from rdkit.Chem import rdmolops\n",
        "rdBase.DisableLog('rdApp.error')"
      ],
      "execution_count": null,
      "outputs": []
    },
    {
      "cell_type": "markdown",
      "metadata": {
        "id": "ONGkoRN-Dr5p",
        "colab_type": "text"
      },
      "source": [
        "# **Define paths**"
      ]
    },
    {
      "cell_type": "code",
      "metadata": {
        "id": "Yw5747bY-pXY",
        "colab_type": "code",
        "colab": {}
      },
      "source": [
        "COV = Path('/content/generative_model')\n",
        "COV.mkdir(parents=True, exist_ok=True)"
      ],
      "execution_count": null,
      "outputs": []
    },
    {
      "cell_type": "code",
      "metadata": {
        "id": "AKOkvGr6MlV3",
        "colab_type": "code",
        "colab": {}
      },
      "source": [
        "COVCLS = Path('/content/classifier/')\n",
        "COVCLS.mkdir(parents=True, exist_ok=True)"
      ],
      "execution_count": null,
      "outputs": []
    },
    {
      "cell_type": "markdown",
      "metadata": {
        "id": "b5Ww4v0CGwIb",
        "colab_type": "text"
      },
      "source": [
        "# **Helper functions**"
      ]
    },
    {
      "cell_type": "markdown",
      "metadata": {
        "id": "0FdVxLa8l21m",
        "colab_type": "text"
      },
      "source": [
        "**Sampling callback**"
      ]
    },
    {
      "cell_type": "code",
      "metadata": {
        "id": "wKrIPN5ovv7y",
        "colab_type": "code",
        "colab": {}
      },
      "source": [
        "def is_valid(smiles):\n",
        "  mol = Chem.MolFromSmiles(smiles)\n",
        "  if mol is not None and mol.GetNumAtoms()>0:\n",
        "    return smiles\n",
        "\n",
        "def uniqueness_score(mols): return set(mols)\n",
        "\n",
        "def novelty_score(mols,ref_mols): return set.difference(mols,ref_mols)\n",
        "\n",
        "class SamplingCB(LearnerCallback):\n",
        "\n",
        "  '''Sampling callback to generate molecules at the end of each training epoch and compute validity,\n",
        "  novelty and uniqueness.\n",
        "  learn: Learner\n",
        "\n",
        "  source_mols: List -> Reference molecules to compute dataset. \n",
        "\n",
        "  objective_mols: List -> If finetuning is True, the objective is the dataset we are finetuning to.\n",
        "\n",
        "  num_samples: Int -> Number of molecules to generate\n",
        "  '''\n",
        "  _order=-20 # Needs to run before the recorder\n",
        "  def __init__(self,learn:Learner,objective_mols:Collection=None,num_samples:int=100):\n",
        "    super().__init__(learn)\n",
        "    self.num_samples= num_samples\n",
        "    self.max_size = 120\n",
        "    self.temperature = 0.7\n",
        "    self.objective_mols = objective_mols\n",
        "\n",
        "  def on_train_begin(self,**kwargs):\n",
        "    self.ref_model = load_ref_model()\n",
        "    self.learn.recorder.add_metric_names(['Valid', 'Unique', 'Novel'])\n",
        "\n",
        "  def on_epoch_being(self,**kwargs):\n",
        "    self.objective_mols = random.sample(objective_mols,self.num_samples)\n",
        "\n",
        "  def sampling(self,text:str='', sep:str=''):\n",
        "    \"Vanilla sampling. Return `text` and the `n_words` that come after\"\n",
        "    m = self.learn\n",
        "    m.model.reset()\n",
        "    v = self.learn.data.train_ds.vocab\n",
        "    v_sz = len(v.itos)\n",
        "   # print(v.itos[v_sz-1])\n",
        "    xb,yb = self.learn.data.one_item(text)\n",
        "    new_idx = []\n",
        "    for _ in range(self.max_size):\n",
        "      res = m.pred_batch(batch=(xb,yb))[0][-1]\n",
        "      if self.temperature != 1.: \n",
        "        res.pow_(1 / self.temperature)\n",
        "      idx = torch.multinomial(res, 1).item()\n",
        "      if idx != v_sz-1:              \n",
        "        new_idx.append(idx)\n",
        "        xb = xb.new_tensor([idx])[None]\n",
        "      else:\n",
        "        break\n",
        "    return text + sep + sep.join(v.textify(new_idx, sep=None))\n",
        "\n",
        "  def on_epoch_end(self, last_metrics, **kwargs):\n",
        "    print('Sampling...')\n",
        "    p = [self.sampling().replace('xxbos','').replace('xxeos','').replace('xxunk','').replace('xxpad','') for i in range(0,self.num_samples)]\n",
        "    print('Sample of generated SMILES')\n",
        "    print(p[:5])\n",
        "\n",
        "    val = list(filter(is_valid,p)) # Validity\n",
        "    print(val[0:5])\n",
        "    uniq = uniqueness_score(val) # Uniqueness\n",
        "    novel = novelty_score(uniq, self.objective_mols) # Novelty\n",
        "\n",
        "    return add_metrics(last_metrics, [len(val)/self.num_samples, len(uniq)/self.num_samples, len(novel)/self.num_samples])\n"
      ],
      "execution_count": null,
      "outputs": []
    },
    {
      "cell_type": "markdown",
      "metadata": {
        "id": "4WWm07t-7c0e",
        "colab_type": "text"
      },
      "source": [
        "**Precision-recall curve metric**"
      ]
    },
    {
      "cell_type": "code",
      "metadata": {
        "id": "p8xdlBVDFoRA",
        "colab_type": "code",
        "cellView": "both",
        "colab": {}
      },
      "source": [
        "class AUCPR(Callback):\n",
        "    \"Computes the area under the curve (AUC) score based on Precision-Recall curve.\"\n",
        "    def on_epoch_begin(self, **kwargs):\n",
        "        self.targs, self.preds = LongTensor([]), Tensor([])\n",
        "        \n",
        "    def on_batch_end(self, last_output:Tensor, last_target:Tensor, **kwargs):\n",
        "        last_output = F.softmax(last_output, dim=1)[:,0]\n",
        "        self.preds = torch.cat((self.preds, last_output.cpu()))\n",
        "        #print(self.preds[:10])\n",
        "        self.targs = torch.cat((self.targs, last_target.cpu().long()))\n",
        "    \n",
        "    def on_epoch_end(self, last_metrics, **kwargs):\n",
        "        return add_metrics(last_metrics, average_precision_score(self.targs,self.preds,pos_label=0))\n",
        "        \n",
        "def is_valid(smiles):\n",
        "  mol = Chem.MolFromSmiles(smiles)\n",
        "  if mol is not None and mol.GetNumAtoms()>0:\n",
        "    return smiles\n",
        "\n",
        "def uniqueness_score(mols): return set(mols)\n",
        "\n",
        "def novelty_score(mols,ref_mols): return set.difference(mols,ref_mols)\n",
        "\n",
        "def sampling(model,dt,text:str, n_words:int, temperature:float=1., sep:str=' '):\n",
        "  \"Vanilla sampling. Return `text` and the `n_words` that come after\"\n",
        "  model.model.reset()\n",
        "  v = dt.vocab\n",
        "  \n",
        "  xb,yb = dt.one_item(text)\n",
        "  new_idx = []\n",
        "  for _ in range(n_words):\n",
        "    res = model.pred_batch(batch=(xb,yb))[0][-1]\n",
        "\n",
        "    if temperature != 1.: \n",
        "      res.pow_(1 / temperature)\n",
        "    idx = torch.multinomial(res, 1).item()\n",
        "    if idx != len(v.itos)-1:              \n",
        "      new_idx.append(idx)\n",
        "      xb = xb.new_tensor([idx])[None]\n",
        "    else:\n",
        "      break\n",
        "  return text + sep + sep.join(v.textify(new_idx, sep=None))\n",
        "sampling_temperatures = [0.2,0.5,0.6,0.7,0.75,0.8,1.0,1.2]\n",
        "def validation(model,dt,sampling_temperatures,iterations,samples,ref,maxsize=140):\n",
        "  \n",
        "  '''Vanilla sampling and validation function'''\n",
        "  _validity = np.zeros((iterations,len(sampling_temperatures)))\n",
        "  _novelty = np.zeros((iterations,len(sampling_temperatures)))\n",
        "  _uniqueness = np.zeros((iterations,len(sampling_temperatures)))\n",
        "\n",
        "  for j in range(len(sampling_temperatures)):\n",
        "    temp = sampling_temperatures[j]\n",
        "    print('Temperatures = {}'.format(temp))\n",
        "    for i in range(iterations):\n",
        "      print('Starting iteration {}'.format(i))\n",
        "      p = [sampling(model,dt,text='',n_words=maxsize,sep='',temperature=temp).replace(PAD,'').replace(BOS,'').replace(EOS,'').replace(UNK,'') for i in range(0,samples)]\n",
        "      mols = list(filter(is_valid,p)) # Valid\n",
        "      unq_mols = uniqueness_score(mols) # Uniqueness # Unique\n",
        "      novel_mols = novelty_score(unq_mols, ref) # Novel\n",
        "\n",
        "      _novelty[i,j] = len(novel_mols)/samples*100\n",
        "      _uniqueness[i,j] = len(unq_mols)/samples*100\n",
        "      _validity[i,j] = len(mols)/samples*100\n",
        "\n",
        "      print('Iteration {} ended'.format(i))\n",
        "    print('----------------------------------')\n",
        "  return _validity, _novelty, _uniqueness"
      ],
      "execution_count": null,
      "outputs": []
    },
    {
      "cell_type": "markdown",
      "metadata": {
        "id": "CIsdNoMr7XZU",
        "colab_type": "text"
      },
      "source": [
        "**Tokenizer**"
      ]
    },
    {
      "cell_type": "code",
      "metadata": {
        "id": "a2qXSBgp7WBf",
        "colab_type": "code",
        "cellView": "form",
        "colab": {}
      },
      "source": [
        "#@title\n",
        "class MolTokenizer(BaseTokenizer):\n",
        "  ''' Atom-level tokenizer. Splits molecules into individual atoms and special enviroments.\n",
        "  A special enviroment is defined by any elements inside square brackets (e.g., [nH])\n",
        "  '''\n",
        "  def __init__(self, lang:str):\n",
        "    pass\n",
        "  def tokenizer(self,t:str) -> List[str]:\n",
        "    assert type(t) == str\n",
        "    pat = '(\\[.*?\\])' # Find special enviroments (e.g., [CH],[NH] etc)\n",
        "    tokens = []\n",
        "    t = t.replace('Br','L').replace('Cl','X') # Replace halogens\n",
        "    atom_list = re.split(pat,t)\n",
        "    for s in atom_list:\n",
        "      if s.startswith('['):\n",
        "        tokens.append(s)\n",
        "      else:\n",
        "        tokens += [x for x in list(s)]\n",
        "    tokens = [x.replace('L','Br').replace('X','Cl') for x in tokens] # Decode halogens\n",
        "    return [BOS] + tokens + [EOS]# + [PAD for i in range(133-len(tokens))]\n",
        "\n",
        "class Create_Vocab(object):\n",
        "  '''Tokenize and create vocabulary of atoms in SMILES strings'''\n",
        "  def __init__(self,smiles):\n",
        "    self.smiles = smiles\n",
        "\n",
        "  def tokenize(self):\n",
        "    k = MolTokenizer\n",
        "    tok = Tokenizer(k,pre_rules=[],post_rules=[])\n",
        "    tokens = tok.process_all(self.smiles)\n",
        "\n",
        "    unique_tokens = [UNK, PAD] + sorted(list({y for x in tokens for y in x}))\n",
        "    vocab = Vocab(itos=unique_tokens)\n",
        "    \n",
        "    return unique_tokens, vocab\n",
        "\n"
      ],
      "execution_count": null,
      "outputs": []
    },
    {
      "cell_type": "markdown",
      "metadata": {
        "id": "4Ig71a7qfGNt",
        "colab_type": "text"
      },
      "source": [
        "# **Load data**"
      ]
    },
    {
      "cell_type": "code",
      "metadata": {
        "id": "iOiFBew27mWM",
        "colab_type": "code",
        "colab": {}
      },
      "source": [
        "config_cls = {'bidir': False,\n",
        " 'emb_sz': 400,\n",
        " 'embed_p': 0.02,\n",
        " 'hidden_p': 0.15,\n",
        " 'input_p': 0.25,\n",
        " 'n_hid': 512,\n",
        " 'n_layers': 3,\n",
        " 'output_p': 0.1,\n",
        " 'pad_token': 1,\n",
        " 'qrnn': False,\n",
        " 'weight_p': 0.2}\n"
      ],
      "execution_count": null,
      "outputs": []
    },
    {
      "cell_type": "code",
      "metadata": {
        "id": "SLDM35Bi6uvv",
        "colab_type": "code",
        "colab": {}
      },
      "source": [
        "chembl = pd.read_csv('drive/My Drive/Generative/data/ChEMBL_v1.csv')"
      ],
      "execution_count": null,
      "outputs": []
    },
    {
      "cell_type": "markdown",
      "metadata": {
        "id": "IzaTgKtMDkUZ",
        "colab_type": "text"
      },
      "source": [
        "# **Encoder**"
      ]
    },
    {
      "cell_type": "code",
      "metadata": {
        "id": "Jxg5y7E9EQkF",
        "colab_type": "code",
        "colab": {}
      },
      "source": [
        "pp = Create_Vocab(list(chembl.Smiles))\n",
        "unique_tokens,vocab = pp.tokenize()"
      ],
      "execution_count": null,
      "outputs": []
    },
    {
      "cell_type": "code",
      "metadata": {
        "id": "cJMWYwBfEZd0",
        "colab_type": "code",
        "colab": {
          "base_uri": "https://localhost:8080/",
          "height": 16
        },
        "outputId": "8e5e290a-f410-4ea6-a7b3-4c6c6dd7cc41"
      },
      "source": [
        "tokenizer = Tokenizer(MolTokenizer,pre_rules=[],post_rules=[],special_cases=[PAD,BOS,EOS,UNK])\n",
        "processors = [TokenizeProcessor(tokenizer=tokenizer, mark_fields=False,include_bos=False),\n",
        "            NumericalizeProcessor(vocab=vocab)]\n",
        "src = (TextList.from_df(chembl,cols='Smiles',processor=processors).split_by_rand_pct(0.10).label_for_lm())\n"
      ],
      "execution_count": null,
      "outputs": [
        {
          "output_type": "display_data",
          "data": {
            "text/html": [
              ""
            ],
            "text/plain": [
              "<IPython.core.display.HTML object>"
            ]
          },
          "metadata": {
            "tags": []
          }
        },
        {
          "output_type": "display_data",
          "data": {
            "text/html": [
              ""
            ],
            "text/plain": [
              "<IPython.core.display.HTML object>"
            ]
          },
          "metadata": {
            "tags": []
          }
        }
      ]
    },
    {
      "cell_type": "code",
      "metadata": {
        "id": "nsHP0zzIE8uo",
        "colab_type": "code",
        "colab": {}
      },
      "source": [
        "data = src.databunch()"
      ],
      "execution_count": null,
      "outputs": []
    },
    {
      "cell_type": "code",
      "metadata": {
        "id": "Q-0qysrOYGrb",
        "colab_type": "code",
        "colab": {
          "base_uri": "https://localhost:8080/",
          "height": 258
        },
        "outputId": "a6098965-1d62-46d7-e694-6f32c8d20392"
      },
      "source": [
        "data.show_batch()"
      ],
      "execution_count": null,
      "outputs": [
        {
          "output_type": "display_data",
          "data": {
            "text/html": [
              "<table border=\"1\" class=\"dataframe\">\n",
              "  <thead>\n",
              "    <tr style=\"text-align: right;\">\n",
              "      <th>idx</th>\n",
              "      <th>text</th>\n",
              "    </tr>\n",
              "  </thead>\n",
              "  <tbody>\n",
              "    <tr>\n",
              "      <td>0</td>\n",
              "      <td>C ( C O P ( = O ) ( O ) O ) O 3 ) c ( = O ) [nH] c 2 = O ) c c 1 xxeos xxbos C O c 1 c ( - c 2 c n [nH] c 2 ) c c c ( C ( = O ) N C ( C O ) c 2 c ( F ) c</td>\n",
              "    </tr>\n",
              "    <tr>\n",
              "      <td>1</td>\n",
              "      <td>3 = N O C ( c 4 c c c ( F ) c c 4 ) C 3 ) s c 3 n c c c c 2 3 ) c c 1 xxeos xxbos N S ( = O ) ( = O ) c 1 c c c c c 1 N S ( = O ) ( = O ) c 1 c c c</td>\n",
              "    </tr>\n",
              "    <tr>\n",
              "      <td>2</td>\n",
              "      <td>c ( C ) c 1 O xxeos xxbos C O c 1 c c c ( C 2 C N ( C ) C c 3 c c ( O C C C N 4 C C N ( c 5 c c c c c 5 O ) C C 4 ) c c c 3 2 ) c c 1 xxeos xxbos C O C C O</td>\n",
              "    </tr>\n",
              "    <tr>\n",
              "      <td>3</td>\n",
              "      <td>C c 3 c c c c c 3 Cl ) S ( C ) ( = O ) = O ) c c 2 ) C C 1 xxeos xxbos C O c 1 c c 2 c ( c ( O C ) c 1 O C ) c 1 c 3 c ( c c 4 c 1 n 2 C ( = O ) C C</td>\n",
              "    </tr>\n",
              "    <tr>\n",
              "      <td>4</td>\n",
              "      <td>c c c 1 F xxeos xxbos C N ( C C C C N 1 C ( = O ) c 2 c c c c c 2 C 1 = O ) C c 1 c c c c ( Cl ) c 1 xxeos xxbos C C 1 C N ( C ( C ) C O ) C ( = O ) c 2 c c</td>\n",
              "    </tr>\n",
              "  </tbody>\n",
              "</table>"
            ],
            "text/plain": [
              "<IPython.core.display.HTML object>"
            ]
          },
          "metadata": {
            "tags": []
          }
        }
      ]
    },
    {
      "cell_type": "code",
      "metadata": {
        "id": "_Ad5LViDyBVa",
        "colab_type": "code",
        "colab": {}
      },
      "source": [
        "data.save('data_general.pkl')"
      ],
      "execution_count": null,
      "outputs": []
    },
    {
      "cell_type": "code",
      "metadata": {
        "id": "eHyN8-oeVw_c",
        "colab_type": "code",
        "colab": {}
      },
      "source": [
        "#data = load_data(Drive,'data_v2_1.pkl')"
      ],
      "execution_count": null,
      "outputs": []
    },
    {
      "cell_type": "code",
      "metadata": {
        "id": "2RXgNRUpbkV7",
        "colab_type": "code",
        "colab": {}
      },
      "source": [
        "learn = language_model_learner(data, AWD_LSTM, config=config,pretrained=False,drop_mult=0.1,model_dir=Path('.'),\n",
        "                               metrics=[accuracy,error_rate],callback_fns=[partial(CSVLogger,append=True)])"
      ],
      "execution_count": null,
      "outputs": []
    },
    {
      "cell_type": "code",
      "metadata": {
        "id": "-RtMfLw_UBO4",
        "colab_type": "code",
        "colab": {
          "base_uri": "https://localhost:8080/",
          "height": 286
        },
        "outputId": "934e8832-937c-455b-fea1-c752012463fd"
      },
      "source": [
        "data.show_batch(\n",
        "    \n",
        ")"
      ],
      "execution_count": null,
      "outputs": [
        {
          "output_type": "stream",
          "text": [
            "/usr/local/lib/python3.6/dist-packages/fastai/text/data.py:339: UserWarning: This overload of nonzero is deprecated:\n",
            "\tnonzero()\n",
            "Consider using one of the following signatures instead:\n",
            "\tnonzero(*, bool as_tuple) (Triggered internally at  /pytorch/torch/csrc/utils/python_arg_parser.cpp:766.)\n",
            "  idx_min = (t != self.pad_idx).nonzero().min()\n"
          ],
          "name": "stderr"
        },
        {
          "output_type": "display_data",
          "data": {
            "text/html": [
              "<table border=\"1\" class=\"dataframe\">\n",
              "  <thead>\n",
              "    <tr style=\"text-align: right;\">\n",
              "      <th>idx</th>\n",
              "      <th>text</th>\n",
              "    </tr>\n",
              "  </thead>\n",
              "  <tbody>\n",
              "    <tr>\n",
              "      <td>0</td>\n",
              "      <td>2 N 2 C C O C C 2 ) c c 1 O C C xxeos xxbos C C C N C ( = O ) c 1 c c c 2 c ( c c n 2 - c 2 n c c 3 c ( n 2 ) N ( C 2 C C C C 2 ) C ( C C ) C ( = O</td>\n",
              "    </tr>\n",
              "    <tr>\n",
              "      <td>1</td>\n",
              "      <td>1 C C C ( c 2 n o c 3 c c c ( F ) c c 2 3 ) C C 1 xxeos xxbos O = C ( C C n 1 c ( = O ) o c 2 c c ( Cl ) c c c 2 1 ) N c 1 c c c ( N 2 C C O C C 2 )</td>\n",
              "    </tr>\n",
              "    <tr>\n",
              "      <td>2</td>\n",
              "      <td>c c c 5 o 4 ) n n 2 3 ) c 1 xxeos xxbos C ( = N N c 1 n c 2 c c c c c 2 o 1 ) c 1 c c c c n 1 xxeos xxbos O = C ( N c 1 c c c ( C c 2 c c c c c 2 ) c c 1 )</td>\n",
              "    </tr>\n",
              "    <tr>\n",
              "      <td>3</td>\n",
              "      <td>( C ) = O ) C 1 2 C xxeos xxbos O = C ( N C c 1 c c c ( C ( = O ) N 2 C C C ( c 3 c c c c c 3 ) C C 2 ) c c 1 ) N c 1 c c c ( Cl ) c c 1 xxeos xxbos C N ( C</td>\n",
              "    </tr>\n",
              "    <tr>\n",
              "      <td>4</td>\n",
              "      <td>( F ) ( F ) F ) c 2 ) C C 1 xxeos xxbos O = P 1 ( N ( C C Cl ) C C Cl ) N C C ( Cl ) C O 1 xxeos xxbos C O C ( = O ) C 1 C S C ( c 2 n c 3 c c c ( O C ) c c 3</td>\n",
              "    </tr>\n",
              "  </tbody>\n",
              "</table>"
            ],
            "text/plain": [
              "<IPython.core.display.HTML object>"
            ]
          },
          "metadata": {
            "tags": []
          }
        }
      ]
    },
    {
      "cell_type": "code",
      "metadata": {
        "id": "IxH133kh-prR",
        "colab_type": "code",
        "colab": {}
      },
      "source": [
        "learn.load('fit1');"
      ],
      "execution_count": null,
      "outputs": []
    },
    {
      "cell_type": "code",
      "metadata": {
        "id": "mjay9vvj-77n",
        "colab_type": "code",
        "colab": {}
      },
      "source": [
        "data = load_data(path=Path('data'),file='data_v2_1.pkl')"
      ],
      "execution_count": null,
      "outputs": []
    },
    {
      "cell_type": "code",
      "metadata": {
        "id": "jNh0K2fa_KzG",
        "colab_type": "code",
        "colab": {}
      },
      "source": [
        "data.vocab.save('data/vocab.pkl')"
      ],
      "execution_count": null,
      "outputs": []
    },
    {
      "cell_type": "code",
      "metadata": {
        "id": "o5O8TNMRlk_X",
        "colab_type": "code",
        "colab": {
          "base_uri": "https://localhost:8080/",
          "height": 113
        },
        "outputId": "a693f421-a4f7-4844-ed4f-aed68a122571"
      },
      "source": [
        "learn.lr_find(num_it=600)"
      ],
      "execution_count": null,
      "outputs": [
        {
          "output_type": "display_data",
          "data": {
            "text/html": [
              "\n",
              "    <div>\n",
              "        <style>\n",
              "            /* Turns off some styling */\n",
              "            progress {\n",
              "                /* gets rid of default border in Firefox and Opera. */\n",
              "                border: none;\n",
              "                /* Needs to be in here for Safari polyfill so background images work as expected. */\n",
              "                background-size: auto;\n",
              "            }\n",
              "            .progress-bar-interrupted, .progress-bar-interrupted::-webkit-progress-bar {\n",
              "                background: #F44336;\n",
              "            }\n",
              "        </style>\n",
              "      <progress value='0' class='' max='1' style='width:300px; height:20px; vertical-align: middle;'></progress>\n",
              "      0.00% [0/1 00:00<00:00]\n",
              "    </div>\n",
              "    \n",
              "<table border=\"1\" class=\"dataframe\">\n",
              "  <thead>\n",
              "    <tr style=\"text-align: left;\">\n",
              "      <th>epoch</th>\n",
              "      <th>train_loss</th>\n",
              "      <th>valid_loss</th>\n",
              "      <th>accuracy</th>\n",
              "      <th>error_rate</th>\n",
              "      <th>time</th>\n",
              "    </tr>\n",
              "  </thead>\n",
              "  <tbody>\n",
              "  </tbody>\n",
              "</table><p>\n",
              "\n",
              "    <div>\n",
              "        <style>\n",
              "            /* Turns off some styling */\n",
              "            progress {\n",
              "                /* gets rid of default border in Firefox and Opera. */\n",
              "                border: none;\n",
              "                /* Needs to be in here for Safari polyfill so background images work as expected. */\n",
              "                background-size: auto;\n",
              "            }\n",
              "            .progress-bar-interrupted, .progress-bar-interrupted::-webkit-progress-bar {\n",
              "                background: #F44336;\n",
              "            }\n",
              "        </style>\n",
              "      <progress value='512' class='' max='16129' style='width:300px; height:20px; vertical-align: middle;'></progress>\n",
              "      3.17% [512/16129 01:13<37:17 4.5659]\n",
              "    </div>\n",
              "    "
            ],
            "text/plain": [
              "<IPython.core.display.HTML object>"
            ]
          },
          "metadata": {
            "tags": []
          }
        },
        {
          "output_type": "stream",
          "text": [
            "LR Finder is complete, type {learner_name}.recorder.plot() to see the graph.\n"
          ],
          "name": "stdout"
        }
      ]
    },
    {
      "cell_type": "code",
      "metadata": {
        "id": "pMOmnLJilouY",
        "colab_type": "code",
        "colab": {
          "base_uri": "https://localhost:8080/",
          "height": 314
        },
        "outputId": "efeb4e53-d7a4-46f8-c45c-b425299d4198"
      },
      "source": [
        "learn.recorder.plot(suggestion=True)"
      ],
      "execution_count": null,
      "outputs": [
        {
          "output_type": "stream",
          "text": [
            "Min numerical gradient: 5.09E-05\n",
            "Min loss divided by 10: 2.03E-02\n"
          ],
          "name": "stdout"
        },
        {
          "output_type": "display_data",
          "data": {
            "image/png": "[encoded data removed]",
            "text/plain": [
              "<Figure size 432x288 with 1 Axes>"
            ]
          },
          "metadata": {
            "tags": [],
            "needs_background": "light"
          }
        }
      ]
    },
    {
      "cell_type": "code",
      "metadata": {
        "id": "UZqAlgj_mhvF",
        "colab_type": "code",
        "colab": {}
      },
      "source": [
        "config = awd_lstm_lm_config.copy()\n",
        "config['n_hid'] = 512;"
      ],
      "execution_count": null,
      "outputs": []
    },
    {
      "cell_type": "code",
      "metadata": {
        "id": "uzWWGq-0nxz2",
        "colab_type": "code",
        "colab": {}
      },
      "source": [
        "learn.fit_one_cycle(10, 3e-3,callbacks=[SamplingCB(learn,num_samples=1000,objective_mols=set(list(chembl.Smiles))),\n",
        "                                        SaveModelCallback(learn, every='improvement', monitor='accuracy', name='bestmodel')])                     "
      ],
      "execution_count": null,
      "outputs": []
    },
    {
      "cell_type": "code",
      "metadata": {
        "id": "tyy7EO4Y7E7H",
        "colab_type": "code",
        "colab": {}
      },
      "source": [
        "learn.save('general_weights')"
      ],
      "execution_count": null,
      "outputs": []
    },
    {
      "cell_type": "code",
      "metadata": {
        "id": "OwaCboscOrBY",
        "colab_type": "code",
        "colab": {}
      },
      "source": [
        "learn.save_encoder('general_encoder')"
      ],
      "execution_count": null,
      "outputs": []
    },
    {
      "cell_type": "code",
      "metadata": {
        "id": "TdPLgkwLSfIL",
        "colab_type": "code",
        "colab": {
          "base_uri": "https://localhost:8080/",
          "height": 34
        },
        "outputId": "15ceea5f-72f6-4764-9f7f-c9c6f760ce6e"
      },
      "source": [
        "learn.validate(data.valid_dl)"
      ],
      "execution_count": null,
      "outputs": [
        {
          "output_type": "display_data",
          "data": {
            "text/html": [
              ""
            ],
            "text/plain": [
              "<IPython.core.display.HTML object>"
            ]
          },
          "metadata": {
            "tags": []
          }
        },
        {
          "output_type": "execute_result",
          "data": {
            "text/plain": [
              "[0.47671342, tensor(0.8304), tensor(0.1696)]"
            ]
          },
          "metadata": {
            "tags": []
          },
          "execution_count": 57
        }
      ]
    },
    {
      "cell_type": "code",
      "metadata": {
        "id": "-76oKPrgS6Za",
        "colab_type": "code",
        "colab": {}
      },
      "source": [
        "learn.export(file='general_model.pkl')"
      ],
      "execution_count": null,
      "outputs": []
    },
    {
      "cell_type": "markdown",
      "metadata": {
        "id": "X2U7swWKmnH6",
        "colab_type": "text"
      },
      "source": [
        "## **Sampling**"
      ]
    },
    {
      "cell_type": "code",
      "metadata": {
        "id": "xxQMgsLUM_Us",
        "colab_type": "code",
        "colab": {}
      },
      "source": [
        "help(MolSampler)"
      ],
      "execution_count": null,
      "outputs": []
    },
    {
      "cell_type": "code",
      "metadata": {
        "id": "mu7dPK2EhAxo",
        "colab_type": "code",
        "colab": {
          "base_uri": "https://localhost:8080/",
          "height": 86
        },
        "outputId": "96c98fc1-612f-4ec0-c68f-0250e33fc43c"
      },
      "source": [
        "# Sampling\n",
        "tmps = [0.7,0.85,1.,1.2]\n",
        "multi_valid = []#[Sampler(data=data,model=learn_fn,temp=f,max_size=140,max_mols=2000).generate() for f in tmps]\n",
        "for f in tmps:\n",
        "  sampler = MolSampler(data=data,model=learn_fn,temp=f,max_size=140,max_mols=2500)\n",
        "  multi_valid.append(sampler.generate())"
      ],
      "execution_count": null,
      "outputs": [
        {
          "output_type": "stream",
          "text": [
            "Generation completed after 334.399s\n",
            "Generation completed after 328.741s\n",
            "Generation completed after 332.496s\n",
            "Generation completed after 369.672s\n"
          ],
          "name": "stdout"
        }
      ]
    },
    {
      "cell_type": "code",
      "metadata": {
        "id": "QmHFqRHINcd5",
        "colab_type": "code",
        "colab": {}
      },
      "source": [
        "flattenlist = lambda x : [a for i in x for a in i]\n",
        "a = flattenlist(multi_valid)"
      ],
      "execution_count": null,
      "outputs": []
    },
    {
      "cell_type": "code",
      "metadata": {
        "id": "mv6kFtiac-rj",
        "colab_type": "code",
        "colab": {
          "base_uri": "https://localhost:8080/",
          "height": 206
        },
        "outputId": "d1e287bd-5c27-4f6d-f88f-f4574d363f1f"
      },
      "source": [
        "adf = pd.DataFrame({'Smiles': a})\n",
        "adf.head()"
      ],
      "execution_count": null,
      "outputs": [
        {
          "output_type": "execute_result",
          "data": {
            "text/html": [
              "<div>\n",
              "<style scoped>\n",
              "    .dataframe tbody tr th:only-of-type {\n",
              "        vertical-align: middle;\n",
              "    }\n",
              "\n",
              "    .dataframe tbody tr th {\n",
              "        vertical-align: top;\n",
              "    }\n",
              "\n",
              "    .dataframe thead th {\n",
              "        text-align: right;\n",
              "    }\n",
              "</style>\n",
              "<table border=\"1\" class=\"dataframe\">\n",
              "  <thead>\n",
              "    <tr style=\"text-align: right;\">\n",
              "      <th></th>\n",
              "      <th>Smiles</th>\n",
              "    </tr>\n",
              "  </thead>\n",
              "  <tbody>\n",
              "    <tr>\n",
              "      <th>0</th>\n",
              "      <td>Cc1ccccc1-n1c(SCC(=O)NNC(=O)c2ccc(O)cc2)nnc1-c...</td>\n",
              "    </tr>\n",
              "    <tr>\n",
              "      <th>1</th>\n",
              "      <td>Cc1ccc(OCCCC(=O)Nc2cccc(S(=O)(=O)N3CCCCC3)c2)cc1</td>\n",
              "    </tr>\n",
              "    <tr>\n",
              "      <th>2</th>\n",
              "      <td>CC1(C)Cc2nc3sc4c(=O)n(CC(=O)NCCC5=CCCCC5)cnc4c...</td>\n",
              "    </tr>\n",
              "    <tr>\n",
              "      <th>3</th>\n",
              "      <td>CC(C)c1nc2ccccc2c(=O)n1NC(=O)c1ccccc1</td>\n",
              "    </tr>\n",
              "    <tr>\n",
              "      <th>4</th>\n",
              "      <td>CC(C)c1ccc(S(=O)(=O)N2CCCC(c3nc(-c4cccc(Br)c4)...</td>\n",
              "    </tr>\n",
              "  </tbody>\n",
              "</table>\n",
              "</div>"
            ],
            "text/plain": [
              "                                              Smiles\n",
              "0  Cc1ccccc1-n1c(SCC(=O)NNC(=O)c2ccc(O)cc2)nnc1-c...\n",
              "1   Cc1ccc(OCCCC(=O)Nc2cccc(S(=O)(=O)N3CCCCC3)c2)cc1\n",
              "2  CC1(C)Cc2nc3sc4c(=O)n(CC(=O)NCCC5=CCCCC5)cnc4c...\n",
              "3              CC(C)c1nc2ccccc2c(=O)n1NC(=O)c1ccccc1\n",
              "4  CC(C)c1ccc(S(=O)(=O)N2CCCC(c3nc(-c4cccc(Br)c4)..."
            ]
          },
          "metadata": {
            "tags": []
          },
          "execution_count": 128
        }
      ]
    },
    {
      "cell_type": "code",
      "metadata": {
        "id": "ckUqZXFKewqW",
        "colab_type": "code",
        "colab": {
          "base_uri": "https://localhost:8080/",
          "height": 17
        },
        "outputId": "f6b62d05-cedf-4c62-cd0e-1e0dacf37ef2"
      },
      "source": [
        "learn_cls.data.add_test(list(adf.Smiles))\n",
        "test_preds,p = learn_cls.get_preds(ds_type=DatasetType.Test)"
      ],
      "execution_count": null,
      "outputs": [
        {
          "output_type": "display_data",
          "data": {
            "text/html": [
              ""
            ],
            "text/plain": [
              "<IPython.core.display.HTML object>"
            ]
          },
          "metadata": {
            "tags": []
          }
        },
        {
          "output_type": "display_data",
          "data": {
            "text/html": [
              ""
            ],
            "text/plain": [
              "<IPython.core.display.HTML object>"
            ]
          },
          "metadata": {
            "tags": []
          }
        }
      ]
    },
    {
      "cell_type": "code",
      "metadata": {
        "id": "soPD9SzWgFFY",
        "colab_type": "code",
        "colab": {
          "base_uri": "https://localhost:8080/",
          "height": 34
        },
        "outputId": "49825717-fad3-423e-fe98-300fddd84597"
      },
      "source": [
        "test_preds.shape"
      ],
      "execution_count": null,
      "outputs": [
        {
          "output_type": "execute_result",
          "data": {
            "text/plain": [
              "torch.Size([10000, 2])"
            ]
          },
          "metadata": {
            "tags": []
          },
          "execution_count": 141
        }
      ]
    },
    {
      "cell_type": "code",
      "metadata": {
        "id": "b09SCosyEg-E",
        "colab_type": "code",
        "colab": {}
      },
      "source": [
        "adf['preds'] = test_preds[:,0]\n",
        "adf['label'] = np.where(test_preds[:,0]>0.5,'Active','Inactive')"
      ],
      "execution_count": null,
      "outputs": []
    },
    {
      "cell_type": "code",
      "metadata": {
        "id": "39xiynnRdv93",
        "colab_type": "code",
        "colab": {
          "base_uri": "https://localhost:8080/",
          "height": 206
        },
        "outputId": "dfc83684-2c5e-40a2-9c64-5c18a60b831c"
      },
      "source": [
        "adf.head()"
      ],
      "execution_count": null,
      "outputs": [
        {
          "output_type": "execute_result",
          "data": {
            "text/html": [
              "<div>\n",
              "<style scoped>\n",
              "    .dataframe tbody tr th:only-of-type {\n",
              "        vertical-align: middle;\n",
              "    }\n",
              "\n",
              "    .dataframe tbody tr th {\n",
              "        vertical-align: top;\n",
              "    }\n",
              "\n",
              "    .dataframe thead th {\n",
              "        text-align: right;\n",
              "    }\n",
              "</style>\n",
              "<table border=\"1\" class=\"dataframe\">\n",
              "  <thead>\n",
              "    <tr style=\"text-align: right;\">\n",
              "      <th></th>\n",
              "      <th>Smiles</th>\n",
              "      <th>preds</th>\n",
              "      <th>label</th>\n",
              "    </tr>\n",
              "  </thead>\n",
              "  <tbody>\n",
              "    <tr>\n",
              "      <th>0</th>\n",
              "      <td>Cc1ccccc1-n1c(SCC(=O)NNC(=O)c2ccc(O)cc2)nnc1-c...</td>\n",
              "      <td>9.019103e-06</td>\n",
              "      <td>Inactive</td>\n",
              "    </tr>\n",
              "    <tr>\n",
              "      <th>1</th>\n",
              "      <td>Cc1ccc(OCCCC(=O)Nc2cccc(S(=O)(=O)N3CCCCC3)c2)cc1</td>\n",
              "      <td>2.670651e-08</td>\n",
              "      <td>Inactive</td>\n",
              "    </tr>\n",
              "    <tr>\n",
              "      <th>2</th>\n",
              "      <td>CC1(C)Cc2nc3sc4c(=O)n(CC(=O)NCCC5=CCCCC5)cnc4c...</td>\n",
              "      <td>6.063827e-07</td>\n",
              "      <td>Inactive</td>\n",
              "    </tr>\n",
              "    <tr>\n",
              "      <th>3</th>\n",
              "      <td>CC(C)c1nc2ccccc2c(=O)n1NC(=O)c1ccccc1</td>\n",
              "      <td>8.440512e-08</td>\n",
              "      <td>Inactive</td>\n",
              "    </tr>\n",
              "    <tr>\n",
              "      <th>4</th>\n",
              "      <td>CC(C)c1ccc(S(=O)(=O)N2CCCC(c3nc(-c4cccc(Br)c4)...</td>\n",
              "      <td>9.987888e-10</td>\n",
              "      <td>Inactive</td>\n",
              "    </tr>\n",
              "  </tbody>\n",
              "</table>\n",
              "</div>"
            ],
            "text/plain": [
              "                                              Smiles         preds     label\n",
              "0  Cc1ccccc1-n1c(SCC(=O)NNC(=O)c2ccc(O)cc2)nnc1-c...  9.019103e-06  Inactive\n",
              "1   Cc1ccc(OCCCC(=O)Nc2cccc(S(=O)(=O)N3CCCCC3)c2)cc1  2.670651e-08  Inactive\n",
              "2  CC1(C)Cc2nc3sc4c(=O)n(CC(=O)NCCC5=CCCCC5)cnc4c...  6.063827e-07  Inactive\n",
              "3              CC(C)c1nc2ccccc2c(=O)n1NC(=O)c1ccccc1  8.440512e-08  Inactive\n",
              "4  CC(C)c1ccc(S(=O)(=O)N2CCCC(c3nc(-c4cccc(Br)c4)...  9.987888e-10  Inactive"
            ]
          },
          "metadata": {
            "tags": []
          },
          "execution_count": 143
        }
      ]
    },
    {
      "cell_type": "code",
      "metadata": {
        "id": "4kQwXXgldvlT",
        "colab_type": "code",
        "colab": {
          "base_uri": "https://localhost:8080/",
          "height": 34
        },
        "outputId": "5303ce9a-90b7-4543-f4c5-3fc9814554ac"
      },
      "source": [
        "Counter(adf['label'])"
      ],
      "execution_count": null,
      "outputs": [
        {
          "output_type": "execute_result",
          "data": {
            "text/plain": [
              "Counter({'Active': 73, 'Inactive': 9927})"
            ]
          },
          "metadata": {
            "tags": []
          },
          "execution_count": 144
        }
      ]
    },
    {
      "cell_type": "code",
      "metadata": {
        "id": "WYQIbhhvVGb-",
        "colab_type": "code",
        "colab": {}
      },
      "source": [
        "adf.to_csv(Drive/'mulisampled10k.csv',index=False)"
      ],
      "execution_count": null,
      "outputs": []
    },
    {
      "cell_type": "code",
      "metadata": {
        "id": "tWqmJIh4hHY5",
        "colab_type": "code",
        "colab": {
          "base_uri": "https://localhost:8080/",
          "height": 424
        },
        "outputId": "cd3ed178-81cd-4a54-bace-dee387fa8950"
      },
      "source": [
        "act = adf.loc[adf['label']=='Active']\n",
        "act"
      ],
      "execution_count": null,
      "outputs": [
        {
          "output_type": "execute_result",
          "data": {
            "text/html": [
              "<div>\n",
              "<style scoped>\n",
              "    .dataframe tbody tr th:only-of-type {\n",
              "        vertical-align: middle;\n",
              "    }\n",
              "\n",
              "    .dataframe tbody tr th {\n",
              "        vertical-align: top;\n",
              "    }\n",
              "\n",
              "    .dataframe thead th {\n",
              "        text-align: right;\n",
              "    }\n",
              "</style>\n",
              "<table border=\"1\" class=\"dataframe\">\n",
              "  <thead>\n",
              "    <tr style=\"text-align: right;\">\n",
              "      <th></th>\n",
              "      <th>Smiles</th>\n",
              "      <th>preds</th>\n",
              "      <th>label</th>\n",
              "    </tr>\n",
              "  </thead>\n",
              "  <tbody>\n",
              "    <tr>\n",
              "      <th>15</th>\n",
              "      <td>O=C(O)CCn1cc(C=C2C(=O)NC(=O)N(c3ccccc3)C2=O)c2...</td>\n",
              "      <td>0.717311</td>\n",
              "      <td>Active</td>\n",
              "    </tr>\n",
              "    <tr>\n",
              "      <th>97</th>\n",
              "      <td>C=CCN1C(=O)C(c2ccccc2)(c2ccccc2)N1C(=O)OCC</td>\n",
              "      <td>0.909851</td>\n",
              "      <td>Active</td>\n",
              "    </tr>\n",
              "    <tr>\n",
              "      <th>314</th>\n",
              "      <td>COCCCNC(=O)c1cc2c(=O)n(C)c3ccccc3c2s1</td>\n",
              "      <td>0.501561</td>\n",
              "      <td>Active</td>\n",
              "    </tr>\n",
              "    <tr>\n",
              "      <th>467</th>\n",
              "      <td>CCC(C)(C)n1nnnc1C(c1cc2ccc(C)cc2[nH]c1=O)N1CCCCC1</td>\n",
              "      <td>0.978930</td>\n",
              "      <td>Active</td>\n",
              "    </tr>\n",
              "    <tr>\n",
              "      <th>656</th>\n",
              "      <td>CC(=O)c1cccc(NC(=O)c2nc(S(=O)(=O)Cc3ccccc3)ncc...</td>\n",
              "      <td>0.999960</td>\n",
              "      <td>Active</td>\n",
              "    </tr>\n",
              "    <tr>\n",
              "      <th>...</th>\n",
              "      <td>...</td>\n",
              "      <td>...</td>\n",
              "      <td>...</td>\n",
              "    </tr>\n",
              "    <tr>\n",
              "      <th>9660</th>\n",
              "      <td>COC(=O)c1sc(S(=O)(=O)C(C)(CCS(=O)(=O)O)S(=O)(=...</td>\n",
              "      <td>0.706633</td>\n",
              "      <td>Active</td>\n",
              "    </tr>\n",
              "    <tr>\n",
              "      <th>9773</th>\n",
              "      <td>O=C1NC(=S)N(Cc2ccco2)C(=O)C1=Cc1ccc(F)cc1</td>\n",
              "      <td>0.998659</td>\n",
              "      <td>Active</td>\n",
              "    </tr>\n",
              "    <tr>\n",
              "      <th>9822</th>\n",
              "      <td>OCCNC(=S)Nc1nccs1</td>\n",
              "      <td>0.642514</td>\n",
              "      <td>Active</td>\n",
              "    </tr>\n",
              "    <tr>\n",
              "      <th>9837</th>\n",
              "      <td>CN1CCN(C(c2cccc(Br)c2)c2ccc3cccnc3c2O)CC1</td>\n",
              "      <td>1.000000</td>\n",
              "      <td>Active</td>\n",
              "    </tr>\n",
              "    <tr>\n",
              "      <th>9863</th>\n",
              "      <td>c1coc(-c2ccccn2)c1</td>\n",
              "      <td>0.687863</td>\n",
              "      <td>Active</td>\n",
              "    </tr>\n",
              "  </tbody>\n",
              "</table>\n",
              "<p>73 rows × 3 columns</p>\n",
              "</div>"
            ],
            "text/plain": [
              "                                                 Smiles     preds   label\n",
              "15    O=C(O)CCn1cc(C=C2C(=O)NC(=O)N(c3ccccc3)C2=O)c2...  0.717311  Active\n",
              "97           C=CCN1C(=O)C(c2ccccc2)(c2ccccc2)N1C(=O)OCC  0.909851  Active\n",
              "314               COCCCNC(=O)c1cc2c(=O)n(C)c3ccccc3c2s1  0.501561  Active\n",
              "467   CCC(C)(C)n1nnnc1C(c1cc2ccc(C)cc2[nH]c1=O)N1CCCCC1  0.978930  Active\n",
              "656   CC(=O)c1cccc(NC(=O)c2nc(S(=O)(=O)Cc3ccccc3)ncc...  0.999960  Active\n",
              "...                                                 ...       ...     ...\n",
              "9660  COC(=O)c1sc(S(=O)(=O)C(C)(CCS(=O)(=O)O)S(=O)(=...  0.706633  Active\n",
              "9773          O=C1NC(=S)N(Cc2ccco2)C(=O)C1=Cc1ccc(F)cc1  0.998659  Active\n",
              "9822                                  OCCNC(=S)Nc1nccs1  0.642514  Active\n",
              "9837          CN1CCN(C(c2cccc(Br)c2)c2ccc3cccnc3c2O)CC1  1.000000  Active\n",
              "9863                                 c1coc(-c2ccccn2)c1  0.687863  Active\n",
              "\n",
              "[73 rows x 3 columns]"
            ]
          },
          "metadata": {
            "tags": []
          },
          "execution_count": 146
        }
      ]
    },
    {
      "cell_type": "code",
      "metadata": {
        "id": "_rgANOSphOjI",
        "colab_type": "code",
        "colab": {
          "base_uri": "https://localhost:8080/",
          "height": 206
        },
        "outputId": "e2a918b9-c8e0-477a-da97-00603900350c"
      },
      "source": [
        "act['mol'] = act['Smiles'].apply(lambda x : Chem.MolFromSmiles(x))\n",
        "act.head()"
      ],
      "execution_count": null,
      "outputs": [
        {
          "output_type": "execute_result",
          "data": {
            "text/html": [
              "<div>\n",
              "<style scoped>\n",
              "    .dataframe tbody tr th:only-of-type {\n",
              "        vertical-align: middle;\n",
              "    }\n",
              "\n",
              "    .dataframe tbody tr th {\n",
              "        vertical-align: top;\n",
              "    }\n",
              "\n",
              "    .dataframe thead th {\n",
              "        text-align: right;\n",
              "    }\n",
              "</style>\n",
              "<table border=\"1\" class=\"dataframe\">\n",
              "  <thead>\n",
              "    <tr style=\"text-align: right;\">\n",
              "      <th></th>\n",
              "      <th>Smiles</th>\n",
              "      <th>preds</th>\n",
              "      <th>label</th>\n",
              "      <th>mol</th>\n",
              "    </tr>\n",
              "  </thead>\n",
              "  <tbody>\n",
              "    <tr>\n",
              "      <th>15</th>\n",
              "      <td>O=C(O)CCn1cc(C=C2C(=O)NC(=O)N(c3ccccc3)C2=O)c2...</td>\n",
              "      <td>0.717311</td>\n",
              "      <td>Active</td>\n",
              "      <td>&lt;rdkit.Chem.rdchem.Mol object at 0x7f7491381a80&gt;</td>\n",
              "    </tr>\n",
              "    <tr>\n",
              "      <th>97</th>\n",
              "      <td>C=CCN1C(=O)C(c2ccccc2)(c2ccccc2)N1C(=O)OCC</td>\n",
              "      <td>0.909851</td>\n",
              "      <td>Active</td>\n",
              "      <td>&lt;rdkit.Chem.rdchem.Mol object at 0x7f7491381760&gt;</td>\n",
              "    </tr>\n",
              "    <tr>\n",
              "      <th>314</th>\n",
              "      <td>COCCCNC(=O)c1cc2c(=O)n(C)c3ccccc3c2s1</td>\n",
              "      <td>0.501561</td>\n",
              "      <td>Active</td>\n",
              "      <td>&lt;rdkit.Chem.rdchem.Mol object at 0x7f7491381990&gt;</td>\n",
              "    </tr>\n",
              "    <tr>\n",
              "      <th>467</th>\n",
              "      <td>CCC(C)(C)n1nnnc1C(c1cc2ccc(C)cc2[nH]c1=O)N1CCCCC1</td>\n",
              "      <td>0.978930</td>\n",
              "      <td>Active</td>\n",
              "      <td>&lt;rdkit.Chem.rdchem.Mol object at 0x7f7491381850&gt;</td>\n",
              "    </tr>\n",
              "    <tr>\n",
              "      <th>656</th>\n",
              "      <td>CC(=O)c1cccc(NC(=O)c2nc(S(=O)(=O)Cc3ccccc3)ncc...</td>\n",
              "      <td>0.999960</td>\n",
              "      <td>Active</td>\n",
              "      <td>&lt;rdkit.Chem.rdchem.Mol object at 0x7f74913818a0&gt;</td>\n",
              "    </tr>\n",
              "  </tbody>\n",
              "</table>\n",
              "</div>"
            ],
            "text/plain": [
              "                                                Smiles  ...                                               mol\n",
              "15   O=C(O)CCn1cc(C=C2C(=O)NC(=O)N(c3ccccc3)C2=O)c2...  ...  <rdkit.Chem.rdchem.Mol object at 0x7f7491381a80>\n",
              "97          C=CCN1C(=O)C(c2ccccc2)(c2ccccc2)N1C(=O)OCC  ...  <rdkit.Chem.rdchem.Mol object at 0x7f7491381760>\n",
              "314              COCCCNC(=O)c1cc2c(=O)n(C)c3ccccc3c2s1  ...  <rdkit.Chem.rdchem.Mol object at 0x7f7491381990>\n",
              "467  CCC(C)(C)n1nnnc1C(c1cc2ccc(C)cc2[nH]c1=O)N1CCCCC1  ...  <rdkit.Chem.rdchem.Mol object at 0x7f7491381850>\n",
              "656  CC(=O)c1cccc(NC(=O)c2nc(S(=O)(=O)Cc3ccccc3)ncc...  ...  <rdkit.Chem.rdchem.Mol object at 0x7f74913818a0>\n",
              "\n",
              "[5 rows x 4 columns]"
            ]
          },
          "metadata": {
            "tags": []
          },
          "execution_count": 147
        }
      ]
    },
    {
      "cell_type": "code",
      "metadata": {
        "id": "Nyv3-w48hcQS",
        "colab_type": "code",
        "colab": {}
      },
      "source": [
        "Draw.MolsToGridImage(list(act['mol']),maxMols=75,legends=list(map(str,list(act['preds']))),molsPerRow=3,subImgSize=(600,600))"
      ],
      "execution_count": null,
      "outputs": []
    },
    {
      "cell_type": "markdown",
      "metadata": {
        "id": "XOSHTUJq-DZG",
        "colab_type": "text"
      },
      "source": [
        "## **Validation**"
      ]
    },
    {
      "cell_type": "code",
      "metadata": {
        "id": "oozWZh1Jkfv8",
        "colab_type": "code",
        "colab": {
          "base_uri": "https://localhost:8080/",
          "height": 1000
        },
        "outputId": "2811528f-dfae-470c-bb38-7d91b0a1689a"
      },
      "source": [
        "validity, novelty, uniqueness,mols,unq_mols,novel_mols = validation(learn,data,sampling_temperatures,5,2000,ref=list(df.Smiles))"
      ],
      "execution_count": null,
      "outputs": [
        {
          "output_type": "stream",
          "text": [
            "Temperatures = 0.2\n",
            "Starting iteration 0\n",
            "Iteration 0 ended\n",
            "Starting iteration 1\n",
            "Iteration 1 ended\n",
            "Starting iteration 2\n",
            "Iteration 2 ended\n",
            "Starting iteration 3\n",
            "Iteration 3 ended\n",
            "Starting iteration 4\n",
            "Iteration 4 ended\n",
            "----------------------------------\n",
            "Temperatures = 0.5\n",
            "Starting iteration 0\n",
            "Iteration 0 ended\n",
            "Starting iteration 1\n",
            "Iteration 1 ended\n",
            "Starting iteration 2\n",
            "Iteration 2 ended\n",
            "Starting iteration 3\n",
            "Iteration 3 ended\n",
            "Starting iteration 4\n",
            "Iteration 4 ended\n",
            "----------------------------------\n",
            "Temperatures = 0.6\n",
            "Starting iteration 0\n",
            "Iteration 0 ended\n",
            "Starting iteration 1\n",
            "Iteration 1 ended\n",
            "Starting iteration 2\n",
            "Iteration 2 ended\n",
            "Starting iteration 3\n",
            "Iteration 3 ended\n",
            "Starting iteration 4\n",
            "Iteration 4 ended\n",
            "----------------------------------\n",
            "Temperatures = 0.7\n",
            "Starting iteration 0\n",
            "Iteration 0 ended\n",
            "Starting iteration 1\n",
            "Iteration 1 ended\n",
            "Starting iteration 2\n",
            "Iteration 2 ended\n",
            "Starting iteration 3\n",
            "Iteration 3 ended\n",
            "Starting iteration 4\n",
            "Iteration 4 ended\n",
            "----------------------------------\n",
            "Temperatures = 0.75\n",
            "Starting iteration 0\n",
            "Iteration 0 ended\n",
            "Starting iteration 1\n",
            "Iteration 1 ended\n",
            "Starting iteration 2\n",
            "Iteration 2 ended\n",
            "Starting iteration 3\n",
            "Iteration 3 ended\n",
            "Starting iteration 4\n",
            "Iteration 4 ended\n",
            "----------------------------------\n",
            "Temperatures = 0.8\n",
            "Starting iteration 0\n",
            "Iteration 0 ended\n",
            "Starting iteration 1\n",
            "Iteration 1 ended\n",
            "Starting iteration 2\n",
            "Iteration 2 ended\n",
            "Starting iteration 3\n",
            "Iteration 3 ended\n",
            "Starting iteration 4\n",
            "Iteration 4 ended\n",
            "----------------------------------\n",
            "Temperatures = 1.0\n",
            "Starting iteration 0\n",
            "Iteration 0 ended\n",
            "Starting iteration 1\n",
            "Iteration 1 ended\n",
            "Starting iteration 2\n",
            "Iteration 2 ended\n",
            "Starting iteration 3\n",
            "Iteration 3 ended\n",
            "Starting iteration 4\n",
            "Iteration 4 ended\n",
            "----------------------------------\n",
            "Temperatures = 1.2\n",
            "Starting iteration 0\n",
            "Iteration 0 ended\n",
            "Starting iteration 1\n",
            "Iteration 1 ended\n",
            "Starting iteration 2\n",
            "Iteration 2 ended\n",
            "Starting iteration 3\n",
            "Iteration 3 ended\n",
            "Starting iteration 4\n",
            "Iteration 4 ended\n",
            "----------------------------------\n"
          ],
          "name": "stdout"
        }
      ]
    },
    {
      "cell_type": "code",
      "metadata": {
        "id": "USQrJ50-lIHF",
        "colab_type": "code",
        "colab": {}
      },
      "source": [
        "val_df = pd.DataFrame(validity,columns=['Temp_{}'.format(i) for i in sampling_temperatures])\n",
        "nov_df = pd.DataFrame(novelty,columns=['Temp_{}'.format(i) for i in sampling_temperatures])\n",
        "unq_df = pd.DataFrame(uniqueness,columns=['Temp_{}'.format(i) for i in sampling_temperatures])\n"
      ],
      "execution_count": null,
      "outputs": []
    },
    {
      "cell_type": "code",
      "metadata": {
        "id": "g8iH6diHlQ6e",
        "colab_type": "code",
        "colab": {
          "base_uri": "https://localhost:8080/",
          "height": 206
        },
        "outputId": "5d64d132-c64b-42ba-a21b-f02ab6876e56"
      },
      "source": [
        "nov_df"
      ],
      "execution_count": null,
      "outputs": [
        {
          "output_type": "execute_result",
          "data": {
            "text/html": [
              "<div>\n",
              "<style scoped>\n",
              "    .dataframe tbody tr th:only-of-type {\n",
              "        vertical-align: middle;\n",
              "    }\n",
              "\n",
              "    .dataframe tbody tr th {\n",
              "        vertical-align: top;\n",
              "    }\n",
              "\n",
              "    .dataframe thead th {\n",
              "        text-align: right;\n",
              "    }\n",
              "</style>\n",
              "<table border=\"1\" class=\"dataframe\">\n",
              "  <thead>\n",
              "    <tr style=\"text-align: right;\">\n",
              "      <th></th>\n",
              "      <th>Temp_0.2</th>\n",
              "      <th>Temp_0.5</th>\n",
              "      <th>Temp_0.6</th>\n",
              "      <th>Temp_0.7</th>\n",
              "      <th>Temp_0.75</th>\n",
              "      <th>Temp_0.8</th>\n",
              "      <th>Temp_1.0</th>\n",
              "      <th>Temp_1.2</th>\n",
              "    </tr>\n",
              "  </thead>\n",
              "  <tbody>\n",
              "    <tr>\n",
              "      <th>0</th>\n",
              "      <td>87.530562</td>\n",
              "      <td>81.408597</td>\n",
              "      <td>83.088608</td>\n",
              "      <td>85.642570</td>\n",
              "      <td>88.250126</td>\n",
              "      <td>87.455741</td>\n",
              "      <td>93.089005</td>\n",
              "      <td>96.628571</td>\n",
              "    </tr>\n",
              "    <tr>\n",
              "      <th>1</th>\n",
              "      <td>89.588101</td>\n",
              "      <td>81.771370</td>\n",
              "      <td>83.291139</td>\n",
              "      <td>85.341365</td>\n",
              "      <td>87.280040</td>\n",
              "      <td>89.202825</td>\n",
              "      <td>93.937824</td>\n",
              "      <td>96.420455</td>\n",
              "    </tr>\n",
              "    <tr>\n",
              "      <th>2</th>\n",
              "      <td>89.195402</td>\n",
              "      <td>82.814123</td>\n",
              "      <td>82.845610</td>\n",
              "      <td>85.728643</td>\n",
              "      <td>87.481146</td>\n",
              "      <td>89.303734</td>\n",
              "      <td>93.840580</td>\n",
              "      <td>96.384840</td>\n",
              "    </tr>\n",
              "    <tr>\n",
              "      <th>3</th>\n",
              "      <td>88.782816</td>\n",
              "      <td>81.667530</td>\n",
              "      <td>81.698686</td>\n",
              "      <td>85.699899</td>\n",
              "      <td>87.368421</td>\n",
              "      <td>89.494949</td>\n",
              "      <td>92.559834</td>\n",
              "      <td>96.235026</td>\n",
              "    </tr>\n",
              "    <tr>\n",
              "      <th>4</th>\n",
              "      <td>89.868892</td>\n",
              "      <td>80.735370</td>\n",
              "      <td>83.854692</td>\n",
              "      <td>85.879397</td>\n",
              "      <td>87.562941</td>\n",
              "      <td>88.258906</td>\n",
              "      <td>92.920354</td>\n",
              "      <td>96.950875</td>\n",
              "    </tr>\n",
              "  </tbody>\n",
              "</table>\n",
              "</div>"
            ],
            "text/plain": [
              "    Temp_0.2   Temp_0.5   Temp_0.6  ...   Temp_0.8   Temp_1.0   Temp_1.2\n",
              "0  87.530562  81.408597  83.088608  ...  87.455741  93.089005  96.628571\n",
              "1  89.588101  81.771370  83.291139  ...  89.202825  93.937824  96.420455\n",
              "2  89.195402  82.814123  82.845610  ...  89.303734  93.840580  96.384840\n",
              "3  88.782816  81.667530  81.698686  ...  89.494949  92.559834  96.235026\n",
              "4  89.868892  80.735370  83.854692  ...  88.258906  92.920354  96.950875\n",
              "\n",
              "[5 rows x 8 columns]"
            ]
          },
          "metadata": {
            "tags": []
          },
          "execution_count": 65
        }
      ]
    },
    {
      "cell_type": "code",
      "metadata": {
        "id": "Vx6sjC_IvNI1",
        "colab_type": "code",
        "colab": {}
      },
      "source": [
        ""
      ],
      "execution_count": null,
      "outputs": []
    },
    {
      "cell_type": "code",
      "metadata": {
        "id": "56IUttjilPYw",
        "colab_type": "code",
        "colab": {}
      },
      "source": [
        "val_df.to_csv(Drive/'encoder_validity_2K.csv',index=False)\n",
        "nov_df.to_csv(Drive/'encoder_novelty_2K.csv',index=False)\n",
        "unq_df.to_csv(Drive/'encoder_uniqueness_2K.csv',index=False)"
      ],
      "execution_count": null,
      "outputs": []
    },
    {
      "cell_type": "markdown",
      "metadata": {
        "id": "WW10Htj6Ol90",
        "colab_type": "text"
      },
      "source": [
        "# **Fine tuning**"
      ]
    },
    {
      "cell_type": "code",
      "metadata": {
        "id": "w7SHtH_7LyEM",
        "colab_type": "code",
        "colab": {}
      },
      "source": [
        "full = pd.read_csv('data/AID_1706_misc_combined_processed',sep=';')"
      ],
      "execution_count": null,
      "outputs": []
    },
    {
      "cell_type": "code",
      "metadata": {
        "id": "wriyiCqQAb7H",
        "colab_type": "code",
        "colab": {}
      },
      "source": [
        "pp = Create_Vocab(list(full.processed_smiles))\n",
        "unique_tokens,vocab = pp.tokenize()"
      ],
      "execution_count": null,
      "outputs": []
    },
    {
      "cell_type": "code",
      "metadata": {
        "id": "Tlh16BRcReX4",
        "colab_type": "code",
        "colab": {
          "base_uri": "https://localhost:8080/",
          "height": 16
        },
        "outputId": "edb8099a-8b8c-4561-fb07-cb400e3e80c1"
      },
      "source": [
        "tokenizer = Tokenizer(MolTokenizer,pre_rules=[],post_rules=[],special_cases=[PAD,BOS,EOS,UNK])\n",
        "processors = [TokenizeProcessor(tokenizer=tokenizer, mark_fields=False,include_bos=False),\n",
        "            NumericalizeProcessor(vocab=vocab)]\n",
        "src = (TextList.from_df(full,path=COV,cols='processed_smiles',processor=processors).split_by_rand_pct(0.10).label_for_lm())"
      ],
      "execution_count": null,
      "outputs": [
        {
          "output_type": "display_data",
          "data": {
            "text/html": [
              ""
            ],
            "text/plain": [
              "<IPython.core.display.HTML object>"
            ]
          },
          "metadata": {
            "tags": []
          }
        },
        {
          "output_type": "display_data",
          "data": {
            "text/html": [
              ""
            ],
            "text/plain": [
              "<IPython.core.display.HTML object>"
            ]
          },
          "metadata": {
            "tags": []
          }
        }
      ]
    },
    {
      "cell_type": "code",
      "metadata": {
        "id": "6XxD5ZtvRxWO",
        "colab_type": "code",
        "colab": {}
      },
      "source": [
        "data_fn = src.databunch()"
      ],
      "execution_count": null,
      "outputs": []
    },
    {
      "cell_type": "code",
      "metadata": {
        "id": "Uv4helDXR7Ns",
        "colab_type": "code",
        "colab": {
          "base_uri": "https://localhost:8080/",
          "height": 197
        },
        "outputId": "81333ebd-7848-4a52-cfce-44031a7da8d1"
      },
      "source": [
        "data_fn.show_batch()"
      ],
      "execution_count": null,
      "outputs": [
        {
          "output_type": "display_data",
          "data": {
            "text/html": [
              "<table border=\"1\" class=\"dataframe\">\n",
              "  <thead>\n",
              "    <tr style=\"text-align: right;\">\n",
              "      <th>idx</th>\n",
              "      <th>text</th>\n",
              "    </tr>\n",
              "  </thead>\n",
              "  <tbody>\n",
              "    <tr>\n",
              "      <td>0</td>\n",
              "      <td>N ) c 4 c c c c c 3 4 ) C ( = O ) N C 2 = O ) c 2 c c c c c 2 1 xxeos xxbos C N ( C ) C C C n 1 c c ( C 2 = C ( c 3 c n ( C ) c 4 c c c c c 3 4 ) C</td>\n",
              "    </tr>\n",
              "    <tr>\n",
              "      <td>1</td>\n",
              "      <td>n c 3 2 ) c 1 xxeos xxbos C C N ( C C ) c 1 c c c ( / C = N / N c 2 n c n c 3 c 2 c n n 3 - c 2 c c c c ( O C ) c 2 ) c c 1 xxeos xxbos C O c 1 c c c c ( -</td>\n",
              "    </tr>\n",
              "    <tr>\n",
              "      <td>2</td>\n",
              "      <td>c 1 Cl xxeos xxbos C O c 1 c c 2 c ( N c 3 c c c ( S c 4 n c c n 4 C ) c ( Cl ) c 3 ) c ( C # N ) c n c 2 c c 1 O C C C N 1 C C [S+] ( O ) C C 1 xxeos xxbos C O</td>\n",
              "    </tr>\n",
              "    <tr>\n",
              "      <td>3</td>\n",
              "      <td>c c 2 c ( c 1 ) c 1 c 3 c ( c 4 c ( c 1 n 2 C C C O ) C c 1 c c c c c 1 - 4 ) C ( = O ) N C 3 xxeos xxbos C O C C O c 1 c c 2 n c c c ( N c 3 c c c</td>\n",
              "    </tr>\n",
              "    <tr>\n",
              "      <td>4</td>\n",
              "      <td>( = O ) N C ( C ) ( C ) C ) c ( - c 4 c c c c c 4 ) c c 3 c n 2 ) C C 1 xxeos xxbos C O c 1 c c ( O C ) c c ( - c 2 c c 3 c n c ( N C C C N 4 C C N</td>\n",
              "    </tr>\n",
              "  </tbody>\n",
              "</table>"
            ],
            "text/plain": [
              "<IPython.core.display.HTML object>"
            ]
          },
          "metadata": {
            "tags": []
          }
        }
      ]
    },
    {
      "cell_type": "code",
      "metadata": {
        "id": "Z2F0jN7MSHnj",
        "colab_type": "code",
        "colab": {}
      },
      "source": [
        "data_fn.save('data_fn.pkl')"
      ],
      "execution_count": null,
      "outputs": []
    },
    {
      "cell_type": "code",
      "metadata": {
        "id": "wT_wgoae_Fjz",
        "colab_type": "code",
        "colab": {}
      },
      "source": [
        "# Reference dataset\n",
        "obj_ref = list(set(full.processed_smiles))"
      ],
      "execution_count": null,
      "outputs": []
    },
    {
      "cell_type": "code",
      "metadata": {
        "id": "Ax8MViw-yHKE",
        "colab_type": "code",
        "colab": {}
      },
      "source": [
        "# Load pretrained model\n",
        "\n",
        "pretrained_vocab = '/content/drive/My Drive/Generative/encoder_v2_1/vocab.pkl'\n",
        "pretrained_wgts = '/content/drive/My Drive/Generative/encoder_v2_1/encoder_weights.pth'\n",
        "fnames = [pretrained_wgts,pretrained_vocab]"
      ],
      "execution_count": null,
      "outputs": []
    },
    {
      "cell_type": "code",
      "metadata": {
        "id": "jH48W8lDGxAN",
        "colab_type": "code",
        "colab": {}
      },
      "source": [
        "learn_fn = language_model_learner(data_fn, AWD_LSTM, pretrained=False,config=config,drop_mult=0.2,model_dir=Path('.'),\n",
        "                               metrics=[accuracy,error_rate],callback_fns=[partial(CSVLogger,append=True)]).load_pretrained(*fnames)\n",
        "learn_fn.freeze()\n"
      ],
      "execution_count": null,
      "outputs": []
    },
    {
      "cell_type": "code",
      "metadata": {
        "id": "5a7pdam9AIj_",
        "colab_type": "code",
        "colab": {
          "base_uri": "https://localhost:8080/",
          "height": 112
        },
        "outputId": "d1ac633c-501c-4686-82a5-f81a1e260cd8"
      },
      "source": [
        "learn_fn.lr_find(num_it=600)"
      ],
      "execution_count": null,
      "outputs": [
        {
          "output_type": "display_data",
          "data": {
            "text/html": [
              "\n",
              "    <div>\n",
              "        <style>\n",
              "            /* Turns off some styling */\n",
              "            progress {\n",
              "                /* gets rid of default border in Firefox and Opera. */\n",
              "                border: none;\n",
              "                /* Needs to be in here for Safari polyfill so background images work as expected. */\n",
              "                background-size: auto;\n",
              "            }\n",
              "            .progress-bar-interrupted, .progress-bar-interrupted::-webkit-progress-bar {\n",
              "                background: #F44336;\n",
              "            }\n",
              "        </style>\n",
              "      <progress value='0' class='' max='1' style='width:300px; height:20px; vertical-align: middle;'></progress>\n",
              "      0.00% [0/1 00:00<00:00]\n",
              "    </div>\n",
              "    \n",
              "<table border=\"1\" class=\"dataframe\">\n",
              "  <thead>\n",
              "    <tr style=\"text-align: left;\">\n",
              "      <th>epoch</th>\n",
              "      <th>train_loss</th>\n",
              "      <th>valid_loss</th>\n",
              "      <th>accuracy</th>\n",
              "      <th>error_rate</th>\n",
              "      <th>time</th>\n",
              "    </tr>\n",
              "  </thead>\n",
              "  <tbody>\n",
              "  </tbody>\n",
              "</table><p>\n",
              "\n",
              "    <div>\n",
              "        <style>\n",
              "            /* Turns off some styling */\n",
              "            progress {\n",
              "                /* gets rid of default border in Firefox and Opera. */\n",
              "                border: none;\n",
              "                /* Needs to be in here for Safari polyfill so background images work as expected. */\n",
              "                background-size: auto;\n",
              "            }\n",
              "            .progress-bar-interrupted, .progress-bar-interrupted::-webkit-progress-bar {\n",
              "                background: #F44336;\n",
              "            }\n",
              "        </style>\n",
              "      <progress value='574' class='' max='912' style='width:300px; height:20px; vertical-align: middle;'></progress>\n",
              "      62.94% [574/912 00:23<00:13 1.9605]\n",
              "    </div>\n",
              "    "
            ],
            "text/plain": [
              "<IPython.core.display.HTML object>"
            ]
          },
          "metadata": {
            "tags": []
          }
        },
        {
          "output_type": "stream",
          "text": [
            "LR Finder is complete, type {learner_name}.recorder.plot() to see the graph.\n"
          ],
          "name": "stdout"
        }
      ]
    },
    {
      "cell_type": "code",
      "metadata": {
        "id": "tqzsuLQ4BmzN",
        "colab_type": "code",
        "colab": {
          "base_uri": "https://localhost:8080/",
          "height": 278
        },
        "outputId": "baad75d4-1adb-4f1e-cba1-d0bdf2da5702"
      },
      "source": [
        "learn_fn.recorder.plot(skip_end=25)"
      ],
      "execution_count": null,
      "outputs": [
        {
          "output_type": "display_data",
          "data": {
            "image/png": "[encoded data removed]",
            "text/plain": [
              "<Figure size 432x288 with 1 Axes>"
            ]
          },
          "metadata": {
            "tags": [],
            "needs_background": "light"
          }
        }
      ]
    },
    {
      "cell_type": "code",
      "metadata": {
        "id": "z51WjAvQBtg6",
        "colab_type": "code",
        "colab": {
          "base_uri": "https://localhost:8080/",
          "height": 543
        },
        "outputId": "2a776b7c-542c-47c0-b68a-8b23310b95a4"
      },
      "source": [
        "learn_fn.fit_one_cycle(4, 4e-2,moms=(0.8,0.7),\n",
        "                       callbacks=[SamplingCB2(learn_fn,num_samples=1000,objective_mols=obj_ref),\n",
        "                                   SaveModelCallback(learn_fn, every='improvement',monitor='accuracy', name='bestmodel')])"
      ],
      "execution_count": null,
      "outputs": [
        {
          "output_type": "display_data",
          "data": {
            "text/html": [
              "<table border=\"1\" class=\"dataframe\">\n",
              "  <thead>\n",
              "    <tr style=\"text-align: left;\">\n",
              "      <th>epoch</th>\n",
              "      <th>train_loss</th>\n",
              "      <th>valid_loss</th>\n",
              "      <th>accuracy</th>\n",
              "      <th>error_rate</th>\n",
              "      <th>Valid</th>\n",
              "      <th>Unique</th>\n",
              "      <th>Novel</th>\n",
              "      <th>time</th>\n",
              "    </tr>\n",
              "  </thead>\n",
              "  <tbody>\n",
              "    <tr>\n",
              "      <td>0</td>\n",
              "      <td>0.474551</td>\n",
              "      <td>0.449156</td>\n",
              "      <td>0.845897</td>\n",
              "      <td>0.154103</td>\n",
              "      <td>0.958000</td>\n",
              "      <td>0.958000</td>\n",
              "      <td>0.925000</td>\n",
              "      <td>02:22</td>\n",
              "    </tr>\n",
              "    <tr>\n",
              "      <td>1</td>\n",
              "      <td>0.467781</td>\n",
              "      <td>0.445632</td>\n",
              "      <td>0.847286</td>\n",
              "      <td>0.152714</td>\n",
              "      <td>0.953000</td>\n",
              "      <td>0.953000</td>\n",
              "      <td>0.919000</td>\n",
              "      <td>02:23</td>\n",
              "    </tr>\n",
              "    <tr>\n",
              "      <td>2</td>\n",
              "      <td>0.467089</td>\n",
              "      <td>0.442787</td>\n",
              "      <td>0.847816</td>\n",
              "      <td>0.152184</td>\n",
              "      <td>0.970000</td>\n",
              "      <td>0.968000</td>\n",
              "      <td>0.945000</td>\n",
              "      <td>02:19</td>\n",
              "    </tr>\n",
              "    <tr>\n",
              "      <td>3</td>\n",
              "      <td>0.465809</td>\n",
              "      <td>0.441456</td>\n",
              "      <td>0.848486</td>\n",
              "      <td>0.151514</td>\n",
              "      <td>0.961000</td>\n",
              "      <td>0.961000</td>\n",
              "      <td>0.931000</td>\n",
              "      <td>02:18</td>\n",
              "    </tr>\n",
              "  </tbody>\n",
              "</table>"
            ],
            "text/plain": [
              "<IPython.core.display.HTML object>"
            ]
          },
          "metadata": {
            "tags": []
          }
        },
        {
          "output_type": "stream",
          "text": [
            "Sampling...\n",
            "Sample of generated SMILES\n",
            "['Cc1cc(C)nc(NC(=O)C(=O)c2cn(C(C)(C)C)c3ncccc23)n1', 'Cc1cccc(-c2cc(NC(=O)c3ccc(C(=O)Nc4cccc(C(=O)N5CCN(C)CC5)c4)cc3)cc(C(F)(F)F)c2)c1', 'CC(C)c1ccc2c(c1)CCC1C(C)(CN)CCCC21C', 'COc1ccc(N2CCN(C(=O)c3nc4ccccc4nc3Oc3ccc(O)c(C(=O)O)c3)CC2)cc1', 'COc1cc(C(=O)Nc2ccc(-c3ccc(-c4nc5cc(F)cc(F)c5[nH]4)cc3)cc2)cc(OC)c1OC']\n",
            "['Cc1cc(C)nc(NC(=O)C(=O)c2cn(C(C)(C)C)c3ncccc23)n1', 'Cc1cccc(-c2cc(NC(=O)c3ccc(C(=O)Nc4cccc(C(=O)N5CCN(C)CC5)c4)cc3)cc(C(F)(F)F)c2)c1', 'CC(C)c1ccc2c(c1)CCC1C(C)(CN)CCCC21C', 'COc1ccc(N2CCN(C(=O)c3nc4ccccc4nc3Oc3ccc(O)c(C(=O)O)c3)CC2)cc1', 'COc1cc(C(=O)Nc2ccc(-c3ccc(-c4nc5cc(F)cc(F)c5[nH]4)cc3)cc2)cc(OC)c1OC']\n",
            "Better model found at epoch 0 with accuracy value: 0.84589684009552.\n",
            "Sampling...\n",
            "Sample of generated SMILES\n",
            "['CCN(CC)CCNC(=O)c1ccc(N/Cc2cn(-c3ccc(OC)cc3)nc2-c2ccc(F)cc2)cc1', 'Fc1ccc(Nc2ncnc3ccc(NC(=S)Nc4ccccc4Cl)cc23)cc1Cl', 'CCCCCCCCCCCCC(O)C1CCC(C(O)CCCCC(O)CCCCCCCCCC(O)CC2=CC(C)OC2=O)O1', 'NC(=O)c1ccc(-c2cnc3cnc(-c4cccnc4)cn23)cc1', 'Cn1cnc2c(NCC3CCCO3)nc(Nc3ccc(OCCN4CCCC4)c(Cl)c3)nc21']\n",
            "['CCN(CC)CCNC(=O)c1ccc(N/Cc2cn(-c3ccc(OC)cc3)nc2-c2ccc(F)cc2)cc1', 'Fc1ccc(Nc2ncnc3ccc(NC(=S)Nc4ccccc4Cl)cc23)cc1Cl', 'CCCCCCCCCCCCC(O)C1CCC(C(O)CCCCC(O)CCCCCCCCCC(O)CC2=CC(C)OC2=O)O1', 'NC(=O)c1ccc(-c2cnc3cnc(-c4cccnc4)cn23)cc1', 'Cn1cnc2c(NCC3CCCO3)nc(Nc3ccc(OCCN4CCCC4)c(Cl)c3)nc21']\n",
            "Better model found at epoch 1 with accuracy value: 0.8472862243652344.\n",
            "Sampling...\n",
            "Sample of generated SMILES\n",
            "['CC(C)(C)OC(=O)N1CCC(CC#N)(n2cc(C(N)=O)c(Nc3ccc(C(F)(F)F)cc3)n2)CC1', 'CC(C)c1ccc(NC(=O)c2ccccc2C(=O)Nc2nccs2)cc1', 'CC(C)C(NC(=O)c1ccc(-c2nc([C@H]3CCC(O)CC3)cnc2N)cc1F)c1cccc(Cl)c1', 'COc1ccc(-c2ccc3ncc4[nH]c(=O)n(-c5ccc(N6CCOCC6)cc5)c4c3c2)cn1', 'CC(C)(C)c1cc(NC(=O)Nc2ccc(-c3cccc4[nH]c(=O)c(N)cc34)cc2)no1']\n",
            "['CC(C)(C)OC(=O)N1CCC(CC#N)(n2cc(C(N)=O)c(Nc3ccc(C(F)(F)F)cc3)n2)CC1', 'CC(C)c1ccc(NC(=O)c2ccccc2C(=O)Nc2nccs2)cc1', 'CC(C)C(NC(=O)c1ccc(-c2nc([C@H]3CCC(O)CC3)cnc2N)cc1F)c1cccc(Cl)c1', 'COc1ccc(-c2ccc3ncc4[nH]c(=O)n(-c5ccc(N6CCOCC6)cc5)c4c3c2)cn1', 'CC(C)(C)c1cc(NC(=O)Nc2ccc(-c3cccc4[nH]c(=O)c(N)cc34)cc2)no1']\n",
            "Better model found at epoch 2 with accuracy value: 0.8478161096572876.\n",
            "Sampling...\n",
            "Sample of generated SMILES\n",
            "['COc1ccc(OC)c(NC(=O)Nc2ccc3c(c2)OCO3)c1', 'CN(C)c1ccc(/c2ccc(-c3nc4ccccc4[nH]3)cc2)cc1', 'Cc1cc(Nc2cccc(Cl)c2)n(-c2ccccc2)n1', 'COC(=O)Nc1nc2ccc(Oc3ccc(NC(=O)Nc4cc(C(C)(C)C)on4)cc3)cc2cn1', 'Cc1cc(C)cc(NC(=O)CN(C)CC(=O)Nc2ccc(F)cc2)c1']\n",
            "['COc1ccc(OC)c(NC(=O)Nc2ccc3c(c2)OCO3)c1', 'CN(C)c1ccc(/c2ccc(-c3nc4ccccc4[nH]3)cc2)cc1', 'Cc1cc(Nc2cccc(Cl)c2)n(-c2ccccc2)n1', 'COC(=O)Nc1nc2ccc(Oc3ccc(NC(=O)Nc4cc(C(C)(C)C)on4)cc3)cc2cn1', 'Cc1cc(C)cc(NC(=O)CN(C)CC(=O)Nc2ccc(F)cc2)c1']\n",
            "Better model found at epoch 3 with accuracy value: 0.8484857082366943.\n"
          ],
          "name": "stdout"
        }
      ]
    },
    {
      "cell_type": "code",
      "metadata": {
        "id": "eAB4LdoxCSHD",
        "colab_type": "code",
        "colab": {}
      },
      "source": [
        "learn_fn.save('fit1');"
      ],
      "execution_count": null,
      "outputs": []
    },
    {
      "cell_type": "code",
      "metadata": {
        "id": "U3l_IGRSCYAa",
        "colab_type": "code",
        "colab": {}
      },
      "source": [
        "learn_fn.freeze_to(-2)"
      ],
      "execution_count": null,
      "outputs": []
    },
    {
      "cell_type": "code",
      "metadata": {
        "id": "LNks11xnChsR",
        "colab_type": "code",
        "colab": {
          "base_uri": "https://localhost:8080/",
          "height": 112
        },
        "outputId": "c09de8f5-9c64-47be-c9d7-04325076b439"
      },
      "source": [
        "learn_fn.lr_find(num_it=600)"
      ],
      "execution_count": null,
      "outputs": [
        {
          "output_type": "display_data",
          "data": {
            "text/html": [
              "\n",
              "    <div>\n",
              "        <style>\n",
              "            /* Turns off some styling */\n",
              "            progress {\n",
              "                /* gets rid of default border in Firefox and Opera. */\n",
              "                border: none;\n",
              "                /* Needs to be in here for Safari polyfill so background images work as expected. */\n",
              "                background-size: auto;\n",
              "            }\n",
              "            .progress-bar-interrupted, .progress-bar-interrupted::-webkit-progress-bar {\n",
              "                background: #F44336;\n",
              "            }\n",
              "        </style>\n",
              "      <progress value='0' class='' max='1' style='width:300px; height:20px; vertical-align: middle;'></progress>\n",
              "      0.00% [0/1 00:00<00:00]\n",
              "    </div>\n",
              "    \n",
              "<table border=\"1\" class=\"dataframe\">\n",
              "  <thead>\n",
              "    <tr style=\"text-align: left;\">\n",
              "      <th>epoch</th>\n",
              "      <th>train_loss</th>\n",
              "      <th>valid_loss</th>\n",
              "      <th>accuracy</th>\n",
              "      <th>error_rate</th>\n",
              "      <th>time</th>\n",
              "    </tr>\n",
              "  </thead>\n",
              "  <tbody>\n",
              "  </tbody>\n",
              "</table><p>\n",
              "\n",
              "    <div>\n",
              "        <style>\n",
              "            /* Turns off some styling */\n",
              "            progress {\n",
              "                /* gets rid of default border in Firefox and Opera. */\n",
              "                border: none;\n",
              "                /* Needs to be in here for Safari polyfill so background images work as expected. */\n",
              "                background-size: auto;\n",
              "            }\n",
              "            .progress-bar-interrupted, .progress-bar-interrupted::-webkit-progress-bar {\n",
              "                background: #F44336;\n",
              "            }\n",
              "        </style>\n",
              "      <progress value='573' class='' max='912' style='width:300px; height:20px; vertical-align: middle;'></progress>\n",
              "      62.83% [573/912 00:23<00:14 1.7485]\n",
              "    </div>\n",
              "    "
            ],
            "text/plain": [
              "<IPython.core.display.HTML object>"
            ]
          },
          "metadata": {
            "tags": []
          }
        },
        {
          "output_type": "stream",
          "text": [
            "LR Finder is complete, type {learner_name}.recorder.plot() to see the graph.\n"
          ],
          "name": "stdout"
        }
      ]
    },
    {
      "cell_type": "code",
      "metadata": {
        "id": "DWGXuDYLCiUr",
        "colab_type": "code",
        "colab": {
          "base_uri": "https://localhost:8080/",
          "height": 314
        },
        "outputId": "cf6284a2-70a5-48e2-ad5d-10b5666c9869"
      },
      "source": [
        "learn_fn.recorder.plot(suggestion=True)"
      ],
      "execution_count": null,
      "outputs": [
        {
          "output_type": "stream",
          "text": [
            "Min numerical gradient: 1.45E-07\n",
            "Min loss divided by 10: 6.31E-04\n"
          ],
          "name": "stdout"
        },
        {
          "output_type": "display_data",
          "data": {
            "image/png": "[encoded data removed]",
            "text/plain": [
              "<Figure size 432x288 with 1 Axes>"
            ]
          },
          "metadata": {
            "tags": [],
            "needs_background": "light"
          }
        }
      ]
    },
    {
      "cell_type": "code",
      "metadata": {
        "id": "ZTK2OXsLZRie",
        "colab_type": "code",
        "colab": {
          "base_uri": "https://localhost:8080/",
          "height": 424
        },
        "outputId": "a8543681-5690-4443-f62c-6f29c3028f61"
      },
      "source": [
        "learn_fn.fit_one_cycle(3, slice(1e-2/(2.6**4),1e-2),moms=(0.8,0.7),\n",
        "                        callbacks=[SamplingCB2(learn_fn,num_samples=1000,objective_mols=obj_ref),\n",
        "                                   SaveModelCallback(learn_fn, every='improvement', \n",
        "                                                     monitor='accuracy', name='bestmodel')])"
      ],
      "execution_count": null,
      "outputs": [
        {
          "output_type": "display_data",
          "data": {
            "text/html": [
              "<table border=\"1\" class=\"dataframe\">\n",
              "  <thead>\n",
              "    <tr style=\"text-align: left;\">\n",
              "      <th>epoch</th>\n",
              "      <th>train_loss</th>\n",
              "      <th>valid_loss</th>\n",
              "      <th>accuracy</th>\n",
              "      <th>error_rate</th>\n",
              "      <th>Valid</th>\n",
              "      <th>Unique</th>\n",
              "      <th>Novel</th>\n",
              "      <th>time</th>\n",
              "    </tr>\n",
              "  </thead>\n",
              "  <tbody>\n",
              "    <tr>\n",
              "      <td>0</td>\n",
              "      <td>0.418731</td>\n",
              "      <td>0.396142</td>\n",
              "      <td>0.862717</td>\n",
              "      <td>0.137283</td>\n",
              "      <td>0.983000</td>\n",
              "      <td>0.952000</td>\n",
              "      <td>0.818000</td>\n",
              "      <td>02:33</td>\n",
              "    </tr>\n",
              "    <tr>\n",
              "      <td>1</td>\n",
              "      <td>0.380107</td>\n",
              "      <td>0.368816</td>\n",
              "      <td>0.871490</td>\n",
              "      <td>0.128510</td>\n",
              "      <td>0.986000</td>\n",
              "      <td>0.945000</td>\n",
              "      <td>0.735000</td>\n",
              "      <td>02:33</td>\n",
              "    </tr>\n",
              "    <tr>\n",
              "      <td>2</td>\n",
              "      <td>0.360735</td>\n",
              "      <td>0.360141</td>\n",
              "      <td>0.874757</td>\n",
              "      <td>0.125243</td>\n",
              "      <td>0.981000</td>\n",
              "      <td>0.955000</td>\n",
              "      <td>0.728000</td>\n",
              "      <td>02:33</td>\n",
              "    </tr>\n",
              "  </tbody>\n",
              "</table>"
            ],
            "text/plain": [
              "<IPython.core.display.HTML object>"
            ]
          },
          "metadata": {
            "tags": []
          }
        },
        {
          "output_type": "stream",
          "text": [
            "Sampling...\n",
            "Sample of generated SMILES\n",
            "['CC(C)(C)c1ccc(Nc2ncnc3ccc(NC(=O)Nc4cccc(Cl)c4)cc23)cc1', 'COc1cc2c(Oc3ccc(NS(=O)(=O)c4cncn4C)cc3F)ccnc2cc1OCCCN1CCN(C)CC1', 'CC(C)(C)c1cc(NC(=O)Nc2ccc(-c3cc(NC(=O)c4ccnc(N5CCCC5)c4)cnc3-c3cccc(NCCN4CCOCC4)c3)cc2)no1', 'Cc1ccc(NC(=O)c2cccc(C(F)(F)F)c2)cc1-c1cnc(O[C@H](C)(C)C)c(N2CCOCC2)c1', 'CC(C)S(=O)(=O)Nc1ccc(CNC(=O)Nc2cc3[nH]nc(-c4ccnc(C(F)(F)F)c4)c3cn2)cc1']\n",
            "['CC(C)(C)c1ccc(Nc2ncnc3ccc(NC(=O)Nc4cccc(Cl)c4)cc23)cc1', 'COc1cc2c(Oc3ccc(NS(=O)(=O)c4cncn4C)cc3F)ccnc2cc1OCCCN1CCN(C)CC1', 'CC(C)(C)c1cc(NC(=O)Nc2ccc(-c3cc(NC(=O)c4ccnc(N5CCCC5)c4)cnc3-c3cccc(NCCN4CCOCC4)c3)cc2)no1', 'CC(C)S(=O)(=O)Nc1ccc(CNC(=O)Nc2cc3[nH]nc(-c4ccnc(C(F)(F)F)c4)c3cn2)cc1', 'O=C(Nc1ccccc1)Nc1ccc(-c2nc(N3CCOCC3)c3cnn(C4CCN(Cc5ccc(-c6ccccc6)cc5)CC4)c3n2)cc1']\n",
            "Better model found at epoch 0 with accuracy value: 0.8627166748046875.\n",
            "Sampling...\n",
            "Sample of generated SMILES\n",
            "['CC(C)Nc1nccc(-c2nc(C3CC3)[nH]c2-c2cccc(NS(=O)(=O)C(C)C)c2)n1', 'O=C(Nc1ccc(Oc2ccnc3[nH]ccc23)c(F)c1)c1nc2ccccc2[nH]1', 'Cc1ccc(NC(=O)c2ccc(N(C)CCN(C)C)c(C(F)(F)F)c2)cc1Nc1ncnc2cnc(N3CCC(F)C3)nc12', 'CCOc1cc2ncc(C#N)c(Nc3ccc(OC(C)c4nccn4C)c(Cl)c3)c2cc1NC(=O)/C=C/CN(C)C', 'C=CC(=O)Nc1cccc(CNc2nc(Nc3ccc(N4CCN(C)CC4)cc3OC)ncc2Cl)c1']\n",
            "['CC(C)Nc1nccc(-c2nc(C3CC3)[nH]c2-c2cccc(NS(=O)(=O)C(C)C)c2)n1', 'O=C(Nc1ccc(Oc2ccnc3[nH]ccc23)c(F)c1)c1nc2ccccc2[nH]1', 'Cc1ccc(NC(=O)c2ccc(N(C)CCN(C)C)c(C(F)(F)F)c2)cc1Nc1ncnc2cnc(N3CCC(F)C3)nc12', 'CCOc1cc2ncc(C#N)c(Nc3ccc(OC(C)c4nccn4C)c(Cl)c3)c2cc1NC(=O)/C=C/CN(C)C', 'C=CC(=O)Nc1cccc(CNc2nc(Nc3ccc(N4CCN(C)CC4)cc3OC)ncc2Cl)c1']\n",
            "Better model found at epoch 1 with accuracy value: 0.871489942073822.\n",
            "Sampling...\n",
            "Sample of generated SMILES\n",
            "['COc1cc2ncnc(Nc3cccc(Cl)c3F)c2cc1CN1CC(O)C1', 'COc1ccc(-c2cnc3[nH]cc(-c4ccc(CN5CCN(C)CC5)cc4)c3c2)cc1F', 'CCN(CC)CC(=O)Nc1ccc2ncc(C#N)c(Nc3cccc(Br)c3)c2c1', 'CC(C)(C)c1ccc(C(=O)Nc2cc(C(F)(F)F)ccn2)cc1', 'Cc1ccc(C(=O)Nc2cc(C(C)(C)C)on2)cc1Nc1ncnc2cnc(N3CCCC3)nc12']\n",
            "['COc1cc2ncnc(Nc3cccc(Cl)c3F)c2cc1CN1CC(O)C1', 'COc1ccc(-c2cnc3[nH]cc(-c4ccc(CN5CCN(C)CC5)cc4)c3c2)cc1F', 'CCN(CC)CC(=O)Nc1ccc2ncc(C#N)c(Nc3cccc(Br)c3)c2c1', 'CC(C)(C)c1ccc(C(=O)Nc2cc(C(F)(F)F)ccn2)cc1', 'Cc1ccc(C(=O)Nc2cc(C(C)(C)C)on2)cc1Nc1ncnc2cnc(N3CCCC3)nc12']\n",
            "Better model found at epoch 2 with accuracy value: 0.8747572302818298.\n"
          ],
          "name": "stdout"
        }
      ]
    },
    {
      "cell_type": "code",
      "metadata": {
        "id": "4Ok15Rv4ZSMh",
        "colab_type": "code",
        "colab": {}
      },
      "source": [
        "learn_fn.save('fit2')"
      ],
      "execution_count": null,
      "outputs": []
    },
    {
      "cell_type": "code",
      "metadata": {
        "id": "lfqYilM8_ugu",
        "colab_type": "code",
        "colab": {}
      },
      "source": [
        "learn_fn.load('fit2');\n",
        "learn_fn.unfreeze()"
      ],
      "execution_count": null,
      "outputs": []
    },
    {
      "cell_type": "code",
      "metadata": {
        "id": "tG1qZeqM9Z9l",
        "colab_type": "code",
        "colab": {
          "base_uri": "https://localhost:8080/",
          "height": 112
        },
        "outputId": "ad3e1cbc-6333-4cd1-a965-b4edec49452c"
      },
      "source": [
        "learn_fn.lr_find(num_it=600)"
      ],
      "execution_count": null,
      "outputs": [
        {
          "output_type": "display_data",
          "data": {
            "text/html": [
              "\n",
              "    <div>\n",
              "        <style>\n",
              "            /* Turns off some styling */\n",
              "            progress {\n",
              "                /* gets rid of default border in Firefox and Opera. */\n",
              "                border: none;\n",
              "                /* Needs to be in here for Safari polyfill so background images work as expected. */\n",
              "                background-size: auto;\n",
              "            }\n",
              "            .progress-bar-interrupted, .progress-bar-interrupted::-webkit-progress-bar {\n",
              "                background: #F44336;\n",
              "            }\n",
              "        </style>\n",
              "      <progress value='0' class='' max='1' style='width:300px; height:20px; vertical-align: middle;'></progress>\n",
              "      0.00% [0/1 00:00<00:00]\n",
              "    </div>\n",
              "    \n",
              "<table border=\"1\" class=\"dataframe\">\n",
              "  <thead>\n",
              "    <tr style=\"text-align: left;\">\n",
              "      <th>epoch</th>\n",
              "      <th>train_loss</th>\n",
              "      <th>valid_loss</th>\n",
              "      <th>accuracy</th>\n",
              "      <th>error_rate</th>\n",
              "      <th>time</th>\n",
              "    </tr>\n",
              "  </thead>\n",
              "  <tbody>\n",
              "  </tbody>\n",
              "</table><p>\n",
              "\n",
              "    <div>\n",
              "        <style>\n",
              "            /* Turns off some styling */\n",
              "            progress {\n",
              "                /* gets rid of default border in Firefox and Opera. */\n",
              "                border: none;\n",
              "                /* Needs to be in here for Safari polyfill so background images work as expected. */\n",
              "                background-size: auto;\n",
              "            }\n",
              "            .progress-bar-interrupted, .progress-bar-interrupted::-webkit-progress-bar {\n",
              "                background: #F44336;\n",
              "            }\n",
              "        </style>\n",
              "      <progress value='499' class='' max='912' style='width:300px; height:20px; vertical-align: middle;'></progress>\n",
              "      54.71% [499/912 00:24<00:20 1.3954]\n",
              "    </div>\n",
              "    "
            ],
            "text/plain": [
              "<IPython.core.display.HTML object>"
            ]
          },
          "metadata": {
            "tags": []
          }
        },
        {
          "output_type": "stream",
          "text": [
            "LR Finder is complete, type {learner_name}.recorder.plot() to see the graph.\n"
          ],
          "name": "stdout"
        }
      ]
    },
    {
      "cell_type": "code",
      "metadata": {
        "id": "BHJjURhP9bsC",
        "colab_type": "code",
        "colab": {
          "base_uri": "https://localhost:8080/",
          "height": 278
        },
        "outputId": "77481ff9-4248-4d0e-eb00-6b71c1b3718a"
      },
      "source": [
        "learn_fn.recorder.plot()"
      ],
      "execution_count": null,
      "outputs": [
        {
          "output_type": "display_data",
          "data": {
            "image/png": "[encoded data removed]",
            "text/plain": [
              "<Figure size 432x288 with 1 Axes>"
            ]
          },
          "metadata": {
            "tags": [],
            "needs_background": "light"
          }
        }
      ]
    },
    {
      "cell_type": "code",
      "metadata": {
        "id": "aDNZ99O79bhf",
        "colab_type": "code",
        "colab": {
          "base_uri": "https://localhost:8080/",
          "height": 305
        },
        "outputId": "47a8ab02-326e-4fe8-b339-e56050f7f008"
      },
      "source": [
        "learn_fn.fit_one_cycle(2, slice(1e-3/(2.6**4),1e-3),moms=(0.8,0.7),\n",
        "                        callbacks=[SamplingCB2(learn_fn,num_samples=1000,objective_mols=obj_ref),\n",
        "                                   SaveModelCallback(learn_fn, every='improvement', \n",
        "                                                     monitor='accuracy', name='bestmodel')])"
      ],
      "execution_count": null,
      "outputs": [
        {
          "output_type": "display_data",
          "data": {
            "text/html": [
              "<table border=\"1\" class=\"dataframe\">\n",
              "  <thead>\n",
              "    <tr style=\"text-align: left;\">\n",
              "      <th>epoch</th>\n",
              "      <th>train_loss</th>\n",
              "      <th>valid_loss</th>\n",
              "      <th>accuracy</th>\n",
              "      <th>error_rate</th>\n",
              "      <th>Valid</th>\n",
              "      <th>Unique</th>\n",
              "      <th>Novel</th>\n",
              "      <th>time</th>\n",
              "    </tr>\n",
              "  </thead>\n",
              "  <tbody>\n",
              "    <tr>\n",
              "      <td>0</td>\n",
              "      <td>0.358883</td>\n",
              "      <td>0.358141</td>\n",
              "      <td>0.875621</td>\n",
              "      <td>0.124379</td>\n",
              "      <td>0.987000</td>\n",
              "      <td>0.935000</td>\n",
              "      <td>0.674000</td>\n",
              "      <td>02:40</td>\n",
              "    </tr>\n",
              "    <tr>\n",
              "      <td>1</td>\n",
              "      <td>0.349450</td>\n",
              "      <td>0.356334</td>\n",
              "      <td>0.876123</td>\n",
              "      <td>0.123877</td>\n",
              "      <td>0.986000</td>\n",
              "      <td>0.959000</td>\n",
              "      <td>0.688000</td>\n",
              "      <td>02:39</td>\n",
              "    </tr>\n",
              "  </tbody>\n",
              "</table>"
            ],
            "text/plain": [
              "<IPython.core.display.HTML object>"
            ]
          },
          "metadata": {
            "tags": []
          }
        },
        {
          "output_type": "stream",
          "text": [
            "Sampling...\n",
            "Sample of generated SMILES\n",
            "['Cc1cc(-c2nc(-c3ccc(C(=O)NCC4CCCN4)cc3)c(-c3ccncn3)[nH]2)ccc1F', 'CN(C)C(=O)[C@H]1CCN(c2ccc(-c3ccc4[nH]c5nccc(-c6ccc(Oc7ccccc7C(F)(F)F)cc6)c5c4c3)cc2)CC1', 'COc1cc(-c2cnn(C)c2)ccc1Nc1ncc2ccnc(N3CCC4(COC4)C3)c2n1', 'Cn1cnc2cc(-c3ccc(N4CCOCC4)cc3)nc(NC3CC3)c2c1=O', 'CC(Nc1ncnc2c(C(N)=O)cccc12)c1cccc(NC(=O)c2cccc(C(F)(F)F)c2)c1']\n",
            "['Cc1cc(-c2nc(-c3ccc(C(=O)NCC4CCCN4)cc3)c(-c3ccncn3)[nH]2)ccc1F', 'CN(C)C(=O)[C@H]1CCN(c2ccc(-c3ccc4[nH]c5nccc(-c6ccc(Oc7ccccc7C(F)(F)F)cc6)c5c4c3)cc2)CC1', 'COc1cc(-c2cnn(C)c2)ccc1Nc1ncc2ccnc(N3CCC4(COC4)C3)c2n1', 'Cn1cnc2cc(-c3ccc(N4CCOCC4)cc3)nc(NC3CC3)c2c1=O', 'CC(Nc1ncnc2c(C(N)=O)cccc12)c1cccc(NC(=O)c2cccc(C(F)(F)F)c2)c1']\n",
            "Better model found at epoch 0 with accuracy value: 0.875621497631073.\n",
            "Sampling...\n",
            "Sample of generated SMILES\n",
            "['Cc1cc(NC(=O)c2cccc(C(F)(F)F)c2)ccc1-c1cc(C2CCC(=O)NC2)ccc1F', 'COc1ccc(-c2ccc3c(N4CCOC[C@@H]4C)nc(N4CCCC4CO)nc3n2)cc1CO', 'CN(C)CCCn1cc(C2=C(n3ccc4ncccc43)C(=O)NC2=O)c2ccccc21', 'Nc1ncc(C2CCOCC2)cc1-c1ccc(C(=O)N[C@H](CO)c2cc(F)cc(Br)c2)c(F)c1', 'Cc1cc(Nc2cc(C(F)(F)F)ccn2)nc(-c2ccc(NC3CCN(C(=O)c4ccc5[nH]ccc5c4)CC3)nc2)c1']\n",
            "['Cc1cc(NC(=O)c2cccc(C(F)(F)F)c2)ccc1-c1cc(C2CCC(=O)NC2)ccc1F', 'COc1ccc(-c2ccc3c(N4CCOC[C@@H]4C)nc(N4CCCC4CO)nc3n2)cc1CO', 'CN(C)CCCn1cc(C2=C(n3ccc4ncccc43)C(=O)NC2=O)c2ccccc21', 'Nc1ncc(C2CCOCC2)cc1-c1ccc(C(=O)N[C@H](CO)c2cc(F)cc(Br)c2)c(F)c1', 'Cc1cc(Nc2cc(C(F)(F)F)ccn2)nc(-c2ccc(NC3CCN(C(=O)c4ccc5[nH]ccc5c4)CC3)nc2)c1']\n",
            "Better model found at epoch 1 with accuracy value: 0.8761227130889893.\n"
          ],
          "name": "stdout"
        }
      ]
    },
    {
      "cell_type": "code",
      "metadata": {
        "id": "YWzrNmXk9bXT",
        "colab_type": "code",
        "colab": {}
      },
      "source": [
        "learn_fn.save('fit3')"
      ],
      "execution_count": null,
      "outputs": []
    },
    {
      "cell_type": "code",
      "metadata": {
        "id": "o6fq-oWrT_Bz",
        "colab_type": "code",
        "colab": {}
      },
      "source": [
        "learn_fn.save_encoder('finetuned_encoder')"
      ],
      "execution_count": null,
      "outputs": []
    },
    {
      "cell_type": "code",
      "metadata": {
        "id": "SjB58IsS_esb",
        "colab_type": "code",
        "colab": {
          "base_uri": "https://localhost:8080/",
          "height": 34
        },
        "outputId": "4dc568fb-f3a9-43c8-cbad-3d6d36d2b734"
      },
      "source": [
        "learn_fn.validate()"
      ],
      "execution_count": null,
      "outputs": [
        {
          "output_type": "display_data",
          "data": {
            "text/html": [
              ""
            ],
            "text/plain": [
              "<IPython.core.display.HTML object>"
            ]
          },
          "metadata": {
            "tags": []
          }
        },
        {
          "output_type": "execute_result",
          "data": {
            "text/plain": [
              "[0.3529547, tensor(0.8764), tensor(0.1236)]"
            ]
          },
          "metadata": {
            "tags": []
          },
          "execution_count": 56
        }
      ]
    },
    {
      "cell_type": "code",
      "metadata": {
        "id": "e_eHEuwZQiUK",
        "colab_type": "code",
        "colab": {}
      },
      "source": [
        "learn_fn.export('kinase_generative.pkl')"
      ],
      "execution_count": null,
      "outputs": []
    },
    {
      "cell_type": "code",
      "metadata": {
        "id": "2LRyKm6zujtZ",
        "colab_type": "code",
        "colab": {
          "base_uri": "https://localhost:8080/",
          "height": 176
        },
        "outputId": "4a291d16-45f3-466a-f39d-091feddfdd2c"
      },
      "source": [
        "!tar -cvf drive/My\\ Drive/DDPlarform/LM-kinase.tar.gz generative_model/*"
      ],
      "execution_count": null,
      "outputs": [
        {
          "output_type": "stream",
          "text": [
            "generative_model/bestmodel.pth\n",
            "generative_model/data_fn.pkl\n",
            "generative_model/finetuned_encoder.pth\n",
            "generative_model/fit1.pth\n",
            "generative_model/fit2.pth\n",
            "generative_model/fit3.pth\n",
            "generative_model/history.csv\n",
            "generative_model/kinase_generative.pkl\n",
            "generative_model/tmp.pth\n"
          ],
          "name": "stdout"
        }
      ]
    },
    {
      "cell_type": "markdown",
      "metadata": {
        "id": "_zB1Uc3mFtnv",
        "colab_type": "text"
      },
      "source": [
        "###**Validation**"
      ]
    },
    {
      "cell_type": "code",
      "metadata": {
        "id": "l_-KNcYP_hQi",
        "colab_type": "code",
        "colab": {}
      },
      "source": [
        "v,n,u = validation(learn_fn,data_fn,sampling_temperatures,5,2000,ref=list(full.processed_smiles),maxsize=130)"
      ],
      "execution_count": null,
      "outputs": []
    },
    {
      "cell_type": "code",
      "metadata": {
        "id": "yQSyvq8tM-Ki",
        "colab_type": "code",
        "colab": {}
      },
      "source": [
        "val_df = pd.DataFrame(v,columns=['Temp_{}'.format(i) for i in sampling_temperatures])\n",
        "nov_df = pd.DataFrame(n,columns=['Temp_{}'.format(i) for i in sampling_temperatures])\n",
        "unq_df = pd.DataFrame(u,columns=['Temp_{}'.format(i) for i in sampling_temperatures])\n"
      ],
      "execution_count": null,
      "outputs": []
    },
    {
      "cell_type": "code",
      "metadata": {
        "id": "4IV4c_Nq0eUX",
        "colab_type": "code",
        "colab": {
          "base_uri": "https://localhost:8080/",
          "height": 197
        },
        "outputId": "a0682c9b-5e75-4cae-ccbe-c59d41f7fbe8"
      },
      "source": [
        "nov_df"
      ],
      "execution_count": null,
      "outputs": [
        {
          "output_type": "execute_result",
          "data": {
            "text/html": [
              "<div>\n",
              "<style scoped>\n",
              "    .dataframe tbody tr th:only-of-type {\n",
              "        vertical-align: middle;\n",
              "    }\n",
              "\n",
              "    .dataframe tbody tr th {\n",
              "        vertical-align: top;\n",
              "    }\n",
              "\n",
              "    .dataframe thead th {\n",
              "        text-align: right;\n",
              "    }\n",
              "</style>\n",
              "<table border=\"1\" class=\"dataframe\">\n",
              "  <thead>\n",
              "    <tr style=\"text-align: right;\">\n",
              "      <th></th>\n",
              "      <th>Temp_0.2</th>\n",
              "      <th>Temp_0.5</th>\n",
              "      <th>Temp_0.6</th>\n",
              "      <th>Temp_0.7</th>\n",
              "      <th>Temp_0.75</th>\n",
              "      <th>Temp_0.8</th>\n",
              "      <th>Temp_1.0</th>\n",
              "      <th>Temp_1.2</th>\n",
              "    </tr>\n",
              "  </thead>\n",
              "  <tbody>\n",
              "    <tr>\n",
              "      <th>0</th>\n",
              "      <td>8.75</td>\n",
              "      <td>48.55</td>\n",
              "      <td>59.60</td>\n",
              "      <td>65.70</td>\n",
              "      <td>71.15</td>\n",
              "      <td>74.75</td>\n",
              "      <td>81.50</td>\n",
              "      <td>76.45</td>\n",
              "    </tr>\n",
              "    <tr>\n",
              "      <th>1</th>\n",
              "      <td>9.10</td>\n",
              "      <td>48.65</td>\n",
              "      <td>59.30</td>\n",
              "      <td>67.65</td>\n",
              "      <td>71.60</td>\n",
              "      <td>74.15</td>\n",
              "      <td>81.35</td>\n",
              "      <td>76.15</td>\n",
              "    </tr>\n",
              "    <tr>\n",
              "      <th>2</th>\n",
              "      <td>9.00</td>\n",
              "      <td>46.65</td>\n",
              "      <td>59.50</td>\n",
              "      <td>67.55</td>\n",
              "      <td>72.00</td>\n",
              "      <td>73.40</td>\n",
              "      <td>82.10</td>\n",
              "      <td>76.55</td>\n",
              "    </tr>\n",
              "    <tr>\n",
              "      <th>3</th>\n",
              "      <td>8.50</td>\n",
              "      <td>47.20</td>\n",
              "      <td>59.25</td>\n",
              "      <td>66.25</td>\n",
              "      <td>70.70</td>\n",
              "      <td>74.70</td>\n",
              "      <td>79.55</td>\n",
              "      <td>75.40</td>\n",
              "    </tr>\n",
              "    <tr>\n",
              "      <th>4</th>\n",
              "      <td>8.90</td>\n",
              "      <td>48.05</td>\n",
              "      <td>57.65</td>\n",
              "      <td>67.45</td>\n",
              "      <td>69.85</td>\n",
              "      <td>74.05</td>\n",
              "      <td>81.85</td>\n",
              "      <td>75.95</td>\n",
              "    </tr>\n",
              "  </tbody>\n",
              "</table>\n",
              "</div>"
            ],
            "text/plain": [
              "   Temp_0.2  Temp_0.5  Temp_0.6  ...  Temp_0.8  Temp_1.0  Temp_1.2\n",
              "0      8.75     48.55     59.60  ...     74.75     81.50     76.45\n",
              "1      9.10     48.65     59.30  ...     74.15     81.35     76.15\n",
              "2      9.00     46.65     59.50  ...     73.40     82.10     76.55\n",
              "3      8.50     47.20     59.25  ...     74.70     79.55     75.40\n",
              "4      8.90     48.05     57.65  ...     74.05     81.85     75.95\n",
              "\n",
              "[5 rows x 8 columns]"
            ]
          },
          "metadata": {
            "tags": []
          },
          "execution_count": 64
        }
      ]
    },
    {
      "cell_type": "code",
      "metadata": {
        "id": "CS-Cz0tP_Y_N",
        "colab_type": "code",
        "colab": {
          "base_uri": "https://localhost:8080/",
          "height": 197
        },
        "outputId": "8106a3c0-ab70-469f-86d4-3a67b28bf44d"
      },
      "source": [
        "unq_df"
      ],
      "execution_count": null,
      "outputs": [
        {
          "output_type": "execute_result",
          "data": {
            "text/html": [
              "<div>\n",
              "<style scoped>\n",
              "    .dataframe tbody tr th:only-of-type {\n",
              "        vertical-align: middle;\n",
              "    }\n",
              "\n",
              "    .dataframe tbody tr th {\n",
              "        vertical-align: top;\n",
              "    }\n",
              "\n",
              "    .dataframe thead th {\n",
              "        text-align: right;\n",
              "    }\n",
              "</style>\n",
              "<table border=\"1\" class=\"dataframe\">\n",
              "  <thead>\n",
              "    <tr style=\"text-align: right;\">\n",
              "      <th></th>\n",
              "      <th>Temp_0.2</th>\n",
              "      <th>Temp_0.5</th>\n",
              "      <th>Temp_0.6</th>\n",
              "      <th>Temp_0.7</th>\n",
              "      <th>Temp_0.75</th>\n",
              "      <th>Temp_0.8</th>\n",
              "      <th>Temp_1.0</th>\n",
              "      <th>Temp_1.2</th>\n",
              "    </tr>\n",
              "  </thead>\n",
              "  <tbody>\n",
              "    <tr>\n",
              "      <th>0</th>\n",
              "      <td>13.15</td>\n",
              "      <td>73.50</td>\n",
              "      <td>87.60</td>\n",
              "      <td>92.00</td>\n",
              "      <td>93.55</td>\n",
              "      <td>95.55</td>\n",
              "      <td>92.95</td>\n",
              "      <td>81.55</td>\n",
              "    </tr>\n",
              "    <tr>\n",
              "      <th>1</th>\n",
              "      <td>13.35</td>\n",
              "      <td>73.00</td>\n",
              "      <td>85.35</td>\n",
              "      <td>93.65</td>\n",
              "      <td>94.45</td>\n",
              "      <td>95.30</td>\n",
              "      <td>92.70</td>\n",
              "      <td>80.60</td>\n",
              "    </tr>\n",
              "    <tr>\n",
              "      <th>2</th>\n",
              "      <td>13.65</td>\n",
              "      <td>71.60</td>\n",
              "      <td>85.55</td>\n",
              "      <td>92.60</td>\n",
              "      <td>94.95</td>\n",
              "      <td>94.35</td>\n",
              "      <td>92.00</td>\n",
              "      <td>81.10</td>\n",
              "    </tr>\n",
              "    <tr>\n",
              "      <th>3</th>\n",
              "      <td>13.50</td>\n",
              "      <td>73.25</td>\n",
              "      <td>85.80</td>\n",
              "      <td>92.55</td>\n",
              "      <td>94.80</td>\n",
              "      <td>94.95</td>\n",
              "      <td>92.40</td>\n",
              "      <td>80.00</td>\n",
              "    </tr>\n",
              "    <tr>\n",
              "      <th>4</th>\n",
              "      <td>13.20</td>\n",
              "      <td>72.65</td>\n",
              "      <td>84.20</td>\n",
              "      <td>92.20</td>\n",
              "      <td>94.25</td>\n",
              "      <td>94.90</td>\n",
              "      <td>92.85</td>\n",
              "      <td>81.05</td>\n",
              "    </tr>\n",
              "  </tbody>\n",
              "</table>\n",
              "</div>"
            ],
            "text/plain": [
              "   Temp_0.2  Temp_0.5  Temp_0.6  ...  Temp_0.8  Temp_1.0  Temp_1.2\n",
              "0     13.15     73.50     87.60  ...     95.55     92.95     81.55\n",
              "1     13.35     73.00     85.35  ...     95.30     92.70     80.60\n",
              "2     13.65     71.60     85.55  ...     94.35     92.00     81.10\n",
              "3     13.50     73.25     85.80  ...     94.95     92.40     80.00\n",
              "4     13.20     72.65     84.20  ...     94.90     92.85     81.05\n",
              "\n",
              "[5 rows x 8 columns]"
            ]
          },
          "metadata": {
            "tags": []
          },
          "execution_count": 65
        }
      ]
    },
    {
      "cell_type": "code",
      "metadata": {
        "id": "gec8NMG9_ZtK",
        "colab_type": "code",
        "colab": {
          "base_uri": "https://localhost:8080/",
          "height": 197
        },
        "outputId": "fc61af1b-129b-40b8-89db-438d7c8afeb0"
      },
      "source": [
        "val_df"
      ],
      "execution_count": null,
      "outputs": [
        {
          "output_type": "execute_result",
          "data": {
            "text/html": [
              "<div>\n",
              "<style scoped>\n",
              "    .dataframe tbody tr th:only-of-type {\n",
              "        vertical-align: middle;\n",
              "    }\n",
              "\n",
              "    .dataframe tbody tr th {\n",
              "        vertical-align: top;\n",
              "    }\n",
              "\n",
              "    .dataframe thead th {\n",
              "        text-align: right;\n",
              "    }\n",
              "</style>\n",
              "<table border=\"1\" class=\"dataframe\">\n",
              "  <thead>\n",
              "    <tr style=\"text-align: right;\">\n",
              "      <th></th>\n",
              "      <th>Temp_0.2</th>\n",
              "      <th>Temp_0.5</th>\n",
              "      <th>Temp_0.6</th>\n",
              "      <th>Temp_0.7</th>\n",
              "      <th>Temp_0.75</th>\n",
              "      <th>Temp_0.8</th>\n",
              "      <th>Temp_1.0</th>\n",
              "      <th>Temp_1.2</th>\n",
              "    </tr>\n",
              "  </thead>\n",
              "  <tbody>\n",
              "    <tr>\n",
              "      <th>0</th>\n",
              "      <td>100.00</td>\n",
              "      <td>99.85</td>\n",
              "      <td>99.50</td>\n",
              "      <td>98.70</td>\n",
              "      <td>98.95</td>\n",
              "      <td>98.35</td>\n",
              "      <td>93.35</td>\n",
              "      <td>81.65</td>\n",
              "    </tr>\n",
              "    <tr>\n",
              "      <th>1</th>\n",
              "      <td>99.95</td>\n",
              "      <td>99.60</td>\n",
              "      <td>99.45</td>\n",
              "      <td>99.10</td>\n",
              "      <td>98.15</td>\n",
              "      <td>98.20</td>\n",
              "      <td>93.05</td>\n",
              "      <td>80.65</td>\n",
              "    </tr>\n",
              "    <tr>\n",
              "      <th>2</th>\n",
              "      <td>99.95</td>\n",
              "      <td>99.55</td>\n",
              "      <td>99.25</td>\n",
              "      <td>98.70</td>\n",
              "      <td>98.85</td>\n",
              "      <td>97.90</td>\n",
              "      <td>92.45</td>\n",
              "      <td>81.25</td>\n",
              "    </tr>\n",
              "    <tr>\n",
              "      <th>3</th>\n",
              "      <td>100.00</td>\n",
              "      <td>99.70</td>\n",
              "      <td>99.05</td>\n",
              "      <td>99.25</td>\n",
              "      <td>99.05</td>\n",
              "      <td>98.05</td>\n",
              "      <td>92.90</td>\n",
              "      <td>80.05</td>\n",
              "    </tr>\n",
              "    <tr>\n",
              "      <th>4</th>\n",
              "      <td>99.95</td>\n",
              "      <td>99.65</td>\n",
              "      <td>99.35</td>\n",
              "      <td>98.90</td>\n",
              "      <td>98.15</td>\n",
              "      <td>97.90</td>\n",
              "      <td>93.10</td>\n",
              "      <td>81.10</td>\n",
              "    </tr>\n",
              "  </tbody>\n",
              "</table>\n",
              "</div>"
            ],
            "text/plain": [
              "   Temp_0.2  Temp_0.5  Temp_0.6  ...  Temp_0.8  Temp_1.0  Temp_1.2\n",
              "0    100.00     99.85     99.50  ...     98.35     93.35     81.65\n",
              "1     99.95     99.60     99.45  ...     98.20     93.05     80.65\n",
              "2     99.95     99.55     99.25  ...     97.90     92.45     81.25\n",
              "3    100.00     99.70     99.05  ...     98.05     92.90     80.05\n",
              "4     99.95     99.65     99.35  ...     97.90     93.10     81.10\n",
              "\n",
              "[5 rows x 8 columns]"
            ]
          },
          "metadata": {
            "tags": []
          },
          "execution_count": 66
        }
      ]
    },
    {
      "cell_type": "code",
      "metadata": {
        "id": "z8AM4hLKNBjm",
        "colab_type": "code",
        "colab": {}
      },
      "source": [
        "val_df.to_csv(COV/'finetuned_validity.csv',index=False)\n",
        "nov_df.to_csv(COV/'finetuned_novelty.csv',index=False)\n",
        "unq_df.to_csv(COV/'finetuned_uniqueness.csv',index=False)"
      ],
      "execution_count": null,
      "outputs": []
    },
    {
      "cell_type": "code",
      "metadata": {
        "id": "ROCI23lFFNAh",
        "colab_type": "code",
        "colab": {
          "base_uri": "https://localhost:8080/",
          "height": 230
        },
        "outputId": "82997d42-5712-40e0-ec1e-dc4ae5c60fc9"
      },
      "source": [
        "!tar -cvf drive/My\\ Drive/DDPlarform/LM-kinase.tar.gz generative_model/*\n",
        "#!tar -rvf drive/My\\ Drive/DDPlarform/LM-kinase.tar.gz generative_model/finetuned_novelty.csv\n",
        "#!tar -rvf drive/My\\ Drive/DDPlarform/LM-kinase.tar.gz generative_model/finetuned_uniqueness.csv"
      ],
      "execution_count": null,
      "outputs": [
        {
          "output_type": "stream",
          "text": [
            "generative_model/bestmodel.pth\n",
            "generative_model/data_fn.pkl\n",
            "generative_model/finetuned_encoder.pth\n",
            "generative_model/finetuned_novelty.csv\n",
            "generative_model/finetuned_uniqueness.csv\n",
            "generative_model/finetuned_validity.csv\n",
            "generative_model/fit1.pth\n",
            "generative_model/fit2.pth\n",
            "generative_model/fit3.pth\n",
            "generative_model/history.csv\n",
            "generative_model/kinase_generative.pkl\n",
            "generative_model/tmp.pth\n"
          ],
          "name": "stdout"
        }
      ]
    },
    {
      "cell_type": "code",
      "metadata": {
        "id": "_uiRDbOtjV2F",
        "colab_type": "code",
        "colab": {
          "base_uri": "https://localhost:8080/",
          "height": 161
        },
        "outputId": "a1bbb74b-a210-4c4a-c91d-0a3eb97a00ae"
      },
      "source": [
        "classraw = pd.read_csv('/content/drive/My Drive/DDPlarform/chembl27_kinases_filtered.csv',sep=';')\n",
        "classraw.head(2)"
      ],
      "execution_count": null,
      "outputs": [
        {
          "output_type": "execute_result",
          "data": {
            "text/html": [
              "<div>\n",
              "<style scoped>\n",
              "    .dataframe tbody tr th:only-of-type {\n",
              "        vertical-align: middle;\n",
              "    }\n",
              "\n",
              "    .dataframe tbody tr th {\n",
              "        vertical-align: top;\n",
              "    }\n",
              "\n",
              "    .dataframe thead th {\n",
              "        text-align: right;\n",
              "    }\n",
              "</style>\n",
              "<table border=\"1\" class=\"dataframe\">\n",
              "  <thead>\n",
              "    <tr style=\"text-align: right;\">\n",
              "      <th></th>\n",
              "      <th>doc_id</th>\n",
              "      <th>standard_value</th>\n",
              "      <th>standard_type</th>\n",
              "      <th>standard_relation</th>\n",
              "      <th>pchembl</th>\n",
              "      <th>molregno</th>\n",
              "      <th>canonical_smiles</th>\n",
              "      <th>chembl_id</th>\n",
              "      <th>tid</th>\n",
              "      <th>target_chembl_id</th>\n",
              "      <th>l1</th>\n",
              "      <th>l2</th>\n",
              "      <th>l3</th>\n",
              "      <th>confidence_score</th>\n",
              "      <th>act</th>\n",
              "      <th>processed_smiles</th>\n",
              "    </tr>\n",
              "  </thead>\n",
              "  <tbody>\n",
              "    <tr>\n",
              "      <th>0</th>\n",
              "      <td>61350</td>\n",
              "      <td>690.0</td>\n",
              "      <td>IC50</td>\n",
              "      <td>=</td>\n",
              "      <td>6.16</td>\n",
              "      <td>148</td>\n",
              "      <td>O=c1oc2c(O)c(O)cc3c(=O)oc4c(O)c(O)cc1c4c23</td>\n",
              "      <td>CHEMBL6246</td>\n",
              "      <td>9</td>\n",
              "      <td>CHEMBL203</td>\n",
              "      <td>Enzyme</td>\n",
              "      <td>Kinase</td>\n",
              "      <td>Protein Kinase</td>\n",
              "      <td>9</td>\n",
              "      <td>Inactive</td>\n",
              "      <td>O=c1oc2c(O)c(O)cc3c(=O)oc4c(O)c(O)cc1c4c23</td>\n",
              "    </tr>\n",
              "    <tr>\n",
              "      <th>1</th>\n",
              "      <td>61350</td>\n",
              "      <td>340.0</td>\n",
              "      <td>IC50</td>\n",
              "      <td>=</td>\n",
              "      <td>6.47</td>\n",
              "      <td>148</td>\n",
              "      <td>O=c1oc2c(O)c(O)cc3c(=O)oc4c(O)c(O)cc1c4c23</td>\n",
              "      <td>CHEMBL6246</td>\n",
              "      <td>35</td>\n",
              "      <td>CHEMBL1981</td>\n",
              "      <td>Enzyme</td>\n",
              "      <td>Kinase</td>\n",
              "      <td>Protein Kinase</td>\n",
              "      <td>9</td>\n",
              "      <td>Inactive</td>\n",
              "      <td>O=c1oc2c(O)c(O)cc3c(=O)oc4c(O)c(O)cc1c4c23</td>\n",
              "    </tr>\n",
              "  </tbody>\n",
              "</table>\n",
              "</div>"
            ],
            "text/plain": [
              "   doc_id  standard_value  ...       act                            processed_smiles\n",
              "0   61350           690.0  ...  Inactive  O=c1oc2c(O)c(O)cc3c(=O)oc4c(O)c(O)cc1c4c23\n",
              "1   61350           340.0  ...  Inactive  O=c1oc2c(O)c(O)cc3c(=O)oc4c(O)c(O)cc1c4c23\n",
              "\n",
              "[2 rows x 16 columns]"
            ]
          },
          "metadata": {
            "tags": []
          },
          "execution_count": 13
        }
      ]
    },
    {
      "cell_type": "code",
      "metadata": {
        "id": "haqNFcuRjTj4",
        "colab_type": "code",
        "colab": {}
      },
      "source": [
        "from sklearn.model_selection import train_test_split\n",
        "def split_data(data):\n",
        " \n",
        "  TRAIN = []\n",
        "  TEST = []\n",
        "  VALID = []\n",
        "  targets = data['target_chembl_id'].unique()\n",
        "  print('Number of targets: {}'.format(len(targets)))\n",
        "  for t in targets:\n",
        "    datat = data.loc[data['target_chembl_id']==t]\n",
        "    train,test = train_test_split(datat,train_size=0.80,stratify=datat['act'],random_state=76)\n",
        "    test,valid = train_test_split(test,train_size=0.50,stratify=test['act'],random_state=76)\n",
        "    train['bin'] = np.where(train['act']=='Active',1,0)\n",
        "    test['bin'] = np.where(test['act']=='Active',1,0)\n",
        "    valid['bin'] = np.where(valid['act']=='Active',1,0)\n",
        "    TRAIN.append(train)\n",
        "    TEST.append(test)\n",
        "    VALID.append(valid)\n",
        "\n",
        "  return pd.concat(TRAIN,axis=0),pd.concat(TEST,axis=0),pd.concat(VALID,axis=0)"
      ],
      "execution_count": null,
      "outputs": []
    },
    {
      "cell_type": "code",
      "metadata": {
        "id": "9NvVYOprkCQ1",
        "colab_type": "code",
        "colab": {
          "base_uri": "https://localhost:8080/",
          "height": 34
        },
        "outputId": "d5ba0622-33c7-41da-fdb9-369eb5ca3a71"
      },
      "source": [
        "train,test,valid = split_data(classraw)"
      ],
      "execution_count": null,
      "outputs": [
        {
          "output_type": "stream",
          "text": [
            "Number of targets: 92\n"
          ],
          "name": "stdout"
        }
      ]
    },
    {
      "cell_type": "code",
      "metadata": {
        "id": "oqbUZ-olkISU",
        "colab_type": "code",
        "colab": {
          "base_uri": "https://localhost:8080/",
          "height": 34
        },
        "outputId": "50015cdc-8b8d-4d5b-8f23-b0e86fa4696f"
      },
      "source": [
        "tr_targets = set(train['target_chembl_id'])\n",
        "tst_targets = set(test['target_chembl_id'])\n",
        "vl_targets = set(valid['target_chembl_id'])\n",
        "len(tr_targets),len(tst_targets),len(vl_targets)"
      ],
      "execution_count": null,
      "outputs": [
        {
          "output_type": "execute_result",
          "data": {
            "text/plain": [
              "(92, 92, 92)"
            ]
          },
          "metadata": {
            "tags": []
          },
          "execution_count": 16
        }
      ]
    },
    {
      "cell_type": "code",
      "metadata": {
        "id": "cL7CfxD_kggB",
        "colab_type": "code",
        "colab": {}
      },
      "source": [
        "train.to_csv('/content/drive/My Drive/DDPlarform/chembl27_kinases_classification_train.csv',sep=';',index=False)\n",
        "test.to_csv('/content/drive/My Drive/DDPlarform/chembl27_kinases_classification_test.csv',sep=';',index=False)\n",
        "valid.to_csv('/content/drive/My Drive/DDPlarform/chembl27_kinases_classification_valid.csv',sep=';',index=False)"
      ],
      "execution_count": null,
      "outputs": []
    },
    {
      "cell_type": "code",
      "metadata": {
        "id": "9Xp3uEnak9Jp",
        "colab_type": "code",
        "colab": {}
      },
      "source": [
        "def gen_dict(group):\n",
        "    return {tid: act  for tid, act in zip(group['target_chembl_id'], group['bin'])}\n",
        "def pivot_data(data):\n",
        "  group = data.groupby('chembl_id')\n",
        "  temp = pd.DataFrame(group.apply(gen_dict))\n",
        "  mt_df = pd.DataFrame(temp[0].tolist())\n",
        "  mt_df['chembl_id'] = temp.index\n",
        "  mt_df = mt_df.where((pd.notnull(mt_df)), -1)\n",
        "\n",
        "  structs = data[['chembl_id', 'processed_smiles']].drop_duplicates(subset='chembl_id')\n",
        "\n",
        "  # drop mols not sanitizing on rdkit\n",
        "  structs['romol'] = structs.apply(lambda row: Chem.MolFromSmiles(row['processed_smiles']), axis=1)\n",
        "  structs = structs.dropna()\n",
        "  del structs['romol']\n",
        "\n",
        "  # add the structures to the final df\n",
        "  mt_df = pd.merge(structs, mt_df, how='inner', on='chembl_id')\n",
        "  return mt_df"
      ],
      "execution_count": null,
      "outputs": []
    },
    {
      "cell_type": "code",
      "metadata": {
        "id": "LtlvHhX4lSsd",
        "colab_type": "code",
        "colab": {}
      },
      "source": [
        "train_pivot = train.pivot_table(index=['chembl_id','processed_smiles'],columns=['target_chembl_id'],values='bin').reset_index()#pivot_data(train)"
      ],
      "execution_count": null,
      "outputs": []
    },
    {
      "cell_type": "code",
      "metadata": {
        "id": "m6pvnl23lfN4",
        "colab_type": "code",
        "colab": {}
      },
      "source": [
        "valid_pivot = pivot_data(valid)\n",
        "test_pivot = pivot_data(test)"
      ],
      "execution_count": null,
      "outputs": []
    },
    {
      "cell_type": "code",
      "metadata": {
        "id": "e6H-Siu5llj2",
        "colab_type": "code",
        "colab": {}
      },
      "source": [
        "train['is_valid'] = False\n",
        "valid['is_valid'] = True\n",
        "train_valid = pd.concat([train,valid],axis=0)"
      ],
      "execution_count": null,
      "outputs": []
    },
    {
      "cell_type": "code",
      "metadata": {
        "id": "smfKi5lAlXDp",
        "colab_type": "code",
        "colab": {
          "base_uri": "https://localhost:8080/",
          "height": 34
        },
        "outputId": "ddf07284-ba95-4c84-d6d6-66b5bb58369e"
      },
      "source": [
        "np.unique(train_pivot[cols].isnull().all().reset_index()[0].values) # Not column with all values empty"
      ],
      "execution_count": null,
      "outputs": [
        {
          "output_type": "execute_result",
          "data": {
            "text/plain": [
              "array([False])"
            ]
          },
          "metadata": {
            "tags": []
          },
          "execution_count": 46
        }
      ]
    },
    {
      "cell_type": "code",
      "metadata": {
        "id": "-9phQ-e4l-x8",
        "colab_type": "code",
        "colab": {}
      },
      "source": [
        "test_pivot.to_csv('/content/drive/My Drive/DDPlarform/chembl27_kinases_classification_test_pivot.csv',sep=';',index=False)\n",
        "train_valid.to_csv('/content/drive/My Drive/DDPlarform/chembl27_kinases_classification_train_valid_pivot.csv',sep=';',index=False)"
      ],
      "execution_count": null,
      "outputs": []
    },
    {
      "cell_type": "markdown",
      "metadata": {
        "id": "QD-2I7pk5N-A",
        "colab_type": "text"
      },
      "source": [
        "# **Classifier**"
      ]
    },
    {
      "cell_type": "code",
      "metadata": {
        "id": "2GyrpMwBsNO0",
        "colab_type": "code",
        "colab": {
          "base_uri": "https://localhost:8080/",
          "height": 16
        },
        "outputId": "5fd5b787-db8f-46a3-c0ad-5e78f6332648"
      },
      "source": [
        "data_fn = load_data(COV,file='data_fn.pkl')\n",
        "vocab = data_fn.vocab\n",
        "learn_fn = load_learner(COV,file='finetuned_model.pkl')"
      ],
      "execution_count": null,
      "outputs": [
        {
          "output_type": "display_data",
          "data": {
            "text/html": [
              ""
            ],
            "text/plain": [
              "<IPython.core.display.HTML object>"
            ]
          },
          "metadata": {
            "tags": []
          }
        },
        {
          "output_type": "display_data",
          "data": {
            "text/html": [
              ""
            ],
            "text/plain": [
              "<IPython.core.display.HTML object>"
            ]
          },
          "metadata": {
            "tags": []
          }
        }
      ]
    },
    {
      "cell_type": "code",
      "metadata": {
        "id": "hF71k9NN8LwN",
        "colab_type": "code",
        "colab": {}
      },
      "source": [
        "tokenizer = Tokenizer(MolTokenizer,pre_rules=[],post_rules=[],special_cases=[PAD,BOS,EOS,UNK])\n",
        "processors = [TokenizeProcessor(tokenizer=tokenizer, mark_fields=False,include_bos=False),\n",
        "            NumericalizeProcessor(vocab=vocab)]"
      ],
      "execution_count": null,
      "outputs": []
    },
    {
      "cell_type": "code",
      "metadata": {
        "id": "LmfQ10zh9Oi1",
        "colab_type": "code",
        "colab": {
          "base_uri": "https://localhost:8080/",
          "height": 16
        },
        "outputId": "2b5c85fc-4867-41a4-bff5-07e05469848a"
      },
      "source": [
        "src_cls = TextList.from_df(train_valid,path=COVCLS,cols='processed_smiles',processor=processors)\n",
        "splt_cls = src_cls.split_from_df('is_valid')\n",
        "data_cls = splt_cls.label_from_df(cols,classes=cols)"
      ],
      "execution_count": null,
      "outputs": [
        {
          "output_type": "display_data",
          "data": {
            "text/html": [
              ""
            ],
            "text/plain": [
              "<IPython.core.display.HTML object>"
            ]
          },
          "metadata": {
            "tags": []
          }
        },
        {
          "output_type": "display_data",
          "data": {
            "text/html": [
              ""
            ],
            "text/plain": [
              "<IPython.core.display.HTML object>"
            ]
          },
          "metadata": {
            "tags": []
          }
        }
      ]
    },
    {
      "cell_type": "code",
      "metadata": {
        "id": "tK88-h_BOpjn",
        "colab_type": "code",
        "colab": {}
      },
      "source": [
        "def get_weights(data,n):\n",
        "  '''Get sample weights based on distribution of classes. The minority class gets higher weights\n",
        "  n: scaling factor'''\n",
        "  labels = data.train_dl.dataset.y.items\n",
        "  _, counts = np.unique(labels,return_counts=True)\n",
        "\n",
        "  weights = tensor([n/counts[i] for i in labels]).float()\n",
        "  weights = (weights if weights is not None else torch.DoubleTensor((1/counts)[labels]))\n",
        "  return weights\n",
        "\n",
        "weights = get_weights(data_cls,n=1) # Sample weights\n",
        "weights,Counter(weights.numpy())\n",
        "sampler = WeightedRandomSampler(weights=weights2,num_samples=len(weights2))\n",
        "\n",
        "data_cls.train_dl = data_cls.train_dl.new(shuffle=False,sampler=sampler)"
      ],
      "execution_count": null,
      "outputs": []
    },
    {
      "cell_type": "code",
      "metadata": {
        "id": "RLrshncd_VZJ",
        "colab_type": "code",
        "colab": {}
      },
      "source": [
        "metrics=[Recall(pos_label=1),Recall(pos_label=0),Precision(pos_label=1),MatthewsCorreff(),AUCPR()]\n",
        "cb = [partial(CSVLogger,append=True)]\n"
      ],
      "execution_count": null,
      "outputs": []
    },
    {
      "cell_type": "code",
      "metadata": {
        "id": "smOkNgSF90MW",
        "colab_type": "code",
        "colab": {}
      },
      "source": [
        "learn = text_classifier_learner(data_cls, AWD_LSTM,pretrained=False,config=config_cls,drop_mult=0.1,\n",
        "                                model_dir=Path('.'),\n",
        "                                callback_fns=cb,\n",
        "                                metrics=metrics).load_encoder('generative_model/finetuned_encoder');\n",
        "learn.freeze()\n"
      ],
      "execution_count": null,
      "outputs": []
    },
    {
      "cell_type": "code",
      "metadata": {
        "id": "W_HnbmWu_zMt",
        "colab_type": "code",
        "colab": {
          "base_uri": "https://localhost:8080/",
          "height": 112
        },
        "outputId": "687ba143-411d-4d27-b41f-6373b1370b6a"
      },
      "source": [
        "learn.lr_find(num_it=600)"
      ],
      "execution_count": null,
      "outputs": [
        {
          "output_type": "display_data",
          "data": {
            "text/html": [
              "\n",
              "    <div>\n",
              "        <style>\n",
              "            /* Turns off some styling */\n",
              "            progress {\n",
              "                /* gets rid of default border in Firefox and Opera. */\n",
              "                border: none;\n",
              "                /* Needs to be in here for Safari polyfill so background images work as expected. */\n",
              "                background-size: auto;\n",
              "            }\n",
              "            .progress-bar-interrupted, .progress-bar-interrupted::-webkit-progress-bar {\n",
              "                background: #F44336;\n",
              "            }\n",
              "        </style>\n",
              "      <progress value='0' class='' max='1' style='width:300px; height:20px; vertical-align: middle;'></progress>\n",
              "      0.00% [0/1 00:00<00:00]\n",
              "    </div>\n",
              "    \n",
              "<table border=\"1\" class=\"dataframe\">\n",
              "  <thead>\n",
              "    <tr style=\"text-align: left;\">\n",
              "      <th>epoch</th>\n",
              "      <th>train_loss</th>\n",
              "      <th>valid_loss</th>\n",
              "      <th>mcc_masked</th>\n",
              "      <th>time</th>\n",
              "    </tr>\n",
              "  </thead>\n",
              "  <tbody>\n",
              "  </tbody>\n",
              "</table><p>\n",
              "\n",
              "    <div>\n",
              "        <style>\n",
              "            /* Turns off some styling */\n",
              "            progress {\n",
              "                /* gets rid of default border in Firefox and Opera. */\n",
              "                border: none;\n",
              "                /* Needs to be in here for Safari polyfill so background images work as expected. */\n",
              "                background-size: auto;\n",
              "            }\n",
              "            .progress-bar-interrupted, .progress-bar-interrupted::-webkit-progress-bar {\n",
              "                background: #F44336;\n",
              "            }\n",
              "        </style>\n",
              "      <progress value='519' class='' max='1103' style='width:300px; height:20px; vertical-align: middle;'></progress>\n",
              "      47.05% [519/1103 00:56<01:03 1.6366]\n",
              "    </div>\n",
              "    "
            ],
            "text/plain": [
              "<IPython.core.display.HTML object>"
            ]
          },
          "metadata": {
            "tags": []
          }
        },
        {
          "output_type": "stream",
          "text": [
            "LR Finder is complete, type {learner_name}.recorder.plot() to see the graph.\n"
          ],
          "name": "stdout"
        }
      ]
    },
    {
      "cell_type": "code",
      "metadata": {
        "id": "StASav6T_64k",
        "colab_type": "code",
        "colab": {
          "base_uri": "https://localhost:8080/",
          "height": 278
        },
        "outputId": "3ec04507-56e6-41fb-979b-3d639e1967bc"
      },
      "source": [
        "learn.recorder.plot(skip_end=15)"
      ],
      "execution_count": null,
      "outputs": [
        {
          "output_type": "display_data",
          "data": {
            "image/png": "[encoded data removed]",
            "text/plain": [
              "<Figure size 432x288 with 1 Axes>"
            ]
          },
          "metadata": {
            "tags": [],
            "needs_background": "light"
          }
        }
      ]
    },
    {
      "cell_type": "code",
      "metadata": {
        "id": "PYn5ej4b_-u-",
        "colab_type": "code",
        "colab": {
          "base_uri": "https://localhost:8080/",
          "height": 268
        },
        "outputId": "0d9f3e79-dfe3-4e93-ba3c-63f68a8728ba"
      },
      "source": [
        "learn.fit_one_cycle(5, slice(2e-3/(2.6**4),2e-3), moms=(0.8,0.7))"
      ],
      "execution_count": null,
      "outputs": [
        {
          "output_type": "display_data",
          "data": {
            "text/html": [
              "<table border=\"1\" class=\"dataframe\">\n",
              "  <thead>\n",
              "    <tr style=\"text-align: left;\">\n",
              "      <th>epoch</th>\n",
              "      <th>train_loss</th>\n",
              "      <th>valid_loss</th>\n",
              "      <th>mcc_masked</th>\n",
              "      <th>time</th>\n",
              "    </tr>\n",
              "  </thead>\n",
              "  <tbody>\n",
              "    <tr>\n",
              "      <td>0</td>\n",
              "      <td>0.376505</td>\n",
              "      <td>0.156753</td>\n",
              "      <td>0.414273</td>\n",
              "      <td>01:48</td>\n",
              "    </tr>\n",
              "    <tr>\n",
              "      <td>1</td>\n",
              "      <td>0.341391</td>\n",
              "      <td>0.146253</td>\n",
              "      <td>0.464542</td>\n",
              "      <td>01:48</td>\n",
              "    </tr>\n",
              "    <tr>\n",
              "      <td>2</td>\n",
              "      <td>0.328708</td>\n",
              "      <td>0.141254</td>\n",
              "      <td>0.495106</td>\n",
              "      <td>01:48</td>\n",
              "    </tr>\n",
              "    <tr>\n",
              "      <td>3</td>\n",
              "      <td>0.299427</td>\n",
              "      <td>0.137588</td>\n",
              "      <td>0.509941</td>\n",
              "      <td>01:48</td>\n",
              "    </tr>\n",
              "    <tr>\n",
              "      <td>4</td>\n",
              "      <td>0.286381</td>\n",
              "      <td>0.137017</td>\n",
              "      <td>0.509926</td>\n",
              "      <td>01:47</td>\n",
              "    </tr>\n",
              "  </tbody>\n",
              "</table>"
            ],
            "text/plain": [
              "<IPython.core.display.HTML object>"
            ]
          },
          "metadata": {
            "tags": []
          }
        },
        {
          "output_type": "stream",
          "text": [
            "Better model found at epoch 0 with mcc_masked value: 0.4142731726169586.\n",
            "Better model found at epoch 1 with mcc_masked value: 0.4645422101020813.\n",
            "Better model found at epoch 2 with mcc_masked value: 0.49510636925697327.\n",
            "Better model found at epoch 3 with mcc_masked value: 0.5099408030509949.\n"
          ],
          "name": "stdout"
        }
      ]
    },
    {
      "cell_type": "code",
      "metadata": {
        "id": "8hJz_BI26zk6",
        "colab_type": "code",
        "colab": {}
      },
      "source": [
        "learn.save('fit1')"
      ],
      "execution_count": null,
      "outputs": []
    },
    {
      "cell_type": "code",
      "metadata": {
        "id": "ubdZs7z-B_w-",
        "colab_type": "code",
        "colab": {}
      },
      "source": [
        "learn.load('fit1');"
      ],
      "execution_count": null,
      "outputs": []
    },
    {
      "cell_type": "code",
      "metadata": {
        "id": "bmHD7JBM_-ai",
        "colab_type": "code",
        "colab": {}
      },
      "source": [
        "learn.freeze_to(-2)"
      ],
      "execution_count": null,
      "outputs": []
    },
    {
      "cell_type": "code",
      "metadata": {
        "id": "G4gVel6kGapW",
        "colab_type": "code",
        "colab": {
          "base_uri": "https://localhost:8080/",
          "height": 112
        },
        "outputId": "f0d76711-f35d-4dfa-a7b7-ad3550b1f80b"
      },
      "source": [
        "learn.lr_find(num_it=600)"
      ],
      "execution_count": null,
      "outputs": [
        {
          "output_type": "display_data",
          "data": {
            "text/html": [
              "\n",
              "    <div>\n",
              "        <style>\n",
              "            /* Turns off some styling */\n",
              "            progress {\n",
              "                /* gets rid of default border in Firefox and Opera. */\n",
              "                border: none;\n",
              "                /* Needs to be in here for Safari polyfill so background images work as expected. */\n",
              "                background-size: auto;\n",
              "            }\n",
              "            .progress-bar-interrupted, .progress-bar-interrupted::-webkit-progress-bar {\n",
              "                background: #F44336;\n",
              "            }\n",
              "        </style>\n",
              "      <progress value='0' class='' max='1' style='width:300px; height:20px; vertical-align: middle;'></progress>\n",
              "      0.00% [0/1 00:00<00:00]\n",
              "    </div>\n",
              "    \n",
              "<table border=\"1\" class=\"dataframe\">\n",
              "  <thead>\n",
              "    <tr style=\"text-align: left;\">\n",
              "      <th>epoch</th>\n",
              "      <th>train_loss</th>\n",
              "      <th>valid_loss</th>\n",
              "      <th>mcc_masked</th>\n",
              "      <th>time</th>\n",
              "    </tr>\n",
              "  </thead>\n",
              "  <tbody>\n",
              "  </tbody>\n",
              "</table><p>\n",
              "\n",
              "    <div>\n",
              "        <style>\n",
              "            /* Turns off some styling */\n",
              "            progress {\n",
              "                /* gets rid of default border in Firefox and Opera. */\n",
              "                border: none;\n",
              "                /* Needs to be in here for Safari polyfill so background images work as expected. */\n",
              "                background-size: auto;\n",
              "            }\n",
              "            .progress-bar-interrupted, .progress-bar-interrupted::-webkit-progress-bar {\n",
              "                background: #F44336;\n",
              "            }\n",
              "        </style>\n",
              "      <progress value='506' class='' max='1103' style='width:300px; height:20px; vertical-align: middle;'></progress>\n",
              "      45.87% [506/1103 00:55<01:05 0.8786]\n",
              "    </div>\n",
              "    "
            ],
            "text/plain": [
              "<IPython.core.display.HTML object>"
            ]
          },
          "metadata": {
            "tags": []
          }
        },
        {
          "output_type": "stream",
          "text": [
            "LR Finder is complete, type {learner_name}.recorder.plot() to see the graph.\n"
          ],
          "name": "stdout"
        }
      ]
    },
    {
      "cell_type": "code",
      "metadata": {
        "id": "tnjtbiPP-6-A",
        "colab_type": "code",
        "colab": {
          "base_uri": "https://localhost:8080/",
          "height": 278
        },
        "outputId": "5cdeceed-77bc-4347-9e14-60d07a2b9d1f"
      },
      "source": [
        "learn.recorder.plot(skip_end=10)"
      ],
      "execution_count": null,
      "outputs": [
        {
          "output_type": "display_data",
          "data": {
            "image/png": "[encoded data removed]",
            "text/plain": [
              "<Figure size 432x288 with 1 Axes>"
            ]
          },
          "metadata": {
            "tags": [],
            "needs_background": "light"
          }
        }
      ]
    },
    {
      "cell_type": "code",
      "metadata": {
        "id": "Gj0KdwyQEKhj",
        "colab_type": "code",
        "colab": {
          "base_uri": "https://localhost:8080/",
          "height": 316
        },
        "outputId": "8a35fdb6-e4ca-4ecd-c49f-a34a66c0ba3e"
      },
      "source": [
        "learn.fit_one_cycle(6, slice(1e-3/(2.6**4),1e-3), moms=(0.8,0.7))"
      ],
      "execution_count": null,
      "outputs": [
        {
          "output_type": "display_data",
          "data": {
            "text/html": [
              "<table border=\"1\" class=\"dataframe\">\n",
              "  <thead>\n",
              "    <tr style=\"text-align: left;\">\n",
              "      <th>epoch</th>\n",
              "      <th>train_loss</th>\n",
              "      <th>valid_loss</th>\n",
              "      <th>mcc_masked</th>\n",
              "      <th>time</th>\n",
              "    </tr>\n",
              "  </thead>\n",
              "  <tbody>\n",
              "    <tr>\n",
              "      <td>0</td>\n",
              "      <td>0.285478</td>\n",
              "      <td>0.138816</td>\n",
              "      <td>0.519596</td>\n",
              "      <td>01:55</td>\n",
              "    </tr>\n",
              "    <tr>\n",
              "      <td>1</td>\n",
              "      <td>0.290936</td>\n",
              "      <td>0.138500</td>\n",
              "      <td>0.518232</td>\n",
              "      <td>01:51</td>\n",
              "    </tr>\n",
              "    <tr>\n",
              "      <td>2</td>\n",
              "      <td>0.279684</td>\n",
              "      <td>0.132332</td>\n",
              "      <td>0.536267</td>\n",
              "      <td>01:54</td>\n",
              "    </tr>\n",
              "    <tr>\n",
              "      <td>3</td>\n",
              "      <td>0.254055</td>\n",
              "      <td>0.130915</td>\n",
              "      <td>0.551414</td>\n",
              "      <td>01:55</td>\n",
              "    </tr>\n",
              "    <tr>\n",
              "      <td>4</td>\n",
              "      <td>0.237170</td>\n",
              "      <td>0.130105</td>\n",
              "      <td>0.556203</td>\n",
              "      <td>01:52</td>\n",
              "    </tr>\n",
              "    <tr>\n",
              "      <td>5</td>\n",
              "      <td>0.225277</td>\n",
              "      <td>0.130085</td>\n",
              "      <td>0.557957</td>\n",
              "      <td>01:52</td>\n",
              "    </tr>\n",
              "  </tbody>\n",
              "</table>"
            ],
            "text/plain": [
              "<IPython.core.display.HTML object>"
            ]
          },
          "metadata": {
            "tags": []
          }
        },
        {
          "output_type": "stream",
          "text": [
            "Better model found at epoch 0 with mcc_masked value: 0.5195960998535156.\n",
            "Better model found at epoch 2 with mcc_masked value: 0.536266565322876.\n",
            "Better model found at epoch 3 with mcc_masked value: 0.5514141917228699.\n",
            "Better model found at epoch 4 with mcc_masked value: 0.5562034249305725.\n",
            "Better model found at epoch 5 with mcc_masked value: 0.5579574108123779.\n"
          ],
          "name": "stdout"
        }
      ]
    },
    {
      "cell_type": "code",
      "metadata": {
        "id": "1OdzjsZM7eyq",
        "colab_type": "code",
        "colab": {}
      },
      "source": [
        "learn.save('fit2')"
      ],
      "execution_count": null,
      "outputs": []
    },
    {
      "cell_type": "code",
      "metadata": {
        "id": "1CAl7i3hACj-",
        "colab_type": "code",
        "colab": {}
      },
      "source": [
        "learn.load('fit2');"
      ],
      "execution_count": null,
      "outputs": []
    },
    {
      "cell_type": "code",
      "metadata": {
        "id": "m01mKGWJGPzd",
        "colab_type": "code",
        "colab": {}
      },
      "source": [
        "learn.freeze_to(-3)"
      ],
      "execution_count": null,
      "outputs": []
    },
    {
      "cell_type": "code",
      "metadata": {
        "id": "iokCLnLkGUYA",
        "colab_type": "code",
        "colab": {
          "base_uri": "https://localhost:8080/",
          "height": 238
        },
        "outputId": "4261027e-54bd-416e-f41a-4beca4930140"
      },
      "source": [
        "learn.fit_one_cycle(4, slice(1e-3/(2.6**4),1e-3), moms=(0.8,0.7))"
      ],
      "execution_count": null,
      "outputs": [
        {
          "output_type": "display_data",
          "data": {
            "text/html": [
              "<table border=\"1\" class=\"dataframe\">\n",
              "  <thead>\n",
              "    <tr style=\"text-align: left;\">\n",
              "      <th>epoch</th>\n",
              "      <th>train_loss</th>\n",
              "      <th>valid_loss</th>\n",
              "      <th>mcc_masked</th>\n",
              "      <th>time</th>\n",
              "    </tr>\n",
              "  </thead>\n",
              "  <tbody>\n",
              "    <tr>\n",
              "      <td>0</td>\n",
              "      <td>0.234766</td>\n",
              "      <td>0.134132</td>\n",
              "      <td>0.551622</td>\n",
              "      <td>02:04</td>\n",
              "    </tr>\n",
              "    <tr>\n",
              "      <td>1</td>\n",
              "      <td>0.235918</td>\n",
              "      <td>0.130442</td>\n",
              "      <td>0.558590</td>\n",
              "      <td>02:01</td>\n",
              "    </tr>\n",
              "    <tr>\n",
              "      <td>2</td>\n",
              "      <td>0.214145</td>\n",
              "      <td>0.129669</td>\n",
              "      <td>0.577453</td>\n",
              "      <td>02:00</td>\n",
              "    </tr>\n",
              "    <tr>\n",
              "      <td>3</td>\n",
              "      <td>0.197284</td>\n",
              "      <td>0.129269</td>\n",
              "      <td>0.578517</td>\n",
              "      <td>02:00</td>\n",
              "    </tr>\n",
              "  </tbody>\n",
              "</table>"
            ],
            "text/plain": [
              "<IPython.core.display.HTML object>"
            ]
          },
          "metadata": {
            "tags": []
          }
        },
        {
          "output_type": "stream",
          "text": [
            "Better model found at epoch 0 with mcc_masked value: 0.5516223311424255.\n",
            "Better model found at epoch 1 with mcc_masked value: 0.5585899949073792.\n",
            "Better model found at epoch 2 with mcc_masked value: 0.5774529576301575.\n",
            "Better model found at epoch 3 with mcc_masked value: 0.5785174369812012.\n"
          ],
          "name": "stdout"
        }
      ]
    },
    {
      "cell_type": "code",
      "metadata": {
        "id": "An8re3-kUfVv",
        "colab_type": "code",
        "colab": {}
      },
      "source": [
        "learn.save('fit3')"
      ],
      "execution_count": null,
      "outputs": []
    },
    {
      "cell_type": "code",
      "metadata": {
        "id": "ZiBeK4wity_S",
        "colab_type": "code",
        "colab": {}
      },
      "source": [
        "learn.load('fit3');\n",
        "learn.unfreeze();"
      ],
      "execution_count": null,
      "outputs": []
    },
    {
      "cell_type": "code",
      "metadata": {
        "id": "MgaWuog4EULm",
        "colab_type": "code",
        "colab": {
          "base_uri": "https://localhost:8080/",
          "height": 221
        },
        "outputId": "1f519fc9-92f9-4a41-c046-4e43ba750aff"
      },
      "source": [
        "learn.fit_one_cycle(4, slice(1e-3/(2.6**4),1e-3), moms=(0.8,0.7))"
      ],
      "execution_count": null,
      "outputs": [
        {
          "output_type": "display_data",
          "data": {
            "text/html": [
              "<table border=\"1\" class=\"dataframe\">\n",
              "  <thead>\n",
              "    <tr style=\"text-align: left;\">\n",
              "      <th>epoch</th>\n",
              "      <th>train_loss</th>\n",
              "      <th>valid_loss</th>\n",
              "      <th>mcc_masked</th>\n",
              "      <th>time</th>\n",
              "    </tr>\n",
              "  </thead>\n",
              "  <tbody>\n",
              "    <tr>\n",
              "      <td>0</td>\n",
              "      <td>0.204924</td>\n",
              "      <td>0.132500</td>\n",
              "      <td>0.562784</td>\n",
              "      <td>02:10</td>\n",
              "    </tr>\n",
              "    <tr>\n",
              "      <td>1</td>\n",
              "      <td>0.215570</td>\n",
              "      <td>0.133978</td>\n",
              "      <td>0.565579</td>\n",
              "      <td>02:11</td>\n",
              "    </tr>\n",
              "    <tr>\n",
              "      <td>2</td>\n",
              "      <td>0.195199</td>\n",
              "      <td>0.132554</td>\n",
              "      <td>0.575981</td>\n",
              "      <td>02:10</td>\n",
              "    </tr>\n",
              "    <tr>\n",
              "      <td>3</td>\n",
              "      <td>0.162561</td>\n",
              "      <td>0.132709</td>\n",
              "      <td>0.571924</td>\n",
              "      <td>02:13</td>\n",
              "    </tr>\n",
              "  </tbody>\n",
              "</table>"
            ],
            "text/plain": [
              "<IPython.core.display.HTML object>"
            ]
          },
          "metadata": {
            "tags": []
          }
        },
        {
          "output_type": "stream",
          "text": [
            "Better model found at epoch 0 with mcc_masked value: 0.5627838373184204.\n",
            "Better model found at epoch 1 with mcc_masked value: 0.5655791163444519.\n",
            "Better model found at epoch 2 with mcc_masked value: 0.5759810209274292.\n"
          ],
          "name": "stdout"
        }
      ]
    },
    {
      "cell_type": "code",
      "metadata": {
        "id": "W2IW750fXASz",
        "colab_type": "code",
        "colab": {}
      },
      "source": [
        "learn.save('fit4')"
      ],
      "execution_count": null,
      "outputs": []
    },
    {
      "cell_type": "code",
      "metadata": {
        "id": "q2MRTQu9spn1",
        "colab_type": "code",
        "colab": {
          "base_uri": "https://localhost:8080/",
          "height": 34
        },
        "outputId": "be4e9581-7b3d-4a0d-fc04-cf394af0eb0a"
      },
      "source": [
        "#learn.load('fit4');\n",
        "learn.validate()"
      ],
      "execution_count": null,
      "outputs": [
        {
          "output_type": "display_data",
          "data": {
            "text/html": [
              ""
            ],
            "text/plain": [
              "<IPython.core.display.HTML object>"
            ]
          },
          "metadata": {
            "tags": []
          }
        },
        {
          "output_type": "execute_result",
          "data": {
            "text/plain": [
              "[0.12907319, tensor(0.0603)]"
            ]
          },
          "metadata": {
            "tags": []
          },
          "execution_count": 142
        }
      ]
    },
    {
      "cell_type": "code",
      "metadata": {
        "id": "Kpq6S2lNi4X4",
        "colab_type": "code",
        "colab": {
          "base_uri": "https://localhost:8080/",
          "height": 298
        },
        "outputId": "b2baff6f-d7fb-43cc-d463-b516833f32b5"
      },
      "source": [
        "learn.fit_one_cycle(6, slice(1e-3/(2.6**4),1e-3), moms=(0.8,0.7))"
      ],
      "execution_count": null,
      "outputs": [
        {
          "output_type": "display_data",
          "data": {
            "text/html": [
              "<table border=\"1\" class=\"dataframe\">\n",
              "  <thead>\n",
              "    <tr style=\"text-align: left;\">\n",
              "      <th>epoch</th>\n",
              "      <th>train_loss</th>\n",
              "      <th>valid_loss</th>\n",
              "      <th>mcc_masked</th>\n",
              "      <th>time</th>\n",
              "    </tr>\n",
              "  </thead>\n",
              "  <tbody>\n",
              "    <tr>\n",
              "      <td>0</td>\n",
              "      <td>0.164547</td>\n",
              "      <td>0.135387</td>\n",
              "      <td>0.576994</td>\n",
              "      <td>02:15</td>\n",
              "    </tr>\n",
              "    <tr>\n",
              "      <td>1</td>\n",
              "      <td>0.195788</td>\n",
              "      <td>0.140671</td>\n",
              "      <td>0.569276</td>\n",
              "      <td>02:16</td>\n",
              "    </tr>\n",
              "    <tr>\n",
              "      <td>2</td>\n",
              "      <td>0.187184</td>\n",
              "      <td>0.139009</td>\n",
              "      <td>0.571644</td>\n",
              "      <td>02:16</td>\n",
              "    </tr>\n",
              "    <tr>\n",
              "      <td>3</td>\n",
              "      <td>0.176278</td>\n",
              "      <td>0.139293</td>\n",
              "      <td>0.582603</td>\n",
              "      <td>02:18</td>\n",
              "    </tr>\n",
              "    <tr>\n",
              "      <td>4</td>\n",
              "      <td>0.133000</td>\n",
              "      <td>0.141072</td>\n",
              "      <td>0.582924</td>\n",
              "      <td>02:15</td>\n",
              "    </tr>\n",
              "    <tr>\n",
              "      <td>5</td>\n",
              "      <td>0.132051</td>\n",
              "      <td>0.141394</td>\n",
              "      <td>0.584821</td>\n",
              "      <td>02:16</td>\n",
              "    </tr>\n",
              "  </tbody>\n",
              "</table>"
            ],
            "text/plain": [
              "<IPython.core.display.HTML object>"
            ]
          },
          "metadata": {
            "tags": []
          }
        },
        {
          "output_type": "stream",
          "text": [
            "Better model found at epoch 0 with mcc_masked value: 0.5769940614700317.\n",
            "Better model found at epoch 3 with mcc_masked value: 0.5826025009155273.\n",
            "Better model found at epoch 4 with mcc_masked value: 0.5829238295555115.\n",
            "Better model found at epoch 5 with mcc_masked value: 0.5848205089569092.\n"
          ],
          "name": "stdout"
        }
      ]
    },
    {
      "cell_type": "code",
      "metadata": {
        "id": "WIgZ3lbVmK8R",
        "colab_type": "code",
        "colab": {}
      },
      "source": [
        "learn.save('fit5')"
      ],
      "execution_count": null,
      "outputs": []
    }
  ]
}