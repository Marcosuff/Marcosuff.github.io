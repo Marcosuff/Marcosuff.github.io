{
  "nbformat": 4,
  "nbformat_minor": 0,
  "metadata": {
    "colab": {
      "name": "SMILES-LSTM-fastaiv2.ipynb",
      "provenance": [],
      "collapsed_sections": [
        "kWnclfuX3FQL"
      ],
      "authorship_tag": "ABX9TyODWj40+ZtJaanVwcUQMiHY",
      "include_colab_link": true
    },
    "kernelspec": {
      "name": "python3",
      "display_name": "Python 3"
    }
  },
  "cells": [
    {
      "cell_type": "markdown",
      "metadata": {
        "id": "view-in-github",
        "colab_type": "text"
      },
      "source": [
        "<a href=\"https://colab.research.google.com/github/Marcosuff/Marcosuff.github.io/blob/master/nbs/SMILES_LSTM_fastaiv2_callbackV1.ipynb\" target=\"_parent\"><img src=\"https://colab.research.google.com/assets/colab-badge.svg\" alt=\"Open In Colab\"/></a>"
      ]
    },
    {
      "cell_type": "code",
      "metadata": {
        "id": "dLkjMP2QlFpe",
        "colab_type": "code",
        "colab": {}
      },
      "source": [
        "#export\n",
        "import sys\n",
        "!pip install fastai2\n",
        "! wget -c https://repo.anaconda.com/archive/Anaconda3-2019.10-Linux-x86_64.sh\n",
        "! bash Anaconda3-2019.10-Linux-x86_64.sh -bfp /usr/local\n",
        "sys.path.append('/usr/local/lib/python3.7/site-packages')\n",
        "!conda install -y -c rdkit rdkit"
      ],
      "execution_count": null,
      "outputs": []
    },
    {
      "cell_type": "code",
      "metadata": {
        "id": "Rh1dfHmYlL-L",
        "colab_type": "code",
        "colab": {}
      },
      "source": [
        "#export\n",
        "import pandas as pd\n",
        "import numpy as np\n",
        "\n",
        "from fastai2.text.all import *\n",
        "#from fastai2.callback import *\n",
        "\n",
        "from IPython.display import display,HTML\n",
        "\n",
        "from rdkit.Chem import MolFromSmiles, MolToSmiles, AllChem, SanitizeMol, rdmolops\n",
        "from rdkit.Chem.Draw import IPythonConsole, MolsToGridImage\n",
        "from rdkit.Chem.SaltRemover import SaltRemover as saltremover\n",
        "from rdkit.Chem.MolStandardize.rdMolStandardize import LargestFragmentChooser\n",
        "from rdkit import rdBase\n",
        "rdBase.DisableLog('rdApp.error')\n",
        "rdBase.DisableLog('rdApp.info')\n",
        "\n",
        "from google.colab import drive"
      ],
      "execution_count": 3,
      "outputs": []
    },
    {
      "cell_type": "code",
      "metadata": {
        "id": "H2lVUAMhlf3t",
        "colab_type": "code",
        "colab": {
          "base_uri": "https://localhost:8080/",
          "height": 34
        },
        "outputId": "7a9920a0-a7b5-49e3-eb95-8c250e9d96c4"
      },
      "source": [
        "#export\n",
        "drive.mount('mydrive')\n",
        "#sys.path.append('/content/mydrive/My Drive/Generative/mol_utils')\n",
        "path = Path('/content/mydrive/My Drive/Generative/data')"
      ],
      "execution_count": 4,
      "outputs": [
        {
          "output_type": "stream",
          "text": [
            "Drive already mounted at mydrive; to attempt to forcibly remount, call drive.mount(\"mydrive\", force_remount=True).\n"
          ],
          "name": "stdout"
        }
      ]
    },
    {
      "cell_type": "markdown",
      "metadata": {
        "id": "-amPNcJKnOyp",
        "colab_type": "text"
      },
      "source": [
        "# **Import data**"
      ]
    },
    {
      "cell_type": "code",
      "metadata": {
        "id": "69D117lenRqS",
        "colab_type": "code",
        "colab": {
          "base_uri": "https://localhost:8080/",
          "height": 0
        },
        "outputId": "d99ab5b3-e344-4c32-c2d0-d0d7376384a2"
      },
      "source": [
        "chembl = pd.read_csv(path/'ChEMBL_v2.csv').sample(n=1000)\n",
        "print(chembl.shape)\n",
        "db = pd.read_csv(path/'chembl27.csv.gz')"
      ],
      "execution_count": 5,
      "outputs": [
        {
          "output_type": "stream",
          "text": [
            "(1000, 3)\n"
          ],
          "name": "stdout"
        }
      ]
    },
    {
      "cell_type": "code",
      "metadata": {
        "id": "Li5ITI9SoSrk",
        "colab_type": "code",
        "colab": {
          "base_uri": "https://localhost:8080/",
          "height": 0
        },
        "outputId": "bf01babf-af8c-4f90-c57e-927631c2d842"
      },
      "source": [
        "target_name = 'CHEMBL244'\n",
        "fxa = db[db['target_chembl_id'] == target_name]\n",
        "print(fxa.shape)\n",
        "fxa.head()"
      ],
      "execution_count": 6,
      "outputs": [
        {
          "output_type": "stream",
          "text": [
            "(6515, 14)\n"
          ],
          "name": "stdout"
        },
        {
          "output_type": "execute_result",
          "data": {
            "text/html": [
              "<div>\n",
              "<style scoped>\n",
              "    .dataframe tbody tr th:only-of-type {\n",
              "        vertical-align: middle;\n",
              "    }\n",
              "\n",
              "    .dataframe tbody tr th {\n",
              "        vertical-align: top;\n",
              "    }\n",
              "\n",
              "    .dataframe thead th {\n",
              "        text-align: right;\n",
              "    }\n",
              "</style>\n",
              "<table border=\"1\" class=\"dataframe\">\n",
              "  <thead>\n",
              "    <tr style=\"text-align: right;\">\n",
              "      <th></th>\n",
              "      <th>doc_id</th>\n",
              "      <th>standard_value</th>\n",
              "      <th>standard_type</th>\n",
              "      <th>standard_relation</th>\n",
              "      <th>pchembl</th>\n",
              "      <th>molregno</th>\n",
              "      <th>canonical_smiles</th>\n",
              "      <th>chembl_id</th>\n",
              "      <th>target_dictionary</th>\n",
              "      <th>target_chembl_id</th>\n",
              "      <th>l1</th>\n",
              "      <th>l2</th>\n",
              "      <th>l3</th>\n",
              "      <th>confidence_score</th>\n",
              "    </tr>\n",
              "  </thead>\n",
              "  <tbody>\n",
              "    <tr>\n",
              "      <th>22</th>\n",
              "      <td>3476</td>\n",
              "      <td>44.4</td>\n",
              "      <td>IC50</td>\n",
              "      <td>=</td>\n",
              "      <td>7.35</td>\n",
              "      <td>192068</td>\n",
              "      <td>N=C(N)N1CCC[C@H](NC(=O)CNC(=O)[C@@H](CCNC(=O)c2ccc3ccccc3n2)NS(=O)(=O)Cc2ccccc2)C1O</td>\n",
              "      <td>CHEMBL117716</td>\n",
              "      <td>194</td>\n",
              "      <td>CHEMBL244</td>\n",
              "      <td>Enzyme</td>\n",
              "      <td>Protease</td>\n",
              "      <td>Serine protease</td>\n",
              "      <td>8</td>\n",
              "    </tr>\n",
              "    <tr>\n",
              "      <th>273</th>\n",
              "      <td>6512</td>\n",
              "      <td>180.0</td>\n",
              "      <td>IC50</td>\n",
              "      <td>=</td>\n",
              "      <td>6.75</td>\n",
              "      <td>203908</td>\n",
              "      <td>Cc1cc(NC(=O)Cc2ccc3[nH]c(-c4ccc(Cl)s4)nc3c2)ccc1-n1ccccc1=O</td>\n",
              "      <td>CHEMBL337921</td>\n",
              "      <td>194</td>\n",
              "      <td>CHEMBL244</td>\n",
              "      <td>Enzyme</td>\n",
              "      <td>Protease</td>\n",
              "      <td>Serine protease</td>\n",
              "      <td>8</td>\n",
              "    </tr>\n",
              "    <tr>\n",
              "      <th>274</th>\n",
              "      <td>6512</td>\n",
              "      <td>120.0</td>\n",
              "      <td>IC50</td>\n",
              "      <td>=</td>\n",
              "      <td>6.92</td>\n",
              "      <td>204329</td>\n",
              "      <td>Cc1cc(NC(=O)Cc2ccc3[nH]c(-c4ccc(Cl)s4)nc3c2)ccc1N1CCOCC1=O</td>\n",
              "      <td>CHEMBL340500</td>\n",
              "      <td>194</td>\n",
              "      <td>CHEMBL244</td>\n",
              "      <td>Enzyme</td>\n",
              "      <td>Protease</td>\n",
              "      <td>Serine protease</td>\n",
              "      <td>8</td>\n",
              "    </tr>\n",
              "    <tr>\n",
              "      <th>288</th>\n",
              "      <td>3476</td>\n",
              "      <td>311.0</td>\n",
              "      <td>IC50</td>\n",
              "      <td>=</td>\n",
              "      <td>6.51</td>\n",
              "      <td>192044</td>\n",
              "      <td>N=C(N)N1CCC[C@H](NC(=O)CNC(=O)[C@@H](CNC(=O)c2cnccn2)NS(=O)(=O)Cc2ccccc2)C1O</td>\n",
              "      <td>CHEMBL117721</td>\n",
              "      <td>194</td>\n",
              "      <td>CHEMBL244</td>\n",
              "      <td>Enzyme</td>\n",
              "      <td>Protease</td>\n",
              "      <td>Serine protease</td>\n",
              "      <td>8</td>\n",
              "    </tr>\n",
              "    <tr>\n",
              "      <th>291</th>\n",
              "      <td>3476</td>\n",
              "      <td>6.1</td>\n",
              "      <td>IC50</td>\n",
              "      <td>=</td>\n",
              "      <td>8.21</td>\n",
              "      <td>191486</td>\n",
              "      <td>N=C(N)N1CCC[C@H](NC(=O)CNC(=O)[C@@H](CCNC(=O)c2ccc(O)nc2)NS(=O)(=O)Cc2ccccc2)C1O</td>\n",
              "      <td>CHEMBL331807</td>\n",
              "      <td>194</td>\n",
              "      <td>CHEMBL244</td>\n",
              "      <td>Enzyme</td>\n",
              "      <td>Protease</td>\n",
              "      <td>Serine protease</td>\n",
              "      <td>8</td>\n",
              "    </tr>\n",
              "  </tbody>\n",
              "</table>\n",
              "</div>"
            ],
            "text/plain": [
              "     doc_id  standard_value  ...               l3 confidence_score\n",
              "22     3476            44.4  ...  Serine protease                8\n",
              "273    6512           180.0  ...  Serine protease                8\n",
              "274    6512           120.0  ...  Serine protease                8\n",
              "288    3476           311.0  ...  Serine protease                8\n",
              "291    3476             6.1  ...  Serine protease                8\n",
              "\n",
              "[5 rows x 14 columns]"
            ]
          },
          "metadata": {
            "tags": []
          },
          "execution_count": 6
        }
      ]
    },
    {
      "cell_type": "markdown",
      "metadata": {
        "id": "Ps-yYcxVLTnb",
        "colab_type": "text"
      },
      "source": [
        "# **Tokenizing V2**"
      ]
    },
    {
      "cell_type": "code",
      "metadata": {
        "id": "b1dMBow7EqnB",
        "colab_type": "code",
        "colab": {}
      },
      "source": [
        "#export\n",
        "class MolTokenizer_v2():\n",
        "\n",
        "  def tokenize_mols(self, t):\n",
        "    pat = '(\\[.*?\\])' # Find special enviroments (e.g., [CH],[NH] etc)\n",
        "    tokens = []\n",
        "    t = t.replace('Br','L').replace('Cl','X') # Replace halogens\n",
        "    atom_list = re.split(pat,t)\n",
        "    for s in atom_list:\n",
        "      if s.startswith('['):\n",
        "        tokens.append(s)\n",
        "      else:\n",
        "        tokens += [x for x in list(s)]\n",
        "    tokens = [x.replace('L','Br').replace('X','Cl') for x in tokens] # Decode halogens\n",
        "    return [BOS] + tokens\n",
        "\n",
        "  def __call__(self, items): return (self.tokenize_mols(t) for t in items)"
      ],
      "execution_count": 8,
      "outputs": []
    },
    {
      "cell_type": "code",
      "metadata": {
        "id": "BO047cF0V06h",
        "colab_type": "code",
        "colab": {}
      },
      "source": [
        "tk = Tokenizer(MolTokenizer_v2(),rules=[])"
      ],
      "execution_count": 5,
      "outputs": []
    },
    {
      "cell_type": "code",
      "metadata": {
        "id": "6t_weAMt4h89",
        "colab_type": "code",
        "colab": {
          "base_uri": "https://localhost:8080/",
          "height": 54
        },
        "outputId": "37c6d221-dfe9-4b79-c567-cec14d79de46"
      },
      "source": [
        "tokens = L(list(chembl.Smiles)).map(tk)\n",
        "tokens"
      ],
      "execution_count": 9,
      "outputs": [
        {
          "output_type": "execute_result",
          "data": {
            "text/plain": [
              "(#1000) [['xxbos', 'O', '=', 'c', '1', 'c', 'c', '(', '-', 'c', '2', 'c', 'c', 'c', 'c', 'c', '2', ')', 'o', 'c', '2', 'c', 'c', 'c', '(', 'O', 'C', 'C', 'C', 'C', 'C', 'C', 'N', '3', 'C', 'C', 'N', 'C', 'C', '3', 'c', '3', 'c', 'c', 'c', 'c', 'n', '3', ')', 'c', 'c', '1', '2'],['xxbos', 'C', 'c', '1', 'c', 'c', '(', 'O', ')', 'n', 'c', '(', 'N', '/', 'N', '=', 'C', '/', 'c', '2', 'c', '(', 'C', ')', 'o', 'c', '3', 'c', 'c', 'c', 'c', 'c', '2', '3', ')', 'n', '1'],['xxbos', 'C', 'S', '(', '=', 'O', ')', '(', '=', 'O', ')', 'c', '1', 'c', 'c', 'c', '(', '/', 'C', '(', '=', 'N', '\\\\', 'O', 'C', 'C', 'C', 'C', 'C', '(', '=', 'O', ')', 'O', ')', 'C', '(', 'C', 'c', '2', 'c', 'c', 'c', 'c', 'c', '2', ')', 'n', '2', 'c', 'c', 'n', 'c', '2', ')', 'c', 'c', '1'],['xxbos', 'C', 'O', 'c', '1', 'c', 'c', 'c', '(', 'C', 'N', '2', 'C', 'C', 'N', '(', 'C', '(', '=', 'O', ')', 'c', '3', 'c', 'c', '4', 'c', 'c', '(', 'O', ')', 'c', 'c', 'c', '4', '[nH]', '3', ')', 'C', 'C', '2', ')', 'c', '(', 'O', 'C', ')', 'c', '1', 'O', 'C'],['xxbos', 'Cl', 'c', '1', 'c', 'c', 'c', '2', 'c', '(', 'c', '1', ')', 'C', '1', '(', 'C', 'C', 'N', 'C', 'C', '1', ')', 'C', 'N', '2', 'c', '1', 'n', 'c', 'n', 'c', '2', '[nH]', 'c', 'c', 'c', '1', '2'],['xxbos', 'C', 'c', '1', 'n', 'n', '(', 'C', 'n', '2', 'c', 'c', 'c', '(', 'C', '(', '=', 'O', ')', 'N', '3', 'C', 'C', 'C', 'C', '3', ')', 'n', '2', ')', 'c', '(', 'C', ')', 'c', '1', 'Cl'],['xxbos', 'C', 'O', 'C', '(', '=', 'O', ')', 'C', '1', 'C', 'N', '(', 'c', '2', 'c', 'c', 'c', '(', '[N+]', '(', '=', 'O', ')', '[O-]', ')', 'c', 'c', '2', ')', 'N', '=', 'C', '1', 'C', '(', 'C', ')', '=', 'O'],['xxbos', 'C', 'c', '1', 'c', 'c', 'c', '(', 'N', 'C', '(', '=', 'O', ')', 'N', '(', 'C', 'C', 'C', 'N', '2', '[C@H]', '3', 'C', 'C', '[C@@H]', '2', 'C', '[C@@H]', '(', 'n', '2', 'c', '(', 'C', ')', 'n', 'c', '4', 'c', '2', 'C', 'C', 'N', '(', 'S', '(', 'C', ')', '(', '=', 'O', ')', '=', 'O', ')', 'C', '4', ')', 'C', '3', ')', 'c', '2', 'c', 'c', 'c', 'c', 'c', '2', ')', 'c', 'c', '1'],['xxbos', 'N', '=', 'C', '(', 'N', ')', 'N', '/', 'N', '=', 'C', '(', '/', 'C', '=', 'C', '/', 'c', '1', 'c', 'c', 'c', '(', 'F', ')', 'c', 'c', '1', ')', 'c', '1', 'c', 'c', 'c', 'c', 'c', '1'],['xxbos', 'O', '=', 'C', '1', 'C', '(', 'Cl', ')', '=', 'C', '(', 'O', 'C', 'C', 'O', 'C', 'C', 'O', 'C', 'C', 'O', 'C', 'C', 'O', 'C', '2', '=', 'C', '(', 'Cl', ')', 'C', '(', '=', 'O', ')', 'c', '3', 'c', 'c', 'c', 'c', 'c', '3', 'C', '2', '=', 'O', ')', 'C', '(', '=', 'O', ')', 'c', '2', 'c', 'c', 'c', 'c', 'c', '2', '1']...]"
            ]
          },
          "metadata": {
            "tags": []
          },
          "execution_count": 9
        }
      ]
    },
    {
      "cell_type": "code",
      "metadata": {
        "id": "b4grWM5X-SO4",
        "colab_type": "code",
        "colab": {
          "base_uri": "https://localhost:8080/",
          "height": 727
        },
        "outputId": "fc081529-1489-449c-f438-8149aee92632"
      },
      "source": [
        "num = Numericalize(min_freq = 1, special_toks=[BOS,PAD])\n",
        "num.setup(tokens)\n",
        "\n",
        "num.vocab"
      ],
      "execution_count": 10,
      "outputs": [
        {
          "output_type": "execute_result",
          "data": {
            "text/plain": [
              "['xxbos',\n",
              " 'xxpad',\n",
              " 'c',\n",
              " 'C',\n",
              " '(',\n",
              " ')',\n",
              " '1',\n",
              " 'O',\n",
              " '2',\n",
              " '=',\n",
              " 'N',\n",
              " 'n',\n",
              " '3',\n",
              " 'F',\n",
              " '4',\n",
              " '-',\n",
              " '/',\n",
              " 'Cl',\n",
              " '[C@H]',\n",
              " '[C@@H]',\n",
              " 'S',\n",
              " 'o',\n",
              " '[nH]',\n",
              " 's',\n",
              " '#',\n",
              " '5',\n",
              " '[C@]',\n",
              " '\\\\',\n",
              " '[O-]',\n",
              " 'Br',\n",
              " '[N+]',\n",
              " '[C@@]',\n",
              " '[n+]',\n",
              " 'P',\n",
              " '6',\n",
              " 'I',\n",
              " '7',\n",
              " 'xxfake',\n",
              " 'xxfake',\n",
              " 'xxfake']"
            ]
          },
          "metadata": {
            "tags": []
          },
          "execution_count": 10
        }
      ]
    },
    {
      "cell_type": "code",
      "metadata": {
        "id": "VOE6CSJO6U3_",
        "colab_type": "code",
        "colab": {
          "base_uri": "https://localhost:8080/",
          "height": 52
        },
        "outputId": "9aea558a-ca74-40f0-a480-96e4e2332bbd"
      },
      "source": [
        "coll_repr(num.vocab, 15),len(num.vocab)"
      ],
      "execution_count": 86,
      "outputs": [
        {
          "output_type": "execute_result",
          "data": {
            "text/plain": [
              "(\"(#40) ['xxbos','xxpad','c','C','(',')','O','1','2','=','N','3','n','4','F'...]\",\n",
              " 40)"
            ]
          },
          "metadata": {
            "tags": []
          },
          "execution_count": 86
        }
      ]
    },
    {
      "cell_type": "code",
      "metadata": {
        "id": "jD0GCwwB7wZO",
        "colab_type": "code",
        "colab": {
          "base_uri": "https://localhost:8080/",
          "height": 70
        },
        "outputId": "2f28f60b-bddc-4b1a-b501-4a8c22f795c6"
      },
      "source": [
        "#nums10 = tokens[0:10].map(num)\n",
        "#nums10\n",
        "num(tokens[1])"
      ],
      "execution_count": null,
      "outputs": [
        {
          "output_type": "execute_result",
          "data": {
            "text/plain": [
              "TensorText([ 0, 34,  5,  9,  5,  5,  5,  5,  6, 12,  5, 11, 16,  5, 16,  5, 13,  5,\n",
              "         5, 16,  5,  5, 11, 13,  7,  5,  9, 12,  4,  4, 12,  9,  4,  4,  8,  4,\n",
              "         4,  9,  3])"
            ]
          },
          "metadata": {
            "tags": []
          },
          "execution_count": 224
        }
      ]
    },
    {
      "cell_type": "markdown",
      "metadata": {
        "id": "NgbpqqeWhvX0",
        "colab_type": "text"
      },
      "source": [
        "Let's take a look at some batches. When training a language model, we first concatenate all texts into a big stream and then split it into batches with a defined sequence length.\n",
        "\n",
        "In the case of SMILES strings, at each epoch the model will recieve `bs` number of mini-batches. But instead of sending long SMILES at each epoch (which would crash the GPU memory), we further split the batches into subarrays with a length equals to `seq_len`. These subarrays are split in a manner as to preserve the order within each SMILES string."
      ]
    },
    {
      "cell_type": "code",
      "metadata": {
        "id": "Z0iEcpHggUDV",
        "colab_type": "code",
        "colab": {
          "base_uri": "https://localhost:8080/",
          "height": 1000
        },
        "outputId": "5f701932-c853-4972-9dbf-0bfef94c2e3d"
      },
      "source": [
        "bs,seq_len = 6,15\n",
        "d_tokens = np.array([tokens[i*seq_len:(i+1)*seq_len] for i in range(bs)])\n",
        "df = pd.DataFrame(d_tokens)\n",
        "display(HTML(df.to_html(index=False,header=None)))"
      ],
      "execution_count": 87,
      "outputs": [
        {
          "output_type": "display_data",
          "data": {
            "text/html": [
              "<table border=\"1\" class=\"dataframe\">\n",
              "  <tbody>\n",
              "    <tr>\n",
              "      <td>[xxbos, C, C, (, C, ), [C@@H], (, N, S, (, =, O, ), (, =, O, ), c, 1, c, c, c, (, -, c, 2, c, c, c, (, O, C, c, 3, c, c, c, c, c, 3, C, (, F, ), (, F, ), F, ), c, c, 2, ), c, c, 1, ), C, (, =, O, ), O]</td>\n",
              "      <td>[xxbos, C, =, C, 1, C, C, N, (, [C@@H], (, C, c, 2, c, c, c, c, c, 2, ), C, (, =, O, ), N, c, 2, n, c, c, s, 2, ), S, (, =, O, ), (, =, O, ), c, 2, c, c, c, c, c, 2, 1]</td>\n",
              "      <td>[xxbos, C, c, 1, c, c, c, 2, c, (, c, 1, ), C, (, =, O, ), N, (, C, C, O, C, (, =, S, ), N, (, C, (, =, O, ), c, 1, c, c, c, s, 1, ), c, 1, c, c, c, (, Cl, ), c, c, 1, ), C, 2, =, O]</td>\n",
              "      <td>[xxbos, C, C, c, 1, c, c, c, c, (, C, C, ), c, 1, N, C, (, =, O, ), C, N, 1, C, [C@H], (, c, 2, c, c, c, 3, c, (, c, 2, ), O, C, O, 3, ), [C@@H], (, C, (, =, O, ), O, ), [C@@H], 1, c, 1, c, c, c, (, C, C, O, C, ), c, c, 1]</td>\n",
              "      <td>[xxbos, O, =, S, (, =, O, ), (, N, C, c, 1, c, c, (, -, c, 2, c, c, c, c, c, 2, ), n, o, 1, ), c, 1, c, c, c, (, F, ), c, c, 1]</td>\n",
              "      <td>[xxbos, C, O, c, 1, c, c, c, (, N, C, 2, =, N, C, (, =, O, ), /, C, (, =, C, /, c, 3, c, n, (, -, c, 4, c, c, c, c, c, 4, ), n, c, 3, -, c, 3, c, c, c, (, Cl, ), c, c, 3, Cl, ), S, 2, ), c, (, O, C, ), c, 1]</td>\n",
              "      <td>[xxbos, C, O, c, 1, n, c, (, Cl, ), c, n, (, -, c, 2, c, c, c, (, C, ), c, c, 2, ), c, 1, =, O]</td>\n",
              "      <td>[xxbos, C, c, 1, n, c, (, S, C, C, (, =, O, ), N, 2, C, C, C, C, C, 2, ), c, 2, c, (, C, ), c, (, C, ), s, c, 2, n, 1]</td>\n",
              "      <td>[xxbos, C, C, 1, C, c, 2, c, c, c, (, N, S, (, =, O, ), (, =, O, ), c, 3, c, (, Cl, ), n, c, 4, s, c, c, n, 3, 4, ), c, c, 2, /, C, 1, =, N, /, N, C, (, =, N, ), N]</td>\n",
              "      <td>[xxbos, C, C, [C@H], (, C, N, (, O, ), C, =, O, ), C, (, =, O, ), N, [C@H], (, C, (, =, O, ), N, (, C, ), C, ), C, (, C, ), (, C, ), C]</td>\n",
              "      <td>[xxbos, C, C, C, C, O, c, 1, c, c, c, (, C, (, C, ), =, O, ), c, c, 1, C, S, c, 1, n, c, 2, c, c, (, F, ), c, c, c, 2, n, 1, C, C, (, =, O, ), O]</td>\n",
              "      <td>[xxbos, O, =, C, (, c, 1, c, c, n, c, c, 1, ), n, 1, n, c, (, -, c, 2, c, c, c, c, (, [N+], (, =, O, ), [O-], ), c, 2, ), c, c, 1, -, c, 1, c, c, 2, c, c, c, c, c, 2, o, c, 1, =, O]</td>\n",
              "      <td>[xxbos, C, c, 1, c, c, c, (, -, c, 2, n, n, (, -, c, 3, c, c, c, c, c, 3, ), c, c, 2, C, (, =, O, ), c, 2, c, n, (, C, C, (, =, O, ), N, c, 3, c, (, C, (, F, ), (, F, ), F, ), n, [nH], c, 3, -, c, 3, c, c, c, c, c, 3, ), n, n, 2, ), c, c, 1]</td>\n",
              "      <td>[xxbos, C, c, 1, c, c, (, C, (, =, O, ), N, c, 2, c, n, c, c, (, C, (, =, O, ), c, 3, c, n, (, C, (, C, ), C, ), c, 4, n, c, n, c, c, 3, 4, ), c, 2, ), c, c, n, 1]</td>\n",
              "      <td>[xxbos, N, c, 1, n, c, (, N, ), c, (, -, c, 2, c, c, c, (, N, C, (, =, O, ), C, c, 3, c, c, c, n, c, 3, ), c, c, 2, ), c, (, C, O, C, c, 2, c, c, c, c, c, 2, ), n, 1]</td>\n",
              "    </tr>\n",
              "    <tr>\n",
              "      <td>[xxbos, N, C, (, =, O, ), [C@@H], (, C, C, 1, C, C, (, F, ), (, F, ), C, 1, ), [C@@H], (, C, C, C, (, F, ), (, F, ), F, ), C, (, =, O, ), N, [C@H], 1, N, =, C, (, c, 2, c, c, c, c, c, 2, ), c, 2, c, c, c, c, (, O, C, 3, C, C, 3, ), c, 2, N, C, 1, =, O]</td>\n",
              "      <td>[xxbos, C, [C@H], (, C, C, c, 1, c, c, c, (, O, ), c, c, 1, ), N, C, (, =, O, ), C, c, 1, c, (, -, c, 2, c, c, c, c, c, 2, ), [nH], c, 2, c, c, c, c, (, O, C, C, N, 3, C, C, C, C, C, 3, ), c, 1, 2]</td>\n",
              "      <td>[xxbos, C, =, C, 1, C, C, [C@H], 2, C, (, C, ), (, C, ), C, C, C, [C@], 2, (, C, ), [C@H], 1, C, C, (, =, O, ), N, (, C, (, =, O, ), C, [C@H], 1, C, (, =, C, ), C, C, [C@H], 2, C, (, C, ), (, C, ), C, C, C, [C@], 1, 2, C, ), c, 1, n, c, c, c, n, 1]</td>\n",
              "      <td>[xxbos, O, =, C, (, O, ), C, S, C, C, (, =, O, ), N, c, 1, c, c, c, (, Cl, ), c, c, 1, C, (, F, ), (, F, ), F]</td>\n",
              "      <td>[xxbos, C, C, O, C, 1, =, C, (, /, C, (, C, ), =, N, /, O, C, C, (, =, O, ), N, c, 2, c, c, c, (, F, ), c, (, Cl, ), c, 2, ), N, (, C, ), S, (, =, O, ), (, =, O, ), c, 2, c, c, c, c, c, 2, 1]</td>\n",
              "      <td>[xxbos, C, C, N, C, (, =, O, ), C, C, S, c, 1, n, n, c, (, -, c, 2, c, c, n, c, c, 2, ), o, 1]</td>\n",
              "      <td>[xxbos, C, O, c, 1, c, c, c, (, N, c, 2, c, 3, c, (, n, c, 4, c, (, -, c, 5, c, c, c, c, c, 5, ), c, (, C, ), n, n, 2, 4, ), C, C, C, 3, ), c, c, 1]</td>\n",
              "      <td>[xxbos, O, =, S, (, =, O, ), (, N, c, 1, c, c, (, S, c, 2, n, c, 3, c, c, c, c, c, 3, s, 2, ), c, (, O, ), c, 2, c, c, c, c, c, 1, 2, ), c, 1, c, c, c, c, c, 1]</td>\n",
              "      <td>[xxbos, C, O, c, 1, c, c, c, (, C, C, (, =, O, ), O, c, 2, c, c, c, (, C, (, C, ), (, C, ), C, ), c, c, 2, ), c, c, 1, S, (, =, O, ), (, =, O, ), N, 1, C, C, O, C, C, 1]</td>\n",
              "      <td>[xxbos, C, C, O, C, (, =, O, ), c, 1, c, c, c, c, (, -, c, 2, n, n, (, C, C, n, 3, c, c, n, c, 3, ), c, (, =, O, ), c, 3, c, c, c, c, c, 2, 3, ), c, 1]</td>\n",
              "      <td>[xxbos, C, c, 1, c, c, c, (, /, C, =, C, 2, \\, C, C, C, [C@], 3, (, C, 2, =, O, ), [C@H], (, c, 2, c, c, c, (, C, ), o, 2, ), C, N, (, C, ), [C@], 3, 2, C, (, =, O, ), N, (, C, N, 3, C, C, O, C, C, 3, ), c, 3, c, c, c, c, c, 3, 2, ), o, 1]</td>\n",
              "      <td>[xxbos, O, =, C, (, C, N, 1, C, C, N, (, C, (, =, O, ), C, 2, C, C, C, O, 2, ), C, C, 1, ), N, c, 1, c, c, (, Cl, ), c, c, c, 1, Cl]</td>\n",
              "      <td>[xxbos, O, =, c, 1, c, c, (, C, N, (, C, c, 2, c, c, c, c, c, 2, ), C, c, 2, c, c, c, c, c, 2, ), c, 2, c, (, c, c, c, 3, c, c, c, c, c, 3, 2, ), o, 1]</td>\n",
              "      <td>[xxbos, O, =, C, (, N, c, 1, c, c, c, c, n, 1, ), c, 1, s, c, 2, c, c, (, [N+], (, =, O, ), [O-], ), c, c, c, 2, c, 1, Cl]</td>\n",
              "      <td>[xxbos, C, C, [C@H], 1, O, C, (, =, O, ), [C@H], (, C, ), C, (, =, O, ), [C@H], (, C, ), [C@@H], (, O, [C@@H], 2, O, [C@H], (, C, ), C, [C@H], (, N, (, C, ), C, ), [C@H], 2, O, ), [C@], (, C, ), (, O, C, ), C, [C@@H], (, C, ), C, (, =, O, ), /, C, (, C, ), =, C, /, [C@], 1, (, C, ), O]</td>\n",
              "    </tr>\n",
              "    <tr>\n",
              "      <td>[xxbos, O, =, C, (, N, c, 1, c, c, c, c, c, 1, ), C, 1, =, C, c, 2, c, c, (, Br, ), c, c, c, 2, S, 1, (, =, O, ), =, O]</td>\n",
              "      <td>[xxbos, C, O, c, 1, c, c, c, (, N, 2, C, (, =, O, ), N, C, (, =, O, ), C, 2, c, 2, c, c, (, O, C, ), c, (, O, C, ), c, (, O, C, ), c, 2, ), c, c, 1, N]</td>\n",
              "      <td>[xxbos, C, C, O, c, 1, c, n, c, c, (, N, 2, C, C, [C@H], 3, C, N, [C@H], 3, C, 2, ), c, 1]</td>\n",
              "      <td>[xxbos, C, O, c, 1, c, c, c, (, N, C, (, =, O, ), N, c, 2, c, c, 3, o, c, 4, c, c, c, c, c, 4, c, 3, c, c, 2, O, C, ), c, c, 1]</td>\n",
              "      <td>[xxbos, C, S, C, C, [C@H], (, N, C, (, =, O, ), [C@@H], (, N, C, (, =, O, ), [C@@H], (, N, C, (, =, O, ), C, O, P, (, =, O, ), (, O, ), C, /, C, =, C, (, \\, C, ), C, C, /, C, =, C, (, \\, C, ), C, C, C, =, C, (, C, ), C, ), C, (, C, ), C, ), C, (, C, ), C, ), C, (, =, O, ), O]</td>\n",
              "      <td>[xxbos, C, c, 1, c, c, c, 2, n, c, (, -, c, 3, c, c, c, c, c, 3, N, C, (, =, O, ), C, C, C, (, =, O, ), O, ), c, (, O, ), n, c, 2, c, 1]</td>\n",
              "      <td>[xxbos, C, N, (, C, ), C, (, =, O, ), c, 1, c, c, c, (, -, c, 2, c, c, c, (, -, c, 3, c, c, c, 4, c, (, c, 3, ), C, O, C, 4, =, O, ), s, 2, ), c, c, 1]</td>\n",
              "      <td>[xxbos, N, c, 1, c, n, c, (, -, c, 2, c, c, c, (, F, ), c, c, 2, ), n, (, C, C, (, =, O, ), N, C, (, C, c, 2, c, c, c, c, c, 2, ), C, (, =, O, ), c, 2, n, c, 3, c, c, c, c, c, 3, s, 2, ), c, 1, =, O]</td>\n",
              "      <td>[xxbos, C, O, c, 1, c, c, c, (, -, n, 2, c, n, c, 3, c, c, (, N, ), c, c, c, 3, 2, ), c, c, 1]</td>\n",
              "      <td>[xxbos, C, O, C, C, c, 1, c, c, c, (, Cl, ), c, (, C, N, (, C, (, =, O, ), [C@H], 2, C, N, C, C, (, =, O, ), N, 2, c, 2, c, c, c, (, O, C, C, C, O, C, c, 3, c, c, c, c, c, 3, ), c, c, 2, ), C, 2, C, C, 2, ), c, 1]</td>\n",
              "      <td>[xxbos, C, C, 1, =, C, (, C, C, C, (, C, ), C, ), O, C, [C@], 2, 3, C, C, [C@H], 4, [C@@H], (, C, C, [C@H], 5, C, [C@@H], (, O, ), C, C, [C@@], 5, 4, C, ), [C@@H], 2, C, C, [C@H], 1, 3]</td>\n",
              "      <td>[xxbos, C, C, C, [C@H], 1, N, (, C, (, =, O, ), c, 2, c, n, c, c, c, 2, C, (, F, ), (, F, ), F, ), C, C, C, [C@@], 1, (, O, c, 1, c, c, c, (, C, (, F, ), (, F, ), F, ), c, c, 1, ), C, (, =, O, ), N, 1, C, C, C, (, O, c, 2, c, c, (, C, N, ), c, c, n, 2, ), C, C, 1]</td>\n",
              "      <td>[xxbos, C, c, 1, o, n, c, (, -, c, 2, c, c, c, c, c, 2, ), c, 1, -, c, 1, c, c, n, c, (, N, [C@@H], 2, C, C, N, C, 2, ), n, 1]</td>\n",
              "      <td>[xxbos, C, O, C, (, =, O, ), [C@@H], (, N, C, (, =, O, ), c, 1, c, c, c, (, C, (, =, O, ), N, (, C, (, C, ), C, ), C, (, C, ), C, ), c, c, 1, O, C, (, C, ), C, ), C, (, C, ), C]</td>\n",
              "      <td>[xxbos, C, O, c, 1, c, c, (, C, 2, =, N, /, C, (, =, C, \\, c, 3, c, c, c, n, c, 3, ), C, (, =, O, ), O, 2, ), c, c, (, O, C, ), c, 1, O, C]</td>\n",
              "    </tr>\n",
              "    <tr>\n",
              "      <td>[xxbos, C, N, (, C, ), C, c, 1, c, c, c, (, N, 2, C, C, C, (, O, c, 3, n, c, (, -, c, 4, c, c, n, c, n, 4, ), c, c, (, =, O, ), n, 3, C, ), C, C, 2, ), c, c, 1]</td>\n",
              "      <td>[xxbos, C, C, (, =, O, ), [C@@H], 1, [C@@H], 2, C, (, =, O, ), N, (, C, c, 3, c, c, c, c, c, 3, ), C, (, =, O, ), [C@@H], 2, C, 2, c, 3, c, c, c, c, c, 3, C, =, C, N, 2, 1]</td>\n",
              "      <td>[xxbos, C, N, 1, C, C, N, (, C, C, C, N, (, C, (, =, O, ), N, c, 2, c, c, c, (, F, ), c, (, Cl, ), c, 2, ), [C@@H], 2, C, C, [C@], 3, (, c, 4, c, c, c, (, O, C, (, F, ), (, F, ), F, ), c, c, 4, ), C, [C@H], 2, 3, ), C, C, 1]</td>\n",
              "      <td>[xxbos, C, N, (, C, c, 1, c, c, c, (, O, C, C, C, N, ), c, c, 1, ), c, 1, n, c, 2, c, c, c, (, O, c, 3, c, c, c, (, O, ), c, c, 3, ), c, c, 2, s, 1]</td>\n",
              "      <td>[xxbos, C, n, 1, c, (, =, O, ), c, 2, c, (, S, C, C, (, =, O, ), N, 3, C, C, C, C, 3, ), n, c, (, -, c, 3, c, c, c, c, c, 3, ), n, c, 2, n, (, C, ), c, 1, =, O]</td>\n",
              "      <td>[xxbos, C, C, (, =, O, ), N, c, 1, c, c, c, c, (, S, (, =, O, ), (, =, O, ), C, C, O, C, (, C, ), =, O, ), c, 1]</td>\n",
              "      <td>[xxbos, O, =, c, 1, [nH], s, c, 2, c, 1, c, (, =, O, ), c, 1, c, c, (, F, ), c, (, -, c, 3, c, c, c, (, C, 4, C, C, C, C, N, 4, ), c, c, 3, ), c, c, 1, n, 2, C, 1, C, C, 1]</td>\n",
              "      <td>[xxbos, C, C, N, (, C, C, ), C, C, N, (, C, c, 1, c, c, c, c, c, 1, ), c, 1, c, c, c, 2, c, c, (, C, (, =, N, ), N, ), c, (, =, O, ), o, c, 2, c, 1]</td>\n",
              "      <td>[xxbos, C, C, (, C, ), (, C, ), S, C, C, N, S, (, =, O, ), (, =, O, ), c, 1, c, c, c, (, C, #, N, ), c, c, 1]</td>\n",
              "      <td>[xxbos, C, C, (, C, ), C, [C@H], 1, C, N, (, C, (, =, O, ), c, 2, c, c, (, -, c, 3, c, c, c, (, F, ), c, (, F, ), c, 3, ), o, n, 2, ), [C@@H], (, C, C, (, C, ), C, ), C, (, =, O, ), N, 1]</td>\n",
              "      <td>[xxbos, C, c, 1, c, c, (, =, O, ), o, c, 2, c, 1, c, c, c, 1, o, c, (, C, (, =, O, ), c, 3, c, c, c, (, [N+], (, =, O, ), [O-], ), c, c, 3, ), c, (, -, c, 3, c, c, c, c, c, 3, ), c, 1, 2]</td>\n",
              "      <td>[xxbos, O, =, C, (, N, c, 1, c, c, 2, c, c, c, (, O, ), c, c, 2, o, c, 1, =, O, ), c, 1, c, c, c, c, c, 1]</td>\n",
              "      <td>[xxbos, C, c, 1, c, c, c, (, C, (, c, 2, c, c, (, C, ), n, s, 2, ), N, 2, C, C, N, (, C, ), C, C, 2, ), c, c, 1]</td>\n",
              "      <td>[xxbos, C, C, (, C, ), n, 1, c, c, 2, c, (, n, 1, ), C, (, =, O, ), N, (, c, 1, c, c, (, Cl, ), c, (, =, O, ), n, (, C, ), c, 1, ), C, 2, c, 1, c, c, c, (, Cl, ), c, c, 1]</td>\n",
              "      <td>[xxbos, C, c, 1, n, c, (, N, C, c, 2, c, c, c, (, C, (, F, ), (, F, ), F, ), c, c, 2, ), n, c, (, -, n, 2, c, c, n, c, 2, C, ), c, 1, [N+], (, =, O, ), [O-]]</td>\n",
              "    </tr>\n",
              "    <tr>\n",
              "      <td>[xxbos, C, C, C, C, (, =, O, ), c, 1, c, 2, c, (, c, 3, o, c, (, =, O, ), c, c, (, -, c, 4, c, c, c, c, c, 4, ), c, 3, c, 1, O, ), C, =, C, C, (, C, ), (, C, ), O, 2]</td>\n",
              "      <td>[xxbos, Cl, c, 1, n, c, 2, c, c, c, (, Br, ), c, c, 2, c, c, 1, C, n, 1, n, n, c, (, C, c, 2, c, c, c, c, c, 2, ), n, 1]</td>\n",
              "      <td>[xxbos, C, C, C, 1, =, C, (, O, C, ), C, (, C, C, ), (, C, C, ), c, 2, o, c, (, -, c, 3, c, s, c, 4, c, c, (, N, C, (, =, O, ), O, C, (, C, ), (, C, ), C, ), c, c, c, 3, 4, ), c, c, (, =, O, ), c, 2, C, 1, =, O]</td>\n",
              "      <td>[xxbos, C, O, C, (, c, 1, c, c, c, c, c, 1, ), (, c, 1, c, c, n, c, c, 1, ), c, 1, c, c, c, (, C, (, =, O, ), N, C, C, C, C, C, C, C, (, =, O, ), N, O, ), c, c, 1]</td>\n",
              "      <td>[xxbos, C, O, c, 1, c, c, c, c, (, -, c, 2, c, c, c, 3, c, (, N, ), c, (, C, (, =, O, ), N, c, 4, c, c, (, F, ), c, c, c, 4, F, ), s, c, 3, n, 2, ), c, 1]</td>\n",
              "      <td>[xxbos, C, C, (, F, ), C, c, 1, n, o, c, (, C, N, 2, C, C, C, (, O, [C@H], 3, C, C, [C@H], (, O, c, 4, c, n, c, (, S, (, C, ), (, =, O, ), =, O, ), c, n, 4, ), C, C, 3, ), C, C, 2, ), n, 1]</td>\n",
              "      <td>[xxbos, O, =, C, (, N, N, C, (, =, O, ), c, 1, c, c, c, c, c, 1, [N+], (, =, O, ), [O-], ), /, C, (, O, ), =, C, /, C, (, =, O, ), c, 1, c, c, c, c, c, 1]</td>\n",
              "      <td>[xxbos, N, c, 1, c, c, c, (, C, N, C, (, =, O, ), C, C, 2, C, C, C, C, N, 2, c, 2, c, c, n, c, (, -, n, 3, c, c, n, c, 3, ), n, 2, ), c, c, 1]</td>\n",
              "      <td>[xxbos, C, N, 1, C, C, 2, =, C, (, C, 1, =, O, ), C, (, c, 1, c, c, c, (, F, ), c, (, Br, ), c, 1, ), C, 1, =, C, (, C, N, (, C, ), C, 1, =, O, ), N, 2]</td>\n",
              "      <td>[xxbos, C, =, C, C, N, C, (, =, O, ), C, 1, C, C, N, (, S, (, =, O, ), (, =, O, ), c, 2, c, c, c, (, Br, ), c, c, 2, ), C, C, 1]</td>\n",
              "      <td>[xxbos, C, c, 1, c, c, c, c, c, 1, -, c, 1, n, c, 2, n, c, c, c, n, 2, c, 1, C, N, 1, C, C, N, (, C, c, 2, c, (, -, c, 3, c, c, c, c, c, 3, C, ), n, c, 3, n, c, c, c, n, 2, 3, ), C, C, 1]</td>\n",
              "      <td>[xxbos, O, =, C, (, N, C, C, O, ), c, 1, n, c, (, -, c, 2, c, c, c, c, c, 2, ), c, 2, c, (, C, (, F, ), (, F, ), F, ), c, c, (, -, c, 3, c, c, c, c, c, 3, ), n, c, 2, n, 1]</td>\n",
              "      <td>[xxbos, C, O, c, 1, c, c, c, (, F, ), c, (, -, c, 2, n, c, 3, c, (, N, C, C, 4, C, C, N, C, C, 4, ), c, (, Cl, ), c, n, c, 3, [nH], 2, ), c, 1]</td>\n",
              "      <td>[xxbos, C, O, C, c, 1, c, c, (, C, ), n, (, C, C, (, =, O, ), N, c, 2, c, c, c, 3, c, (, c, 2, ), O, C, O, 3, ), c, (, =, O, ), c, 1, C, #, N]</td>\n",
              "      <td>[xxbos, C, O, c, 1, c, c, c, (, -, c, 2, c, (, C, (, C, ), =, O, ), c, (, C, ), n, (, C, 3, O, C, (, C, O, ), C, (, O, ), C, (, O, ), C, 3, O, ), c, (, =, S, ), c, 2, C, #, N, ), c, c, 1]</td>\n",
              "    </tr>\n",
              "    <tr>\n",
              "      <td>[xxbos, C, [C@@H], 1, O, [C@H], (, C, ), C, N, 2, c, 3, c, (, c, c, 4, c, (, N, 5, C, C, C, C, C, 5, ), n, o, c, 4, c, 3, F, ), C, C, 3, (, C, (, =, O, ), N, C, (, =, O, ), N, C, 3, =, O, ), [C@@H], 1, 2]</td>\n",
              "      <td>[xxbos, C, O, C, C, C, N, 1, C, [C@@H], (, C, (, =, O, ), N, [C@@H], (, C, c, 2, c, c, (, F, ), c, c, (, F, ), c, 2, ), [C@H], (, O, ), [C@H], 2, C, [C@@H], (, O, C, c, 3, c, c, c, c, c, 3, ), C, N, 2, ), C, C, 1, =, O]</td>\n",
              "      <td>[xxbos, C, C, O, C, (, =, O, ), c, 1, c, n, n, (, C, C, (, C, ), O, ), c, 1, N, C, (, =, O, ), N, c, 1, c, c, c, (, F, ), c, c, 1]</td>\n",
              "      <td>[xxbos, C, C, O, C, (, =, O, ), C, 1, C, C, N, (, C, (, =, O, ), c, 2, c, c, c, 3, c, (, c, 2, ), O, C, C, O, 3, ), C, C, 1]</td>\n",
              "      <td>[xxbos, C, C, C, [C@], 1, 2, C, [C@@H], (, O, [C@H], (, C, ), [C@H], 1, O, ), c, 1, c, c, (, Cl, ), c, 3, c, (, c, 1, N, 2, ), C, (, =, O, ), c, 1, c, c, c, 2, c, c, (, C, ), c, c, c, 2, c, 1, C, 3, =, O]</td>\n",
              "      <td>[xxbos, C, C, (, C, ), (, C, ), c, 1, c, c, c, 2, c, c, c, c, c, 2, c, 1, O]</td>\n",
              "      <td>[xxbos, C, O, c, 1, c, c, c, (, [C@@H], 2, [C@@H], (, C, (, =, O, ), O, ), [C@H], (, c, 3, c, c, c, 4, c, (, c, 3, ), O, C, O, 4, ), C, N, 2, C, (, =, O, ), N, c, 2, c, c, c, c, c, 2, ), c, c, 1]</td>\n",
              "      <td>[xxbos, O, =, C, 1, C, [C@@H], 2, C, [C@H], 1, [C@H], (, n, 1, c, n, c, 3, c, (, Cl, ), n, c, n, c, 3, 1, ), C, 2]</td>\n",
              "      <td>[xxbos, O, =, c, 1, c, 2, s, c, (, -, c, 3, c, c, c, (, Cl, ), c, c, 3, ), c, c, 2, n, c, n, 1, -, c, 1, c, c, c, 2, s, c, (, C, N, 3, C, C, C, C, C, 3, ), c, c, 2, c, 1]</td>\n",
              "      <td>[xxbos, C, C, O, c, 1, c, 2, c, (, c, (, O, C, C, ), c, 3, c, c, c, c, c, 1, 3, ), C, (, =, O, ), N, (, c, 1, c, c, c, (, C, C, 3, (, N, C, (, =, O, ), N, S, (, =, O, ), (, =, O, ), c, 4, c, (, C, ), c, c, c, c, 4, C, ), C, C, 3, ), c, c, 1, C, ), C, 2]</td>\n",
              "      <td>[xxbos, C, c, 1, c, c, c, c, (, N, (, C, ), C, C, O, c, 2, c, c, c, (, C, C, 3, S, C, (, =, O, ), N, C, 3, =, O, ), c, c, 2, ), n, 1]</td>\n",
              "      <td>[xxbos, C, [C@H], (, N, c, 1, n, c, c, c, (, N, 2, C, (, =, O, ), O, C, 3, (, C, C, O, C, C, 3, ), C, 2, c, 2, c, c, c, c, c, 2, ), n, 1, ), c, 1, c, c, c, c, c, 1]</td>\n",
              "      <td>[xxbos, O, =, C, (, N, C, C, 1, C, C, S, (, =, O, ), (, =, O, ), C, 1, ), c, 1, c, c, c, o, 1]</td>\n",
              "      <td>[xxbos, C, C, n, 1, c, (, C, 2, C, C, C, N, (, C, (, =, O, ), C, (, C, ), (, C, ), O, C, ), C, 2, ), n, n, (, C, C, N, (, C, ), C, ), c, 1, =, O]</td>\n",
              "      <td>[xxbos, C, O, c, 1, c, c, (, O, C, c, 2, c, c, c, c, (, -, c, 3, c, c, c, 4, n, c, c, n, 4, c, 3, ), c, 2, ), c, 2, c, c, (, -, c, 3, c, n, 4, n, c, (, O, C, ), s, c, 4, n, 3, ), o, c, 2, c, 1]</td>\n",
              "    </tr>\n",
              "  </tbody>\n",
              "</table>"
            ],
            "text/plain": [
              "<IPython.core.display.HTML object>"
            ]
          },
          "metadata": {
            "tags": []
          }
        }
      ]
    },
    {
      "cell_type": "code",
      "metadata": {
        "id": "z6GODbI1jS2G",
        "colab_type": "code",
        "colab": {
          "base_uri": "https://localhost:8080/"
        },
        "outputId": "a033baee-b9d9-4db4-de30-579a418986f2"
      },
      "source": [
        "bs,seq_len = 4,5\n",
        "d_tokens = np.array([tokens[i*12:i*12+seq_len] for i in range(bs)])\n",
        "df = pd.DataFrame(d_tokens)\n",
        "display(HTML(df.to_html(index=False,header=None)))"
      ],
      "execution_count": null,
      "outputs": [
        {
          "output_type": "display_data",
          "data": {
            "text/html": [
              "<table border=\"1\" class=\"dataframe\">\n",
              "  <tbody>\n",
              "    <tr>\n",
              "      <td>[xxbos, C, c, 1, c, c, (, -, c, 2, c, s, c, (, N, =, C, (, N, ), N, ), n, 2, ), c, n, 1, C, xxeos]</td>\n",
              "      <td>[xxbos, Br, c, 1, c, c, c, c, (, N, c, 2, n, c, n, c, 3, c, c, n, c, c, 2, 3, ), c, 1, N, C, C, N, 1, C, C, O, C, C, 1, xxeos]</td>\n",
              "      <td>[xxbos, C, O, c, 1, c, (, O, ), c, c, (, O, ), c, (, C, (, =, N, ), C, c, 2, c, c, c, (, O, ), c, c, 2, ), c, 1, O, xxeos]</td>\n",
              "      <td>[xxbos, C, C, O, C, (, =, O, ), c, 1, c, c, 2, c, c, (, C, (, =, O, ), O, ), c, c, c, 2, [nH], 1, xxeos]</td>\n",
              "      <td>[xxbos, C, C, (, =, O, ), O, [C@H], 1, /, C, (, C, ), =, C, \\, [C@@H], 2, O, C, (, =, O, ), [C@], 3, (, C, ), O, [C@], 2, 3, [C@H], (, O, C, (, C, ), =, O, ), [C@H], 2, [C@], (, C, ), (, O, ), [C@H], (, O, ), C, =, C, [C@], 2, (, C, ), [C@@H], (, O, C, (, C, ), =, O, ), [C@@H], 1, O, C, (, C, ), =, O, xxeos]</td>\n",
              "    </tr>\n",
              "    <tr>\n",
              "      <td>[xxbos, N, =, c, 1, s, c, 2, c, c, c, c, c, 2, n, 1, C, C, N, 1, C, C, C, (, c, 2, c, c, c, (, F, ), c, c, 2, ), C, C, 1, xxeos]</td>\n",
              "      <td>[xxbos, C, C, C, C, C, C, C, C, C, C, C, C, C, C, (, =, O, ), N, C, c, 1, c, c, c, (, C, (, =, O, ), N, [C@H], (, C, (, =, O, ), O, ), [C@@H], (, C, ), C, C, ), c, c, 1, xxeos]</td>\n",
              "      <td>[xxbos, O, =, C, (, N, c, 1, n, c, c, (, F, ), s, 1, ), [C@H], (, C, C, 1, C, C, O, C, C, 1, ), c, 1, c, c, c, (, S, (, =, O, ), (, =, O, ), C, 2, C, C, 2, ), c, c, 1, xxeos]</td>\n",
              "      <td>[xxbos, O, c, 1, c, c, c, (, /, N, =, C, (, /, C, c, 2, c, c, c, (, Cl, ), c, c, 2, ), c, 2, c, c, c, (, O, ), c, (, O, ), c, 2, O, ), c, c, 1, xxeos]</td>\n",
              "      <td>[xxbos, C, O, [C@H], 1, [C@H], (, O, C, [C@H], 2, [C@@H], 3, O, [C@@H], 3, /, C, =, C, /, C, (, =, O, ), [C@H], (, C, ), C, C, [C@H], (, O, [C@@H], 3, O, [C@H], (, C, ), C, [C@H], (, O, ), [C@H], 3, O, ), [C@@H], (, C, ), /, C, =, C, /, C, (, =, O, ), O, [C@@H], 2, C, ), O, [C@H], (, C, ), [C@@H], (, O, ), [C@H], 1, O, C, xxeos]</td>\n",
              "    </tr>\n",
              "    <tr>\n",
              "      <td>[xxbos, O, =, C, (, N, O, ), [C@H], 1, C, [C@], 1, (, C, c, 1, c, c, c, (, O, C, c, 2, c, c, (, -, c, 3, c, c, c, c, c, 3, ), n, c, 3, c, c, c, c, c, 2, 3, ), c, c, 1, ), C, (, =, O, ), N, 1, C, C, C, [C@H], 1, C, O, xxeos]</td>\n",
              "      <td>[xxbos, C, C, (, =, O, ), O, C, [C@], 1, 2, [C@H], (, O, C, (, C, ), =, O, ), C, (, =, O, ), [C@@H], 3, [C@@H], (, O, ), [C@], 1, (, O, C, 3, (, C, ), C, ), [C@], (, C, ), (, O, ), C, [C@H], (, O, C, (, C, ), =, O, ), [C@@H], 2, O, C, (, C, ), =, O, xxeos]</td>\n",
              "      <td>[xxbos, C, C, C, C, 1, (, C, ), C, C, (, =, O, ), N, (, C, C, C, C, N, 2, C, C, N, (, c, 3, n, s, c, 4, c, c, c, c, c, 3, 4, ), C, C, 2, ), C, (, =, O, ), C, 1, xxeos]</td>\n",
              "      <td>[xxbos, C, C, C, C, C, C, (, O, ), /, C, =, C, /, [C@H], 1, [C@H], 2, C, [C@H], (, O, C, (, =, O, ), O, 2, ), [C@@H], 1, C, /, C, =, C, \\, C, C, C, C, (, N, ), =, O, xxeos]</td>\n",
              "      <td>[xxbos, C, /, C, =, C, (, \\, C, ), C, (, =, O, ), O, [C@H], 1, [C@@H], (, C, ), C, (, =, O, ), [C@@], 2, 3, C, [C@H], (, C, ), [C@H], (, O, C, (, C, ), =, O, ), [C@], 2, (, /, C, =, C, (, \\, C, ), [C@@H], (, O, C, (, C, ), =, O, ), [C@@H], (, O, C, (, =, O, ), C, (, C, ), C, C, ), [C@H], 2, [C@@H], 1, C, 2, (, C, ), C, ), O, 3, xxeos]</td>\n",
              "    </tr>\n",
              "    <tr>\n",
              "      <td>[xxbos, C, O, c, 1, c, c, c, (, C, N, c, 2, n, n, c, (, N, 3, C, C, C, (, O, ), C, C, 3, ), c, 3, c, c, c, (, C, #, N, ), c, c, 2, 3, ), c, c, 1, Cl, xxeos]</td>\n",
              "      <td>[xxbos, C, c, 1, c, c, c, c, (, N, C, (, =, S, ), N, c, 2, c, c, c, 3, c, (, c, 2, ), C, (, =, O, ), O, C, 3, ), c, 1, xxeos]</td>\n",
              "      <td>[xxbos, C, =, C, C, n, 1, c, c, (, C, [C@@H], 2, N, C, (, =, O, ), [C@@H], 3, C, C, C, N, 3, C, 2, =, O, ), c, 2, c, c, c, (, O, C, ), c, c, 2, 1, xxeos]</td>\n",
              "      <td>[xxbos, C, c, 1, c, c, c, (, O, c, 2, n, c, 3, c, c, c, c, c, 3, n, c, 2, N, 2, C, C, N, (, C, ), C, C, 2, ), c, c, 1, xxeos]</td>\n",
              "      <td>[xxbos, O, =, C, 1, C, C, (, c, 2, c, c, c, (, -, c, 3, c, c, c, c, c, 3, ), c, c, 2, ), c, 2, c, (, c, c, c, 3, c, c, c, c, c, 2, 3, ), N, 1, xxeos]</td>\n",
              "    </tr>\n",
              "  </tbody>\n",
              "</table>"
            ],
            "text/plain": [
              "<IPython.core.display.HTML object>"
            ]
          },
          "metadata": {
            "tags": []
          }
        }
      ]
    },
    {
      "cell_type": "markdown",
      "metadata": {
        "id": "kWnclfuX3FQL",
        "colab_type": "text"
      },
      "source": [
        "# **Creating DataLoaders**"
      ]
    },
    {
      "cell_type": "markdown",
      "metadata": {
        "id": "m7_Zu4TlMhvR",
        "colab_type": "text"
      },
      "source": [
        "**LMdataLoader**"
      ]
    },
    {
      "cell_type": "markdown",
      "metadata": {
        "id": "QopSt_xy6Zs4",
        "colab_type": "text"
      },
      "source": [
        "It's simple to create a dataloader using LMdataLoader"
      ]
    },
    {
      "cell_type": "code",
      "metadata": {
        "id": "mEZhPX2ejrzp",
        "colab_type": "code",
        "colab": {
          "base_uri": "https://localhost:8080/",
          "height": 107
        },
        "outputId": "5c8ce040-0483-428a-8184-5fb9c65378e7"
      },
      "source": [
        "doc(LMDataLoader)"
      ],
      "execution_count": null,
      "outputs": [
        {
          "output_type": "stream",
          "text": [
            "LMDataLoader(dataset, lens=None, cache=2, bs=64, seq_len=72, num_workers=0, shuffle=False, verbose=False, do_setup=True, pin_memory=False, timeout=0, batch_size=None, drop_last=False, indexed=None, n=None, device=None, *, wif=None, before_iter=None, after_item=None, before_batch=None, after_batch=None, after_iter=None, create_batches=None, create_item=None, create_batch=None, retain=None, get_idxs=None, sample=None, shuffle_fn=None, do_batch=None)\n",
            "A `DataLoader` suitable for language modeling\n",
            "\n",
            "To get a prettier result with hyperlinks to source code and documentation, install nbdev: pip install nbdev\n"
          ],
          "name": "stdout"
        }
      ]
    },
    {
      "cell_type": "code",
      "metadata": {
        "id": "6sLlhZumjwNv",
        "colab_type": "code",
        "colab": {}
      },
      "source": [
        "dls = LMDataLoader(tokens.map(num))"
      ],
      "execution_count": null,
      "outputs": []
    },
    {
      "cell_type": "code",
      "metadata": {
        "id": "5F_9a5w78lop",
        "colab_type": "code",
        "colab": {
          "base_uri": "https://localhost:8080/",
          "height": 34
        },
        "outputId": "7a16920f-ff34-4adf-ca89-0137c6abec78"
      },
      "source": [
        "dls"
      ],
      "execution_count": null,
      "outputs": [
        {
          "output_type": "execute_result",
          "data": {
            "text/plain": [
              "<fastai2.text.data.LMDataLoader at 0x7feadf0c5550>"
            ]
          },
          "metadata": {
            "tags": []
          },
          "execution_count": 230
        }
      ]
    },
    {
      "cell_type": "code",
      "metadata": {
        "id": "pXWjKdMPj40y",
        "colab_type": "code",
        "colab": {}
      },
      "source": [
        "it = iter(dl)\n",
        "x1,y1 = next(it)\n",
        "x2,y2 = next(it)"
      ],
      "execution_count": null,
      "outputs": []
    },
    {
      "cell_type": "markdown",
      "metadata": {
        "id": "u0Bira2Wl4Q-",
        "colab_type": "text"
      },
      "source": [
        "As we can see, the first row of the first batche continues on the first row of the next batch. This happens because we split the whole stream of SMILES string using `seq_len`. This way, we preserve the order within the SMILES string. "
      ]
    },
    {
      "cell_type": "code",
      "metadata": {
        "id": "awqzuYEukANz",
        "colab_type": "code",
        "colab": {
          "base_uri": "https://localhost:8080/",
          "height": 53
        },
        "outputId": "f55abfb2-7cfa-4e53-bdfb-7afc0c5fd74f"
      },
      "source": [
        "' '.join(num.vocab[o] for o in x1[0][:])"
      ],
      "execution_count": null,
      "outputs": [
        {
          "output_type": "execute_result",
          "data": {
            "application/vnd.google.colaboratory.intrinsic+json": {
              "type": "string"
            },
            "text/plain": [
              "'xxbos C c 1 c c ( - c 2 c s c ( N = C ( N ) N ) n 2 ) c n 1 C xxeos xxbos Br c 1 c c c c ( N c 2 n c n c 3 c c n c c 2 3 ) c 1 N C C N 1 C C O C C 1 xxeos xxbos C O'"
            ]
          },
          "metadata": {
            "tags": []
          },
          "execution_count": 197
        }
      ]
    },
    {
      "cell_type": "code",
      "metadata": {
        "id": "lvrcnaVqmGQD",
        "colab_type": "code",
        "colab": {
          "base_uri": "https://localhost:8080/",
          "height": 53
        },
        "outputId": "2e1e4b9c-2987-460e-c0a0-c2e7c2793d25"
      },
      "source": [
        "' '.join(num.vocab[o] for o in x2[0][:])"
      ],
      "execution_count": null,
      "outputs": [
        {
          "output_type": "execute_result",
          "data": {
            "application/vnd.google.colaboratory.intrinsic+json": {
              "type": "string"
            },
            "text/plain": [
              "'c 1 c ( O ) c c ( O ) c ( C ( = N ) C c 2 c c c ( O ) c c 2 ) c 1 O xxeos xxbos C C O C ( = O ) c 1 c c 2 c c ( C ( = O ) O ) c c c 2 [nH] 1 xxeos xxbos C C ( = O'"
            ]
          },
          "metadata": {
            "tags": []
          },
          "execution_count": 198
        }
      ]
    },
    {
      "cell_type": "code",
      "metadata": {
        "id": "sEI0GpAAmyPT",
        "colab_type": "code",
        "colab": {
          "base_uri": "https://localhost:8080/",
          "height": 53
        },
        "outputId": "2148bfb6-47e9-4200-b959-e3791ea532b8"
      },
      "source": [
        "' '.join(num.vocab[o] for o in x[2][:])"
      ],
      "execution_count": null,
      "outputs": [
        {
          "output_type": "execute_result",
          "data": {
            "application/vnd.google.colaboratory.intrinsic+json": {
              "type": "string"
            },
            "text/plain": [
              "'[C@@H] ( C ( = O ) O ) N 1 C ( = O ) C ( = C ( c 2 c c c c c 2 ) c 2 c c c c c 2 ) S C 1 = S xxeos xxbos C = C 1 [C@@H] ( O C ( = O ) C [C@H] ( c 2 c c c c c 2 ) N ('"
            ]
          },
          "metadata": {
            "tags": []
          },
          "execution_count": 199
        }
      ]
    },
    {
      "cell_type": "code",
      "metadata": {
        "id": "H_Xlclt_mWu4",
        "colab_type": "code",
        "colab": {
          "base_uri": "https://localhost:8080/",
          "height": 166
        },
        "outputId": "f569eaa6-530d-4a7f-cc5c-c367dd6446f2"
      },
      "source": [
        "MolFromSmiles('COc1c(O)cc(O)c(C(=N)Cc2ccc(O)cc2)c1O')"
      ],
      "execution_count": null,
      "outputs": [
        {
          "output_type": "execute_result",
          "data": {
            "image/png": "[encoded data removed]",
            "text/plain": [
              "<rdkit.Chem.rdchem.Mol at 0x7feadefb1300>"
            ]
          },
          "metadata": {
            "tags": []
          },
          "execution_count": 200
        }
      ]
    },
    {
      "cell_type": "markdown",
      "metadata": {
        "id": "CywBsZLVo3pN",
        "colab_type": "text"
      },
      "source": [
        "**DataBlock**"
      ]
    },
    {
      "cell_type": "markdown",
      "metadata": {
        "id": "Q-6h8-6do77-",
        "colab_type": "text"
      },
      "source": [
        "We can also use the DataBlock API:"
      ]
    },
    {
      "cell_type": "markdown",
      "metadata": {
        "id": "NABN7AQ_7YgJ",
        "colab_type": "text"
      },
      "source": [
        "ps> if the text columns isn't called \"text\", remember to pass ` res_col_name = text_column`. Otherwise, it will return an AttributeError"
      ]
    },
    {
      "cell_type": "code",
      "metadata": {
        "id": "hPEQKQICxkb7",
        "colab_type": "code",
        "colab": {}
      },
      "source": [
        "d_block = DataBlock(blocks=TextBlock.from_df('Smiles',res_col_name='Smiles',is_lm=True, # Pass is_lm = True since we are training a language model.\n",
        "                                             tok=MolTokenizer_v2(), rules=[], vocab=num.vocab), # Our tokenizer goes here and we define a minimum of 1\n",
        "                    get_x=ColReader('Smiles'),\n",
        "                    splitter=RandomSplitter(0.1)) # Randomply split the data (e.g., 90% for training and 10% for validation)\n",
        "                    "
      ],
      "execution_count": null,
      "outputs": []
    },
    {
      "cell_type": "code",
      "metadata": {
        "id": "8liq-1Mhxlms",
        "colab_type": "code",
        "colab": {}
      },
      "source": [
        "dls = d_block.dataloaders(chembl, bs=64, seq_len=30)\n",
        "dls.show_batch(max_n=2)"
      ],
      "execution_count": null,
      "outputs": []
    },
    {
      "cell_type": "markdown",
      "metadata": {
        "id": "jezQ30SN6O0Y",
        "colab_type": "text"
      },
      "source": [
        "**Mid-level API**"
      ]
    },
    {
      "cell_type": "markdown",
      "metadata": {
        "id": "ZiuMk_76BPia",
        "colab_type": "text"
      },
      "source": [
        "First we define the transformations we want to apply. For language models, the basic transformations would be tokenization and numericalization. \n",
        "\n",
        "We can put all transformations together using the Pipeline class"
      ]
    },
    {
      "cell_type": "code",
      "metadata": {
        "id": "L7FWOlrFB-0A",
        "colab_type": "code",
        "colab": {
          "base_uri": "https://localhost:8080/",
          "height": 87
        },
        "outputId": "d59d082a-37e2-42ef-8e90-b590e4d28aba"
      },
      "source": [
        "doc(Pipeline)"
      ],
      "execution_count": null,
      "outputs": [
        {
          "output_type": "stream",
          "text": [
            "Pipeline(funcs=None, split_idx=None)\n",
            "A pipeline of composed (for encode/decode) transforms, setup with types\n",
            "\n",
            "To get a prettier result with hyperlinks to source code and documentation, install nbdev: pip install nbdev\n"
          ],
          "name": "stdout"
        }
      ]
    },
    {
      "cell_type": "code",
      "metadata": {
        "id": "9VyMEcmGpS1Y",
        "colab_type": "code",
        "colab": {}
      },
      "source": [
        "tfms = Pipeline([tk, num])"
      ],
      "execution_count": null,
      "outputs": []
    },
    {
      "cell_type": "code",
      "metadata": {
        "id": "RWqzVlLLxHek",
        "colab_type": "code",
        "colab": {}
      },
      "source": [
        "t = 'c1ccccc1'\n",
        "t_num = tfms(t)"
      ],
      "execution_count": null,
      "outputs": []
    },
    {
      "cell_type": "code",
      "metadata": {
        "id": "NPXCLa6WxHOv",
        "colab_type": "code",
        "colab": {
          "base_uri": "https://localhost:8080/",
          "height": 35
        },
        "outputId": "fb5f4f42-51ef-49c1-dfc8-3703b5d5a4bd"
      },
      "source": [
        "tfms.decode(t_num)"
      ],
      "execution_count": null,
      "outputs": [
        {
          "output_type": "execute_result",
          "data": {
            "application/vnd.google.colaboratory.intrinsic+json": {
              "type": "string"
            },
            "text/plain": [
              "'xxbos c 1 c c c c c 1 xxeos'"
            ]
          },
          "metadata": {
            "tags": []
          },
          "execution_count": 256
        }
      ]
    },
    {
      "cell_type": "markdown",
      "metadata": {
        "id": "74vilVYkDV3H",
        "colab_type": "text"
      },
      "source": [
        "`Pipeline` is very useful, but it can't setup the transformations. To properly call `setup` and get the dataset ready, we will use `TfmdLists`"
      ]
    },
    {
      "cell_type": "code",
      "metadata": {
        "id": "eURnDSan2YjE",
        "colab_type": "code",
        "colab": {
          "base_uri": "https://localhost:8080/",
          "height": 107
        },
        "outputId": "a4a06da0-e2cc-4101-c3c8-a742857271d1"
      },
      "source": [
        "doc(TfmdLists)"
      ],
      "execution_count": null,
      "outputs": [
        {
          "output_type": "stream",
          "text": [
            "TfmdLists(items, tfms, use_list=None, do_setup=True, split_idx=None, train_setup=True, splits=None, types=None, verbose=False, dl_type=None)\n",
            "A `Pipeline` of `tfms` applied to a collection of `items`\n",
            "\n",
            "To get a prettier result with hyperlinks to source code and documentation, install nbdev: pip install nbdev\n"
          ],
          "name": "stdout"
        }
      ]
    },
    {
      "cell_type": "code",
      "metadata": {
        "id": "P4vKmQrLHFiy",
        "colab_type": "code",
        "colab": {
          "base_uri": "https://localhost:8080/",
          "height": 87
        },
        "outputId": "c009f2da-9eaa-4e3f-ba3e-d3b3fadde849"
      },
      "source": [
        "doc(Tokenizer.from_df)"
      ],
      "execution_count": null,
      "outputs": [
        {
          "output_type": "stream",
          "text": [
            "Tokenizer.from_df(text_cols, tok=None, rules=None, sep=' ', n_workers=2, mark_fields=None, res_col_name='text', **kwargs)\n",
            "None\n",
            "\n",
            "To get a prettier result with hyperlinks to source code and documentation, install nbdev: pip install nbdev\n"
          ],
          "name": "stdout"
        }
      ]
    },
    {
      "cell_type": "code",
      "metadata": {
        "id": "OtkWC06kD9il",
        "colab_type": "code",
        "colab": {}
      },
      "source": [
        "tfms = [Tokenizer(tok=MolTokenizer_v2(), rules=[]),\n",
        "        Numericalize(min_freq=1, special_toks = [UNK, PAD, BOS, EOS])]\n",
        "\n",
        "tfms = [attrgetter(\"text\"),Tokenizer.from_df(tok=MolTokenizer_v2(), rules=[], text_cols='Smiles', res_col_name = 'Smiles'),\n",
        "        Numericalize(min_freq=1, special_toks = [UNK, PAD, BOS, EOS])]"
      ],
      "execution_count": null,
      "outputs": []
    },
    {
      "cell_type": "code",
      "metadata": {
        "id": "wxXtDiHjS87L",
        "colab_type": "code",
        "colab": {
          "base_uri": "https://localhost:8080/",
          "height": 34
        },
        "outputId": "1c3db910-bada-4455-f7a2-d0f8ad7b96f5"
      },
      "source": [
        "attrgetter"
      ],
      "execution_count": null,
      "outputs": [
        {
          "output_type": "execute_result",
          "data": {
            "text/plain": [
              "operator.attrgetter"
            ]
          },
          "metadata": {
            "tags": []
          },
          "execution_count": 356
        }
      ]
    },
    {
      "cell_type": "code",
      "metadata": {
        "id": "O1yJfkFOrZhv",
        "colab_type": "code",
        "colab": {
          "base_uri": "https://localhost:8080/",
          "height": 16
        },
        "outputId": "b90ad573-8e7e-4502-a396-64c9708e8dd3"
      },
      "source": [
        "tls = TfmdLists(chembl,tfms = tfms, splits=splits)"
      ],
      "execution_count": null,
      "outputs": [
        {
          "output_type": "display_data",
          "data": {
            "text/html": [
              ""
            ],
            "text/plain": [
              "<IPython.core.display.HTML object>"
            ]
          },
          "metadata": {
            "tags": []
          }
        }
      ]
    },
    {
      "cell_type": "markdown",
      "metadata": {
        "id": "KvZAENDtJkVp",
        "colab_type": "text"
      },
      "source": [
        "**For some reason using Tokenizer.from_df and Numericalization throws an UnhashbleError**.\n",
        "Solved by passin attrgetter('Smiles')"
      ]
    },
    {
      "cell_type": "code",
      "metadata": {
        "id": "QE0kQL2RG54j",
        "colab_type": "code",
        "colab": {
          "base_uri": "https://localhost:8080/",
          "height": 52
        },
        "outputId": "eacde397-3d2f-4e00-e238-ead67b5863dc"
      },
      "source": [
        "t = tls[7]; t[:20]"
      ],
      "execution_count": null,
      "outputs": [
        {
          "output_type": "execute_result",
          "data": {
            "text/plain": [
              "tensor([ 2,  4,  8,  5,  9,  5,  5,  5,  5,  6,  4, 12,  4, 11,  6,  4,  4,  4,\n",
              "         6,  4])"
            ]
          },
          "metadata": {
            "tags": []
          },
          "execution_count": 364
        }
      ]
    },
    {
      "cell_type": "code",
      "metadata": {
        "id": "BijlLpd0YYRa",
        "colab_type": "code",
        "colab": {
          "base_uri": "https://localhost:8080/",
          "height": 53
        },
        "outputId": "398074b7-50a0-4012-956c-aca81a1a9d60"
      },
      "source": [
        "tls.decode(t)"
      ],
      "execution_count": null,
      "outputs": [
        {
          "output_type": "execute_result",
          "data": {
            "application/vnd.google.colaboratory.intrinsic+json": {
              "type": "string"
            },
            "text/plain": [
              "'xxbos C O c 1 c c c c ( C N C 2 ( C C C ( C ) ( C ) C ) C ( = O ) C ( C 3 = N S ( = O ) ( = O ) c 4 c c ( N S ( C ) ( = O ) = O ) c c c 4 N 3 ) = C ( O ) c 3 c c c c c 3 2 ) c 1 xxeos'"
            ]
          },
          "metadata": {
            "tags": []
          },
          "execution_count": 322
        }
      ]
    },
    {
      "cell_type": "code",
      "metadata": {
        "id": "aOCXyrQVJlOI",
        "colab_type": "code",
        "colab": {
          "base_uri": "https://localhost:8080/",
          "height": 54
        },
        "outputId": "38f9d1d9-e47f-4268-ff9d-f6fa52cc9023"
      },
      "source": [
        "tls.show(t)"
      ],
      "execution_count": null,
      "outputs": [
        {
          "output_type": "stream",
          "text": [
            "xxbos C O c 1 c c c c ( C N C 2 ( C C C ( C ) ( C ) C ) C ( = O ) C ( C 3 = N S ( = O ) ( = O ) c 4 c c ( N S ( C ) ( = O ) = O ) c c c 4 N 3 ) = C ( O ) c 3 c c c c c 3 2 ) c 1 xxeos\n"
          ],
          "name": "stdout"
        }
      ]
    },
    {
      "cell_type": "markdown",
      "metadata": {
        "id": "25JF-m9gKWDO",
        "colab_type": "text"
      },
      "source": [
        "We can access the training and validation sets:\n"
      ]
    },
    {
      "cell_type": "code",
      "metadata": {
        "id": "qIszA_EKKHec",
        "colab_type": "code",
        "colab": {
          "base_uri": "https://localhost:8080/",
          "height": 52
        },
        "outputId": "a7993032-fc75-4782-b426-cda4ccaab260"
      },
      "source": [
        "tls.train[0] # We "
      ],
      "execution_count": null,
      "outputs": [
        {
          "output_type": "execute_result",
          "data": {
            "text/plain": [
              "TensorText([ 2,  5,  4,  9,  4,  4,  6, 20,  4, 11,  4, 29,  4,  6, 12, 10,  5,  6,\n",
              "        12,  7, 12,  7, 15, 11,  7,  4, 15,  9,  5,  3])"
            ]
          },
          "metadata": {
            "tags": []
          },
          "execution_count": 324
        }
      ]
    },
    {
      "cell_type": "code",
      "metadata": {
        "id": "xAXiyz13X6ki",
        "colab_type": "code",
        "colab": {
          "base_uri": "https://localhost:8080/",
          "height": 105
        },
        "outputId": "1ed678ee-fb6b-4f3a-a366-823d036b26a7"
      },
      "source": [
        "tls.valid[0]"
      ],
      "execution_count": null,
      "outputs": [
        {
          "output_type": "execute_result",
          "data": {
            "text/plain": [
              "TensorText([ 2, 12, 10,  5,  6, 12,  7, 12,  5,  5,  5, 14,  6, 12,  5,  6, 10,  8,\n",
              "         7,  5, 14,  6, 12,  5,  6, 10,  8,  7,  5, 14,  6, 12,  7,  5,  6, 10,\n",
              "         8,  7, 12, 16,  6,  5,  5,  6, 10,  8,  7, 12, 16,  6,  5,  5,  5, 12,\n",
              "         5,  6, 10, 12,  7, 12,  7,  5,  6, 10,  8,  7,  8,  7,  5,  6, 10,  8,\n",
              "         7,  8,  7,  5,  6, 10,  8,  7,  8,  7,  5,  6, 10,  8,  7,  8,  3])"
            ]
          },
          "metadata": {
            "tags": []
          },
          "execution_count": 325
        }
      ]
    },
    {
      "cell_type": "markdown",
      "metadata": {
        "id": "q7CkovVKLLc4",
        "colab_type": "text"
      },
      "source": [
        "We can directly convert `TfmdLists` to dataloaders using the dataloaders method. "
      ]
    },
    {
      "cell_type": "code",
      "metadata": {
        "id": "LM8uv9yOrcEy",
        "colab_type": "code",
        "colab": {}
      },
      "source": [
        "dls = tls.dataloaders(bs=64,seq_len=30,dl_type=LMDataLoader)"
      ],
      "execution_count": null,
      "outputs": []
    },
    {
      "cell_type": "code",
      "metadata": {
        "id": "-anq7cGBKr9A",
        "colab_type": "code",
        "colab": {
          "base_uri": "https://localhost:8080/",
          "height": 367
        },
        "outputId": "17823ee1-aaef-406e-a1e4-5d717ab73508"
      },
      "source": [
        "dls.show_batch()"
      ],
      "execution_count": null,
      "outputs": [
        {
          "output_type": "display_data",
          "data": {
            "text/html": [
              "<table border=\"1\" class=\"dataframe\">\n",
              "  <thead>\n",
              "    <tr style=\"text-align: right;\">\n",
              "      <th></th>\n",
              "      <th>text</th>\n",
              "      <th>text_</th>\n",
              "    </tr>\n",
              "  </thead>\n",
              "  <tbody>\n",
              "    <tr>\n",
              "      <th>0</th>\n",
              "      <td>xxbos C C C C ( C ) ( C ) C ( = O ) N [C@H] 1 C C C C N C 1 = O xxeos xxbos</td>\n",
              "      <td>C C C C ( C ) ( C ) C ( = O ) N [C@H] 1 C C C C N C 1 = O xxeos xxbos O</td>\n",
              "    </tr>\n",
              "    <tr>\n",
              "      <th>1</th>\n",
              "      <td>c 1 c c c c ( N 2 C C C ( O c 3 c c c n c 3 ) C C 2 ) c 1 F</td>\n",
              "      <td>1 c c c c ( N 2 C C C ( O c 3 c c c n c 3 ) C C 2 ) c 1 F xxeos</td>\n",
              "    </tr>\n",
              "    <tr>\n",
              "      <th>2</th>\n",
              "      <td>2 C ) c 1 xxeos xxbos O = C ( C C N C ( = O ) [C@H] ( C c 1 c c c ( - c</td>\n",
              "      <td>C ) c 1 xxeos xxbos O = C ( C C N C ( = O ) [C@H] ( C c 1 c c c ( - c 2</td>\n",
              "    </tr>\n",
              "    <tr>\n",
              "      <th>3</th>\n",
              "      <td>1 ) C ( = O ) N 1 C C C [C@H] 1 C O xxeos xxbos C [C@H] 1 C C [C@@H] ( N C c 2 c</td>\n",
              "      <td>) C ( = O ) N 1 C C C [C@H] 1 C O xxeos xxbos C [C@H] 1 C C [C@@H] ( N C c 2 c c</td>\n",
              "    </tr>\n",
              "    <tr>\n",
              "      <th>4</th>\n",
              "      <td>C C S c 1 n n c 3 n 1 S ( = O ) ( = O ) c 1 c c c c c 1 N 3</td>\n",
              "      <td>C S c 1 n n c 3 n 1 S ( = O ) ( = O ) c 1 c c c c c 1 N 3 c</td>\n",
              "    </tr>\n",
              "    <tr>\n",
              "      <th>5</th>\n",
              "      <td>= O ) C 1 ( C ) C xxeos xxbos C c 1 c c c ( O c 2 n c 3 c c c c c 3</td>\n",
              "      <td>O ) C 1 ( C ) C xxeos xxbos C c 1 c c c ( O c 2 n c 3 c c c c c 3 n</td>\n",
              "    </tr>\n",
              "    <tr>\n",
              "      <th>6</th>\n",
              "      <td>c ( C N ) c ( = O ) o c 3 c 2 [C@@H] ( O C ( = O ) [C@@] 2 3 C C [C@] (</td>\n",
              "      <td>( C N ) c ( = O ) o c 3 c 2 [C@@H] ( O C ( = O ) [C@@] 2 3 C C [C@] ( C</td>\n",
              "    </tr>\n",
              "    <tr>\n",
              "      <th>7</th>\n",
              "      <td>c 2 c c ( O C ) c c ( O C ) c 2 ) C [C@@H] ( O ) C [C@@H] 1 O xxeos xxbos C C</td>\n",
              "      <td>2 c c ( O C ) c c ( O C ) c 2 ) C [C@@H] ( O ) C [C@@H] 1 O xxeos xxbos C C c</td>\n",
              "    </tr>\n",
              "    <tr>\n",
              "      <th>8</th>\n",
              "      <td>c c c ( [C@@] 2 3 O c 4 c c ( O C ) c c ( O C ) c 4 [C@] 2 ( O ) [C@H]</td>\n",
              "      <td>c c ( [C@@] 2 3 O c 4 c c ( O C ) c c ( O C ) c 4 [C@] 2 ( O ) [C@H] (</td>\n",
              "    </tr>\n",
              "  </tbody>\n",
              "</table>"
            ],
            "text/plain": [
              "<IPython.core.display.HTML object>"
            ]
          },
          "metadata": {
            "tags": []
          }
        }
      ]
    },
    {
      "cell_type": "markdown",
      "metadata": {
        "id": "jiCJrSsXMr8A",
        "colab_type": "text"
      },
      "source": [
        "# **Training**"
      ]
    },
    {
      "cell_type": "code",
      "metadata": {
        "id": "HbNJd7ezcgmo",
        "colab_type": "code",
        "colab": {
          "base_uri": "https://localhost:8080/",
          "height": 34
        },
        "outputId": "ee450d8e-1d2d-4480-c835-49db3488ef92"
      },
      "source": [
        "cut = int(len(chembl)*0.8)\n",
        "cut"
      ],
      "execution_count": 9,
      "outputs": [
        {
          "output_type": "execute_result",
          "data": {
            "text/plain": [
              "800"
            ]
          },
          "metadata": {
            "tags": []
          },
          "execution_count": 9
        }
      ]
    },
    {
      "cell_type": "code",
      "metadata": {
        "id": "ChEdxwrKWaxN",
        "colab_type": "code",
        "colab": {}
      },
      "source": [
        "defaults.text_spec_tok\n",
        "spec_toks = [BOS, PAD]"
      ],
      "execution_count": 10,
      "outputs": []
    },
    {
      "cell_type": "code",
      "metadata": {
        "id": "ylo9BNjxWMqu",
        "colab_type": "code",
        "colab": {
          "base_uri": "https://localhost:8080/",
          "height": 16
        },
        "outputId": "d41b4bbc-bc42-4b10-e290-d5c7f884fa78"
      },
      "source": [
        "splits = [range(cut), range(cut,len(chembl))]\n",
        "tfms = [attrgetter(\"Smiles\"),Tokenizer.from_df(text_cols='Smiles',tok=MolTokenizer_v2(),rules=[],res_col_name='Smiles'),\n",
        "        Numericalize(min_freq = 1, special_toks=spec_toks)]\n",
        "dst = Datasets(chembl, tfms=[tfms], splits = splits, dl_type=LMDataLoader)"
      ],
      "execution_count": 11,
      "outputs": [
        {
          "output_type": "display_data",
          "data": {
            "text/html": [
              ""
            ],
            "text/plain": [
              "<IPython.core.display.HTML object>"
            ]
          },
          "metadata": {
            "tags": []
          }
        }
      ]
    },
    {
      "cell_type": "code",
      "metadata": {
        "id": "1BM5Kr1nW3WF",
        "colab_type": "code",
        "colab": {}
      },
      "source": [
        "dls = dst.dataloaders(bs=64,seq_len=30)"
      ],
      "execution_count": 12,
      "outputs": []
    },
    {
      "cell_type": "code",
      "metadata": {
        "id": "o_c-gxhbZGrF",
        "colab_type": "code",
        "colab": {
          "base_uri": "https://localhost:8080/",
          "height": 674
        },
        "outputId": "7445a1a6-ea7c-4dc0-cc4e-ca72677459a2"
      },
      "source": [
        "dls.vocab = [x for x in dls.vocab if x != 'xxfake']\n",
        "dls.vocab"
      ],
      "execution_count": 13,
      "outputs": [
        {
          "output_type": "execute_result",
          "data": {
            "text/plain": [
              "['xxbos',\n",
              " 'xxpad',\n",
              " 'c',\n",
              " 'C',\n",
              " '(',\n",
              " ')',\n",
              " 'O',\n",
              " '1',\n",
              " '2',\n",
              " '=',\n",
              " 'N',\n",
              " 'n',\n",
              " '3',\n",
              " '4',\n",
              " 'F',\n",
              " '-',\n",
              " '[C@H]',\n",
              " '/',\n",
              " 'S',\n",
              " '[C@@H]',\n",
              " 'Cl',\n",
              " 'o',\n",
              " '[nH]',\n",
              " 's',\n",
              " '5',\n",
              " '#',\n",
              " '\\\\',\n",
              " 'Br',\n",
              " '[C@]',\n",
              " '[N+]',\n",
              " '[C@@]',\n",
              " '[O-]',\n",
              " '6',\n",
              " '[n+]',\n",
              " 'P',\n",
              " 'I',\n",
              " '[N-]']"
            ]
          },
          "metadata": {
            "tags": []
          },
          "execution_count": 13
        }
      ]
    },
    {
      "cell_type": "code",
      "metadata": {
        "id": "hJBDAUkSZcQh",
        "colab_type": "code",
        "colab": {
          "base_uri": "https://localhost:8080/",
          "height": 317
        },
        "outputId": "d02e3da0-d6c1-44fd-b9c3-02c63cbc1bfe"
      },
      "source": [
        "dls.show_batch()"
      ],
      "execution_count": 14,
      "outputs": [
        {
          "output_type": "display_data",
          "data": {
            "text/html": [
              "<table border=\"1\" class=\"dataframe\">\n",
              "  <thead>\n",
              "    <tr style=\"text-align: right;\">\n",
              "      <th></th>\n",
              "      <th>text</th>\n",
              "      <th>text_</th>\n",
              "    </tr>\n",
              "  </thead>\n",
              "  <tbody>\n",
              "    <tr>\n",
              "      <th>0</th>\n",
              "      <td>xxbos C c 1 n c ( N C ( C ) C O ) c 2 c ( n 1 ) [nH] c 1 c c c ( O</td>\n",
              "      <td>C c 1 n c ( N C ( C ) C O ) c 2 c ( n 1 ) [nH] c 1 c c c ( O )</td>\n",
              "    </tr>\n",
              "    <tr>\n",
              "      <th>1</th>\n",
              "      <td>C C C C 5 ) C C 4 ) c c 3 ) C C 2 ) C C C C 1 xxbos C C N ( C C</td>\n",
              "      <td>C C C 5 ) C C 4 ) c c 3 ) C C 2 ) C C C C 1 xxbos C C N ( C C )</td>\n",
              "    </tr>\n",
              "    <tr>\n",
              "      <th>2</th>\n",
              "      <td>n c 2 c ( c ( N c 3 c c c c c 3 S ( = O ) ( = O ) N C C ( C</td>\n",
              "      <td>c 2 c ( c ( N c 3 c c c c c 3 S ( = O ) ( = O ) N C C ( C )</td>\n",
              "    </tr>\n",
              "    <tr>\n",
              "      <th>3</th>\n",
              "      <td>O C C 2 ) c 1 ) c 1 c c c c c 1 O xxbos N C 1 C C C ( C N C ( =</td>\n",
              "      <td>C C 2 ) c 1 ) c 1 c c c c c 1 O xxbos N C 1 C C C ( C N C ( = O</td>\n",
              "    </tr>\n",
              "    <tr>\n",
              "      <th>4</th>\n",
              "      <td>c c 1 xxbos O = c 1 c c ( O S ( = O ) ( = O ) c 2 c c c ( C ( F</td>\n",
              "      <td>c 1 xxbos O = c 1 c c ( O S ( = O ) ( = O ) c 2 c c c ( C ( F )</td>\n",
              "    </tr>\n",
              "    <tr>\n",
              "      <th>5</th>\n",
              "      <td>F ) c c 3 ) c c 2 1 xxbos O = C 1 C ( = O ) N ( C C 2 C O c 3 c</td>\n",
              "      <td>) c c 3 ) c c 2 1 xxbos O = C 1 C ( = O ) N ( C C 2 C O c 3 c c</td>\n",
              "    </tr>\n",
              "    <tr>\n",
              "      <th>6</th>\n",
              "      <td>n c ( N C ( = O ) c 5 c c c ( F ) c c 5 ) s c 4 c 3 ) c 2 c</td>\n",
              "      <td>c ( N C ( = O ) c 5 c c c ( F ) c c 5 ) s c 4 c 3 ) c 2 c c</td>\n",
              "    </tr>\n",
              "    <tr>\n",
              "      <th>7</th>\n",
              "      <td>= O ) N 3 C C 4 ( C 3 ) C N ( c 3 c c c ( F ) c c 3 ) C 4 )</td>\n",
              "      <td>O ) N 3 C C 4 ( C 3 ) C N ( c 3 c c c ( F ) c c 3 ) C 4 ) c</td>\n",
              "    </tr>\n",
              "    <tr>\n",
              "      <th>8</th>\n",
              "      <td>) o c 2 c c 1 O xxbos O = C ( N C ( C ( = O ) N c 1 c c [nH] n 1 )</td>\n",
              "      <td>o c 2 c c 1 O xxbos O = C ( N C ( C ( = O ) N c 1 c c [nH] n 1 ) c</td>\n",
              "    </tr>\n",
              "  </tbody>\n",
              "</table>"
            ],
            "text/plain": [
              "<IPython.core.display.HTML object>"
            ]
          },
          "metadata": {
            "tags": []
          }
        }
      ]
    },
    {
      "cell_type": "code",
      "metadata": {
        "id": "CNrtbcffMwE-",
        "colab_type": "code",
        "colab": {
          "base_uri": "https://localhost:8080/",
          "height": 197
        },
        "outputId": "956a8bf9-86f7-48e0-f691-f2098d2499f8"
      },
      "source": [
        "#export\n",
        "d_block = DataBlock(blocks=TextBlock.from_df('Smiles',res_col_name='Smiles',is_lm=True, # Pass is_lm = True since we are training a language model.\n",
        "                                             tok=MolTokenizer_v2(), rules=[], min_freq=1), # Our tokenizer goes here and we define a minimum of 1\n",
        "                    get_x=ColReader('Smiles'),\n",
        "                    splitter=RandomSplitter(0.1)) # Randomply split the data (e.g., 90% for training and 10% for validation)\n",
        "dls = d_block.dataloaders(chembl, bs=64, seq_len=30)\n",
        "dls.show_batch(max_n=5)"
      ],
      "execution_count": null,
      "outputs": [
        {
          "output_type": "display_data",
          "data": {
            "text/html": [
              ""
            ],
            "text/plain": [
              "<IPython.core.display.HTML object>"
            ]
          },
          "metadata": {
            "tags": []
          }
        },
        {
          "output_type": "display_data",
          "data": {
            "text/html": [
              "<table border=\"1\" class=\"dataframe\">\n",
              "  <thead>\n",
              "    <tr style=\"text-align: right;\">\n",
              "      <th></th>\n",
              "      <th>text</th>\n",
              "      <th>text_</th>\n",
              "    </tr>\n",
              "  </thead>\n",
              "  <tbody>\n",
              "    <tr>\n",
              "      <th>0</th>\n",
              "      <td>xxbos C C N ( C C ) C C N 1 N = C ( c 2 c c c ( Br ) c c 2 ) C C</td>\n",
              "      <td>C C N ( C C ) C C N 1 N = C ( c 2 c c c ( Br ) c c 2 ) C C 2</td>\n",
              "    </tr>\n",
              "    <tr>\n",
              "      <th>1</th>\n",
              "      <td>F ) c c c 2 S 1 xxeos xxbos C O c 1 c c ( - c 2 n c n ( C ) c 2 - c</td>\n",
              "      <td>) c c c 2 S 1 xxeos xxbos C O c 1 c c ( - c 2 n c n ( C ) c 2 - c 2</td>\n",
              "    </tr>\n",
              "    <tr>\n",
              "      <th>2</th>\n",
              "      <td>O = C ( C ( F ) F ) N 1 C C c 2 n c ( N 3 C C C ( O c 4 c c</td>\n",
              "      <td>= C ( C ( F ) F ) N 1 C C c 2 n c ( N 3 C C C ( O c 4 c c c</td>\n",
              "    </tr>\n",
              "    <tr>\n",
              "      <th>3</th>\n",
              "      <td>) c c 3 ) n n 1 2 xxeos xxbos C O c 1 c c c ( / C = C / C ( = N / N</td>\n",
              "      <td>c c 3 ) n n 1 2 xxeos xxbos C O c 1 c c c ( / C = C / C ( = N / N C</td>\n",
              "    </tr>\n",
              "    <tr>\n",
              "      <th>4</th>\n",
              "      <td>c 1 c c ( - c 2 c s c ( N c 3 c c c c ( C ) c 3 ) n 2 ) c c</td>\n",
              "      <td>1 c c ( - c 2 c s c ( N c 3 c c c c ( C ) c 3 ) n 2 ) c c n</td>\n",
              "    </tr>\n",
              "  </tbody>\n",
              "</table>"
            ],
            "text/plain": [
              "<IPython.core.display.HTML object>"
            ]
          },
          "metadata": {
            "tags": []
          }
        }
      ]
    },
    {
      "cell_type": "code",
      "metadata": {
        "id": "uQQGxgPG-BNy",
        "colab_type": "code",
        "colab": {}
      },
      "source": [
        "xb,yb = first(dls.train)"
      ],
      "execution_count": 94,
      "outputs": []
    },
    {
      "cell_type": "code",
      "metadata": {
        "id": "vEyngDv3cO0w",
        "colab_type": "code",
        "colab": {
          "base_uri": "https://localhost:8080/",
          "height": 87
        },
        "outputId": "0ff41509-3a60-48a7-e45b-10a19540d25f"
      },
      "source": [
        "xb[0],xb[1]"
      ],
      "execution_count": 95,
      "outputs": [
        {
          "output_type": "execute_result",
          "data": {
            "text/plain": [
              "(tensor([ 0,  3,  3,  3,  2,  7,  2,  2,  4, 15,  2,  8, 12,  2,  4, 15,  2, 11,\n",
              "          2,  2,  2,  4, 19,  5,  2,  2, 11,  5,  2,  4]),\n",
              " tensor([ 2,  2,  2, 11, 12,  8,  5,  2,  2,  7,  0,  6,  9,  3,  4,  3,  7,  9,\n",
              "          3,  6,  3,  3,  6,  7,  5, 10,  4,  3,  2,  7]))"
            ]
          },
          "metadata": {
            "tags": []
          },
          "execution_count": 95
        }
      ]
    },
    {
      "cell_type": "code",
      "metadata": {
        "id": "1o_I2o9HM9HB",
        "colab_type": "code",
        "colab": {}
      },
      "source": [
        "#export\n",
        "config = awd_lstm_lm_config.copy()\n",
        "config.update({'n_hid':512})"
      ],
      "execution_count": 15,
      "outputs": []
    },
    {
      "cell_type": "code",
      "metadata": {
        "id": "p5UWA_aaYs1V",
        "colab_type": "code",
        "colab": {}
      },
      "source": [
        "learn = language_model_learner(dls,AWD_LSTM,config=config,drop_mult=0.1,pretrained=False,metrics=[accuracy, Perplexity()])"
      ],
      "execution_count": 405,
      "outputs": []
    },
    {
      "cell_type": "code",
      "metadata": {
        "id": "gh4lXHdnY0jl",
        "colab_type": "code",
        "colab": {
          "base_uri": "https://localhost:8080/",
          "height": 197
        },
        "outputId": "647e5f3e-d274-45a3-85c2-55e6d881abe3"
      },
      "source": [
        "learn.fit(5,1e-3)"
      ],
      "execution_count": 406,
      "outputs": [
        {
          "output_type": "display_data",
          "data": {
            "text/html": [
              "<table border=\"1\" class=\"dataframe\">\n",
              "  <thead>\n",
              "    <tr style=\"text-align: left;\">\n",
              "      <th>epoch</th>\n",
              "      <th>train_loss</th>\n",
              "      <th>valid_loss</th>\n",
              "      <th>accuracy</th>\n",
              "      <th>perplexity</th>\n",
              "      <th>time</th>\n",
              "    </tr>\n",
              "  </thead>\n",
              "  <tbody>\n",
              "    <tr>\n",
              "      <td>0</td>\n",
              "      <td>2.860308</td>\n",
              "      <td>2.520508</td>\n",
              "      <td>0.250313</td>\n",
              "      <td>12.434916</td>\n",
              "      <td>00:31</td>\n",
              "    </tr>\n",
              "    <tr>\n",
              "      <td>1</td>\n",
              "      <td>2.682607</td>\n",
              "      <td>2.464309</td>\n",
              "      <td>0.290104</td>\n",
              "      <td>11.755350</td>\n",
              "      <td>00:31</td>\n",
              "    </tr>\n",
              "    <tr>\n",
              "      <td>2</td>\n",
              "      <td>2.565614</td>\n",
              "      <td>2.300458</td>\n",
              "      <td>0.337917</td>\n",
              "      <td>9.978749</td>\n",
              "      <td>00:31</td>\n",
              "    </tr>\n",
              "    <tr>\n",
              "      <td>3</td>\n",
              "      <td>2.443434</td>\n",
              "      <td>2.132009</td>\n",
              "      <td>0.362812</td>\n",
              "      <td>8.431789</td>\n",
              "      <td>00:31</td>\n",
              "    </tr>\n",
              "    <tr>\n",
              "      <td>4</td>\n",
              "      <td>2.315982</td>\n",
              "      <td>1.937191</td>\n",
              "      <td>0.439687</td>\n",
              "      <td>6.939233</td>\n",
              "      <td>00:31</td>\n",
              "    </tr>\n",
              "  </tbody>\n",
              "</table>"
            ],
            "text/plain": [
              "<IPython.core.display.HTML object>"
            ]
          },
          "metadata": {
            "tags": []
          }
        }
      ]
    },
    {
      "cell_type": "code",
      "metadata": {
        "id": "_FO1T3NNls1h",
        "colab_type": "code",
        "colab": {}
      },
      "source": [
        "text = ''\n",
        "nums = learn.dls.train_ds.numericalize"
      ],
      "execution_count": 407,
      "outputs": []
    },
    {
      "cell_type": "code",
      "metadata": {
        "id": "I-RkdfQKc19B",
        "colab_type": "code",
        "colab": {
          "base_uri": "https://localhost:8080/",
          "height": 87
        },
        "outputId": "e71cb40e-0555-49a7-9c7c-b6e5a2749149"
      },
      "source": [
        "idx1 = learn.dls.test_dl([text]).items[0]\n",
        "idx2 = nums(text)\n",
        "print(idx1),print(idx2),print(nums.vocab[0],nums.vocab[3],nums.vocab[2])"
      ],
      "execution_count": 408,
      "outputs": [
        {
          "output_type": "stream",
          "text": [
            "TensorText([0])\n",
            "TensorText([])\n",
            "xxbos C c\n"
          ],
          "name": "stdout"
        },
        {
          "output_type": "execute_result",
          "data": {
            "text/plain": [
              "(None, None, None)"
            ]
          },
          "metadata": {
            "tags": []
          },
          "execution_count": 408
        }
      ]
    },
    {
      "cell_type": "code",
      "metadata": {
        "id": "6EvJDDjWm2K1",
        "colab_type": "code",
        "colab": {}
      },
      "source": [
        "temperature = 0.7\n",
        "\n",
        "preds,_ = learn.get_preds(dl=[(idx1[None],)])\n",
        "print(preds)\n",
        "#preds2,_ = learn.get_preds(dl=[(idx2[None],)])\n",
        "res1 = preds[0][-1]\n",
        "res1.pow_(1 / temperature)\n",
        "#res2 = preds2[0][-1]\n",
        "print(res1)#,res2"
      ],
      "execution_count": null,
      "outputs": []
    },
    {
      "cell_type": "code",
      "metadata": {
        "id": "xT25iHWbHUFM",
        "colab_type": "code",
        "colab": {
          "base_uri": "https://localhost:8080/",
          "height": 34
        },
        "outputId": "452f5d2a-acb8-4a85-a5aa-3772dea95c86"
      },
      "source": [
        "res1[8]"
      ],
      "execution_count": 86,
      "outputs": [
        {
          "output_type": "execute_result",
          "data": {
            "text/plain": [
              "tensor(3.7260e-10)"
            ]
          },
          "metadata": {
            "tags": []
          },
          "execution_count": 86
        }
      ]
    },
    {
      "cell_type": "code",
      "metadata": {
        "id": "Je0jrFPhmrB6",
        "colab_type": "code",
        "colab": {
          "base_uri": "https://localhost:8080/",
          "height": 34
        },
        "outputId": "0672a837-cbf8-406b-a309-e41678ae22b0"
      },
      "source": [
        "idxtoadd1 = torch.multinomial(res1, 1).item()\n",
        "\n",
        "#idxtoadd2 = torch.multinomial(res2, 1).item()\n",
        "\n",
        "idxtoadd1#, idxtoadd2"
      ],
      "execution_count": 319,
      "outputs": [
        {
          "output_type": "execute_result",
          "data": {
            "text/plain": [
              "3"
            ]
          },
          "metadata": {
            "tags": []
          },
          "execution_count": 319
        }
      ]
    },
    {
      "cell_type": "code",
      "metadata": {
        "id": "wn_Bc9V8sbhl",
        "colab_type": "code",
        "colab": {
          "base_uri": "https://localhost:8080/",
          "height": 391
        },
        "outputId": "6a0d6152-d56f-4d54-b790-4655e30b8ea8"
      },
      "source": [
        "def sampler_test(m, t):\n",
        "  temperature = 1.0\n",
        "  idxs = idxs_all = m.dls.test_dl([t]).items[0]\n",
        "  for _ in range(5):\n",
        "    print('begin')\n",
        "    print((idxs[None],))\n",
        "    preds,_ = m.get_preds(dl=[(idxs[None],)])\n",
        "    res = preds[0][-1]\n",
        "    print(res.shape)\n",
        "    if temperature != 1.: res.pow_(1 / temperature)\n",
        "    idx = torch.multinomial(res, 1).item()\n",
        "    if idx != 0:\n",
        "      idxs = idxs_all = torch.cat([idxs_all, idxs.new([idx])])\n",
        "      print(idxs)\n",
        "    else:\n",
        "      break\n",
        "  return ''.join([nums.vocab[i] for i in idxs_all if nums.vocab[i] not in [BOS, PAD]])\n",
        "sampler_test(m=learn,t=text)"
      ],
      "execution_count": 414,
      "outputs": [
        {
          "output_type": "stream",
          "text": [
            "begin\n",
            "(tensor([[0]]),)\n"
          ],
          "name": "stdout"
        },
        {
          "output_type": "display_data",
          "data": {
            "text/html": [
              ""
            ],
            "text/plain": [
              "<IPython.core.display.HTML object>"
            ]
          },
          "metadata": {
            "tags": []
          }
        },
        {
          "output_type": "stream",
          "text": [
            "torch.Size([37])\n",
            "tensor([0, 3])\n",
            "begin\n",
            "(tensor([[0, 3]]),)\n"
          ],
          "name": "stdout"
        },
        {
          "output_type": "display_data",
          "data": {
            "text/html": [
              ""
            ],
            "text/plain": [
              "<IPython.core.display.HTML object>"
            ]
          },
          "metadata": {
            "tags": []
          }
        },
        {
          "output_type": "stream",
          "text": [
            "torch.Size([37])\n",
            "tensor([0, 3, 2])\n",
            "begin\n",
            "(tensor([[0, 3, 2]]),)\n"
          ],
          "name": "stdout"
        },
        {
          "output_type": "display_data",
          "data": {
            "text/html": [
              ""
            ],
            "text/plain": [
              "<IPython.core.display.HTML object>"
            ]
          },
          "metadata": {
            "tags": []
          }
        },
        {
          "output_type": "stream",
          "text": [
            "torch.Size([37])\n",
            "tensor([0, 3, 2, 2])\n",
            "begin\n",
            "(tensor([[0, 3, 2, 2]]),)\n"
          ],
          "name": "stdout"
        },
        {
          "output_type": "display_data",
          "data": {
            "text/html": [
              ""
            ],
            "text/plain": [
              "<IPython.core.display.HTML object>"
            ]
          },
          "metadata": {
            "tags": []
          }
        },
        {
          "output_type": "stream",
          "text": [
            "torch.Size([37])\n",
            "tensor([0, 3, 2, 2, 8])\n",
            "begin\n",
            "(tensor([[0, 3, 2, 2, 8]]),)\n"
          ],
          "name": "stdout"
        },
        {
          "output_type": "display_data",
          "data": {
            "text/html": [
              ""
            ],
            "text/plain": [
              "<IPython.core.display.HTML object>"
            ]
          },
          "metadata": {
            "tags": []
          }
        },
        {
          "output_type": "stream",
          "text": [
            "torch.Size([37])\n",
            "tensor([0, 3, 2, 2, 8, 2])\n"
          ],
          "name": "stdout"
        },
        {
          "output_type": "execute_result",
          "data": {
            "application/vnd.google.colaboratory.intrinsic+json": {
              "type": "string"
            },
            "text/plain": [
              "'Ccc2c'"
            ]
          },
          "metadata": {
            "tags": []
          },
          "execution_count": 414
        }
      ]
    },
    {
      "cell_type": "code",
      "metadata": {
        "id": "i6GPpyq_YMy5",
        "colab_type": "code",
        "colab": {}
      },
      "source": [
        "ba(learn.model(tensor([[0, 3, 2, 2, 8]]))[0][-1])"
      ],
      "execution_count": null,
      "outputs": []
    },
    {
      "cell_type": "code",
      "metadata": {
        "id": "_EKc7sv_LKIK",
        "colab_type": "code",
        "colab": {
          "base_uri": "https://localhost:8080/",
          "height": 141
        },
        "outputId": "cec764dd-db8f-4fd5-d306-06ad3cbe874c"
      },
      "source": [
        "act = getattr(learn.loss_func, 'activation', noop)\n",
        "act(res)"
      ],
      "execution_count": 326,
      "outputs": [
        {
          "output_type": "execute_result",
          "data": {
            "text/plain": [
              "tensor([[6.3656e-04, 5.0820e-05, 7.1614e-03, 7.2060e-01, 7.6062e-04, 8.7779e-04,\n",
              "         1.5517e-01, 4.0373e-04, 7.2851e-04, 3.9862e-03, 7.9249e-02, 8.9204e-04,\n",
              "         3.1237e-04, 1.3143e-04, 2.2214e-03, 2.9857e-03, 1.9786e-03, 1.8102e-03,\n",
              "         8.3860e-03, 2.0781e-03, 3.4363e-03, 2.2573e-04, 1.4106e-04, 1.5520e-04,\n",
              "         8.4523e-05, 5.2623e-04, 1.1315e-04, 1.0664e-03, 5.9152e-04, 1.7621e-03,\n",
              "         7.0567e-04, 1.2199e-04, 6.2953e-05, 1.4504e-04, 1.4107e-04, 1.8612e-04,\n",
              "         1.1074e-04]])"
            ]
          },
          "metadata": {
            "tags": []
          },
          "execution_count": 326
        }
      ]
    },
    {
      "cell_type": "code",
      "metadata": {
        "id": "uIerM0vaNYuk",
        "colab_type": "code",
        "colab": {
          "base_uri": "https://localhost:8080/",
          "height": 34
        },
        "outputId": "0710cbbc-5002-4490-f0f8-28668ca1482e"
      },
      "source": [
        "res.shape"
      ],
      "execution_count": 411,
      "outputs": [
        {
          "output_type": "execute_result",
          "data": {
            "text/plain": [
              "torch.Size([2, 37])"
            ]
          },
          "metadata": {
            "tags": []
          },
          "execution_count": 411
        }
      ]
    },
    {
      "cell_type": "code",
      "metadata": {
        "id": "TBi0QbTkPbXb",
        "colab_type": "code",
        "colab": {
          "base_uri": "https://localhost:8080/",
          "height": 141
        },
        "outputId": "c6c76f53-90ba-4e97-fb8e-fdaf5eb589e7"
      },
      "source": [
        "#learn.model(Tensor(idxs[None],)))\n",
        "#mols = [sampler_test() for _ in range(10)]\n",
        "#sampler_test()\n",
        "act = getattr(learn.loss_func, 'activation', noop)\n",
        "with torch.no_grad():\n",
        "  preds=learn.model(TensorText([(idxs[None],)]))[0][-1]\n",
        "  res = ba(preds)\n",
        "  #res = preds[0][-1]\n",
        "  #res = ba(res)\n",
        "  #res = F.softmax(res)\n",
        "  #print(res)\n",
        " # res.pow_(1/temperature)\n",
        "  print(res)\n",
        "  #print(torch.multinomial(res, 1).item())"
      ],
      "execution_count": 337,
      "outputs": [
        {
          "output_type": "stream",
          "text": [
            "tensor([[5.3259e-05, 1.0447e-04, 7.1765e-02, 6.6991e-01, 4.6657e-03, 6.7320e-04,\n",
            "         2.9762e-02, 8.6523e-04, 8.3304e-04, 8.8724e-02, 8.1532e-02, 2.7572e-03,\n",
            "         5.6411e-04, 3.7394e-04, 1.4387e-03, 1.6459e-03, 5.6013e-03, 6.2732e-03,\n",
            "         1.1403e-02, 6.4000e-03, 1.5234e-03, 6.1035e-04, 3.5226e-04, 5.2798e-04,\n",
            "         1.9214e-04, 1.8905e-03, 2.8840e-04, 7.2521e-04, 1.7053e-03, 2.7798e-03,\n",
            "         2.2864e-03, 3.4787e-04, 1.6915e-04, 5.0952e-04, 3.2327e-04, 2.8964e-04,\n",
            "         1.3875e-04]])\n"
          ],
          "name": "stdout"
        }
      ]
    },
    {
      "cell_type": "code",
      "metadata": {
        "id": "9_CoNniLKdrR",
        "colab_type": "code",
        "colab": {}
      },
      "source": [
        "tensor([2.7168e-05, 7.3411e-07, 8.6241e-04, 6.2619e-01, 3.5037e-05, 4.2994e-05,\n",
        "        6.9826e-02, 1.4176e-05, 3.2943e-05, 3.7344e-04, 2.6738e-02, 4.3995e-05,\n",
        "        9.8262e-06, 2.8527e-06, 1.6198e-04, 2.4713e-04, 1.3729e-04, 1.2091e-04,\n",
        "        1.0806e-03, 1.4726e-04, 3.0209e-04, 6.1780e-06, 3.1561e-06, 3.6176e-06,\n",
        "        1.5184e-06, 2.0700e-05, 2.3033e-06, 5.6775e-05, 2.4464e-05, 1.1635e-04,\n",
        "        3.1477e-05, 2.5646e-06, 9.9677e-07, 3.2839e-06, 3.1565e-06, 4.6895e-06,\n",
        "        2.2335e-06])"
      ],
      "execution_count": null,
      "outputs": []
    },
    {
      "cell_type": "code",
      "metadata": {
        "id": "FdQCafcSLcNP",
        "colab_type": "code",
        "colab": {
          "base_uri": "https://localhost:8080/",
          "height": 214
        },
        "outputId": "337f1289-a4b7-4153-e4ea-04ea84420b62"
      },
      "source": [
        "print(mols[0])\n",
        "print(mols[1])\n",
        "print(mols[2])\n",
        "print(mols[3])\n",
        "print(mols[4])\n",
        "print(mols[5])\n",
        "print(mols[6])\n",
        "print(mols[7])\n",
        "print(mols[8])\n",
        "print(mols[9])"
      ],
      "execution_count": 134,
      "outputs": [
        {
          "output_type": "stream",
          "text": [
            "NClc3C))ccc1)C\n",
            "-2(C)[N+]\n",
            "ON(=O=OOsc1c(Cn1cccc2OC1)c1ccc(CCCCOCC(C)CCCC(C)1CO1=CNcc(2Cl5)(=OcNcc3(CCc2cccc1\n",
            "2c)3Fc3cc1c2CCCCcc2ccn(Nc1CCCC211c1c2[nH]ccccc1Cc1cc1cc(C(OOCC(=O)(=)O[C@@](C)(OO(O))(ON[C@@H]1c1c-cccNc2nccc1ccsn(FO)2cc1-Cc4(Fccccc1[O-]1N(C)1CC(=)CC1=CC\n",
            "3))2C=O(O)1=OOC5(==O)1C1c1c(CClC22c2SCC(CO1=CCN1C/)C\n",
            "=Nc1Nn1c(CCC[N+]N(OCcc1)cccc(=)1(C)NCCCc2(OO\n",
            "O=O)ccnccccc(C)cc(C)(COCCC(=O)(Cc(C))c(CNCC=CCSCC4(=On1C=O)O(C))2CONC[C@@H](N1CC(cCs(-Clnc2c3)3)1CC1N(CCn2cccc1c22(CC(COCC2[C@@H]c(C)cncc2[O-]C(C)1C(O)3N1\n",
            "O\n",
            "#/O2Ncc(o=Cc23CO[nH]c1OC13Cc1cc1)(=/)N1NPOc4cccc(-12(=()ONCNCOccCcccnn(S[C@@H]1CC(N)1CCCCC(OO)1C)(CN)C(NCN6\n",
            "4=CO(O)CCCC()(=))=F\n"
          ],
          "name": "stdout"
        }
      ]
    },
    {
      "cell_type": "markdown",
      "metadata": {
        "id": "UHcGBmdIMsho",
        "colab_type": "text"
      },
      "source": [
        "\n",
        "## **Defining callbacks**"
      ]
    },
    {
      "cell_type": "markdown",
      "metadata": {
        "id": "ubRHkXuUWtBP",
        "colab_type": "text"
      },
      "source": [
        "When training a generative chemistry-based model, we are interested in generating valid molecules. By training the previous model long enought we might probably achieve very high accuracies, which translates that the model is doing a great job in predicting the next character in a SMILES string. In fact, this is an indirect evaluation of how good the model is in generating valid molecules. \n",
        "\n",
        "Usually we need more flexibility than this. For instance, we might want to inspect how many novel molecules (i.e., not present in training set) can be generated after each epoch. We might also ask if the generated molecules are close to an objective, such as a biological target chemical space. \n",
        "\n",
        "To answer these questions, we can use **callbacks**. Callbacks are customizations applied on the model and the training loop that allow us to do basically anything we want. For starters, let's see if we can create a callback to generate 5 molecules after each epoch."
      ]
    },
    {
      "cell_type": "code",
      "metadata": {
        "id": "lIf5dIK7xVpq",
        "colab_type": "code",
        "colab": {
          "base_uri": "https://localhost:8080/",
          "height": 34
        },
        "outputId": "64a8d4f5-fc50-4eea-d9f8-92fcc5a9fd46"
      },
      "source": [
        "idxs.long()\n"
      ],
      "execution_count": 366,
      "outputs": [
        {
          "output_type": "execute_result",
          "data": {
            "text/plain": [
              "TensorText([0])"
            ]
          },
          "metadata": {
            "tags": []
          },
          "execution_count": 366
        }
      ]
    },
    {
      "cell_type": "code",
      "metadata": {
        "id": "l7zzrzBcM6jJ",
        "colab_type": "code",
        "colab": {}
      },
      "source": [
        "#export\n",
        "class TestCB(Callback):\n",
        "  run_before = Recorder\n",
        "  def __init__(self, text:str='', max_size:int=1, temperature:float=1.0):\n",
        "    super().__init__()\n",
        "    self.text = text\n",
        "    self.max_size = max_size\n",
        "    self.temperature = temperature\n",
        "\n",
        "  def sampling(self):\n",
        "\n",
        "    self.model.reset()\n",
        "    stop_index = self.dls.train.vocab.index(BOS)\n",
        "    idxs = idxs_all = self.dls.test_dl([text]).items[0].to(self.dls.device)\n",
        " \n",
        "    nums = self.dls.train_ds.numericalize\n",
        "    # preds,_ = self.get_preds(dl=[(idxs[None],)]) < The recursion error happens even if the call is outside a loop\n",
        "    for i in range(self.max_size):\n",
        "      preds,_ = self.get_preds(dl=[(idxs[None],)])\n",
        "      print(preds)\n",
        "\n",
        "     # res = preds[0][-1]\n",
        "     # if self.temperature != 1.: res.pow_(1 / self.temperature)\n",
        "     # idx = torch.multinomial(res, 1).item()\n",
        "      #if idx != stop_index: \n",
        "      #  idxs = idxs_all = torch.cat([idxs_all, idxs.new([idx])])\n",
        "     # else:\n",
        "     # #  break\n",
        "   # return idxs_all\n",
        "\n",
        "  def after_validate(self): self.sampling()"
      ],
      "execution_count": 447,
      "outputs": []
    },
    {
      "cell_type": "code",
      "metadata": {
        "id": "PP3BGhYQdUT6",
        "colab_type": "code",
        "colab": {}
      },
      "source": [
        "#export\n",
        "class TestCB(Callback):\n",
        "  def __init__(self, text:str='', max_size:int=30, temperature:float=1.0, max_mols:int=5):\n",
        "    super().__init__()\n",
        "    self.text = text\n",
        "    self.max_size = max_size\n",
        "    self.temperature = temperature\n",
        "    self.max_mols = max_mols\n",
        "\n",
        "  def sampling(self):\n",
        "    act = getattr(learn.loss_func, 'activation', noop)\n",
        "\n",
        "    self.model.reset()\n",
        "    stop_index = self.dls.train.vocab.index(BOS)\n",
        "    idxs = idxs_all = self.dls.test_dl([text]).items[0].to(self.dls.device)\n",
        "    print(idxs,idxs.shape)\n",
        "    nums = self.dls.train_ds.numericalize\n",
        "    accum_idxs = []\n",
        "    for _ in range(self.max_size):\n",
        "    #  print('begin')\n",
        "     # print(idxs,idxs.shape)\n",
        "      with torch.no_grad(): preds=self.model(idxs[None])[0][-1]#(TensorText([(idxs[None],)]))[0][-1]\n",
        "      res = act(preds)\n",
        "      #print(res)\n",
        "\n",
        "      if self.temperature != 1.: res.pow_(1 / self.temperature)\n",
        "      idx = torch.multinomial(res, 1).item()\n",
        "      if idx != stop_index:\n",
        "        accum_idxs.append(idx)\n",
        "        idxs = TensorText(idxs.new_tensor([idx]))\n",
        "       # accum_indxs.append(idx)\n",
        "       # print(idxs,idxs.shape)\n",
        "       # print(idx)\n",
        "        #print(idxs)\n",
        "       # print(idxs,idxs.shape)\n",
        "       # print('end')\n",
        "       # print(accum_idxs)\n",
        "       # idxs_all = torch.cat([idxs_all, idx])\n",
        "        #print(idxs_all)\n",
        "      else:\n",
        "        break\n",
        "    decoded = ''.join([nums.vocab[o] for o in accum_idxs if nums.vocab[o] not in [BOS, PAD]])\n",
        "    print(decoded)\n",
        "    return decoded#idxs_all\n",
        "\n",
        "  def after_epoch(self): self.sampling()\n",
        "   # print([self.sampling() for _ in range(self.max_mols)])\n",
        "    #print"
      ],
      "execution_count": 479,
      "outputs": []
    },
    {
      "cell_type": "code",
      "metadata": {
        "id": "Po9inU2fmoYl",
        "colab_type": "code",
        "colab": {
          "base_uri": "https://localhost:8080/",
          "height": 603
        },
        "outputId": "6b7ec437-909f-4d49-eba6-c6542e414324"
      },
      "source": [
        "learn = language_model_learner(dls, AWD_LSTM, pretrained=False,config=config, \n",
        "                               drop_mult=0.1,metrics=[accuracy, Perplexity()], cbs=[TestCB()])\n",
        "learn.show_training_loop()"
      ],
      "execution_count": 480,
      "outputs": [
        {
          "output_type": "stream",
          "text": [
            "Start Fit\n",
            "   - before_fit     : [TrainEvalCallback, Recorder, ProgressCallback]\n",
            "  Start Epoch Loop\n",
            "     - before_epoch   : [Recorder, ProgressCallback]\n",
            "    Start Train\n",
            "       - before_train   : [TrainEvalCallback, Recorder, ProgressCallback, ModelResetter]\n",
            "      Start Batch Loop\n",
            "         - before_batch   : []\n",
            "         - after_pred     : [RNNRegularizer]\n",
            "         - after_loss     : [RNNRegularizer]\n",
            "         - before_backward: []\n",
            "         - after_backward : []\n",
            "         - after_step     : []\n",
            "         - after_cancel_batch: []\n",
            "         - after_batch    : [TrainEvalCallback, Recorder, ProgressCallback]\n",
            "      End Batch Loop\n",
            "    End Train\n",
            "     - after_cancel_train: [Recorder]\n",
            "     - after_train    : [Recorder, ProgressCallback]\n",
            "    Start Valid\n",
            "       - before_validate: [TrainEvalCallback, Recorder, ProgressCallback, ModelResetter]\n",
            "      Start Batch Loop\n",
            "         - **CBs same as train batch**: []\n",
            "      End Batch Loop\n",
            "    End Valid\n",
            "     - after_cancel_validate: [Recorder]\n",
            "     - after_validate : [Recorder, ProgressCallback]\n",
            "  End Epoch Loop\n",
            "   - after_cancel_epoch: []\n",
            "   - after_epoch    : [Recorder, TestCB]\n",
            "End Fit\n",
            " - after_cancel_fit: []\n",
            " - after_fit      : [ProgressCallback, ModelResetter]\n"
          ],
          "name": "stdout"
        }
      ]
    },
    {
      "cell_type": "code",
      "metadata": {
        "id": "x7y44ARRwCI7",
        "colab_type": "code",
        "colab": {
          "base_uri": "https://localhost:8080/",
          "height": 1000
        },
        "outputId": "665236a1-088d-49c7-e686-68a921439ed4"
      },
      "source": [
        "learn.fit(n_epoch=20,lr=0.0012022644514217973)"
      ],
      "execution_count": null,
      "outputs": [
        {
          "output_type": "display_data",
          "data": {
            "text/html": [
              "\n",
              "    <div>\n",
              "        <style>\n",
              "            /* Turns off some styling */\n",
              "            progress {\n",
              "                /* gets rid of default border in Firefox and Opera. */\n",
              "                border: none;\n",
              "                /* Needs to be in here for Safari polyfill so background images work as expected. */\n",
              "                background-size: auto;\n",
              "            }\n",
              "            .progress-bar-interrupted, .progress-bar-interrupted::-webkit-progress-bar {\n",
              "                background: #F44336;\n",
              "            }\n",
              "        </style>\n",
              "      <progress value='19' class='' max='20' style='width:300px; height:20px; vertical-align: middle;'></progress>\n",
              "      95.00% [19/20 10:01<00:31]\n",
              "    </div>\n",
              "    \n",
              "<table border=\"1\" class=\"dataframe\">\n",
              "  <thead>\n",
              "    <tr style=\"text-align: left;\">\n",
              "      <th>epoch</th>\n",
              "      <th>train_loss</th>\n",
              "      <th>valid_loss</th>\n",
              "      <th>accuracy</th>\n",
              "      <th>perplexity</th>\n",
              "      <th>time</th>\n",
              "    </tr>\n",
              "  </thead>\n",
              "  <tbody>\n",
              "    <tr>\n",
              "      <td>0</td>\n",
              "      <td>2.800144</td>\n",
              "      <td>2.531029</td>\n",
              "      <td>0.252604</td>\n",
              "      <td>12.566427</td>\n",
              "      <td>00:31</td>\n",
              "    </tr>\n",
              "    <tr>\n",
              "      <td>1</td>\n",
              "      <td>2.617665</td>\n",
              "      <td>2.351985</td>\n",
              "      <td>0.333333</td>\n",
              "      <td>10.506407</td>\n",
              "      <td>00:31</td>\n",
              "    </tr>\n",
              "    <tr>\n",
              "      <td>2</td>\n",
              "      <td>2.467468</td>\n",
              "      <td>2.149523</td>\n",
              "      <td>0.357292</td>\n",
              "      <td>8.580767</td>\n",
              "      <td>00:31</td>\n",
              "    </tr>\n",
              "    <tr>\n",
              "      <td>3</td>\n",
              "      <td>2.321601</td>\n",
              "      <td>1.951081</td>\n",
              "      <td>0.415833</td>\n",
              "      <td>7.036287</td>\n",
              "      <td>00:31</td>\n",
              "    </tr>\n",
              "    <tr>\n",
              "      <td>4</td>\n",
              "      <td>2.170493</td>\n",
              "      <td>1.779945</td>\n",
              "      <td>0.465208</td>\n",
              "      <td>5.929529</td>\n",
              "      <td>00:31</td>\n",
              "    </tr>\n",
              "    <tr>\n",
              "      <td>5</td>\n",
              "      <td>2.027246</td>\n",
              "      <td>1.670475</td>\n",
              "      <td>0.494896</td>\n",
              "      <td>5.314693</td>\n",
              "      <td>00:31</td>\n",
              "    </tr>\n",
              "    <tr>\n",
              "      <td>6</td>\n",
              "      <td>1.898148</td>\n",
              "      <td>1.574544</td>\n",
              "      <td>0.516771</td>\n",
              "      <td>4.828541</td>\n",
              "      <td>00:31</td>\n",
              "    </tr>\n",
              "    <tr>\n",
              "      <td>7</td>\n",
              "      <td>1.787481</td>\n",
              "      <td>1.504331</td>\n",
              "      <td>0.541979</td>\n",
              "      <td>4.501143</td>\n",
              "      <td>00:31</td>\n",
              "    </tr>\n",
              "    <tr>\n",
              "      <td>8</td>\n",
              "      <td>1.692796</td>\n",
              "      <td>1.448606</td>\n",
              "      <td>0.555521</td>\n",
              "      <td>4.257175</td>\n",
              "      <td>00:31</td>\n",
              "    </tr>\n",
              "    <tr>\n",
              "      <td>9</td>\n",
              "      <td>1.607782</td>\n",
              "      <td>1.399285</td>\n",
              "      <td>0.563229</td>\n",
              "      <td>4.052300</td>\n",
              "      <td>00:31</td>\n",
              "    </tr>\n",
              "    <tr>\n",
              "      <td>10</td>\n",
              "      <td>1.546344</td>\n",
              "      <td>1.409072</td>\n",
              "      <td>0.557396</td>\n",
              "      <td>4.092155</td>\n",
              "      <td>00:31</td>\n",
              "    </tr>\n",
              "    <tr>\n",
              "      <td>11</td>\n",
              "      <td>1.500453</td>\n",
              "      <td>1.353804</td>\n",
              "      <td>0.578646</td>\n",
              "      <td>3.872126</td>\n",
              "      <td>00:31</td>\n",
              "    </tr>\n",
              "    <tr>\n",
              "      <td>12</td>\n",
              "      <td>1.436947</td>\n",
              "      <td>1.302941</td>\n",
              "      <td>0.590833</td>\n",
              "      <td>3.680103</td>\n",
              "      <td>00:31</td>\n",
              "    </tr>\n",
              "    <tr>\n",
              "      <td>13</td>\n",
              "      <td>1.381339</td>\n",
              "      <td>1.265189</td>\n",
              "      <td>0.605937</td>\n",
              "      <td>3.543762</td>\n",
              "      <td>00:31</td>\n",
              "    </tr>\n",
              "    <tr>\n",
              "      <td>14</td>\n",
              "      <td>1.330652</td>\n",
              "      <td>1.229632</td>\n",
              "      <td>0.614063</td>\n",
              "      <td>3.419970</td>\n",
              "      <td>00:31</td>\n",
              "    </tr>\n",
              "    <tr>\n",
              "      <td>15</td>\n",
              "      <td>1.284015</td>\n",
              "      <td>1.213923</td>\n",
              "      <td>0.616875</td>\n",
              "      <td>3.366668</td>\n",
              "      <td>00:31</td>\n",
              "    </tr>\n",
              "    <tr>\n",
              "      <td>16</td>\n",
              "      <td>1.240349</td>\n",
              "      <td>1.184652</td>\n",
              "      <td>0.624063</td>\n",
              "      <td>3.269549</td>\n",
              "      <td>00:31</td>\n",
              "    </tr>\n",
              "    <tr>\n",
              "      <td>17</td>\n",
              "      <td>1.207271</td>\n",
              "      <td>1.180542</td>\n",
              "      <td>0.627708</td>\n",
              "      <td>3.256138</td>\n",
              "      <td>00:31</td>\n",
              "    </tr>\n",
              "    <tr>\n",
              "      <td>18</td>\n",
              "      <td>1.187846</td>\n",
              "      <td>1.174084</td>\n",
              "      <td>0.628229</td>\n",
              "      <td>3.235178</td>\n",
              "      <td>00:31</td>\n",
              "    </tr>\n",
              "  </tbody>\n",
              "</table><p>\n",
              "\n",
              "    <div>\n",
              "        <style>\n",
              "            /* Turns off some styling */\n",
              "            progress {\n",
              "                /* gets rid of default border in Firefox and Opera. */\n",
              "                border: none;\n",
              "                /* Needs to be in here for Safari polyfill so background images work as expected. */\n",
              "                background-size: auto;\n",
              "            }\n",
              "            .progress-bar-interrupted, .progress-bar-interrupted::-webkit-progress-bar {\n",
              "                background: #F44336;\n",
              "            }\n",
              "        </style>\n",
              "      <progress value='19' class='' max='20' style='width:300px; height:20px; vertical-align: middle;'></progress>\n",
              "      95.00% [19/20 00:27<00:01 1.1544]\n",
              "    </div>\n",
              "    "
            ],
            "text/plain": [
              "<IPython.core.display.HTML object>"
            ]
          },
          "metadata": {
            "tags": []
          }
        },
        {
          "output_type": "stream",
          "text": [
            "TensorText([0]) torch.Size([1])\n",
            "[n+]54[C@H]ccc-\n",
            "TensorText([0]) torch.Size([1])\n",
            "1n\n",
            "TensorText([0]) torch.Size([1])\n",
            "N)c3(OOCOC1F(CCCc1Ccccccc35C)C\n",
            "TensorText([0]) torch.Size([1])\n",
            "=O=)(OON[C@@H]cc3Cl)CC=CNcccc2SCC()O\n",
            "TensorText([0]) torch.Size([1])\n",
            "C(OCN[C@@H]c3ccc11)FC/NC(C)(OO#Oc1c\n",
            "TensorText([0]) torch.Size([1])\n",
            "1CC1N[C@@H]CCc1ccccc1Sc2cccc2)c2O)c\n",
            "TensorText([0]) torch.Size([1])\n",
            "CO[C@H]1CCc\n",
            "TensorText([0]) torch.Size([1])\n",
            "OO[C@@H]2c1c(-(CC[C@H]2C3CC)2C=C)c2ccc(\n",
            "TensorText([0]) torch.Size([1])\n",
            "O==//CC(==Oc1cccccC(C)cc2CC(=O\n",
            "TensorText([0]) torch.Size([1])\n",
            "O[C@]1\n",
            "TensorText([0]) torch.Size([1])\n",
            "Cc1ccccc1)(C)CCN1C(=O)[C@@H]1c1c2cc\n",
            "TensorText([0]) torch.Size([1])\n",
            "COC(=O)N1CC[C@@]([C@@H]1C3[N+](C)CN3Nn3c2c\n",
            "TensorText([0]) torch.Size([1])\n",
            "N=C1c2cc(C2NCNNO[C@H](O[C@H](=O)(=O)[C@H]3\n",
            "TensorText([0]) torch.Size([1])\n",
            "C[C@H]1CCCC(C(O)C)C(=O)CC(=O)CCCCC\n",
            "TensorText([0]) torch.Size([1])\n",
            "CCOc1ccc(-c2ccc(OCc5ccc(Oc4ccc\n",
            "TensorText([0]) torch.Size([1])\n",
            "O=C(/N=C2/3C)/C=C2[C@]2(C[C@]2C[O-][C@H]()C\n",
            "TensorText([0]) torch.Size([1])\n",
            "COC1(Cc3ccc(C(=O)F)cc2)cc(OC(F\n",
            "TensorText([0]) torch.Size([1])\n",
            "O=C(O)c1cc2c(C)cc(CO)cc2n1CCCO\n",
            "TensorText([0]) torch.Size([1])\n",
            "O=C(1c1cc(C(=O)c2ccc(Cl)cc2n2c1\n"
          ],
          "name": "stdout"
        }
      ]
    }
  ]
}