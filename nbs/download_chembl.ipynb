{
  "nbformat": 4,
  "nbformat_minor": 0,
  "metadata": {
    "colab": {
      "name": "download-chembl.ipynb",
      "provenance": [],
      "authorship_tag": "ABX9TyO3yy2NXdQJxwCy1lAKU++z",
      "include_colab_link": true
    },
    "kernelspec": {
      "name": "python3",
      "display_name": "Python 3"
    }
  },
  "cells": [
    {
      "cell_type": "markdown",
      "metadata": {
        "id": "view-in-github",
        "colab_type": "text"
      },
      "source": [
        "<a href=\"https://colab.research.google.com/github/Marcosuff/Marcosuff.github.io/blob/master/nbs/download_chembl.ipynb\" target=\"_parent\"><img src=\"https://colab.research.google.com/assets/colab-badge.svg\" alt=\"Open In Colab\"/></a>"
      ]
    },
    {
      "cell_type": "code",
      "metadata": {
        "id": "otaBCPsxhvaK",
        "colab_type": "code",
        "colab": {}
      },
      "source": [
        "# RUN THIS CELL ONCE TO DOWNLOAD ChEMBL\n",
        "#!wget -c http://ftp.ebi.ac.uk/pub/databases/chembl/ChEMBLdb/releases/chembl_27/chembl_27_sqlite.tar.gz\n",
        "#!tar -xvf /content/chembl_27_sqlite.tar.gz"
      ],
      "execution_count": null,
      "outputs": []
    },
    {
      "cell_type": "code",
      "metadata": {
        "id": "R8j_Dlsd0nOU",
        "colab_type": "code",
        "colab": {}
      },
      "source": [
        "import sys\n",
        "import pandas as pd\n",
        "import numpy as np\n",
        "\n",
        "from google.colab import drive\n",
        "from os.path import join\n",
        "! wget -c https://repo.anaconda.com/archive/Anaconda3-2019.10-Linux-x86_64.sh\n",
        "! bash Anaconda3-2019.10-Linux-x86_64.sh -bfp /usr/local\n",
        "sys.path.append('/usr/local/lib/python3.7/site-packages')\n",
        "!conda install -y -c rdkit rdkit"
      ],
      "execution_count": null,
      "outputs": []
    },
    {
      "cell_type": "code",
      "metadata": {
        "id": "eD9iVXKpwEHP",
        "colab_type": "code",
        "colab": {}
      },
      "source": [
        "ROOT = '/content/drive'     # default for the drive\n",
        "PROJ = 'My Drive/Blog'      # path to your project on Drive\n",
        "\n",
        "GIT_USERNAME = \"Marcosuff\" # replace with yours\n",
        "GIT_REPOSITORY = \"Marcosuff.github.io\"      # ...nah\n",
        "GIT_TOKEN = 'dee4192a28a49b4acc3897425086d65cabe8b47f'\n",
        "\n",
        "drive.mount(ROOT)           # we mount the drive at /content/drive\n",
        "\n",
        "PROJECT_PATH = join(ROOT, PROJ)\n",
        "!mkdir \"{PROJECT_PATH}\"     # in case we haven't created it already   \n"
      ],
      "execution_count": null,
      "outputs": []
    },
    {
      "cell_type": "code",
      "metadata": {
        "id": "8rSrosxjm-cH",
        "colab_type": "code",
        "colab": {
          "base_uri": "https://localhost:8080/",
          "height": 34
        },
        "outputId": "5c70e72c-3a97-4d78-c63b-5a683026afd4"
      },
      "source": [
        "GIT_PATH = \"https://dee4192a28a49b4acc3897425086d65cabe8b47f@github.com/Marcosuff/Marcosuff.github.io.git\"\n",
        "!git clone \"{GIT_PATH}\""
      ],
      "execution_count": 8,
      "outputs": [
        {
          "output_type": "stream",
          "text": [
            "fatal: destination path 'Marcosuff.github.io' already exists and is not an empty directory.\n"
          ],
          "name": "stdout"
        }
      ]
    },
    {
      "cell_type": "code",
      "metadata": {
        "id": "Py2syrEWyobZ",
        "colab_type": "code",
        "colab": {}
      },
      "source": [
        "df = pd.read_csv('/content/Marcosuff.github.io/data/chembl27.csv.gz')"
      ],
      "execution_count": 9,
      "outputs": []
    },
    {
      "cell_type": "code",
      "metadata": {
        "id": "z2SYz_RQ1bXB",
        "colab_type": "code",
        "colab": {
          "base_uri": "https://localhost:8080/",
          "height": 334
        },
        "outputId": "10f2e1a3-b633-48d7-cc0a-2e9e0b91bd82"
      },
      "source": [
        "df.head()"
      ],
      "execution_count": 12,
      "outputs": [
        {
          "output_type": "execute_result",
          "data": {
            "text/html": [
              "<div>\n",
              "<style scoped>\n",
              "    .dataframe tbody tr th:only-of-type {\n",
              "        vertical-align: middle;\n",
              "    }\n",
              "\n",
              "    .dataframe tbody tr th {\n",
              "        vertical-align: top;\n",
              "    }\n",
              "\n",
              "    .dataframe thead th {\n",
              "        text-align: right;\n",
              "    }\n",
              "</style>\n",
              "<table border=\"1\" class=\"dataframe\">\n",
              "  <thead>\n",
              "    <tr style=\"text-align: right;\">\n",
              "      <th></th>\n",
              "      <th>doc_id</th>\n",
              "      <th>standard_value</th>\n",
              "      <th>standard_type</th>\n",
              "      <th>standard_relation</th>\n",
              "      <th>pchembl</th>\n",
              "      <th>molregno</th>\n",
              "      <th>canonical_smiles</th>\n",
              "      <th>chembl_id</th>\n",
              "      <th>target_dictionary</th>\n",
              "      <th>target_chembl_id</th>\n",
              "      <th>l1</th>\n",
              "      <th>l2</th>\n",
              "      <th>l3</th>\n",
              "      <th>confidence_score</th>\n",
              "    </tr>\n",
              "  </thead>\n",
              "  <tbody>\n",
              "    <tr>\n",
              "      <th>0</th>\n",
              "      <td>6570</td>\n",
              "      <td>4000.0</td>\n",
              "      <td>IC50</td>\n",
              "      <td>=</td>\n",
              "      <td>5.40</td>\n",
              "      <td>252199</td>\n",
              "      <td>Cc1nc2cc(OC[C@H](O)CN3CCN(CC(=O)Nc4ccc(Cl)c(C(...</td>\n",
              "      <td>CHEMBL357278</td>\n",
              "      <td>10483</td>\n",
              "      <td>CHEMBL4632</td>\n",
              "      <td>Enzyme</td>\n",
              "      <td>Oxidoreductase</td>\n",
              "      <td>NaN</td>\n",
              "      <td>8</td>\n",
              "    </tr>\n",
              "    <tr>\n",
              "      <th>1</th>\n",
              "      <td>6570</td>\n",
              "      <td>17000.0</td>\n",
              "      <td>IC50</td>\n",
              "      <td>=</td>\n",
              "      <td>4.77</td>\n",
              "      <td>253534</td>\n",
              "      <td>Cc1nc2cc(OC[C@H](O)CN3CCN(CC(=O)NCCc4ccccc4)CC...</td>\n",
              "      <td>CHEMBL357119</td>\n",
              "      <td>10483</td>\n",
              "      <td>CHEMBL4632</td>\n",
              "      <td>Enzyme</td>\n",
              "      <td>Oxidoreductase</td>\n",
              "      <td>NaN</td>\n",
              "      <td>8</td>\n",
              "    </tr>\n",
              "    <tr>\n",
              "      <th>2</th>\n",
              "      <td>6570</td>\n",
              "      <td>180.0</td>\n",
              "      <td>IC50</td>\n",
              "      <td>=</td>\n",
              "      <td>6.75</td>\n",
              "      <td>253199</td>\n",
              "      <td>Cc1nc2cc(OC[C@H](O)CN3CCN(CC(=O)Nc4cccc(-c5ccc...</td>\n",
              "      <td>CHEMBL152968</td>\n",
              "      <td>10483</td>\n",
              "      <td>CHEMBL4632</td>\n",
              "      <td>Enzyme</td>\n",
              "      <td>Oxidoreductase</td>\n",
              "      <td>NaN</td>\n",
              "      <td>8</td>\n",
              "    </tr>\n",
              "    <tr>\n",
              "      <th>3</th>\n",
              "      <td>6570</td>\n",
              "      <td>6000.0</td>\n",
              "      <td>IC50</td>\n",
              "      <td>=</td>\n",
              "      <td>5.22</td>\n",
              "      <td>253199</td>\n",
              "      <td>Cc1nc2cc(OC[C@H](O)CN3CCN(CC(=O)Nc4cccc(-c5ccc...</td>\n",
              "      <td>CHEMBL152968</td>\n",
              "      <td>12594</td>\n",
              "      <td>CHEMBL3356</td>\n",
              "      <td>Enzyme</td>\n",
              "      <td>Cytochrome P450</td>\n",
              "      <td>Cytochrome P450 family 1</td>\n",
              "      <td>8</td>\n",
              "    </tr>\n",
              "    <tr>\n",
              "      <th>4</th>\n",
              "      <td>6570</td>\n",
              "      <td>37000.0</td>\n",
              "      <td>IC50</td>\n",
              "      <td>=</td>\n",
              "      <td>4.43</td>\n",
              "      <td>253199</td>\n",
              "      <td>Cc1nc2cc(OC[C@H](O)CN3CCN(CC(=O)Nc4cccc(-c5ccc...</td>\n",
              "      <td>CHEMBL152968</td>\n",
              "      <td>17045</td>\n",
              "      <td>CHEMBL340</td>\n",
              "      <td>Enzyme</td>\n",
              "      <td>Cytochrome P450</td>\n",
              "      <td>Cytochrome P450 family 3</td>\n",
              "      <td>8</td>\n",
              "    </tr>\n",
              "  </tbody>\n",
              "</table>\n",
              "</div>"
            ],
            "text/plain": [
              "   doc_id  standard_value  ...                        l3 confidence_score\n",
              "0    6570          4000.0  ...                       NaN                8\n",
              "1    6570         17000.0  ...                       NaN                8\n",
              "2    6570           180.0  ...                       NaN                8\n",
              "3    6570          6000.0  ...  Cytochrome P450 family 1                8\n",
              "4    6570         37000.0  ...  Cytochrome P450 family 3                8\n",
              "\n",
              "[5 rows x 14 columns]"
            ]
          },
          "metadata": {
            "tags": []
          },
          "execution_count": 12
        }
      ]
    },
    {
      "cell_type": "markdown",
      "metadata": {
        "id": "sSvfRy-T1hem",
        "colab_type": "text"
      },
      "source": [
        "Everything seems fine with the raw data. The dataframe loaded just fine and the columns are as expected. \n",
        "\n",
        "Now we are going to select a subset of it. In this case, just one protein target: coagulation factor Xa\n"
      ]
    },
    {
      "cell_type": "code",
      "metadata": {
        "id": "ScCun85V1oIT",
        "colab_type": "code",
        "colab": {
          "base_uri": "https://localhost:8080/",
          "height": 368
        },
        "outputId": "248cc30b-50b7-4d2a-bafc-4917f7d7ade2"
      },
      "source": [
        "fxa = df[df['target_chembl_id']=='CHEMBL244']\n",
        "print(fxa.shape)\n",
        "fxa.head()"
      ],
      "execution_count": 13,
      "outputs": [
        {
          "output_type": "stream",
          "text": [
            "(6515, 14)\n"
          ],
          "name": "stdout"
        },
        {
          "output_type": "execute_result",
          "data": {
            "text/html": [
              "<div>\n",
              "<style scoped>\n",
              "    .dataframe tbody tr th:only-of-type {\n",
              "        vertical-align: middle;\n",
              "    }\n",
              "\n",
              "    .dataframe tbody tr th {\n",
              "        vertical-align: top;\n",
              "    }\n",
              "\n",
              "    .dataframe thead th {\n",
              "        text-align: right;\n",
              "    }\n",
              "</style>\n",
              "<table border=\"1\" class=\"dataframe\">\n",
              "  <thead>\n",
              "    <tr style=\"text-align: right;\">\n",
              "      <th></th>\n",
              "      <th>doc_id</th>\n",
              "      <th>standard_value</th>\n",
              "      <th>standard_type</th>\n",
              "      <th>standard_relation</th>\n",
              "      <th>pchembl</th>\n",
              "      <th>molregno</th>\n",
              "      <th>canonical_smiles</th>\n",
              "      <th>chembl_id</th>\n",
              "      <th>target_dictionary</th>\n",
              "      <th>target_chembl_id</th>\n",
              "      <th>l1</th>\n",
              "      <th>l2</th>\n",
              "      <th>l3</th>\n",
              "      <th>confidence_score</th>\n",
              "    </tr>\n",
              "  </thead>\n",
              "  <tbody>\n",
              "    <tr>\n",
              "      <th>22</th>\n",
              "      <td>3476</td>\n",
              "      <td>44.4</td>\n",
              "      <td>IC50</td>\n",
              "      <td>=</td>\n",
              "      <td>7.35</td>\n",
              "      <td>192068</td>\n",
              "      <td>N=C(N)N1CCC[C@H](NC(=O)CNC(=O)[C@@H](CCNC(=O)c...</td>\n",
              "      <td>CHEMBL117716</td>\n",
              "      <td>194</td>\n",
              "      <td>CHEMBL244</td>\n",
              "      <td>Enzyme</td>\n",
              "      <td>Protease</td>\n",
              "      <td>Serine protease</td>\n",
              "      <td>8</td>\n",
              "    </tr>\n",
              "    <tr>\n",
              "      <th>273</th>\n",
              "      <td>6512</td>\n",
              "      <td>180.0</td>\n",
              "      <td>IC50</td>\n",
              "      <td>=</td>\n",
              "      <td>6.75</td>\n",
              "      <td>203908</td>\n",
              "      <td>Cc1cc(NC(=O)Cc2ccc3[nH]c(-c4ccc(Cl)s4)nc3c2)cc...</td>\n",
              "      <td>CHEMBL337921</td>\n",
              "      <td>194</td>\n",
              "      <td>CHEMBL244</td>\n",
              "      <td>Enzyme</td>\n",
              "      <td>Protease</td>\n",
              "      <td>Serine protease</td>\n",
              "      <td>8</td>\n",
              "    </tr>\n",
              "    <tr>\n",
              "      <th>274</th>\n",
              "      <td>6512</td>\n",
              "      <td>120.0</td>\n",
              "      <td>IC50</td>\n",
              "      <td>=</td>\n",
              "      <td>6.92</td>\n",
              "      <td>204329</td>\n",
              "      <td>Cc1cc(NC(=O)Cc2ccc3[nH]c(-c4ccc(Cl)s4)nc3c2)cc...</td>\n",
              "      <td>CHEMBL340500</td>\n",
              "      <td>194</td>\n",
              "      <td>CHEMBL244</td>\n",
              "      <td>Enzyme</td>\n",
              "      <td>Protease</td>\n",
              "      <td>Serine protease</td>\n",
              "      <td>8</td>\n",
              "    </tr>\n",
              "    <tr>\n",
              "      <th>288</th>\n",
              "      <td>3476</td>\n",
              "      <td>311.0</td>\n",
              "      <td>IC50</td>\n",
              "      <td>=</td>\n",
              "      <td>6.51</td>\n",
              "      <td>192044</td>\n",
              "      <td>N=C(N)N1CCC[C@H](NC(=O)CNC(=O)[C@@H](CNC(=O)c2...</td>\n",
              "      <td>CHEMBL117721</td>\n",
              "      <td>194</td>\n",
              "      <td>CHEMBL244</td>\n",
              "      <td>Enzyme</td>\n",
              "      <td>Protease</td>\n",
              "      <td>Serine protease</td>\n",
              "      <td>8</td>\n",
              "    </tr>\n",
              "    <tr>\n",
              "      <th>291</th>\n",
              "      <td>3476</td>\n",
              "      <td>6.1</td>\n",
              "      <td>IC50</td>\n",
              "      <td>=</td>\n",
              "      <td>8.21</td>\n",
              "      <td>191486</td>\n",
              "      <td>N=C(N)N1CCC[C@H](NC(=O)CNC(=O)[C@@H](CCNC(=O)c...</td>\n",
              "      <td>CHEMBL331807</td>\n",
              "      <td>194</td>\n",
              "      <td>CHEMBL244</td>\n",
              "      <td>Enzyme</td>\n",
              "      <td>Protease</td>\n",
              "      <td>Serine protease</td>\n",
              "      <td>8</td>\n",
              "    </tr>\n",
              "  </tbody>\n",
              "</table>\n",
              "</div>"
            ],
            "text/plain": [
              "     doc_id  standard_value  ...               l3 confidence_score\n",
              "22     3476            44.4  ...  Serine protease                8\n",
              "273    6512           180.0  ...  Serine protease                8\n",
              "274    6512           120.0  ...  Serine protease                8\n",
              "288    3476           311.0  ...  Serine protease                8\n",
              "291    3476             6.1  ...  Serine protease                8\n",
              "\n",
              "[5 rows x 14 columns]"
            ]
          },
          "metadata": {
            "tags": []
          },
          "execution_count": 13
        }
      ]
    }
  ]
}