{
  "nbformat": 4,
  "nbformat_minor": 0,
  "metadata": {
    "colab": {
      "name": "download-chembl.ipynb",
      "provenance": [],
      "authorship_tag": "ABX9TyPPRv6UMuCSLh+32nMmOU6C",
      "include_colab_link": true
    },
    "kernelspec": {
      "name": "python3",
      "display_name": "Python 3"
    }
  },
  "cells": [
    {
      "cell_type": "markdown",
      "metadata": {
        "id": "view-in-github",
        "colab_type": "text"
      },
      "source": [
        "<a href=\"https://colab.research.google.com/github/Marcosuff/Marcosuff.github.io/blob/master/nbs/download_chembl.ipynb\" target=\"_parent\"><img src=\"https://colab.research.google.com/assets/colab-badge.svg\" alt=\"Open In Colab\"/></a>"
      ]
    },
    {
      "cell_type": "code",
      "metadata": {
        "id": "otaBCPsxhvaK",
        "colab_type": "code",
        "colab": {}
      },
      "source": [
        "# RUN THIS CELL ONCE TO DOWNLOAD ChEMBL\n",
        "#import sys\n",
        "#! wget -c https://repo.anaconda.com/archive/Anaconda3-2019.10-Linux-x86_64.sh\n",
        "#! bash Anaconda3-2019.10-Linux-x86_64.sh -bfp /usr/local\n",
        "#sys.path.append('/usr/local/lib/python3.7/site-packages')\n",
        "#!conda install -y -c rdkit rdkit\n",
        "#!wget -c http://ftp.ebi.ac.uk/pub/databases/chembl/ChEMBLdb/releases/chembl_27/chembl_27_sqlite.tar.gz\n",
        "#!tar -xvf /content/chembl_27_sqlite.tar.gz"
      ],
      "execution_count": null,
      "outputs": []
    },
    {
      "cell_type": "code",
      "metadata": {
        "id": "eD9iVXKpwEHP",
        "colab_type": "code",
        "colab": {}
      },
      "source": [
        "import pandas as pd\n",
        "import numpy as np\n",
        "\n",
        "from google.colab import drive\n",
        "from os.path import join\n",
        "\n",
        "ROOT = '/content/drive'     # default for the drive\n",
        "PROJ = 'My Drive/Blog'      # path to your project on Drive\n",
        "\n",
        "GIT_USERNAME = \"Marcosuff\" # replace with yours\n",
        "GIT_REPOSITORY = \"Marcosuff.github.io\"      # ...nah\n",
        "GIT_TOKEN = 'dee4192a28a49b4acc3897425086d65cabe8b47f'\n",
        "\n",
        "drive.mount(ROOT)           # we mount the drive at /content/drive\n",
        "\n",
        "PROJECT_PATH = join(ROOT, PROJ)\n",
        "!mkdir \"{PROJECT_PATH}\"     # in case we haven't created it already   \n"
      ],
      "execution_count": null,
      "outputs": []
    },
    {
      "cell_type": "code",
      "metadata": {
        "id": "8rSrosxjm-cH",
        "colab_type": "code",
        "colab": {
          "base_uri": "https://localhost:8080/",
          "height": 34
        },
        "outputId": "5c70e72c-3a97-4d78-c63b-5a683026afd4"
      },
      "source": [
        "GIT_PATH = \"https://dee4192a28a49b4acc3897425086d65cabe8b47f@github.com/Marcosuff/Marcosuff.github.io.git\"\n",
        "!git clone \"{GIT_PATH}\""
      ],
      "execution_count": 8,
      "outputs": [
        {
          "output_type": "stream",
          "text": [
            "fatal: destination path 'Marcosuff.github.io' already exists and is not an empty directory.\n"
          ],
          "name": "stdout"
        }
      ]
    },
    {
      "cell_type": "code",
      "metadata": {
        "id": "Py2syrEWyobZ",
        "colab_type": "code",
        "colab": {}
      },
      "source": [
        "df = pd.read_csv('/content/Marcosuff.github.io/data/chembl27.csv.gz')"
      ],
      "execution_count": 9,
      "outputs": []
    }
  ]
}