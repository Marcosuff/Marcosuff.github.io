{
  "nbformat": 4,
  "nbformat_minor": 0,
  "metadata": {
    "colab": {
      "name": "SMILES-LSTM-fastaiv2.ipynb",
      "provenance": [],
      "collapsed_sections": [
        "-amPNcJKnOyp",
        "kWnclfuX3FQL"
      ],
      "authorship_tag": "ABX9TyMw8wJ81L8M6De805p3SdTh",
      "include_colab_link": true
    },
    "kernelspec": {
      "name": "python3",
      "display_name": "Python 3"
    }
  },
  "cells": [
    {
      "cell_type": "markdown",
      "metadata": {
        "id": "view-in-github",
        "colab_type": "text"
      },
      "source": [
        "<a href=\"https://colab.research.google.com/github/Marcosuff/Marcosuff.github.io/blob/master/nbs/SMILES_LSTM_fastaiv2.ipynb\" target=\"_parent\"><img src=\"https://colab.research.google.com/assets/colab-badge.svg\" alt=\"Open In Colab\"/></a>"
      ]
    },
    {
      "cell_type": "code",
      "metadata": {
        "id": "dLkjMP2QlFpe",
        "colab_type": "code",
        "colab": {}
      },
      "source": [
        "#export\n",
        "import sys\n",
        "!pip install fastai2\n",
        "! wget -c https://repo.anaconda.com/archive/Anaconda3-2019.10-Linux-x86_64.sh\n",
        "! bash Anaconda3-2019.10-Linux-x86_64.sh -bfp /usr/local\n",
        "sys.path.append('/usr/local/lib/python3.7/site-packages')\n",
        "!conda install -y -c rdkit rdkit"
      ],
      "execution_count": null,
      "outputs": []
    },
    {
      "cell_type": "code",
      "metadata": {
        "id": "Rh1dfHmYlL-L",
        "colab_type": "code",
        "colab": {}
      },
      "source": [
        "#export\n",
        "import pandas as pd\n",
        "import numpy as np\n",
        "\n",
        "from fastai2.text.all import *\n",
        "from IPython.display import display,HTML\n",
        "\n",
        "from rdkit.Chem import MolFromSmiles, MolToSmiles, AllChem, SanitizeMol, rdmolops\n",
        "from rdkit.Chem.Draw import IPythonConsole, MolsToGridImage\n",
        "from rdkit.Chem.SaltRemover import SaltRemover as saltremover\n",
        "from rdkit.Chem.MolStandardize.rdMolStandardize import LargestFragmentChooser\n",
        "from rdkit import rdBase\n",
        "rdBase.DisableLog('rdApp.error')\n",
        "rdBase.DisableLog('rdApp.info')\n",
        "\n",
        "from google.colab import drive"
      ],
      "execution_count": 2,
      "outputs": []
    },
    {
      "cell_type": "code",
      "metadata": {
        "id": "H2lVUAMhlf3t",
        "colab_type": "code",
        "colab": {
          "base_uri": "https://localhost:8080/",
          "height": 125
        },
        "outputId": "5e66e015-6124-42e5-c415-d02cc7283933"
      },
      "source": [
        "#export\n",
        "drive.mount('mydrive')\n",
        "#sys.path.append('/content/mydrive/My Drive/Generative/mol_utils')\n",
        "path = Path('/content/mydrive/My Drive/Generative/data')"
      ],
      "execution_count": 3,
      "outputs": [
        {
          "output_type": "stream",
          "text": [
            "Go to this URL in a browser: https://accounts.google.com/o/oauth2/auth?client_id=947318989803-6bn6qk8qdgf4n4g3pfee6491hc0brc4i.apps.googleusercontent.com&redirect_uri=urn%3aietf%3awg%3aoauth%3a2.0%3aoob&scope=email%20https%3a%2f%2fwww.googleapis.com%2fauth%2fdocs.test%20https%3a%2f%2fwww.googleapis.com%2fauth%2fdrive%20https%3a%2f%2fwww.googleapis.com%2fauth%2fdrive.photos.readonly%20https%3a%2f%2fwww.googleapis.com%2fauth%2fpeopleapi.readonly&response_type=code\n",
            "\n",
            "Enter your authorization code:\n",
            "··········\n",
            "Mounted at mydrive\n"
          ],
          "name": "stdout"
        }
      ]
    },
    {
      "cell_type": "markdown",
      "metadata": {
        "id": "-amPNcJKnOyp",
        "colab_type": "text"
      },
      "source": [
        "# **Import data**"
      ]
    },
    {
      "cell_type": "code",
      "metadata": {
        "id": "69D117lenRqS",
        "colab_type": "code",
        "colab": {}
      },
      "source": [
        "chembl = pd.read_csv(path/'ChEMBL_v2.csv').iloc[:500]\n",
        "db = pd.read_csv(path/'chembl27.csv.gz')"
      ],
      "execution_count": 53,
      "outputs": []
    },
    {
      "cell_type": "code",
      "metadata": {
        "id": "Li5ITI9SoSrk",
        "colab_type": "code",
        "colab": {}
      },
      "source": [
        "target_name = 'CHEMBL244'\n",
        "fxa = db[db['target_chembl_id'] == target_name]\n",
        "print(fxa.shape)\n",
        "fxa.head()"
      ],
      "execution_count": null,
      "outputs": []
    },
    {
      "cell_type": "markdown",
      "metadata": {
        "id": "Ps-yYcxVLTnb",
        "colab_type": "text"
      },
      "source": [
        "# **Tokenizing V2**"
      ]
    },
    {
      "cell_type": "code",
      "metadata": {
        "id": "b1dMBow7EqnB",
        "colab_type": "code",
        "colab": {}
      },
      "source": [
        "#export\n",
        "class MolTokenizer_v2():\n",
        "  def tokenize_mols(self, t):\n",
        "    pat = '(\\[.*?\\])' # Find special enviroments (e.g., [CH],[NH] etc)\n",
        "    tokens = []\n",
        "    t = t.replace('Br','L').replace('Cl','X') # Replace halogens\n",
        "    atom_list = re.split(pat,t)\n",
        "    for s in atom_list:\n",
        "      if s.startswith('['):\n",
        "        tokens.append(s)\n",
        "      else:\n",
        "        tokens += [x for x in list(s)]\n",
        "    tokens = [x.replace('L','Br').replace('X','Cl') for x in tokens] # Decode halogens\n",
        "    return [BOS] + tokens + [EOS]\n",
        "\n",
        "  def __call__(self, items): return (self.tokenize_mols(t) for t in items)"
      ],
      "execution_count": 6,
      "outputs": []
    },
    {
      "cell_type": "code",
      "metadata": {
        "id": "BO047cF0V06h",
        "colab_type": "code",
        "colab": {}
      },
      "source": [
        "tk = Tokenizer(MolTokenizer_v2(), rules = [])\n",
        "xb = chembl.Smiles.iloc[56]"
      ],
      "execution_count": 54,
      "outputs": []
    },
    {
      "cell_type": "code",
      "metadata": {
        "id": "NgtCTCZRdyQ1",
        "colab_type": "code",
        "colab": {
          "base_uri": "https://localhost:8080/",
          "height": 53
        },
        "outputId": "aa65cb67-ec98-4a3f-94b6-d6df4477e2fa"
      },
      "source": [
        "coll_repr(tk(xb),30)"
      ],
      "execution_count": null,
      "outputs": [
        {
          "output_type": "execute_result",
          "data": {
            "application/vnd.google.colaboratory.intrinsic+json": {
              "type": "string"
            },
            "text/plain": [
              "\"(#41) ['xxbos','C','[C@H]','(','N','C','(','=','O',')','[C@H]','1','C','c','2','c','(','s','c','3','c','c','c','c','c','2','3',')','C','N'...]\""
            ]
          },
          "metadata": {
            "tags": []
          },
          "execution_count": 217
        }
      ]
    },
    {
      "cell_type": "code",
      "metadata": {
        "id": "msGHw5xfhurb",
        "colab_type": "code",
        "colab": {
          "base_uri": "https://localhost:8080/",
          "height": 54
        },
        "outputId": "92b441e2-1818-4e28-ebc3-e82ac1bc6300"
      },
      "source": [
        "corpus = [x for x in list(chembl.Smiles)] # It seems necessary to call L to use the map method. What is L in fact? It seems to create a generator.\n",
        "tokens = L(corpus).map(tk)\n",
        "tokens"
      ],
      "execution_count": 8,
      "outputs": [
        {
          "output_type": "execute_result",
          "data": {
            "text/plain": [
              "(#200) [['xxbos', 'C', 'c', '1', 'c', 'c', '(', '-', 'c', '2', 'c', 's', 'c', '(', 'N', '=', 'C', '(', 'N', ')', 'N', ')', 'n', '2', ')', 'c', 'n', '1', 'C', 'xxeos'],['xxbos', 'Br', 'c', '1', 'c', 'c', 'c', 'c', '(', 'N', 'c', '2', 'n', 'c', 'n', 'c', '3', 'c', 'c', 'n', 'c', 'c', '2', '3', ')', 'c', '1', 'N', 'C', 'C', 'N', '1', 'C', 'C', 'O', 'C', 'C', '1', 'xxeos'],['xxbos', 'C', 'O', 'c', '1', 'c', '(', 'O', ')', 'c', 'c', '(', 'O', ')', 'c', '(', 'C', '(', '=', 'N', ')', 'C', 'c', '2', 'c', 'c', 'c', '(', 'O', ')', 'c', 'c', '2', ')', 'c', '1', 'O', 'xxeos'],['xxbos', 'C', 'C', 'O', 'C', '(', '=', 'O', ')', 'c', '1', 'c', 'c', '2', 'c', 'c', '(', 'C', '(', '=', 'O', ')', 'O', ')', 'c', 'c', 'c', '2', '[nH]', '1', 'xxeos'],['xxbos', 'C', 'C', '(', '=', 'O', ')', 'O', '[C@H]', '1', '/', 'C', '(', 'C', ')', '=', 'C', '\\\\', '[C@@H]', '2', 'O', 'C', '(', '=', 'O', ')', '[C@]', '3', '(', 'C', ')', 'O', '[C@]', '2', '3', '[C@H]', '(', 'O', 'C', '(', 'C', ')', '=', 'O', ')', '[C@H]', '2', '[C@]', '(', 'C', ')', '(', 'O', ')', '[C@H]', '(', 'O', ')', 'C', '=', 'C', '[C@]', '2', '(', 'C', ')', '[C@@H]', '(', 'O', 'C', '(', 'C', ')', '=', 'O', ')', '[C@@H]', '1', 'O', 'C', '(', 'C', ')', '=', 'O', 'xxeos'],['xxbos', 'C', '[C@H]', '(', 'N', 'C', '(', '=', 'O', ')', 'O', 'C', 'c', '1', 'c', 'c', 'c', 'c', 'c', '1', ')', 'C', '(', '=', 'O', ')', 'N', '[C@@H]', '(', 'C', ')', 'C', '(', '=', 'O', ')', 'N', 'N', '(', 'C', 'C', '(', 'N', ')', '=', 'O', ')', 'C', '(', '=', 'O', ')', '/', 'C', '=', 'C', '/', 'C', '(', '=', 'O', ')', 'N', '(', 'C', 'c', '1', 'c', 'c', 'c', 'o', '1', ')', 'C', 'c', '1', 'c', 'c', 'c', 'o', '1', 'xxeos'],['xxbos', 'C', 'O', 'c', '1', 'c', 'c', 'c', '2', 'c', '(', 'c', '1', 'O', 'C', ')', 'C', '(', 'C', 'C', '1', '(', 'C', ')', 'C', '=', 'C', 'c', '3', 'c', '(', 'c', '4', 'c', 'c', 'c', 'c', '(', 'O', 'C', ')', 'c', '4', 'n', '(', 'C', ')', 'c', '3', '=', 'O', ')', 'O', '1', ')', 'N', '(', 'C', ')', 'c', '1', 'c', '-', '2', 'c', 'c', 'c', '2', 'c', 'c', '3', 'c', '(', 'c', 'c', '1', '2', ')', 'O', 'C', 'O', '3', 'xxeos'],['xxbos', 'C', 'O', 'c', '1', 'c', 'c', 'c', 'c', '(', 'C', 'N', 'C', '2', '(', 'C', 'C', 'C', '(', 'C', ')', '(', 'C', ')', 'C', ')', 'C', '(', '=', 'O', ')', 'C', '(', 'C', '3', '=', 'N', 'S', '(', '=', 'O', ')', '(', '=', 'O', ')', 'c', '4', 'c', 'c', '(', 'N', 'S', '(', 'C', ')', '(', '=', 'O', ')', '=', 'O', ')', 'c', 'c', 'c', '4', 'N', '3', ')', '=', 'C', '(', 'O', ')', 'c', '3', 'c', 'c', 'c', 'c', 'c', '3', '2', ')', 'c', '1', 'xxeos'],['xxbos', 'C', '[C@H]', '1', 'C', 'N', '(', 'C', 'C', 'C', '(', '=', 'O', ')', 'N', '[C@@H]', '(', 'C', 'C', 'c', '2', 'c', 'c', 'c', 'c', 'c', '2', ')', 'C', '(', '=', 'O', ')', 'O', ')', 'C', 'C', '[C@@]', '1', '(', 'C', ')', 'c', '1', 'c', 'c', 'c', 'c', '(', 'O', ')', 'c', '1', 'xxeos'],['xxbos', 'O', '=', 'C', '(', 'N', 'O', ')', 'c', '1', 'c', 'c', 'c', '(', 'I', ')', 'c', 'c', '1', 'xxeos']...]"
            ]
          },
          "metadata": {
            "tags": []
          },
          "execution_count": 8
        }
      ]
    },
    {
      "cell_type": "code",
      "metadata": {
        "id": "cJrEoBQitLbF",
        "colab_type": "code",
        "colab": {
          "base_uri": "https://localhost:8080/",
          "height": 54
        },
        "outputId": "89110156-90bc-4c5a-bcd6-36571b2bce75"
      },
      "source": [
        "#export\n",
        "vocab = sorted({y for x in tokens for y in x},reverse=True)\n",
        "vocab.insert(1,PAD)\n",
        "print(vocab)"
      ],
      "execution_count": 55,
      "outputs": [
        {
          "output_type": "stream",
          "text": [
            "['xxeos', 'xxpad', 'xxbos', 's', 'o', 'n', 'c', '\\\\', '[nH]', '[n+]', '[O-]', '[N+]', '[C@]', '[C@H]', '[C@@]', '[C@@H]', 'S', 'P', 'O', 'N', 'I', 'F', 'Cl', 'C', 'Br', '=', '6', '5', '4', '3', '2', '1', '/', '-', ')', '(', '#']\n"
          ],
          "name": "stdout"
        }
      ]
    },
    {
      "cell_type": "code",
      "metadata": {
        "id": "b4grWM5X-SO4",
        "colab_type": "code",
        "colab": {
          "base_uri": "https://localhost:8080/",
          "height": 727
        },
        "outputId": "f96770d4-f68c-4782-bfb8-6df2cfec8271"
      },
      "source": [
        "num = Numericalize(min_freq = 1, special_toks = [UNK, PAD, BOS, EOS, 'xxfake'])\n",
        "num.setup(tokens)\n",
        "\n",
        "num.vocab"
      ],
      "execution_count": 29,
      "outputs": [
        {
          "output_type": "execute_result",
          "data": {
            "text/plain": [
              "['xxunk',\n",
              " 'xxpad',\n",
              " 'xxbos',\n",
              " 'xxeos',\n",
              " 'xxfake',\n",
              " 'C',\n",
              " 'c',\n",
              " '(',\n",
              " ')',\n",
              " 'O',\n",
              " '1',\n",
              " '=',\n",
              " '2',\n",
              " 'N',\n",
              " '3',\n",
              " '[C@H]',\n",
              " '[C@@H]',\n",
              " 'n',\n",
              " '4',\n",
              " '/',\n",
              " 'F',\n",
              " '-',\n",
              " '[C@]',\n",
              " 'S',\n",
              " '[C@@]',\n",
              " 'Cl',\n",
              " 'o',\n",
              " '[nH]',\n",
              " '\\\\',\n",
              " '5',\n",
              " 's',\n",
              " '#',\n",
              " '[n+]',\n",
              " '[O-]',\n",
              " 'P',\n",
              " 'Br',\n",
              " '[N+]',\n",
              " 'I',\n",
              " '6',\n",
              " 'xxfake']"
            ]
          },
          "metadata": {
            "tags": []
          },
          "execution_count": 29
        }
      ]
    },
    {
      "cell_type": "code",
      "metadata": {
        "id": "M1ecghWkzMES",
        "colab_type": "code",
        "colab": {}
      },
      "source": [
        "\n",
        "vocab = [x for x in num.vocab if x not in [UNK,'xxfake']]\n",
        "vocab[0] = BOS\n",
        "vocab[1] = PAD\n",
        "num.vocab = vocab\n",
        "num.vocab"
      ],
      "execution_count": null,
      "outputs": []
    },
    {
      "cell_type": "code",
      "metadata": {
        "id": "VOE6CSJO6U3_",
        "colab_type": "code",
        "colab": {
          "base_uri": "https://localhost:8080/",
          "height": 52
        },
        "outputId": "8b60338f-aef8-4db6-96e7-b55a2e13905e"
      },
      "source": [
        "coll_repr(num.vocab, 15),len(num.vocab)"
      ],
      "execution_count": null,
      "outputs": [
        {
          "output_type": "execute_result",
          "data": {
            "text/plain": [
              "(\"(#40) ['xxbos','xxunk','xxpad','xxeos','C','c','(',')','O','1','=','2','N','3','[C@H]'...]\",\n",
              " 40)"
            ]
          },
          "metadata": {
            "tags": []
          },
          "execution_count": 222
        }
      ]
    },
    {
      "cell_type": "code",
      "metadata": {
        "id": "jD0GCwwB7wZO",
        "colab_type": "code",
        "colab": {
          "base_uri": "https://localhost:8080/",
          "height": 70
        },
        "outputId": "2f28f60b-bddc-4b1a-b501-4a8c22f795c6"
      },
      "source": [
        "#nums10 = tokens[0:10].map(num)\n",
        "#nums10\n",
        "num(tokens[1])"
      ],
      "execution_count": null,
      "outputs": [
        {
          "output_type": "execute_result",
          "data": {
            "text/plain": [
              "TensorText([ 0, 34,  5,  9,  5,  5,  5,  5,  6, 12,  5, 11, 16,  5, 16,  5, 13,  5,\n",
              "         5, 16,  5,  5, 11, 13,  7,  5,  9, 12,  4,  4, 12,  9,  4,  4,  8,  4,\n",
              "         4,  9,  3])"
            ]
          },
          "metadata": {
            "tags": []
          },
          "execution_count": 224
        }
      ]
    },
    {
      "cell_type": "markdown",
      "metadata": {
        "id": "NgbpqqeWhvX0",
        "colab_type": "text"
      },
      "source": [
        "Let's take a look at some batches. When training a language model, we first concatenate all texts into a big stream and then split it into batches with a defined sequence length.\n",
        "\n",
        "In the case of SMILES strings, at each epoch the model will recieve `bs` number of mini-batches. But instead of sending long SMILES at each epoch (which would crash the GPU memory), we further split the batches into subarrays with a length equals to `seq_len`. These subarrays are split in a manner as to preserve the order within each SMILES string."
      ]
    },
    {
      "cell_type": "code",
      "metadata": {
        "id": "Z0iEcpHggUDV",
        "colab_type": "code",
        "colab": {
          "base_uri": "https://localhost:8080/",
          "height": 1000
        },
        "outputId": "72c457d6-73bc-47da-ba46-36c466ee5595"
      },
      "source": [
        "bs,seq_len = 6,15\n",
        "d_tokens = np.array([tokens[i*seq_len:(i+1)*seq_len] for i in range(bs)])\n",
        "df = pd.DataFrame(d_tokens)\n",
        "display(HTML(df.to_html(index=False,header=None)))"
      ],
      "execution_count": null,
      "outputs": [
        {
          "output_type": "display_data",
          "data": {
            "text/html": [
              "<table border=\"1\" class=\"dataframe\">\n",
              "  <tbody>\n",
              "    <tr>\n",
              "      <td>[xxbos, C, c, 1, c, c, (, -, c, 2, c, s, c, (, N, =, C, (, N, ), N, ), n, 2, ), c, n, 1, C, xxeos]</td>\n",
              "      <td>[xxbos, Br, c, 1, c, c, c, c, (, N, c, 2, n, c, n, c, 3, c, c, n, c, c, 2, 3, ), c, 1, N, C, C, N, 1, C, C, O, C, C, 1, xxeos]</td>\n",
              "      <td>[xxbos, C, O, c, 1, c, (, O, ), c, c, (, O, ), c, (, C, (, =, N, ), C, c, 2, c, c, c, (, O, ), c, c, 2, ), c, 1, O, xxeos]</td>\n",
              "      <td>[xxbos, C, C, O, C, (, =, O, ), c, 1, c, c, 2, c, c, (, C, (, =, O, ), O, ), c, c, c, 2, [nH], 1, xxeos]</td>\n",
              "      <td>[xxbos, C, C, (, =, O, ), O, [C@H], 1, /, C, (, C, ), =, C, \\, [C@@H], 2, O, C, (, =, O, ), [C@], 3, (, C, ), O, [C@], 2, 3, [C@H], (, O, C, (, C, ), =, O, ), [C@H], 2, [C@], (, C, ), (, O, ), [C@H], (, O, ), C, =, C, [C@], 2, (, C, ), [C@@H], (, O, C, (, C, ), =, O, ), [C@@H], 1, O, C, (, C, ), =, O, xxeos]</td>\n",
              "      <td>[xxbos, C, [C@H], (, N, C, (, =, O, ), O, C, c, 1, c, c, c, c, c, 1, ), C, (, =, O, ), N, [C@@H], (, C, ), C, (, =, O, ), N, N, (, C, C, (, N, ), =, O, ), C, (, =, O, ), /, C, =, C, /, C, (, =, O, ), N, (, C, c, 1, c, c, c, o, 1, ), C, c, 1, c, c, c, o, 1, xxeos]</td>\n",
              "      <td>[xxbos, C, O, c, 1, c, c, c, 2, c, (, c, 1, O, C, ), C, (, C, C, 1, (, C, ), C, =, C, c, 3, c, (, c, 4, c, c, c, c, (, O, C, ), c, 4, n, (, C, ), c, 3, =, O, ), O, 1, ), N, (, C, ), c, 1, c, -, 2, c, c, c, 2, c, c, 3, c, (, c, c, 1, 2, ), O, C, O, 3, xxeos]</td>\n",
              "      <td>[xxbos, C, O, c, 1, c, c, c, c, (, C, N, C, 2, (, C, C, C, (, C, ), (, C, ), C, ), C, (, =, O, ), C, (, C, 3, =, N, S, (, =, O, ), (, =, O, ), c, 4, c, c, (, N, S, (, C, ), (, =, O, ), =, O, ), c, c, c, 4, N, 3, ), =, C, (, O, ), c, 3, c, c, c, c, c, 3, 2, ), c, 1, xxeos]</td>\n",
              "      <td>[xxbos, C, [C@H], 1, C, N, (, C, C, C, (, =, O, ), N, [C@@H], (, C, C, c, 2, c, c, c, c, c, 2, ), C, (, =, O, ), O, ), C, C, [C@@], 1, (, C, ), c, 1, c, c, c, c, (, O, ), c, 1, xxeos]</td>\n",
              "      <td>[xxbos, O, =, C, (, N, O, ), c, 1, c, c, c, (, I, ), c, c, 1, xxeos]</td>\n",
              "      <td>[xxbos, C, =, C, C, c, 1, c, c, c, (, O, C, (, =, O, ), C, 2, 3, C, C, 4, C, C, (, C, C, (, C, 4, ), C, 2, ), C, 3, ), c, (, O, C, ), c, 1, xxeos]</td>\n",
              "      <td>[xxbos, C, c, 1, c, c, c, c, (, N, 2, C, C, N, (, C, C, C, O, N, 3, C, (, =, O, ), c, 4, c, c, c, c, c, 4, C, 3, =, O, ), C, C, 2, ), c, 1, xxeos]</td>\n",
              "      <td>[xxbos, N, =, c, 1, s, c, 2, c, c, c, c, c, 2, n, 1, C, C, N, 1, C, C, C, (, c, 2, c, c, c, (, F, ), c, c, 2, ), C, C, 1, xxeos]</td>\n",
              "      <td>[xxbos, C, C, C, C, C, C, C, C, C, C, C, C, C, C, (, =, O, ), N, C, c, 1, c, c, c, (, C, (, =, O, ), N, [C@H], (, C, (, =, O, ), O, ), [C@@H], (, C, ), C, C, ), c, c, 1, xxeos]</td>\n",
              "      <td>[xxbos, O, =, C, (, N, c, 1, n, c, c, (, F, ), s, 1, ), [C@H], (, C, C, 1, C, C, O, C, C, 1, ), c, 1, c, c, c, (, S, (, =, O, ), (, =, O, ), C, 2, C, C, 2, ), c, c, 1, xxeos]</td>\n",
              "    </tr>\n",
              "    <tr>\n",
              "      <td>[xxbos, O, c, 1, c, c, c, (, /, N, =, C, (, /, C, c, 2, c, c, c, (, Cl, ), c, c, 2, ), c, 2, c, c, c, (, O, ), c, (, O, ), c, 2, O, ), c, c, 1, xxeos]</td>\n",
              "      <td>[xxbos, C, O, [C@H], 1, [C@H], (, O, C, [C@H], 2, [C@@H], 3, O, [C@@H], 3, /, C, =, C, /, C, (, =, O, ), [C@H], (, C, ), C, C, [C@H], (, O, [C@@H], 3, O, [C@H], (, C, ), C, [C@H], (, O, ), [C@H], 3, O, ), [C@@H], (, C, ), /, C, =, C, /, C, (, =, O, ), O, [C@@H], 2, C, ), O, [C@H], (, C, ), [C@@H], (, O, ), [C@H], 1, O, C, xxeos]</td>\n",
              "      <td>[xxbos, C, O, C, (, =, O, ), C, [C@H], 1, C, (, C, ), (, C, ), [C@H], (, O, C, (, C, ), =, O, ), [C@H], 2, C, (, =, O, ), [C@], 1, (, C, ), [C@H], 1, C, C, [C@@], 3, (, C, ), [C@H], (, c, 4, c, c, o, c, 4, ), O, C, (, =, O, ), C, [C@H], 3, [C@], 1, 3, O, [C@H], 2, 3, xxeos]</td>\n",
              "      <td>[xxbos, C, C, (, C, ), =, C, C, C, /, C, (, C, ), =, C, /, C, c, 1, c, 2, c, (, c, 3, o, c, 4, c, (, c, (, =, O, ), c, 3, c, 1, O, ), C, C, 1, c, 3, c, (, c, (, O, ), c, c, (, O, ), c, 3, -, 4, ), O, C, 1, (, C, ), C, ), C, =, C, C, (, C, ), (, C, ), O, 2, xxeos]</td>\n",
              "      <td>[xxbos, C, C, (, C, ), (, C, ), O, C, (, =, O, ), [C@H], (, C, c, 1, c, c, c, c, c, 1, ), N, C, (, =, O, ), [C@H], (, C, c, 1, c, c, c, c, c, 1, ), N, C, (, =, O, ), [C@@H], 1, C, C, C, N, 1, C, (, =, O, ), [C@@H], (, N, ), C, c, 1, c, c, c, (, O, ), c, c, 1, xxeos]</td>\n",
              "      <td>[xxbos, C, O, c, 1, c, c, c, c, c, 1, O, C, C, N, 1, C, C, N, (, c, 2, c, c, c, (, =, O, ), n, (, C, n, 3, n, c, (, N, 4, C, C, N, (, C, C, O, c, 5, c, c, c, c, c, 5, O, C, ), C, C, 4, ), c, c, c, 3, =, O, ), n, 2, ), C, C, 1, xxeos]</td>\n",
              "      <td>[xxbos, O, =, S, (, =, O, ), (, C, C, O, ), c, 1, n, o, [n+], (, [O-], ), c, 1, -, c, 1, c, c, c, c, c, 1, xxeos]</td>\n",
              "      <td>[xxbos, C, C, C, C, C, C, C, C, C, C, C, C, [C@@H], (, O, ), [C@H], 1, C, C, [C@H], (, [C@H], (, O, ), C, C, C, (, O, ), C, C, C, C, (, O, ), C, C, C, [C@@H], (, O, ), C, C, 2, =, C, [C@H], (, C, ), O, C, 2, =, O, ), O, 1, xxeos]</td>\n",
              "      <td>[xxbos, C, N, c, 1, n, c, 2, s, c, (, S, C, ), n, c, 2, c, 2, c, 1, n, c, n, 2, C, xxeos]</td>\n",
              "      <td>[xxbos, O, =, C, (, N, O, ), [C@H], 1, C, [C@], 1, (, C, c, 1, c, c, c, (, O, C, c, 2, c, c, (, -, c, 3, c, c, c, c, c, 3, ), n, c, 3, c, c, c, c, c, 2, 3, ), c, c, 1, ), C, (, =, O, ), N, 1, C, C, C, [C@H], 1, C, O, xxeos]</td>\n",
              "      <td>[xxbos, C, C, (, =, O, ), O, C, [C@], 1, 2, [C@H], (, O, C, (, C, ), =, O, ), C, (, =, O, ), [C@@H], 3, [C@@H], (, O, ), [C@], 1, (, O, C, 3, (, C, ), C, ), [C@], (, C, ), (, O, ), C, [C@H], (, O, C, (, C, ), =, O, ), [C@@H], 2, O, C, (, C, ), =, O, xxeos]</td>\n",
              "      <td>[xxbos, C, C, C, C, 1, (, C, ), C, C, (, =, O, ), N, (, C, C, C, C, N, 2, C, C, N, (, c, 3, n, s, c, 4, c, c, c, c, c, 3, 4, ), C, C, 2, ), C, (, =, O, ), C, 1, xxeos]</td>\n",
              "      <td>[xxbos, C, C, C, C, C, C, (, O, ), /, C, =, C, /, [C@H], 1, [C@H], 2, C, [C@H], (, O, C, (, =, O, ), O, 2, ), [C@@H], 1, C, /, C, =, C, \\, C, C, C, C, (, N, ), =, O, xxeos]</td>\n",
              "      <td>[xxbos, C, /, C, =, C, (, \\, C, ), C, (, =, O, ), O, [C@H], 1, [C@@H], (, C, ), C, (, =, O, ), [C@@], 2, 3, C, [C@H], (, C, ), [C@H], (, O, C, (, C, ), =, O, ), [C@], 2, (, /, C, =, C, (, \\, C, ), [C@@H], (, O, C, (, C, ), =, O, ), [C@@H], (, O, C, (, =, O, ), C, (, C, ), C, C, ), [C@H], 2, [C@@H], 1, C, 2, (, C, ), C, ), O, 3, xxeos]</td>\n",
              "      <td>[xxbos, O, =, C, (, N, c, 1, c, c, c, 2, c, (, c, 1, ), c, 1, c, c, c, c, c, 1, n, 2, C, C, C, C, N, 1, C, C, N, (, C, /, C, =, C, /, c, 2, c, c, c, c, c, 2, ), C, C, 1, ), c, 1, c, c, c, c, c, 1, xxeos]</td>\n",
              "    </tr>\n",
              "    <tr>\n",
              "      <td>[xxbos, C, C, (, C, ), =, C, C, C, /, C, (, C, ), =, C, /, C, =, C, /, C, (, =, O, ), N, 1, C, C, C, C, 1, xxeos]</td>\n",
              "      <td>[xxbos, C, N, C, (, =, O, ), c, 1, c, c, (, C, (, O, ), C, N, C, (, C, ), C, C, c, 2, c, c, c, 3, c, (, c, 2, ), O, C, O, 3, ), c, c, c, 1, O, xxeos]</td>\n",
              "      <td>[xxbos, C, N, C, (, =, O, ), [C@H], (, C, C, C, N, C, (, =, O, ), O, C, (, C, ), (, C, ), C, ), N, C, (, =, O, ), [C@H], (, C, C, C, c, 1, c, c, c, c, c, 1, ), [C@@], (, C, ), (, O, ), C, (, =, O, ), N, O, xxeos]</td>\n",
              "      <td>[xxbos, C, O, c, 1, c, c, c, c, c, 1, N, 1, C, C, N, (, C, C, C, N, C, (, =, O, ), c, 2, c, c, c, c, c, 2, I, ), C, C, 1, xxeos]</td>\n",
              "      <td>[xxbos, C, c, 1, c, c, (, N, C, (, =, O, ), c, 2, c, c, (, Cl, ), c, c, (, Cl, ), c, 2, O, ), c, c, c, 1, S, c, 1, n, c, 2, c, c, c, c, c, 2, s, 1, xxeos]</td>\n",
              "      <td>[xxbos, C, N, (, C, /, C, =, C, /, c, 1, c, c, c, (, C, #, N, ), c, c, 1, ), C, c, 1, c, c, c, 2, c, (, c, 1, ), C, C, O, 2, xxeos]</td>\n",
              "      <td>[xxbos, C, O, c, 1, c, c, c, (, C, N, c, 2, n, n, c, (, N, 3, C, C, C, (, O, ), C, C, 3, ), c, 3, c, c, c, (, C, #, N, ), c, c, 2, 3, ), c, c, 1, Cl, xxeos]</td>\n",
              "      <td>[xxbos, C, c, 1, c, c, c, c, (, N, C, (, =, S, ), N, c, 2, c, c, c, 3, c, (, c, 2, ), C, (, =, O, ), O, C, 3, ), c, 1, xxeos]</td>\n",
              "      <td>[xxbos, C, =, C, C, n, 1, c, c, (, C, [C@@H], 2, N, C, (, =, O, ), [C@@H], 3, C, C, C, N, 3, C, 2, =, O, ), c, 2, c, c, c, (, O, C, ), c, c, 2, 1, xxeos]</td>\n",
              "      <td>[xxbos, C, c, 1, c, c, c, (, O, c, 2, n, c, 3, c, c, c, c, c, 3, n, c, 2, N, 2, C, C, N, (, C, ), C, C, 2, ), c, c, 1, xxeos]</td>\n",
              "      <td>[xxbos, O, =, C, 1, C, C, (, c, 2, c, c, c, (, -, c, 3, c, c, c, c, c, 3, ), c, c, 2, ), c, 2, c, (, c, c, c, 3, c, c, c, c, c, 2, 3, ), N, 1, xxeos]</td>\n",
              "      <td>[xxbos, C, C, (, =, O, ), N, C, (, C, (, =, O, ), N, 1, C, C, S, C, C, 1, ), [C@H], 1, C, C, (, C, (, =, O, ), O, ), C, [C@@H], 1, N, =, C, (, N, ), N, xxeos]</td>\n",
              "      <td>[xxbos, C, C, C, c, 1, c, n, n, n, 1, -, c, 1, c, (, Cl, ), c, c, (, C, (, F, ), (, F, ), F, ), c, c, 1, Cl, xxeos]</td>\n",
              "      <td>[xxbos, O, =, C, (, O, ), C, (, =, O, ), N, c, 1, n, c, (, -, c, 2, c, c, (, Cl, ), n, o, 2, ), c, s, 1, xxeos]</td>\n",
              "      <td>[xxbos, C, C, c, 1, c, (, C, ), [nH], c, 2, c, 1, /, C, (, =, N, /, O, C, (, =, O, ), N, C, C, c, 1, c, c, c, n, c, 1, ), C, C, C, 2, xxeos]</td>\n",
              "    </tr>\n",
              "    <tr>\n",
              "      <td>[xxbos, C, C, C, [C@@H], 1, N, C, (, =, O, ), [C@@H], (, C, (, C, ), C, ), N, C, (, =, O, ), [C@@H], (, C, c, 2, c, c, c, (, O, ), c, c, 2, ), N, C, c, 2, c, c, c, c, c, 2, C, C, C, C, N, C, 1, =, O, xxeos]</td>\n",
              "      <td>[xxbos, C, O, c, 1, c, c, 2, c, (, c, c, 1, O, C, ), C, C, (, =, O, ), N, (, C, C, C, N, (, C, ), C, C, c, 1, c, c, c, c, n, 1, ), C, C, 2, xxeos]</td>\n",
              "      <td>[xxbos, O, =, C, (, N, C, [C@@H], 1, C, C, C, N, C, 1, ), [C@H], 1, C, C, C, N, 1, C, (, =, O, ), [C@@H], 1, C, [C@@H], (, O, ), C, N, 1, C, (, =, O, ), C, C, (, c, 1, c, c, c, (, F, ), c, c, 1, ), (, c, 1, c, c, c, (, F, ), c, c, 1, ), c, 1, c, c, c, (, F, ), c, c, 1, xxeos]</td>\n",
              "      <td>[xxbos, C, C, C, (, C, ), C, N, c, 1, n, c, (, C, #, N, ), n, c, 2, c, 1, N, C, N, 2, C, c, 1, c, c, c, c, c, 1, xxeos]</td>\n",
              "      <td>[xxbos, C, C, O, C, (, =, O, ), C, O, C, (, =, O, ), C, C, C, N, C, (, =, O, ), N, C, 1, 2, C, C, 3, C, C, (, C, C, (, C, 3, ), C, 1, ), C, 2, xxeos]</td>\n",
              "      <td>[xxbos, C, C, [C@@H], (, c, 1, c, c, c, (, C, (, F, ), (, F, ), F, ), c, c, 1, ), N, 1, C, C, N, (, C, 2, (, C, ), C, C, N, (, C, (, =, O, ), c, 3, c, (, C, ), n, c, n, c, 3, C, ), C, C, 2, ), C, [C@@H], 1, C, xxeos]</td>\n",
              "      <td>[xxbos, C, C, C, C, C, C, C, [C@H], 1, O, C, (, =, O, ), C, [C@@H], (, O, ), [C@H], (, C, c, 2, c, c, c, c, c, 2, ), N, (, C, ), C, (, =, O, ), [C@H], (, C, c, 2, c, c, c, c, c, 2, ), O, C, (, =, O, ), [C@H], 1, C, xxeos]</td>\n",
              "      <td>[xxbos, C, C, C, N, 1, c, 2, c, c, (, C, ), n, c, 3, c, (, -, c, 4, c, c, c, (, Cl, ), c, c, 4, Cl, ), n, n, (, c, 2, 3, ), C, [C@@H], 1, C, C, xxeos]</td>\n",
              "      <td>[xxbos, C, N, (, C, ), [C@H], 1, [C@@H], (, O, [C@H], 2, O, [C@H], (, C, O, ), [C@@H], (, O, ), [C@H], (, N, ), [C@H], 2, O, ), [C@H], (, N, C, (, =, O, ), [C@@H], (, O, ), C, C, N, ), C, [C@H], (, N, ), [C@H], 1, O, [C@H], 1, O, [C@H], (, C, N, ), C, C, [C@H], 1, N, xxeos]</td>\n",
              "      <td>[xxbos, N, =, C, (, N, ), N, C, (, =, O, ), O, C, c, 1, c, c, c, c, (, N, 2, C, C, C, (, O, c, 3, c, c, c, n, c, 3, ), C, C, 2, ), c, 1, F, xxeos]</td>\n",
              "      <td>[xxbos, C, C, C, C, c, 1, o, c, 2, c, c, c, c, c, 2, c, 1, C, c, 1, c, c, c, c, (, /, C, (, C, ), =, C, /, C, n, 2, o, c, (, =, O, ), [nH], c, 2, =, O, ), c, 1, xxeos]</td>\n",
              "      <td>[xxbos, C, [C@H], (, N, C, (, =, O, ), [C@H], 1, C, c, 2, c, (, s, c, 3, c, c, c, c, c, 2, 3, ), C, N, 1, ), c, 1, c, c, c, c, c, 1, xxeos]</td>\n",
              "      <td>[xxbos, O, c, 1, c, c, (, Cl, ), c, c, c, 1, O, c, 1, c, c, c, (, Cl, ), c, c, 1, C, N, 1, C, C, N, (, C, (, c, 2, c, c, c, c, c, 2, ), c, 2, c, c, c, c, c, 2, ), C, C, 1, xxeos]</td>\n",
              "      <td>[xxbos, C, O, C, (, =, O, ), c, 1, c, c, (, C, C, c, 2, c, c, c, (, O, C, ), c, c, 2, O, C, ), c, c, c, 1, O, xxeos]</td>\n",
              "      <td>[xxbos, C, =, C, (, C, O, ), [C@], 1, 2, C, =, C, 3, C, (, =, O, ), C, [C@@H], (, C, (, C, ), C, ), [C@], 3, (, C, ), C, [C@@H], (, O, ), [C@@], 1, (, C, ), C, C, (, =, O, ), O, 2, xxeos]</td>\n",
              "    </tr>\n",
              "    <tr>\n",
              "      <td>[xxbos, C, =, C, (, C, C, (, O, ), C, (, C, ), (, O, ), [C@H], 1, C, C, [C@H], 2, C, 3, =, C, [C@H], (, O, C, (, C, ), =, O, ), [C@H], 4, [C@@H], (, O, C, (, C, ), =, O, ), [C@@H], (, O, ), C, C, [C@], 4, (, C, ), [C@H], 3, C, C, [C@], 1, 2, C, ), C, (, C, ), C, xxeos]</td>\n",
              "      <td>[xxbos, O, =, c, 1, [nH], c, n, c, 2, c, 1, n, c, n, 2, C, (, C, O, C, C, P, (, =, O, ), (, O, ), O, ), C, O, C, C, P, (, =, O, ), (, O, ), O, xxeos]</td>\n",
              "      <td>[xxbos, N, =, C, (, N, ), N, 1, C, C, C, [C@H], 1, C, c, 1, n, c, (, -, c, 2, c, c, c, (, N, c, 3, n, c, (, -, c, 4, c, c, (, C, (, F, ), (, F, ), F, ), c, c, c, 4, F, ), c, s, 3, ), c, c, 2, ), n, o, 1, xxeos]</td>\n",
              "      <td>[xxbos, C, C, 1, (, c, 2, c, c, c, c, n, 2, ), O, N, =, C, (, c, 2, c, c, c, c, c, 2, Cl, ), O, 1, xxeos]</td>\n",
              "      <td>[xxbos, c, 1, c, c, c, 2, c, c, (, C, C, 3, =, N, C, C, N, 3, ), c, c, c, 2, c, 1, xxeos]</td>\n",
              "      <td>[xxbos, C, n, 1, c, (, =, O, ), c, 2, c, 3, c, (, c, n, c, 2, n, (, C, ), c, 1, =, O, ), C, (, =, O, ), C, =, C, C, 3, =, O, xxeos]</td>\n",
              "      <td>[xxbos, N, C, C, C, C, N, (, C, c, 1, c, c, c, (, O, C, C, c, 2, c, c, c, c, c, 2, ), c, c, 1, ), C, c, 1, c, c, c, (, O, C, C, c, 2, c, c, c, c, c, 2, ), c, c, 1, xxeos]</td>\n",
              "      <td>[xxbos, C, N, (, C, C, N, C, (, =, O, ), N, 1, C, C, N, (, c, 2, c, c, c, c, c, 2, ), C, C, 1, ), C, c, 1, c, c, c, c, c, 1, xxeos]</td>\n",
              "      <td>[xxbos, C, c, 1, c, c, c, [n+], (, C, C, C, #, C, c, 2, c, c, c, (, C, #, C, C, C, [n+], 3, c, c, c, c, (, C, ), c, 3, ), c, c, 2, ), c, 1, xxeos]</td>\n",
              "      <td>[xxbos, C, C, C, C, C, C, C, C, /, C, =, C, \\, C, C, C, C, C, C, C, C, (, =, O, ), N, 1, C, C, c, 2, c, c, (, O, C, ), c, (, O, C, ), c, c, 2, C, 1, C, c, 1, c, c, c, (, O, C, ), c, (, O, C, ), c, 1, xxeos]</td>\n",
              "      <td>[xxbos, N, =, C, (, N, C, C, C, N, C, C, C, C, C, C, C, N, C, C, C, N, C, (, =, N, ), N, C, c, 1, c, c, c, c, c, 1, ), N, C, c, 1, c, c, c, c, c, 1, xxeos]</td>\n",
              "      <td>[xxbos, C, N, 1, C, C, c, 2, c, c, c, c, 3, c, 2, [C@H], 1, C, c, 1, c, c, c, (, C, O, ), c, (, O, ), c, 1, -, 3, xxeos]</td>\n",
              "      <td>[xxbos, C, C, (, C, ), C, [C@H], (, N, C, (, =, O, ), [C@H], (, C, c, 1, c, c, c, c, c, 1, ), N, C, (, =, O, ), [C@H], (, C, N, C, (, =, O, ), C, C, C, C, C, F, ), N, C, (, =, O, ), [C@H], (, C, O, ), N, C, (, =, O, ), C, N, ), C, (, N, ), =, O, xxeos]</td>\n",
              "      <td>[xxbos, C, C, C, C, C, C, /, C, =, C, \\, C, C, C, C, C, C, C, c, 1, c, c, c, c, (, O, ), c, 1, C, (, =, O, ), O, xxeos]</td>\n",
              "      <td>[xxbos, C, N, (, C, c, 1, c, c, c, c, c, 1, ), C, (, =, S, ), N, 1, C, C, C, (, c, 2, c, c, c, c, (, Cl, ), c, 2, ), =, N, 1, xxeos]</td>\n",
              "    </tr>\n",
              "    <tr>\n",
              "      <td>[xxbos, C, C, O, C, (, =, O, ), c, 1, c, c, c, 2, n, c, c, (, C, (, =, O, ), O, C, C, ), c, (, N, c, 3, c, c, c, (, N, C, (, C, ), =, O, ), c, c, 3, ), c, 2, c, 1, xxeos]</td>\n",
              "      <td>[xxbos, C, O, C, C, O, c, 1, c, c, c, (, N, 2, C, C, N, (, C, c, 3, c, c, c, c, (, -, c, 4, c, c, 5, n, c, (, -, c, 6, c, c, c, o, 6, ), n, n, 5, c, (, N, ), n, 4, ), c, 3, ), C, C, 2, ), c, (, Cl, ), c, 1, xxeos]</td>\n",
              "      <td>[xxbos, C, O, C, (, =, O, ), /, C, =, C, 1, /, C, (, =, O, ), N, 2, C, 1, S, (, =, O, ), (, =, O, ), [C@@], (, C, ), (, C, O, C, (, =, O, ), C, S, c, 1, n, n, n, n, 1, C, ), [C@@H], 2, C, (, =, O, ), O, xxeos]</td>\n",
              "      <td>[xxbos, N, C, (, =, O, ), c, 1, c, c, c, c, c, 1, -, n, 1, c, n, c, 2, c, c, c, c, c, 2, 1, xxeos]</td>\n",
              "      <td>[xxbos, C, C, 1, C, C, (, =, O, ), N, N, =, C, 1, c, 1, c, c, c, (, N, C, (, =, O, ), C, C, N, C, C, (, O, ), C, O, c, 2, c, c, c, c, 3, [nH], c, c, c, 2, 3, ), c, c, 1, xxeos]</td>\n",
              "      <td>[xxbos, C, C, (, =, O, ), c, 1, c, c, 2, c, (, c, c, 1, O, ), O, C, (, C, ), (, C, ), C, =, C, 2, xxeos]</td>\n",
              "      <td>[xxbos, C, N, 1, C, C, c, 2, c, c, 3, c, 4, c, c, 2, [C@@H], 1, C, c, 1, c, c, c, (, O, ), c, (, c, 1, ), O, c, 1, c, c, c, (, c, c, 1, ), C, [C@H], 1, c, 2, c, (, c, c, (, O, ), c, (, c, 2, O, 4, ), O, 3, ), C, C, N, 1, C, xxeos]</td>\n",
              "      <td>[xxbos, C, O, C, (, =, O, ), [C@H], 1, C, [C@H], (, O, ), C, C, N, 1, xxeos]</td>\n",
              "      <td>[xxbos, C, =, C, c, 1, c, (, C, ), c, 2, c, c, 3, n, c, (, c, (, C, (, =, O, ), C, (, =, O, ), O, C, ), c, 4, [nH], c, (, c, c, 5, n, c, (, c, c, 1, [nH], 2, ), C, (, C, ), =, C, 5, C, C, ), c, (, C, ), c, 4, C, (, =, O, ), O, C, ), [C@@H], (, C, C, C, (, =, O, ), O, C, ), [C@@H], 3, C, xxeos]</td>\n",
              "      <td>[xxbos, C, [C@@H], 1, C, C, [C@H], 2, [C@@H], (, C, ), [C@@H], (, O, C, C, 3, 4, C, C, 5, C, C, (, C, C, (, C, 5, ), C, 3, ), C, 4, ), O, [C@@H], 3, O, [C@@], 4, (, C, ), C, C, [C@@H], 1, [C@@], 2, 3, O, O, 4, xxeos]</td>\n",
              "      <td>[xxbos, C, C, C, C, C, C, O, [C@H], 1, C, =, C, (, C, (, =, O, ), O, ), O, [C@@H], (, [C@H], (, O, ), [C@H], (, O, ), C, O, ), [C@@H], 1, N, C, (, C, ), =, O, xxeos]</td>\n",
              "      <td>[xxbos, C, C, 1, (, C, ), C, C, C, (, C, ), (, C, ), c, 2, c, c, 3, c, (, c, c, n, 3, C, (, =, O, ), c, 3, c, c, c, (, C, (, =, O, ), O, ), c, c, 3, ), c, c, 2, 1, xxeos]</td>\n",
              "      <td>[xxbos, C, [C@H], (, C, C, C, n, 1, n, n, c, (, -, c, 2, c, c, c, c, c, 2, ), n, 1, ), N, (, c, 1, c, c, (, Cl, ), c, c, c, 1, C, O, ), S, (, =, O, ), (, =, O, ), c, 1, c, c, c, (, Cl, ), c, c, 1, xxeos]</td>\n",
              "      <td>[xxbos, C, [C@H], 1, C, C, [C@@H], (, N, C, c, 2, c, c, c, 3, c, (, c, 2, ), C, c, 2, c, (, -, c, 4, c, c, c, (, C, C, (, =, O, ), O, ), c, c, 4, ), n, [nH], c, 2, -, 3, ), C, C, 1, xxeos]</td>\n",
              "      <td>[xxbos, C, O, c, 1, c, c, c, (, C, (, =, O, ), O, [C@@H], 2, C, 3, C, [C@H], (, O, C, (, =, O, ), c, 4, c, c, c, o, 4, ), [C@], 4, (, C, ), [C@@H], (, O, C, (, C, ), =, O, ), [C@@H], (, O, C, (, C, ), =, O, ), C, [C@], (, C, ), (, O, ), C, 2, 4, O, C, 3, (, C, ), C, ), c, c, 1, xxeos]</td>\n",
              "    </tr>\n",
              "  </tbody>\n",
              "</table>"
            ],
            "text/plain": [
              "<IPython.core.display.HTML object>"
            ]
          },
          "metadata": {
            "tags": []
          }
        }
      ]
    },
    {
      "cell_type": "code",
      "metadata": {
        "id": "z6GODbI1jS2G",
        "colab_type": "code",
        "colab": {
          "base_uri": "https://localhost:8080/",
          "height": 570
        },
        "outputId": "37a80209-1017-404b-fc5c-77d137ff162d"
      },
      "source": [
        "bs,seq_len = 4,5\n",
        "d_tokens = np.array([tokens[i*12:i*12+seq_len] for i in range(bs)])\n",
        "df = pd.DataFrame(d_tokens)\n",
        "display(HTML(df.to_html(index=False,header=None)))"
      ],
      "execution_count": null,
      "outputs": [
        {
          "output_type": "display_data",
          "data": {
            "text/html": [
              "<table border=\"1\" class=\"dataframe\">\n",
              "  <tbody>\n",
              "    <tr>\n",
              "      <td>[xxbos, C, c, 1, c, c, (, -, c, 2, c, s, c, (, N, =, C, (, N, ), N, ), n, 2, ), c, n, 1, C, xxeos]</td>\n",
              "      <td>[xxbos, Br, c, 1, c, c, c, c, (, N, c, 2, n, c, n, c, 3, c, c, n, c, c, 2, 3, ), c, 1, N, C, C, N, 1, C, C, O, C, C, 1, xxeos]</td>\n",
              "      <td>[xxbos, C, O, c, 1, c, (, O, ), c, c, (, O, ), c, (, C, (, =, N, ), C, c, 2, c, c, c, (, O, ), c, c, 2, ), c, 1, O, xxeos]</td>\n",
              "      <td>[xxbos, C, C, O, C, (, =, O, ), c, 1, c, c, 2, c, c, (, C, (, =, O, ), O, ), c, c, c, 2, [nH], 1, xxeos]</td>\n",
              "      <td>[xxbos, C, C, (, =, O, ), O, [C@H], 1, /, C, (, C, ), =, C, \\, [C@@H], 2, O, C, (, =, O, ), [C@], 3, (, C, ), O, [C@], 2, 3, [C@H], (, O, C, (, C, ), =, O, ), [C@H], 2, [C@], (, C, ), (, O, ), [C@H], (, O, ), C, =, C, [C@], 2, (, C, ), [C@@H], (, O, C, (, C, ), =, O, ), [C@@H], 1, O, C, (, C, ), =, O, xxeos]</td>\n",
              "    </tr>\n",
              "    <tr>\n",
              "      <td>[xxbos, N, =, c, 1, s, c, 2, c, c, c, c, c, 2, n, 1, C, C, N, 1, C, C, C, (, c, 2, c, c, c, (, F, ), c, c, 2, ), C, C, 1, xxeos]</td>\n",
              "      <td>[xxbos, C, C, C, C, C, C, C, C, C, C, C, C, C, C, (, =, O, ), N, C, c, 1, c, c, c, (, C, (, =, O, ), N, [C@H], (, C, (, =, O, ), O, ), [C@@H], (, C, ), C, C, ), c, c, 1, xxeos]</td>\n",
              "      <td>[xxbos, O, =, C, (, N, c, 1, n, c, c, (, F, ), s, 1, ), [C@H], (, C, C, 1, C, C, O, C, C, 1, ), c, 1, c, c, c, (, S, (, =, O, ), (, =, O, ), C, 2, C, C, 2, ), c, c, 1, xxeos]</td>\n",
              "      <td>[xxbos, O, c, 1, c, c, c, (, /, N, =, C, (, /, C, c, 2, c, c, c, (, Cl, ), c, c, 2, ), c, 2, c, c, c, (, O, ), c, (, O, ), c, 2, O, ), c, c, 1, xxeos]</td>\n",
              "      <td>[xxbos, C, O, [C@H], 1, [C@H], (, O, C, [C@H], 2, [C@@H], 3, O, [C@@H], 3, /, C, =, C, /, C, (, =, O, ), [C@H], (, C, ), C, C, [C@H], (, O, [C@@H], 3, O, [C@H], (, C, ), C, [C@H], (, O, ), [C@H], 3, O, ), [C@@H], (, C, ), /, C, =, C, /, C, (, =, O, ), O, [C@@H], 2, C, ), O, [C@H], (, C, ), [C@@H], (, O, ), [C@H], 1, O, C, xxeos]</td>\n",
              "    </tr>\n",
              "    <tr>\n",
              "      <td>[xxbos, O, =, C, (, N, O, ), [C@H], 1, C, [C@], 1, (, C, c, 1, c, c, c, (, O, C, c, 2, c, c, (, -, c, 3, c, c, c, c, c, 3, ), n, c, 3, c, c, c, c, c, 2, 3, ), c, c, 1, ), C, (, =, O, ), N, 1, C, C, C, [C@H], 1, C, O, xxeos]</td>\n",
              "      <td>[xxbos, C, C, (, =, O, ), O, C, [C@], 1, 2, [C@H], (, O, C, (, C, ), =, O, ), C, (, =, O, ), [C@@H], 3, [C@@H], (, O, ), [C@], 1, (, O, C, 3, (, C, ), C, ), [C@], (, C, ), (, O, ), C, [C@H], (, O, C, (, C, ), =, O, ), [C@@H], 2, O, C, (, C, ), =, O, xxeos]</td>\n",
              "      <td>[xxbos, C, C, C, C, 1, (, C, ), C, C, (, =, O, ), N, (, C, C, C, C, N, 2, C, C, N, (, c, 3, n, s, c, 4, c, c, c, c, c, 3, 4, ), C, C, 2, ), C, (, =, O, ), C, 1, xxeos]</td>\n",
              "      <td>[xxbos, C, C, C, C, C, C, (, O, ), /, C, =, C, /, [C@H], 1, [C@H], 2, C, [C@H], (, O, C, (, =, O, ), O, 2, ), [C@@H], 1, C, /, C, =, C, \\, C, C, C, C, (, N, ), =, O, xxeos]</td>\n",
              "      <td>[xxbos, C, /, C, =, C, (, \\, C, ), C, (, =, O, ), O, [C@H], 1, [C@@H], (, C, ), C, (, =, O, ), [C@@], 2, 3, C, [C@H], (, C, ), [C@H], (, O, C, (, C, ), =, O, ), [C@], 2, (, /, C, =, C, (, \\, C, ), [C@@H], (, O, C, (, C, ), =, O, ), [C@@H], (, O, C, (, =, O, ), C, (, C, ), C, C, ), [C@H], 2, [C@@H], 1, C, 2, (, C, ), C, ), O, 3, xxeos]</td>\n",
              "    </tr>\n",
              "    <tr>\n",
              "      <td>[xxbos, C, O, c, 1, c, c, c, (, C, N, c, 2, n, n, c, (, N, 3, C, C, C, (, O, ), C, C, 3, ), c, 3, c, c, c, (, C, #, N, ), c, c, 2, 3, ), c, c, 1, Cl, xxeos]</td>\n",
              "      <td>[xxbos, C, c, 1, c, c, c, c, (, N, C, (, =, S, ), N, c, 2, c, c, c, 3, c, (, c, 2, ), C, (, =, O, ), O, C, 3, ), c, 1, xxeos]</td>\n",
              "      <td>[xxbos, C, =, C, C, n, 1, c, c, (, C, [C@@H], 2, N, C, (, =, O, ), [C@@H], 3, C, C, C, N, 3, C, 2, =, O, ), c, 2, c, c, c, (, O, C, ), c, c, 2, 1, xxeos]</td>\n",
              "      <td>[xxbos, C, c, 1, c, c, c, (, O, c, 2, n, c, 3, c, c, c, c, c, 3, n, c, 2, N, 2, C, C, N, (, C, ), C, C, 2, ), c, c, 1, xxeos]</td>\n",
              "      <td>[xxbos, O, =, C, 1, C, C, (, c, 2, c, c, c, (, -, c, 3, c, c, c, c, c, 3, ), c, c, 2, ), c, 2, c, (, c, c, c, 3, c, c, c, c, c, 2, 3, ), N, 1, xxeos]</td>\n",
              "    </tr>\n",
              "  </tbody>\n",
              "</table>"
            ],
            "text/plain": [
              "<IPython.core.display.HTML object>"
            ]
          },
          "metadata": {
            "tags": []
          }
        }
      ]
    },
    {
      "cell_type": "markdown",
      "metadata": {
        "id": "kWnclfuX3FQL",
        "colab_type": "text"
      },
      "source": [
        "# **Creating DataLoaders**"
      ]
    },
    {
      "cell_type": "markdown",
      "metadata": {
        "id": "m7_Zu4TlMhvR",
        "colab_type": "text"
      },
      "source": [
        "**LMdataLoader**"
      ]
    },
    {
      "cell_type": "markdown",
      "metadata": {
        "id": "QopSt_xy6Zs4",
        "colab_type": "text"
      },
      "source": [
        "It's simple to create a dataloader using LMdataLoader"
      ]
    },
    {
      "cell_type": "code",
      "metadata": {
        "id": "mEZhPX2ejrzp",
        "colab_type": "code",
        "colab": {
          "base_uri": "https://localhost:8080/",
          "height": 107
        },
        "outputId": "5c8ce040-0483-428a-8184-5fb9c65378e7"
      },
      "source": [
        "doc(LMDataLoader)"
      ],
      "execution_count": null,
      "outputs": [
        {
          "output_type": "stream",
          "text": [
            "LMDataLoader(dataset, lens=None, cache=2, bs=64, seq_len=72, num_workers=0, shuffle=False, verbose=False, do_setup=True, pin_memory=False, timeout=0, batch_size=None, drop_last=False, indexed=None, n=None, device=None, *, wif=None, before_iter=None, after_item=None, before_batch=None, after_batch=None, after_iter=None, create_batches=None, create_item=None, create_batch=None, retain=None, get_idxs=None, sample=None, shuffle_fn=None, do_batch=None)\n",
            "A `DataLoader` suitable for language modeling\n",
            "\n",
            "To get a prettier result with hyperlinks to source code and documentation, install nbdev: pip install nbdev\n"
          ],
          "name": "stdout"
        }
      ]
    },
    {
      "cell_type": "code",
      "metadata": {
        "id": "6sLlhZumjwNv",
        "colab_type": "code",
        "colab": {}
      },
      "source": [
        "dls = LMDataLoader(tokens.map(num))"
      ],
      "execution_count": null,
      "outputs": []
    },
    {
      "cell_type": "code",
      "metadata": {
        "id": "5F_9a5w78lop",
        "colab_type": "code",
        "colab": {
          "base_uri": "https://localhost:8080/",
          "height": 34
        },
        "outputId": "7a16920f-ff34-4adf-ca89-0137c6abec78"
      },
      "source": [
        "dls"
      ],
      "execution_count": null,
      "outputs": [
        {
          "output_type": "execute_result",
          "data": {
            "text/plain": [
              "<fastai2.text.data.LMDataLoader at 0x7feadf0c5550>"
            ]
          },
          "metadata": {
            "tags": []
          },
          "execution_count": 230
        }
      ]
    },
    {
      "cell_type": "code",
      "metadata": {
        "id": "pXWjKdMPj40y",
        "colab_type": "code",
        "colab": {}
      },
      "source": [
        "it = iter(dl)\n",
        "x1,y1 = next(it)\n",
        "x2,y2 = next(it)"
      ],
      "execution_count": null,
      "outputs": []
    },
    {
      "cell_type": "markdown",
      "metadata": {
        "id": "u0Bira2Wl4Q-",
        "colab_type": "text"
      },
      "source": [
        "As we can see, the first row of the first batche continues on the first row of the next batch. This happens because we split the whole stream of SMILES string using `seq_len`. This way, we preserve the order within the SMILES string. "
      ]
    },
    {
      "cell_type": "code",
      "metadata": {
        "id": "awqzuYEukANz",
        "colab_type": "code",
        "colab": {
          "base_uri": "https://localhost:8080/",
          "height": 53
        },
        "outputId": "f55abfb2-7cfa-4e53-bdfb-7afc0c5fd74f"
      },
      "source": [
        "' '.join(num.vocab[o] for o in x1[0][:])"
      ],
      "execution_count": null,
      "outputs": [
        {
          "output_type": "execute_result",
          "data": {
            "application/vnd.google.colaboratory.intrinsic+json": {
              "type": "string"
            },
            "text/plain": [
              "'xxbos C c 1 c c ( - c 2 c s c ( N = C ( N ) N ) n 2 ) c n 1 C xxeos xxbos Br c 1 c c c c ( N c 2 n c n c 3 c c n c c 2 3 ) c 1 N C C N 1 C C O C C 1 xxeos xxbos C O'"
            ]
          },
          "metadata": {
            "tags": []
          },
          "execution_count": 197
        }
      ]
    },
    {
      "cell_type": "code",
      "metadata": {
        "id": "lvrcnaVqmGQD",
        "colab_type": "code",
        "colab": {
          "base_uri": "https://localhost:8080/",
          "height": 53
        },
        "outputId": "2e1e4b9c-2987-460e-c0a0-c2e7c2793d25"
      },
      "source": [
        "' '.join(num.vocab[o] for o in x2[0][:])"
      ],
      "execution_count": null,
      "outputs": [
        {
          "output_type": "execute_result",
          "data": {
            "application/vnd.google.colaboratory.intrinsic+json": {
              "type": "string"
            },
            "text/plain": [
              "'c 1 c ( O ) c c ( O ) c ( C ( = N ) C c 2 c c c ( O ) c c 2 ) c 1 O xxeos xxbos C C O C ( = O ) c 1 c c 2 c c ( C ( = O ) O ) c c c 2 [nH] 1 xxeos xxbos C C ( = O'"
            ]
          },
          "metadata": {
            "tags": []
          },
          "execution_count": 198
        }
      ]
    },
    {
      "cell_type": "code",
      "metadata": {
        "id": "sEI0GpAAmyPT",
        "colab_type": "code",
        "colab": {
          "base_uri": "https://localhost:8080/",
          "height": 53
        },
        "outputId": "2148bfb6-47e9-4200-b959-e3791ea532b8"
      },
      "source": [
        "' '.join(num.vocab[o] for o in x[2][:])"
      ],
      "execution_count": null,
      "outputs": [
        {
          "output_type": "execute_result",
          "data": {
            "application/vnd.google.colaboratory.intrinsic+json": {
              "type": "string"
            },
            "text/plain": [
              "'[C@@H] ( C ( = O ) O ) N 1 C ( = O ) C ( = C ( c 2 c c c c c 2 ) c 2 c c c c c 2 ) S C 1 = S xxeos xxbos C = C 1 [C@@H] ( O C ( = O ) C [C@H] ( c 2 c c c c c 2 ) N ('"
            ]
          },
          "metadata": {
            "tags": []
          },
          "execution_count": 199
        }
      ]
    },
    {
      "cell_type": "code",
      "metadata": {
        "id": "H_Xlclt_mWu4",
        "colab_type": "code",
        "colab": {
          "base_uri": "https://localhost:8080/",
          "height": 166
        },
        "outputId": "f569eaa6-530d-4a7f-cc5c-c367dd6446f2"
      },
      "source": [
        "MolFromSmiles('COc1c(O)cc(O)c(C(=N)Cc2ccc(O)cc2)c1O')"
      ],
      "execution_count": null,
      "outputs": [
        {
          "output_type": "execute_result",
          "data": {
            "image/png": "[encoded data removed]",
            "text/plain": [
              "<rdkit.Chem.rdchem.Mol at 0x7feadefb1300>"
            ]
          },
          "metadata": {
            "tags": []
          },
          "execution_count": 200
        }
      ]
    },
    {
      "cell_type": "markdown",
      "metadata": {
        "id": "CywBsZLVo3pN",
        "colab_type": "text"
      },
      "source": [
        "**DataBlock**"
      ]
    },
    {
      "cell_type": "markdown",
      "metadata": {
        "id": "Q-6h8-6do77-",
        "colab_type": "text"
      },
      "source": [
        "We can also use the DataBlock API:"
      ]
    },
    {
      "cell_type": "markdown",
      "metadata": {
        "id": "NABN7AQ_7YgJ",
        "colab_type": "text"
      },
      "source": [
        "ps> if the text columns isn't called \"text\", remember to pass ` res_col_name = text_column`. Otherwise, it will return an AttributeError"
      ]
    },
    {
      "cell_type": "code",
      "metadata": {
        "id": "hPEQKQICxkb7",
        "colab_type": "code",
        "colab": {
          "base_uri": "https://localhost:8080/",
          "height": 292
        },
        "outputId": "a1912722-f127-48e6-ea3d-1cae9f0dfac1"
      },
      "source": [
        "d_block = DataBlock(blocks=TextBlock.from_df('Smiles',res_col_name='Smiles',is_lm=True, # Pass is_lm = True since we are training a language model.\n",
        "                                             tok=MolTokenizer_v2(), rules=[], vocab=num.vocab), # Our tokenizer goes here and we define a minimum of 1\n",
        "                    get_x=ColReader('Smiles'),\n",
        "                    splitter=RandomSplitter(0.1)) # Randomply split the data (e.g., 90% for training and 10% for validation)\n",
        "                    "
      ],
      "execution_count": null,
      "outputs": [
        {
          "output_type": "error",
          "ename": "NameError",
          "evalue": "ignored",
          "traceback": [
            "\u001b[0;31m---------------------------------------------------------------------------\u001b[0m",
            "\u001b[0;31mNameError\u001b[0m                                 Traceback (most recent call last)",
            "\u001b[0;32m<ipython-input-1-5ab565a53b77>\u001b[0m in \u001b[0;36m<module>\u001b[0;34m()\u001b[0m\n\u001b[0;32m----> 1\u001b[0;31m d_block = DataBlock(blocks=TextBlock.from_df('Smiles',res_col_name='Smiles',is_lm=True, # Pass is_lm = True since we are training a language model.\n\u001b[0m\u001b[1;32m      2\u001b[0m                                              tok=MolTokenizer_v2(), rules=[], vocab=num.vocab), # Our tokenizer goes here and we define a minimum of 1\n\u001b[1;32m      3\u001b[0m                     \u001b[0mget_x\u001b[0m\u001b[0;34m=\u001b[0m\u001b[0mColReader\u001b[0m\u001b[0;34m(\u001b[0m\u001b[0;34m'Smiles'\u001b[0m\u001b[0;34m)\u001b[0m\u001b[0;34m,\u001b[0m\u001b[0;34m\u001b[0m\u001b[0;34m\u001b[0m\u001b[0m\n\u001b[1;32m      4\u001b[0m                     splitter=RandomSplitter(0.1)) # Randomply split the data (e.g., 90% for training and 10% for validation)\n\u001b[1;32m      5\u001b[0m \u001b[0;34m\u001b[0m\u001b[0m\n",
            "\u001b[0;31mNameError\u001b[0m: name 'DataBlock' is not defined"
          ]
        }
      ]
    },
    {
      "cell_type": "code",
      "metadata": {
        "id": "8liq-1Mhxlms",
        "colab_type": "code",
        "colab": {
          "base_uri": "https://localhost:8080/",
          "height": 185
        },
        "outputId": "2bb4e8cc-7f1e-4463-d345-3fbbc3414730"
      },
      "source": [
        "dls = d_block.dataloaders(chembl, bs=64, seq_len=30)\n",
        "dls.show_batch(max_n=2)"
      ],
      "execution_count": null,
      "outputs": [
        {
          "output_type": "error",
          "ename": "NameError",
          "evalue": "ignored",
          "traceback": [
            "\u001b[0;31m---------------------------------------------------------------------------\u001b[0m",
            "\u001b[0;31mNameError\u001b[0m                                 Traceback (most recent call last)",
            "\u001b[0;32m<ipython-input-2-077806e6601c>\u001b[0m in \u001b[0;36m<module>\u001b[0;34m()\u001b[0m\n\u001b[0;32m----> 1\u001b[0;31m \u001b[0mdls\u001b[0m \u001b[0;34m=\u001b[0m \u001b[0md_block\u001b[0m\u001b[0;34m.\u001b[0m\u001b[0mdataloaders\u001b[0m\u001b[0;34m(\u001b[0m\u001b[0mchembl\u001b[0m\u001b[0;34m,\u001b[0m \u001b[0mbs\u001b[0m\u001b[0;34m=\u001b[0m\u001b[0;36m64\u001b[0m\u001b[0;34m,\u001b[0m \u001b[0mseq_len\u001b[0m\u001b[0;34m=\u001b[0m\u001b[0;36m30\u001b[0m\u001b[0;34m)\u001b[0m\u001b[0;34m\u001b[0m\u001b[0;34m\u001b[0m\u001b[0m\n\u001b[0m\u001b[1;32m      2\u001b[0m \u001b[0mdls\u001b[0m\u001b[0;34m.\u001b[0m\u001b[0mshow_batch\u001b[0m\u001b[0;34m(\u001b[0m\u001b[0mmax_n\u001b[0m\u001b[0;34m=\u001b[0m\u001b[0;36m2\u001b[0m\u001b[0;34m)\u001b[0m\u001b[0;34m\u001b[0m\u001b[0;34m\u001b[0m\u001b[0m\n",
            "\u001b[0;31mNameError\u001b[0m: name 'd_block' is not defined"
          ]
        }
      ]
    },
    {
      "cell_type": "markdown",
      "metadata": {
        "id": "jezQ30SN6O0Y",
        "colab_type": "text"
      },
      "source": [
        "**Mid-level API**"
      ]
    },
    {
      "cell_type": "markdown",
      "metadata": {
        "id": "ZiuMk_76BPia",
        "colab_type": "text"
      },
      "source": [
        "First we define the transformations we want to apply. For language models, the basic transformations would be tokenization and numericalization. \n",
        "\n",
        "We can put all transformations together using the Pipeline class"
      ]
    },
    {
      "cell_type": "code",
      "metadata": {
        "id": "L7FWOlrFB-0A",
        "colab_type": "code",
        "colab": {
          "base_uri": "https://localhost:8080/",
          "height": 87
        },
        "outputId": "d59d082a-37e2-42ef-8e90-b590e4d28aba"
      },
      "source": [
        "doc(Pipeline)"
      ],
      "execution_count": null,
      "outputs": [
        {
          "output_type": "stream",
          "text": [
            "Pipeline(funcs=None, split_idx=None)\n",
            "A pipeline of composed (for encode/decode) transforms, setup with types\n",
            "\n",
            "To get a prettier result with hyperlinks to source code and documentation, install nbdev: pip install nbdev\n"
          ],
          "name": "stdout"
        }
      ]
    },
    {
      "cell_type": "code",
      "metadata": {
        "id": "9VyMEcmGpS1Y",
        "colab_type": "code",
        "colab": {}
      },
      "source": [
        "tfms = Pipeline([tk, num])"
      ],
      "execution_count": null,
      "outputs": []
    },
    {
      "cell_type": "code",
      "metadata": {
        "id": "RWqzVlLLxHek",
        "colab_type": "code",
        "colab": {}
      },
      "source": [
        "t = 'c1ccccc1'\n",
        "t_num = tfms(t)"
      ],
      "execution_count": null,
      "outputs": []
    },
    {
      "cell_type": "code",
      "metadata": {
        "id": "NPXCLa6WxHOv",
        "colab_type": "code",
        "colab": {
          "base_uri": "https://localhost:8080/",
          "height": 35
        },
        "outputId": "fb5f4f42-51ef-49c1-dfc8-3703b5d5a4bd"
      },
      "source": [
        "tfms.decode(t_num)"
      ],
      "execution_count": null,
      "outputs": [
        {
          "output_type": "execute_result",
          "data": {
            "application/vnd.google.colaboratory.intrinsic+json": {
              "type": "string"
            },
            "text/plain": [
              "'xxbos c 1 c c c c c 1 xxeos'"
            ]
          },
          "metadata": {
            "tags": []
          },
          "execution_count": 256
        }
      ]
    },
    {
      "cell_type": "markdown",
      "metadata": {
        "id": "74vilVYkDV3H",
        "colab_type": "text"
      },
      "source": [
        "`Pipeline` is very useful, but it can't setup the transformations. To properly call `setup` and get the dataset ready, we will use `TfmdLists`"
      ]
    },
    {
      "cell_type": "code",
      "metadata": {
        "id": "eURnDSan2YjE",
        "colab_type": "code",
        "colab": {
          "base_uri": "https://localhost:8080/",
          "height": 107
        },
        "outputId": "a4a06da0-e2cc-4101-c3c8-a742857271d1"
      },
      "source": [
        "doc(TfmdLists)"
      ],
      "execution_count": null,
      "outputs": [
        {
          "output_type": "stream",
          "text": [
            "TfmdLists(items, tfms, use_list=None, do_setup=True, split_idx=None, train_setup=True, splits=None, types=None, verbose=False, dl_type=None)\n",
            "A `Pipeline` of `tfms` applied to a collection of `items`\n",
            "\n",
            "To get a prettier result with hyperlinks to source code and documentation, install nbdev: pip install nbdev\n"
          ],
          "name": "stdout"
        }
      ]
    },
    {
      "cell_type": "code",
      "metadata": {
        "id": "P4vKmQrLHFiy",
        "colab_type": "code",
        "colab": {
          "base_uri": "https://localhost:8080/",
          "height": 87
        },
        "outputId": "c009f2da-9eaa-4e3f-ba3e-d3b3fadde849"
      },
      "source": [
        "doc(Tokenizer.from_df)"
      ],
      "execution_count": null,
      "outputs": [
        {
          "output_type": "stream",
          "text": [
            "Tokenizer.from_df(text_cols, tok=None, rules=None, sep=' ', n_workers=2, mark_fields=None, res_col_name='text', **kwargs)\n",
            "None\n",
            "\n",
            "To get a prettier result with hyperlinks to source code and documentation, install nbdev: pip install nbdev\n"
          ],
          "name": "stdout"
        }
      ]
    },
    {
      "cell_type": "code",
      "metadata": {
        "id": "OtkWC06kD9il",
        "colab_type": "code",
        "colab": {}
      },
      "source": [
        "tfms = [Tokenizer(tok=MolTokenizer_v2(), rules=[]),\n",
        "        Numericalize(min_freq=1, special_toks = [UNK, PAD, BOS, EOS])]\n",
        "\n",
        "tfms = [attrgetter(\"text\"),Tokenizer.from_df(tok=MolTokenizer_v2(), rules=[], text_cols='Smiles', res_col_name = 'Smiles'),\n",
        "        Numericalize(min_freq=1, special_toks = [UNK, PAD, BOS, EOS])]"
      ],
      "execution_count": null,
      "outputs": []
    },
    {
      "cell_type": "code",
      "metadata": {
        "id": "wxXtDiHjS87L",
        "colab_type": "code",
        "colab": {
          "base_uri": "https://localhost:8080/",
          "height": 34
        },
        "outputId": "1c3db910-bada-4455-f7a2-d0f8ad7b96f5"
      },
      "source": [
        "attrgetter"
      ],
      "execution_count": null,
      "outputs": [
        {
          "output_type": "execute_result",
          "data": {
            "text/plain": [
              "operator.attrgetter"
            ]
          },
          "metadata": {
            "tags": []
          },
          "execution_count": 356
        }
      ]
    },
    {
      "cell_type": "code",
      "metadata": {
        "id": "O1yJfkFOrZhv",
        "colab_type": "code",
        "colab": {
          "base_uri": "https://localhost:8080/",
          "height": 16
        },
        "outputId": "b90ad573-8e7e-4502-a396-64c9708e8dd3"
      },
      "source": [
        "tls = TfmdLists(chembl,tfms = tfms, splits=splits)"
      ],
      "execution_count": null,
      "outputs": [
        {
          "output_type": "display_data",
          "data": {
            "text/html": [
              ""
            ],
            "text/plain": [
              "<IPython.core.display.HTML object>"
            ]
          },
          "metadata": {
            "tags": []
          }
        }
      ]
    },
    {
      "cell_type": "markdown",
      "metadata": {
        "id": "KvZAENDtJkVp",
        "colab_type": "text"
      },
      "source": [
        "**For some reason using Tokenizer.from_df and Numericalization throws an UnhashbleError**.\n",
        "Solved by passin attrgetter('Smiles')"
      ]
    },
    {
      "cell_type": "code",
      "metadata": {
        "id": "QE0kQL2RG54j",
        "colab_type": "code",
        "colab": {
          "base_uri": "https://localhost:8080/",
          "height": 52
        },
        "outputId": "eacde397-3d2f-4e00-e238-ead67b5863dc"
      },
      "source": [
        "t = tls[7]; t[:20]"
      ],
      "execution_count": null,
      "outputs": [
        {
          "output_type": "execute_result",
          "data": {
            "text/plain": [
              "tensor([ 2,  4,  8,  5,  9,  5,  5,  5,  5,  6,  4, 12,  4, 11,  6,  4,  4,  4,\n",
              "         6,  4])"
            ]
          },
          "metadata": {
            "tags": []
          },
          "execution_count": 364
        }
      ]
    },
    {
      "cell_type": "code",
      "metadata": {
        "id": "BijlLpd0YYRa",
        "colab_type": "code",
        "colab": {
          "base_uri": "https://localhost:8080/",
          "height": 53
        },
        "outputId": "398074b7-50a0-4012-956c-aca81a1a9d60"
      },
      "source": [
        "tls.decode(t)"
      ],
      "execution_count": null,
      "outputs": [
        {
          "output_type": "execute_result",
          "data": {
            "application/vnd.google.colaboratory.intrinsic+json": {
              "type": "string"
            },
            "text/plain": [
              "'xxbos C O c 1 c c c c ( C N C 2 ( C C C ( C ) ( C ) C ) C ( = O ) C ( C 3 = N S ( = O ) ( = O ) c 4 c c ( N S ( C ) ( = O ) = O ) c c c 4 N 3 ) = C ( O ) c 3 c c c c c 3 2 ) c 1 xxeos'"
            ]
          },
          "metadata": {
            "tags": []
          },
          "execution_count": 322
        }
      ]
    },
    {
      "cell_type": "code",
      "metadata": {
        "id": "aOCXyrQVJlOI",
        "colab_type": "code",
        "colab": {
          "base_uri": "https://localhost:8080/",
          "height": 54
        },
        "outputId": "38f9d1d9-e47f-4268-ff9d-f6fa52cc9023"
      },
      "source": [
        "tls.show(t)"
      ],
      "execution_count": null,
      "outputs": [
        {
          "output_type": "stream",
          "text": [
            "xxbos C O c 1 c c c c ( C N C 2 ( C C C ( C ) ( C ) C ) C ( = O ) C ( C 3 = N S ( = O ) ( = O ) c 4 c c ( N S ( C ) ( = O ) = O ) c c c 4 N 3 ) = C ( O ) c 3 c c c c c 3 2 ) c 1 xxeos\n"
          ],
          "name": "stdout"
        }
      ]
    },
    {
      "cell_type": "markdown",
      "metadata": {
        "id": "25JF-m9gKWDO",
        "colab_type": "text"
      },
      "source": [
        "We can access the training and validation sets:\n"
      ]
    },
    {
      "cell_type": "code",
      "metadata": {
        "id": "qIszA_EKKHec",
        "colab_type": "code",
        "colab": {
          "base_uri": "https://localhost:8080/",
          "height": 52
        },
        "outputId": "a7993032-fc75-4782-b426-cda4ccaab260"
      },
      "source": [
        "tls.train[0] # We "
      ],
      "execution_count": null,
      "outputs": [
        {
          "output_type": "execute_result",
          "data": {
            "text/plain": [
              "TensorText([ 2,  5,  4,  9,  4,  4,  6, 20,  4, 11,  4, 29,  4,  6, 12, 10,  5,  6,\n",
              "        12,  7, 12,  7, 15, 11,  7,  4, 15,  9,  5,  3])"
            ]
          },
          "metadata": {
            "tags": []
          },
          "execution_count": 324
        }
      ]
    },
    {
      "cell_type": "code",
      "metadata": {
        "id": "xAXiyz13X6ki",
        "colab_type": "code",
        "colab": {
          "base_uri": "https://localhost:8080/",
          "height": 105
        },
        "outputId": "1ed678ee-fb6b-4f3a-a366-823d036b26a7"
      },
      "source": [
        "tls.valid[0]"
      ],
      "execution_count": null,
      "outputs": [
        {
          "output_type": "execute_result",
          "data": {
            "text/plain": [
              "TensorText([ 2, 12, 10,  5,  6, 12,  7, 12,  5,  5,  5, 14,  6, 12,  5,  6, 10,  8,\n",
              "         7,  5, 14,  6, 12,  5,  6, 10,  8,  7,  5, 14,  6, 12,  7,  5,  6, 10,\n",
              "         8,  7, 12, 16,  6,  5,  5,  6, 10,  8,  7, 12, 16,  6,  5,  5,  5, 12,\n",
              "         5,  6, 10, 12,  7, 12,  7,  5,  6, 10,  8,  7,  8,  7,  5,  6, 10,  8,\n",
              "         7,  8,  7,  5,  6, 10,  8,  7,  8,  7,  5,  6, 10,  8,  7,  8,  3])"
            ]
          },
          "metadata": {
            "tags": []
          },
          "execution_count": 325
        }
      ]
    },
    {
      "cell_type": "markdown",
      "metadata": {
        "id": "q7CkovVKLLc4",
        "colab_type": "text"
      },
      "source": [
        "We can directly convert `TfmdLists` to dataloaders using the dataloaders method. "
      ]
    },
    {
      "cell_type": "code",
      "metadata": {
        "id": "LM8uv9yOrcEy",
        "colab_type": "code",
        "colab": {}
      },
      "source": [
        "dls = tls.dataloaders(bs=64,seq_len=30,dl_type=LMDataLoader)"
      ],
      "execution_count": null,
      "outputs": []
    },
    {
      "cell_type": "code",
      "metadata": {
        "id": "-anq7cGBKr9A",
        "colab_type": "code",
        "colab": {
          "base_uri": "https://localhost:8080/",
          "height": 367
        },
        "outputId": "17823ee1-aaef-406e-a1e4-5d717ab73508"
      },
      "source": [
        "dls.show_batch()"
      ],
      "execution_count": null,
      "outputs": [
        {
          "output_type": "display_data",
          "data": {
            "text/html": [
              "<table border=\"1\" class=\"dataframe\">\n",
              "  <thead>\n",
              "    <tr style=\"text-align: right;\">\n",
              "      <th></th>\n",
              "      <th>text</th>\n",
              "      <th>text_</th>\n",
              "    </tr>\n",
              "  </thead>\n",
              "  <tbody>\n",
              "    <tr>\n",
              "      <th>0</th>\n",
              "      <td>xxbos C C C C ( C ) ( C ) C ( = O ) N [C@H] 1 C C C C N C 1 = O xxeos xxbos</td>\n",
              "      <td>C C C C ( C ) ( C ) C ( = O ) N [C@H] 1 C C C C N C 1 = O xxeos xxbos O</td>\n",
              "    </tr>\n",
              "    <tr>\n",
              "      <th>1</th>\n",
              "      <td>c 1 c c c c ( N 2 C C C ( O c 3 c c c n c 3 ) C C 2 ) c 1 F</td>\n",
              "      <td>1 c c c c ( N 2 C C C ( O c 3 c c c n c 3 ) C C 2 ) c 1 F xxeos</td>\n",
              "    </tr>\n",
              "    <tr>\n",
              "      <th>2</th>\n",
              "      <td>2 C ) c 1 xxeos xxbos O = C ( C C N C ( = O ) [C@H] ( C c 1 c c c ( - c</td>\n",
              "      <td>C ) c 1 xxeos xxbos O = C ( C C N C ( = O ) [C@H] ( C c 1 c c c ( - c 2</td>\n",
              "    </tr>\n",
              "    <tr>\n",
              "      <th>3</th>\n",
              "      <td>1 ) C ( = O ) N 1 C C C [C@H] 1 C O xxeos xxbos C [C@H] 1 C C [C@@H] ( N C c 2 c</td>\n",
              "      <td>) C ( = O ) N 1 C C C [C@H] 1 C O xxeos xxbos C [C@H] 1 C C [C@@H] ( N C c 2 c c</td>\n",
              "    </tr>\n",
              "    <tr>\n",
              "      <th>4</th>\n",
              "      <td>C C S c 1 n n c 3 n 1 S ( = O ) ( = O ) c 1 c c c c c 1 N 3</td>\n",
              "      <td>C S c 1 n n c 3 n 1 S ( = O ) ( = O ) c 1 c c c c c 1 N 3 c</td>\n",
              "    </tr>\n",
              "    <tr>\n",
              "      <th>5</th>\n",
              "      <td>= O ) C 1 ( C ) C xxeos xxbos C c 1 c c c ( O c 2 n c 3 c c c c c 3</td>\n",
              "      <td>O ) C 1 ( C ) C xxeos xxbos C c 1 c c c ( O c 2 n c 3 c c c c c 3 n</td>\n",
              "    </tr>\n",
              "    <tr>\n",
              "      <th>6</th>\n",
              "      <td>c ( C N ) c ( = O ) o c 3 c 2 [C@@H] ( O C ( = O ) [C@@] 2 3 C C [C@] (</td>\n",
              "      <td>( C N ) c ( = O ) o c 3 c 2 [C@@H] ( O C ( = O ) [C@@] 2 3 C C [C@] ( C</td>\n",
              "    </tr>\n",
              "    <tr>\n",
              "      <th>7</th>\n",
              "      <td>c 2 c c ( O C ) c c ( O C ) c 2 ) C [C@@H] ( O ) C [C@@H] 1 O xxeos xxbos C C</td>\n",
              "      <td>2 c c ( O C ) c c ( O C ) c 2 ) C [C@@H] ( O ) C [C@@H] 1 O xxeos xxbos C C c</td>\n",
              "    </tr>\n",
              "    <tr>\n",
              "      <th>8</th>\n",
              "      <td>c c c ( [C@@] 2 3 O c 4 c c ( O C ) c c ( O C ) c 4 [C@] 2 ( O ) [C@H]</td>\n",
              "      <td>c c ( [C@@] 2 3 O c 4 c c ( O C ) c c ( O C ) c 4 [C@] 2 ( O ) [C@H] (</td>\n",
              "    </tr>\n",
              "  </tbody>\n",
              "</table>"
            ],
            "text/plain": [
              "<IPython.core.display.HTML object>"
            ]
          },
          "metadata": {
            "tags": []
          }
        }
      ]
    },
    {
      "cell_type": "markdown",
      "metadata": {
        "id": "jiCJrSsXMr8A",
        "colab_type": "text"
      },
      "source": [
        "# **Training**"
      ]
    },
    {
      "cell_type": "code",
      "metadata": {
        "id": "CNrtbcffMwE-",
        "colab_type": "code",
        "colab": {
          "base_uri": "https://localhost:8080/",
          "height": 197
        },
        "outputId": "c409ead4-688c-4400-db6e-acb5db76be3a"
      },
      "source": [
        "#export\n",
        "d_block = DataBlock(blocks=TextBlock.from_df('Smiles',res_col_name='Smiles',is_lm=True, # Pass is_lm = True since we are training a language model.\n",
        "                                             tok=MolTokenizer_v2(), rules=[], vocab=vocab, sep=''), # Our tokenizer goes here and we define a minimum of 1\n",
        "                    get_x=ColReader('Smiles'),\n",
        "                    splitter=RandomSplitter(0.1)) # Randomply split the data (e.g., 90% for training and 10% for validation)\n",
        "dls = d_block.dataloaders(chembl, bs=64, seq_len=30)\n",
        "dls.show_batch(max_n=5)"
      ],
      "execution_count": 56,
      "outputs": [
        {
          "output_type": "display_data",
          "data": {
            "text/html": [
              ""
            ],
            "text/plain": [
              "<IPython.core.display.HTML object>"
            ]
          },
          "metadata": {
            "tags": []
          }
        },
        {
          "output_type": "display_data",
          "data": {
            "text/html": [
              "<table border=\"1\" class=\"dataframe\">\n",
              "  <thead>\n",
              "    <tr style=\"text-align: right;\">\n",
              "      <th></th>\n",
              "      <th>text</th>\n",
              "      <th>text_</th>\n",
              "    </tr>\n",
              "  </thead>\n",
              "  <tbody>\n",
              "    <tr>\n",
              "      <th>0</th>\n",
              "      <td>xxbosNc1ccc2nc(-c3ccc(F)cc3)oc2c1xxeos</td>\n",
              "      <td>Nc1ccc2nc(-c3ccc(F)cc3)oc2c1xxeosxxbos</td>\n",
              "    </tr>\n",
              "    <tr>\n",
              "      <th>1</th>\n",
              "      <td>C)c2ccccc2)=CN(CC(=O)OC(C)C)C=</td>\n",
              "      <td>)c2ccccc2)=CN(CC(=O)OC(C)C)C=C</td>\n",
              "    </tr>\n",
              "    <tr>\n",
              "      <th>2</th>\n",
              "      <td>ClxxeosxxbosCc1ccc(CNC(=O)NC(C(=O)N[C@@H](Cc</td>\n",
              "      <td>xxeosxxbosCc1ccc(CNC(=O)NC(C(=O)N[C@@H](Cc2</td>\n",
              "    </tr>\n",
              "    <tr>\n",
              "      <th>3</th>\n",
              "      <td>cc2)CCC[C@H]1Cc1ccccc1xxeosxxbosc1cc2c(c(N</td>\n",
              "      <td>c2)CCC[C@H]1Cc1ccccc1xxeosxxbosc1cc2c(c(N3</td>\n",
              "    </tr>\n",
              "    <tr>\n",
              "      <th>4</th>\n",
              "      <td>1C[C@H](C(=O)OC)[C@]2(C)CC[C@]3(C)[C@H]4[C@H](O)</td>\n",
              "      <td>C[C@H](C(=O)OC)[C@]2(C)CC[C@]3(C)[C@H]4[C@H](O)[C@@H]</td>\n",
              "    </tr>\n",
              "  </tbody>\n",
              "</table>"
            ],
            "text/plain": [
              "<IPython.core.display.HTML object>"
            ]
          },
          "metadata": {
            "tags": []
          }
        }
      ]
    },
    {
      "cell_type": "code",
      "metadata": {
        "id": "1o_I2o9HM9HB",
        "colab_type": "code",
        "colab": {}
      },
      "source": [
        "#export\n",
        "config = awd_lstm_lm_config.copy()\n",
        "config.update({'n_hid':512})\n",
        "\n",
        "#model = get_language_model(AWD_LSTM, config=config, vocab_sz = len(num.vocab))"
      ],
      "execution_count": 33,
      "outputs": []
    },
    {
      "cell_type": "code",
      "metadata": {
        "id": "BH73ywmcNS4Y",
        "colab_type": "code",
        "colab": {}
      },
      "source": [
        "#export\n",
        "# Metrics\n",
        "metrics=[accuracy, Perplexity()]\n",
        "cbs = [ModelResetter, RNNRegularizer(alpha=2, beta=1)]"
      ],
      "execution_count": 34,
      "outputs": []
    },
    {
      "cell_type": "code",
      "metadata": {
        "id": "O7_Ux8tbYFPc",
        "colab_type": "code",
        "colab": {}
      },
      "source": [
        "#learn = LMLearner(dls, model, loss_func=CrossEntropyLossFlat(), metrics=metrics,model_dir=Path('LM'), cbs=cbs)\n",
        "\n",
        "learn = language_model_learner(dls, AWD_LSTM, pretrained=False,config=config, \n",
        "                               drop_mult=0.1,metrics=[accuracy, Perplexity()])"
      ],
      "execution_count": null,
      "outputs": []
    },
    {
      "cell_type": "code",
      "metadata": {
        "id": "M-4ADefOsRVy",
        "colab_type": "code",
        "colab": {}
      },
      "source": [
        "learn.lr_find()"
      ],
      "execution_count": null,
      "outputs": []
    },
    {
      "cell_type": "code",
      "metadata": {
        "id": "4Y_jObxstVpf",
        "colab_type": "code",
        "colab": {}
      },
      "source": [
        "learn.fit(n_epoch=5,lr=0.0012022644514217973)"
      ],
      "execution_count": null,
      "outputs": []
    },
    {
      "cell_type": "markdown",
      "metadata": {
        "id": "-Pg6liFHWmt9",
        "colab_type": "text"
      },
      "source": [
        "The model seems to be working just fine!"
      ]
    },
    {
      "cell_type": "code",
      "metadata": {
        "id": "mD83gIOqbkoC",
        "colab_type": "code",
        "colab": {
          "base_uri": "https://localhost:8080/",
          "height": 52
        },
        "outputId": "de19719f-f9c2-4652-d61b-91bddd2b5144"
      },
      "source": [
        "TEXT = \"C\"\n",
        "N_WORDS = 40\n",
        "N_SENTENCES = 2\n",
        "preds = [learn.predict(TEXT, N_WORDS, temperature=0.75) \n",
        "         for _ in range(N_SENTENCES)]\n",
        "preds\n"
      ],
      "execution_count": null,
      "outputs": [
        {
          "output_type": "display_data",
          "data": {
            "text/html": [
              ""
            ],
            "text/plain": [
              "<IPython.core.display.HTML object>"
            ]
          },
          "metadata": {
            "tags": []
          }
        },
        {
          "output_type": "display_data",
          "data": {
            "text/html": [
              ""
            ],
            "text/plain": [
              "<IPython.core.display.HTML object>"
            ]
          },
          "metadata": {
            "tags": []
          }
        },
        {
          "output_type": "execute_result",
          "data": {
            "text/plain": [
              "['C xxeos [C@] C = C C ( ( ( C C O C ( C ) ( C C ( C C C C C C O xxeos C C C ) C O ) 1 1 C C C',\n",
              " 'C xxeos C C c O C c ) C O O ) C xxeos C c 1 c ( c ( c c ( C c c c c c c ( ) c 2 c c N (']"
            ]
          },
          "metadata": {
            "tags": []
          },
          "execution_count": 394
        }
      ]
    },
    {
      "cell_type": "code",
      "metadata": {
        "id": "U3YhJDw1x7Wv",
        "colab_type": "code",
        "colab": {}
      },
      "source": [
        "??learn.predict"
      ],
      "execution_count": 57,
      "outputs": []
    },
    {
      "cell_type": "markdown",
      "metadata": {
        "id": "UHcGBmdIMsho",
        "colab_type": "text"
      },
      "source": [
        "## **Defining callbacks**"
      ]
    },
    {
      "cell_type": "markdown",
      "metadata": {
        "id": "ubRHkXuUWtBP",
        "colab_type": "text"
      },
      "source": [
        "When training a generative chemistry-based model, we are interested in generating valid molecules. By training the previous model long enought we might probably achieve very high accuracies, which translates that the model is doing a great job in predicting the next character in a SMILES string. In fact, this is an indirect evaluation of how good the model is in generating valid molecules. \n",
        "\n",
        "Usually we need more flexibility than this. For instance, we might want to inspect how many novel molecules (i.e., not present in training set) can be generated after each epoch. We might also ask if the generated molecules are close to an objective, such as a biological target chemical space. \n",
        "\n",
        "To answer these questions, we can use **callbacks**. Callbacks are customizations applied on the model and the training loop that allow us to do basically anything we want. For starters, let's see if we can create a callback to generate 5 molecules after each epoch."
      ]
    },
    {
      "cell_type": "code",
      "metadata": {
        "id": "e2GyyjI-ykii",
        "colab_type": "code",
        "colab": {}
      },
      "source": [
        "??learn.predict"
      ],
      "execution_count": 61,
      "outputs": []
    },
    {
      "cell_type": "code",
      "metadata": {
        "id": "l7zzrzBcM6jJ",
        "colab_type": "code",
        "colab": {}
      },
      "source": [
        "#export\n",
        "def validity_benchmark(smiles):\n",
        "  mol = Chem.MolFromSmiles(smiles)\n",
        "  if mol is not None and mol.GetNumAtoms()>0: return smiles\n",
        "\n",
        "def uniqueness_benchmark(mols): return set(mols)\n",
        "\n",
        "def novelty_benchmark(mols,ref_mols): return set.difference(mols,ref_mols)\n",
        "\n",
        "def GenerativeBenchmark(Metrics):\n",
        "  def __init__(self, learn): \n",
        "    self.learn = learn\n",
        "    \n",
        "  def before_fit(self): self.validity, self.novelty, self.uniqueness = Tensor([0]),Tensor([0]),Tensor([0])\n",
        "  def after_epoch(self):\n",
        "    pass\n",
        "\n",
        "class TtCB(Metric):\n",
        "  def __init__(self, text:str=BOS, temperature:float=1., n_len:int=10, max_mols:int=5):\n",
        "    self.text = text\n",
        "    self.temperature = temperature\n",
        "    self.n_len = n_len\n",
        "    self.max_mols = max_mols\n",
        "\n",
        "  def sampler(self):\n",
        "    decoder=decode_spec_tokens\n",
        "    bb = Tensor([])\n",
        "    self.model.reset()\n",
        "    stop_index = self.dls.train.vocab.index('xxeos')\n",
        "    idxs = idxs_all = self.dls.test_dl([self.text]).items[0].to(self.dls.device)\n",
        "   # print(idxs)\n",
        "    preds,_ = self.get_preds(dl=[(idxs[None],)])\n",
        "\n",
        "    for _ in range(self.n_len):\n",
        "      res = preds[0][-1]\n",
        "      if self.temperature != 1.: \n",
        "        res.pow_(1 / self.temperature)\n",
        "      idx = torch.multinomial(res, 1).item()\n",
        "     # print(idx)\n",
        "      if idx == stop_index:\n",
        "        break\n",
        "      else:\n",
        "        idxs = idxs_all = torch.cat([idxs_all, idxs.new([idx])])\n",
        "       # print(idxs)\n",
        "    num = self.dls.train_ds.numericalize\n",
        "    decoded = [num.vocab[i] for i in idxs_all if num.vocab[i] not in [BOS, PAD, EOS]]\n",
        "    sep = self.dls.train_ds.tokenizer.sep\n",
        "\n",
        "   # print(sep.join(decoder(decoded)))\n",
        "    return sep.join(decoder(decoded))\n",
        "  def before_fit(self):\n",
        "    self.recorder.metric_names.append('novel')\n",
        "  def after_train(self):\n",
        "    print(self.recorder.metric_names)\n",
        "   # mols = [self.sampler() for i in range(0,self.max_mols)]\n",
        "    #print(mols)\n",
        "  def after_epoch(self):\n",
        "    return tensor([1.])\n",
        "\n",
        "learn = language_model_learner(dls, AWD_LSTM, pretrained=False,config=config, \n",
        "                               drop_mult=0.1,metrics=[accuracy, Perplexity(),TtCB()])"
      ],
      "execution_count": 79,
      "outputs": []
    },
    {
      "cell_type": "code",
      "metadata": {
        "id": "x7y44ARRwCI7",
        "colab_type": "code",
        "colab": {}
      },
      "source": [
        "learn.fit(n_epoch=1,lr=0.0012022644514217973)"
      ],
      "execution_count": null,
      "outputs": []
    },
    {
      "cell_type": "code",
      "metadata": {
        "id": "6s7k8oq3S8ng",
        "colab_type": "code",
        "colab": {
          "base_uri": "https://localhost:8080/",
          "height": 167
        },
        "outputId": "3fb9ef02-b953-4af1-8db7-bcb70bcc38ea"
      },
      "source": [
        "L(learn.recorder.metric_names).insert(4,'novel')\n"
      ],
      "execution_count": 69,
      "outputs": [
        {
          "output_type": "error",
          "ename": "AttributeError",
          "evalue": "ignored",
          "traceback": [
            "\u001b[0;31m---------------------------------------------------------------------------\u001b[0m",
            "\u001b[0;31mAttributeError\u001b[0m                            Traceback (most recent call last)",
            "\u001b[0;32m<ipython-input-69-3cf955589b66>\u001b[0m in \u001b[0;36m<module>\u001b[0;34m()\u001b[0m\n\u001b[0;32m----> 1\u001b[0;31m \u001b[0mlearn\u001b[0m\u001b[0;34m.\u001b[0m\u001b[0mmetrics_name\u001b[0m\u001b[0;34m\u001b[0m\u001b[0;34m\u001b[0m\u001b[0m\n\u001b[0m",
            "\u001b[0;31mAttributeError\u001b[0m: 'LMLearner' object has no attribute 'metrics_name'"
          ]
        }
      ]
    }
  ]
}